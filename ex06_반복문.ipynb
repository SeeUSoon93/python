{
 "cells": [
  {
   "cell_type": "markdown",
   "id": "a7d3349e",
   "metadata": {},
   "source": [
    "# 반복문(while, for문)\n",
    "- 프로그램 내에서 똑같은 명령을 일정 횟수만큼 반복하며 수행하도록 제어하는 명령문\n",
    "    - while문 : 반복횟수가 명확하지 않을 때\n",
    "    - for문 : 반복횟수가 명확할 때"
   ]
  },
  {
   "cell_type": "code",
   "execution_count": 10,
   "id": "0e95b040",
   "metadata": {},
   "outputs": [
    {
     "name": "stdout",
     "output_type": "stream",
     "text": [
      "1 파이썬 최고 !!\n",
      "2 파이썬 최고 !!\n",
      "3 파이썬 최고 !!\n",
      "4 파이썬 최고 !!\n",
      "5 파이썬 최고 !!\n",
      "6 파이썬 최고 !!\n",
      "7 파이썬 최고 !!\n",
      "8 파이썬 최고 !!\n",
      "9 파이썬 최고 !!\n",
      "10 파이썬 최고 !!\n",
      "11 파이썬 최고 !!\n",
      "12 파이썬 최고 !!\n",
      "13 파이썬 최고 !!\n"
     ]
    }
   ],
   "source": [
    "num1 = 1\n",
    "while num1<=13 :\n",
    "    print(f\"{num1} 파이썬 최고 !!\")\n",
    "    num1+= 1"
   ]
  },
  {
   "cell_type": "code",
   "execution_count": 18,
   "id": "a340be86",
   "metadata": {},
   "outputs": [
    {
     "name": "stdout",
     "output_type": "stream",
     "text": [
      "첫 번째 정수 입력 >> 1\n",
      "두 번째 정수 입력 >> 2\n",
      "두 정수의 합 : 3\n",
      "첫 번째 정수 입력 >> 0\n",
      "두 번째 정수 입력 >> 0\n",
      "종료\n"
     ]
    }
   ],
   "source": [
    "while True :\n",
    "    num1 = int(input('첫 번째 정수 입력 >> '))\n",
    "    num2 = int(input('두 번째 정수 입력 >> '))\n",
    "    if num1==0 and num2==0 :\n",
    "        break\n",
    "    num3 = num1 + num2\n",
    "    print(f\"두 정수의 합 : {num3}\")\n",
    "print(\"종료\")"
   ]
  },
  {
   "cell_type": "code",
   "execution_count": 23,
   "id": "86c31be3",
   "metadata": {},
   "outputs": [
    {
     "name": "stdout",
     "output_type": "stream",
     "text": [
      "햄버거\n",
      "치킨\n",
      "피자\n"
     ]
    }
   ],
   "source": [
    "for i in ['햄버거','치킨','피자'] :\n",
    "    print(i)"
   ]
  },
  {
   "cell_type": "markdown",
   "id": "94a0ebcf",
   "metadata": {},
   "source": [
    "### for 문\n",
    "- 시퀀스 자료구조(문자열 or 튜플 or 리스트 등)(순차적 자료구조)의 안에 있는 요소들을 하나씩 꺼내서 반복을 수행"
   ]
  },
  {
   "cell_type": "code",
   "execution_count": 28,
   "id": "aba69391",
   "metadata": {},
   "outputs": [
    {
     "name": "stdout",
     "output_type": "stream",
     "text": [
      "1번 학생은 합격입니다.\n",
      "2번 학생은 불합격입니다.\n",
      "3번 학생은 합격입니다.\n",
      "4번 학생은 합격입니다.\n",
      "5번 학생은 불합격입니다.\n"
     ]
    }
   ],
   "source": [
    "score_list = [90,45,70,60,55]\n",
    "num = 1\n",
    "for score in score_list :\n",
    "    if score >=60 :\n",
    "        print(f'{num}번 학생은 합격입니다.')\n",
    "    else :\n",
    "        print(f'{num}번 학생은 불합격입니다.')\n",
    "    num+= 1      "
   ]
  },
  {
   "cell_type": "markdown",
   "id": "9417b6e4",
   "metadata": {},
   "source": [
    "### range()함수\n",
    "- range(시작값,끝값,증가량)"
   ]
  },
  {
   "cell_type": "code",
   "execution_count": 1,
   "id": "a0189033",
   "metadata": {},
   "outputs": [
    {
     "name": "stdout",
     "output_type": "stream",
     "text": [
      "97\t96\t95\t94\t93\t92\t91\t90\t89\t88\t87\t86\t85\t84\t83\t82\t81\t80\t79\t78\t77\t"
     ]
    }
   ],
   "source": [
    "for i in range(97,76,-1) :\n",
    "    print(i,end='\\t')"
   ]
  },
  {
   "cell_type": "code",
   "execution_count": 62,
   "id": "5494f04d",
   "metadata": {},
   "outputs": [
    {
     "name": "stdout",
     "output_type": "stream",
     "text": [
      "23\t24\t25\t26\t27\t28\t29\t30\t31\t32\t33\t34\t35\t36\t37\t38\t39\t"
     ]
    }
   ],
   "source": [
    "for i in range(23,40,1) :\n",
    "    print(i, end='\\t')"
   ]
  },
  {
   "cell_type": "code",
   "execution_count": 4,
   "id": "21b34b5b",
   "metadata": {},
   "outputs": [
    {
     "name": "stdout",
     "output_type": "stream",
     "text": [
      "99\n"
     ]
    }
   ],
   "source": [
    "list2 = [4,5,2,1,99,15,2,7,27]\n",
    "most = list2[0]\n",
    "\n",
    "for i in list2 :\n",
    "    if i > most :\n",
    "        most = i\n",
    "print(most)"
   ]
  },
  {
   "cell_type": "code",
   "execution_count": 23,
   "id": "5cb8bbe2",
   "metadata": {},
   "outputs": [
    {
     "name": "stdout",
     "output_type": "stream",
     "text": [
      "*\n",
      "**\n",
      "***\n",
      "****\n",
      "*****\n",
      "******\n",
      "*******\n",
      "********\n"
     ]
    }
   ],
   "source": [
    "# 별찍기\n",
    "# 1. \n",
    "\n",
    "for i in range(1,9) :\n",
    "    print('*'*i)"
   ]
  },
  {
   "cell_type": "code",
   "execution_count": 24,
   "id": "e3a27e2a",
   "metadata": {},
   "outputs": [
    {
     "name": "stdout",
     "output_type": "stream",
     "text": [
      "정수입력 >> 5\n",
      "*\n",
      "**\n",
      "***\n",
      "****\n",
      "*****\n"
     ]
    }
   ],
   "source": [
    "a = int(input('정수입력 >> '))\n",
    "\n",
    "for i in range(1,a+1) :\n",
    "    print('*'*i)"
   ]
  },
  {
   "cell_type": "code",
   "execution_count": 28,
   "id": "62624eb5",
   "metadata": {},
   "outputs": [
    {
     "name": "stdout",
     "output_type": "stream",
     "text": [
      "*\n",
      "**\n",
      "***\n",
      "****\n",
      "*****\n",
      "******\n",
      "*****\n",
      "****\n",
      "***\n",
      "**\n",
      "*\n"
     ]
    }
   ],
   "source": [
    "for i in range(1,7) :\n",
    "    print('*'*i)\n",
    "for i in range(5,0,-1) :\n",
    "    print('*'*i)"
   ]
  },
  {
   "cell_type": "code",
   "execution_count": null,
   "id": "6ad0a671",
   "metadata": {},
   "outputs": [],
   "source": [
    "list2 = ['햄버거','피자','음료수']\n",
    "order = []\n",
    "\n",
    "while True :\n",
    "    num =1\n",
    "    print(\"\"\"키오스크에 오신 것을 환영합니다\n",
    "    \n",
    "==키오스크 메뉴==\n",
    "\"\"\")\n",
    "    for i in list2 :\n",
    "        print(f'{num}. {i}')\n",
    "        num+=1\n",
    "        \n",
    "    menu = input(\"메뉴를 선택하거나 'q'를 눌러 종료하세요 >> \")\n",
    "    if menu == '1' :\n",
    "        print(\"\\n\"\"==========================\"\"\\n\"\"햄버거를 선택하셨습니다.\"\"\\n\"\"==========================\"\"\\n\")\n",
    "        order.append(list2[int(menu)-1])\n",
    "    elif menu == '2' :\n",
    "        print(\"\\n\"\"==========================\"\"\\n\"\"피자를 선택하셨습니다.\"\"\\n\"\"==========================\"\"\\n\")\n",
    "        order.append(list2[int(menu)-1])\n",
    "    elif menu == '3' :\n",
    "        print(\"\\n\"\"==========================\"\"\\n\"\"음료수를 선택하셨습니다.\"\"\\n\"\"==========================\"\"\\n\")\n",
    "       order.append(list2[int(menu)-1])\n",
    "    elif menu == 'q' :\n",
    "        print(\"\\n\"\"==========================\"\"\\n\"\"프로그램을 종료합니다.\"\"\\n\"\"==========================\"\"\\n\")\n",
    "        \n",
    "        break\n",
    "    else :\n",
    "        print(\"\\n\"\"다시 입력하세요.\"\"\\n\")\n",
    "print(order)"
   ]
  },
  {
   "cell_type": "code",
   "execution_count": null,
   "id": "3596fd6b",
   "metadata": {},
   "outputs": [],
   "source": []
  },
  {
   "cell_type": "code",
   "execution_count": null,
   "id": "5d0e5330",
   "metadata": {},
   "outputs": [],
   "source": []
  },
  {
   "cell_type": "code",
   "execution_count": null,
   "id": "ab94d67a",
   "metadata": {},
   "outputs": [],
   "source": []
  },
  {
   "cell_type": "code",
   "execution_count": null,
   "id": "7f10aafb",
   "metadata": {},
   "outputs": [],
   "source": []
  }
 ],
 "metadata": {
  "kernelspec": {
   "display_name": "Python 3 (ipykernel)",
   "language": "python",
   "name": "python3"
  },
  "language_info": {
   "codemirror_mode": {
    "name": "ipython",
    "version": 3
   },
   "file_extension": ".py",
   "mimetype": "text/x-python",
   "name": "python",
   "nbconvert_exporter": "python",
   "pygments_lexer": "ipython3",
   "version": "3.11.3"
  }
 },
 "nbformat": 4,
 "nbformat_minor": 5
}
