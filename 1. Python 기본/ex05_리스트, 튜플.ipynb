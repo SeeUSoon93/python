{
 "cells": [
  {
   "cell_type": "markdown",
   "id": "ab411429",
   "metadata": {},
   "source": [
    "### 리스트란?\n",
    "- list\n",
    "- 파이썬의 자료 구조 형태 중 하나\n",
    "- 순서가 있고, 수정 가능한 객체의 집합 : 수정, 삭제, 추가 가능\n",
    "- 대괄호([])로 작성하고, 내부의 요소는 컴마(,)로 구분"
   ]
  },
  {
   "cell_type": "markdown",
   "id": "265407dc",
   "metadata": {},
   "source": [
    "#### 리스트 인덱싱\n",
    "- 리스트명[인덱스번호]"
   ]
  },
  {
   "cell_type": "code",
   "execution_count": 1,
   "id": "91cc1fec",
   "metadata": {},
   "outputs": [
    {
     "name": "stdout",
     "output_type": "stream",
     "text": [
      "['a', 'b', 'c']\n",
      "a b c\n",
      "['a', 'b', 'c']\n",
      "b\n"
     ]
    }
   ],
   "source": [
    "list2 = [1,2,3,['a','b','c']]\n",
    "\n",
    "temp = list2[3]\n",
    "\n",
    "print(temp)\n",
    "print(temp[0],temp[1],temp[2])\n",
    "print(temp[0:3])\n",
    "# 2차원 인덱싱\n",
    "print(list2[3][1])"
   ]
  },
  {
   "cell_type": "markdown",
   "id": "57c2a838",
   "metadata": {},
   "source": [
    "#### 리스트 슬라이싱\n",
    "- 리스트명[start:end]\n",
    "- 시작 값은'포함', 끝 값은 '미포함'"
   ]
  },
  {
   "cell_type": "code",
   "execution_count": 2,
   "id": "90d1db49",
   "metadata": {},
   "outputs": [
    {
     "name": "stdout",
     "output_type": "stream",
     "text": [
      "[1, 2]\n"
     ]
    }
   ],
   "source": [
    "list3 = [0,1,2,3,4]\n",
    "print(list3[1:3])"
   ]
  },
  {
   "cell_type": "markdown",
   "id": "77e53d56",
   "metadata": {},
   "source": [
    "- list와 list를 더하면?"
   ]
  },
  {
   "cell_type": "code",
   "execution_count": 8,
   "id": "9f338d04",
   "metadata": {},
   "outputs": [
    {
     "data": {
      "text/plain": [
       "[3, 4, 5, 6, 1, 2, 3]"
      ]
     },
     "execution_count": 8,
     "metadata": {},
     "output_type": "execute_result"
    }
   ],
   "source": [
    "# list와 list를 더하면, 뒤로 붙게 된다.\n",
    "# 단, \"숫자 연산\"은 안된다\n",
    "list4 = [1,2,3]\n",
    "list5 = [3,4,5,6]\n",
    "\n",
    "list5 + list4"
   ]
  },
  {
   "cell_type": "markdown",
   "id": "8bea9aca",
   "metadata": {},
   "source": [
    "### 리스트 관련함수\n",
    "#### 리스트 값 추가 : append(), insert()\n",
    "- 리스트.append(값) : 리스트의 맨 뒤에 값을 추가\n",
    "- 리스트.insert(인덱스, 값) : 사용자가 지정한 위치에 값을 추가\n",
    "#### 리스트 값 수정\n",
    "- 리스트[인덱스] = 값 : 해당 위치에 값을 수정하겠다.(새로 대입)\n",
    "#### 리스트 값 삭제 : remove(), del 객체\n",
    "- 리스트.remove(값) : 해당하는 값을 삭제\n",
    "- del 리스트[인덱스] : 해당하는 위치의 값을 삭제(인덱스가 없으면 리스트 삭제)"
   ]
  },
  {
   "cell_type": "code",
   "execution_count": 162,
   "id": "b7ee45fa",
   "metadata": {},
   "outputs": [
    {
     "data": {
      "text/plain": [
       "['사과', '복숭아', '배', '포도', '수박']"
      ]
     },
     "execution_count": 162,
     "metadata": {},
     "output_type": "execute_result"
    }
   ],
   "source": [
    "# 리스트 값 추가\n",
    "list_fs = ['사과', '배','포도']\n",
    "list_fs.append('수박')\n",
    "list_fs.insert(1,'복숭아')\n",
    "\n",
    "list_fs"
   ]
  },
  {
   "cell_type": "code",
   "execution_count": 163,
   "id": "e4a0ee5d",
   "metadata": {},
   "outputs": [
    {
     "data": {
      "text/plain": [
       "['사과', '딸기', '배', '포도', '수박']"
      ]
     },
     "execution_count": 163,
     "metadata": {},
     "output_type": "execute_result"
    }
   ],
   "source": [
    "# 리스트 값 수정\n",
    "list_fs[1] = \"딸기\"\n",
    "list_fs"
   ]
  },
  {
   "cell_type": "code",
   "execution_count": 164,
   "id": "c8ba9a03",
   "metadata": {},
   "outputs": [
    {
     "data": {
      "text/plain": [
       "['딸기', '배', '수박']"
      ]
     },
     "execution_count": 164,
     "metadata": {},
     "output_type": "execute_result"
    }
   ],
   "source": [
    "# 리스트 값 삭제\n",
    "list_fs.remove('포도')\n",
    "list_fs\n",
    "del list_fs[0]\n",
    "list_fs"
   ]
  },
  {
   "cell_type": "code",
   "execution_count": 165,
   "id": "0f61cef9",
   "metadata": {},
   "outputs": [],
   "source": [
    "# pop() : 해당하는 위치의 값을 삭제하는데, 남겨서 변수에 담을 수 있음\n",
    "strawberry = list_fs.pop(1)"
   ]
  },
  {
   "cell_type": "code",
   "execution_count": 166,
   "id": "9306ce96",
   "metadata": {},
   "outputs": [
    {
     "data": {
      "text/plain": [
       "['딸기', '수박']"
      ]
     },
     "execution_count": 166,
     "metadata": {},
     "output_type": "execute_result"
    }
   ],
   "source": [
    "list_fs"
   ]
  },
  {
   "cell_type": "code",
   "execution_count": 167,
   "id": "a2c8e026",
   "metadata": {},
   "outputs": [
    {
     "data": {
      "text/plain": [
       "'배'"
      ]
     },
     "execution_count": 167,
     "metadata": {},
     "output_type": "execute_result"
    }
   ],
   "source": [
    "strawberry"
   ]
  },
  {
   "cell_type": "markdown",
   "id": "1452a4f2",
   "metadata": {},
   "source": [
    "### 리스트 정렬 : sort(), reverse()\n",
    "- 리스트.sort() : 오름차순으로 정렬\n",
    "- 리스트.reverse() : 요소들을 역순으로 뒤집기\n",
    "    - \"내림차순\"을 하고 싶은 경우 : .sort() 사용 후 .reverse()"
   ]
  },
  {
   "cell_type": "markdown",
   "id": "be1ae10e",
   "metadata": {},
   "source": [
    "### 인덱싱 & 슬라이싱 구조\n",
    "- 리스트[시작값:끝값:보폭]"
   ]
  },
  {
   "cell_type": "code",
   "execution_count": 209,
   "id": "33753ae3",
   "metadata": {},
   "outputs": [
    {
     "data": {
      "text/plain": [
       "['b', 'c', 'a', 312, 9, 8, 6, 4, 1]"
      ]
     },
     "execution_count": 209,
     "metadata": {},
     "output_type": "execute_result"
    }
   ],
   "source": [
    "list_a = [1,4,6,8,9,312,'a','c','b']\n",
    "list_a[0:9:2]\n",
    "list_a[::-1] # .reverse()대신 사용할 수 있다"
   ]
  },
  {
   "cell_type": "code",
   "execution_count": 206,
   "id": "2a7c3e90",
   "metadata": {},
   "outputs": [],
   "source": [
    "list_nums = [2,5,1,56,7,8,98,34,23,3,124]\n",
    "list_nums.sort()"
   ]
  },
  {
   "cell_type": "code",
   "execution_count": 191,
   "id": "0167c405",
   "metadata": {},
   "outputs": [
    {
     "data": {
      "text/plain": [
       "[1, 2, 3, 5, 7, 8, 23, 34, 56, 98, 124]"
      ]
     },
     "execution_count": 191,
     "metadata": {},
     "output_type": "execute_result"
    }
   ],
   "source": [
    "list_nums"
   ]
  },
  {
   "cell_type": "code",
   "execution_count": 192,
   "id": "e4ea1a18",
   "metadata": {},
   "outputs": [],
   "source": [
    "list_nums = [2,5,1,56,7,8,98,34,23,3,124]\n",
    "list_nums.reverse()"
   ]
  },
  {
   "cell_type": "code",
   "execution_count": 193,
   "id": "8d1480ab",
   "metadata": {},
   "outputs": [
    {
     "data": {
      "text/plain": [
       "[124, 3, 23, 34, 98, 8, 7, 56, 1, 5, 2]"
      ]
     },
     "execution_count": 193,
     "metadata": {},
     "output_type": "execute_result"
    }
   ],
   "source": [
    "list_nums"
   ]
  },
  {
   "cell_type": "code",
   "execution_count": 195,
   "id": "b85d4e99",
   "metadata": {},
   "outputs": [
    {
     "data": {
      "text/plain": [
       "[124, 98, 56, 34, 23, 8, 7, 5, 3, 2, 1]"
      ]
     },
     "execution_count": 195,
     "metadata": {},
     "output_type": "execute_result"
    }
   ],
   "source": [
    "list_nums.sort()\n",
    "list_nums.reverse()\n",
    "list_nums"
   ]
  },
  {
   "cell_type": "code",
   "execution_count": 204,
   "id": "d4636ad8",
   "metadata": {},
   "outputs": [
    {
     "data": {
      "text/plain": [
       "[1, 6, 9, 'a', 'b']"
      ]
     },
     "execution_count": 204,
     "metadata": {},
     "output_type": "execute_result"
    }
   ],
   "source": []
  },
  {
   "cell_type": "markdown",
   "id": "cdce5cc0",
   "metadata": {},
   "source": [
    "### 리스트 길이 확인\n",
    "- len(리스트) : 리스트의 길이를 반환"
   ]
  },
  {
   "cell_type": "code",
   "execution_count": 210,
   "id": "584fb634",
   "metadata": {},
   "outputs": [
    {
     "data": {
      "text/plain": [
       "11"
      ]
     },
     "execution_count": 210,
     "metadata": {},
     "output_type": "execute_result"
    }
   ],
   "source": [
    "len(list_nums)"
   ]
  },
  {
   "cell_type": "markdown",
   "id": "68b80c87",
   "metadata": {},
   "source": [
    "## 튜플(tuple)\n",
    "- 파이썬의 자료형 중 하나\n",
    "- 순서(인덱스)가 있는 객체의 집합\n",
    "- 소괄호(())로 작성되어지며, 튜플의 내부 요소들은 콤마(,)로 구분\n",
    "### 추가, 수정, 삭제 불가능!!"
   ]
  },
  {
   "cell_type": "code",
   "execution_count": 215,
   "id": "53580bd0",
   "metadata": {},
   "outputs": [
    {
     "data": {
      "text/plain": [
       "(0, 1, 2, 3, ('a', 'b', 'c'), 5)"
      ]
     },
     "execution_count": 215,
     "metadata": {},
     "output_type": "execute_result"
    }
   ],
   "source": [
    "tuple1 = (0,1,2,3,('a','b','c'),5)\n",
    "tuple1"
   ]
  },
  {
   "cell_type": "code",
   "execution_count": 216,
   "id": "5ce059a4",
   "metadata": {},
   "outputs": [
    {
     "data": {
      "text/plain": [
       "2"
      ]
     },
     "execution_count": 216,
     "metadata": {},
     "output_type": "execute_result"
    }
   ],
   "source": [
    "tuple1[2]"
   ]
  },
  {
   "cell_type": "code",
   "execution_count": 219,
   "id": "f39a78cc",
   "metadata": {},
   "outputs": [
    {
     "data": {
      "text/plain": [
       "('a', 'b', 'c')"
      ]
     },
     "execution_count": 219,
     "metadata": {},
     "output_type": "execute_result"
    }
   ],
   "source": [
    "tuple1[4]"
   ]
  },
  {
   "cell_type": "code",
   "execution_count": 220,
   "id": "bbcee09b",
   "metadata": {},
   "outputs": [
    {
     "data": {
      "text/plain": [
       "'b'"
      ]
     },
     "execution_count": 220,
     "metadata": {},
     "output_type": "execute_result"
    }
   ],
   "source": [
    "tuple1[4][1]"
   ]
  },
  {
   "cell_type": "code",
   "execution_count": 221,
   "id": "4045cbe0",
   "metadata": {},
   "outputs": [
    {
     "data": {
      "text/plain": [
       "(1, 2, 3, ('a', 'b', 'c'))"
      ]
     },
     "execution_count": 221,
     "metadata": {},
     "output_type": "execute_result"
    }
   ],
   "source": [
    "tuple1[1:5]"
   ]
  },
  {
   "cell_type": "code",
   "execution_count": 222,
   "id": "4b396020",
   "metadata": {},
   "outputs": [
    {
     "data": {
      "text/plain": [
       "(1, 3, 5)"
      ]
     },
     "execution_count": 222,
     "metadata": {},
     "output_type": "execute_result"
    }
   ],
   "source": [
    "tuple1[1:6:2]"
   ]
  },
  {
   "cell_type": "code",
   "execution_count": 223,
   "id": "f8306814",
   "metadata": {},
   "outputs": [
    {
     "data": {
      "text/plain": [
       "6"
      ]
     },
     "execution_count": 223,
     "metadata": {},
     "output_type": "execute_result"
    }
   ],
   "source": [
    "len(tuple1)"
   ]
  },
  {
   "cell_type": "code",
   "execution_count": 225,
   "id": "8ddb73c9",
   "metadata": {},
   "outputs": [
    {
     "ename": "TypeError",
     "evalue": "'type' object does not support item assignment",
     "output_type": "error",
     "traceback": [
      "\u001b[1;31m---------------------------------------------------------------------------\u001b[0m",
      "\u001b[1;31mTypeError\u001b[0m                                 Traceback (most recent call last)",
      "Cell \u001b[1;32mIn[225], line 2\u001b[0m\n\u001b[0;32m      1\u001b[0m \u001b[38;5;66;03m# 튜플은 추가,수정,삭제가 불가능하다\u001b[39;00m\n\u001b[1;32m----> 2\u001b[0m \u001b[38;5;28mtuple\u001b[39m[\u001b[38;5;241m1\u001b[39m] \u001b[38;5;241m=\u001b[39m\u001b[38;5;124m'\u001b[39m\u001b[38;5;124mb\u001b[39m\u001b[38;5;124m'\u001b[39m\n",
      "\u001b[1;31mTypeError\u001b[0m: 'type' object does not support item assignment"
     ]
    }
   ],
   "source": [
    "# 튜플은 추가,수정,삭제가 불가능하다\n",
    "tuple[1] ='b'"
   ]
  },
  {
   "cell_type": "code",
   "execution_count": 229,
   "id": "90f6557d",
   "metadata": {},
   "outputs": [
    {
     "data": {
      "text/plain": [
       "[0, 1, 2, 3, ('a', 'b', 'c'), 5]"
      ]
     },
     "execution_count": 229,
     "metadata": {},
     "output_type": "execute_result"
    }
   ],
   "source": [
    "# 리스트로 형변환은 가능하다!\n",
    "list(tuple1)"
   ]
  },
  {
   "cell_type": "markdown",
   "id": "c556a7fa",
   "metadata": {},
   "source": [
    "### 리스트와 튜플의 공통점과 차이점\n",
    "- 공통점\n",
    "    - 타입과 상관없이 일련의 요소들을 가질 수 있다\n",
    "    - ex_[1,\"a\",[2,\"b\"]] || (1,\"a\",(2,\"b\"))\n",
    "- 차이점\n",
    "    - 리스트\n",
    "        - 가변적(추가, 수정, 삭제 가능)\n",
    "        - 요소가 몇 개 들어갈지 명확하지 안은 경우에 사용\n",
    "    - 튜플\n",
    "        - 불변적(추가, 수정, 삭제 불가능)\n",
    "        - 요소 개수가 사전에 명확히 알고 있을 경우에 사용    "
   ]
  }
 ],
 "metadata": {
  "kernelspec": {
   "display_name": "Python 3 (ipykernel)",
   "language": "python",
   "name": "python3"
  },
  "language_info": {
   "codemirror_mode": {
    "name": "ipython",
    "version": 3
   },
   "file_extension": ".py",
   "mimetype": "text/x-python",
   "name": "python",
   "nbconvert_exporter": "python",
   "pygments_lexer": "ipython3",
   "version": "3.11.3"
  }
 },
 "nbformat": 4,
 "nbformat_minor": 5
}
