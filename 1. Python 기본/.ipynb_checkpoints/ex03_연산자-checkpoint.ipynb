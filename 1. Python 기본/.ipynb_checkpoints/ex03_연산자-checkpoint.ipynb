{
 "cells": [
  {
   "cell_type": "markdown",
   "id": "5aa37927",
   "metadata": {},
   "source": [
    "### 연산자의 종류\n",
    "\n",
    "1. 산술 연산자 +   -   *   /   //   %\n",
    "2. 지수 연산자 **\n",
    "3. 대입(복합)연산자  =   +=   -=   *=   /=   //=   %=\n",
    "4. 관계(비교) 연산자 : 두 수를 비교하여 참 또는 거짓을 반환.  >    >=   <   <=   ==   !=\n",
    "5. 논리 연산자 : 조건문을 연결하기 위해 사용.  and or not\n",
    "6. 멤버 연산자 : 해당 값이 대상 객체에 존재하는지 확인하기 위해 사용.  in   not in\n",
    "6. 삼항 연산자 a if 조건식 else b"
   ]
  },
  {
   "cell_type": "code",
   "execution_count": 6,
   "id": "789aa5d5",
   "metadata": {},
   "outputs": [
    {
     "name": "stdout",
     "output_type": "stream",
     "text": [
      "나누기 :  1.43\n",
      "나머지 : 3\n",
      "몫 : 1\n"
     ]
    }
   ],
   "source": [
    "# 산술연산자\n",
    "# 나누기(/), 나머지(%), 몫(//) 구하기\n",
    "\n",
    "num1 = 10\n",
    "num2 = 7\n",
    "\n",
    "\n",
    "# :.2f → 소수점 2째자리까지만 출력, 알아서 반올림\n",
    "# 포맷팅에서만 사용가능\n",
    "print(f\"나누기 : {num1/num2 : .2f}\")\n",
    "print(f\"나머지 : {num1%num2}\")\n",
    "print(f\"몫 : {num1//num2}\")"
   ]
  },
  {
   "cell_type": "markdown",
   "id": "c04c707a",
   "metadata": {},
   "source": [
    "- 문자열 더하기"
   ]
  },
  {
   "cell_type": "code",
   "execution_count": 10,
   "id": "dc4307f5",
   "metadata": {},
   "outputs": [
    {
     "name": "stdout",
     "output_type": "stream",
     "text": [
      "안녕하세요~\n",
      "안녕하세요~\n"
     ]
    }
   ],
   "source": [
    "str1 = '안녕'\n",
    "str2 = '하세요~'\n",
    "print(str1 + str2) # 문자열 더하기\n",
    "print(str1, str2, sep='') # 문자열 이어주기"
   ]
  },
  {
   "cell_type": "code",
   "execution_count": 13,
   "id": "e1d382da",
   "metadata": {},
   "outputs": [
    {
     "name": "stdout",
     "output_type": "stream",
     "text": [
      "107\n"
     ]
    }
   ],
   "source": [
    "num_str1 = '10'\n",
    "num_str2 = '7'\n",
    "\n",
    "print(num_str1 + num_str2)"
   ]
  },
  {
   "cell_type": "code",
   "execution_count": 14,
   "id": "701a9dc5",
   "metadata": {},
   "outputs": [
    {
     "ename": "TypeError",
     "evalue": "unsupported operand type(s) for +: 'int' and 'str'",
     "output_type": "error",
     "traceback": [
      "\u001b[1;31m---------------------------------------------------------------------------\u001b[0m",
      "\u001b[1;31mTypeError\u001b[0m                                 Traceback (most recent call last)",
      "Cell \u001b[1;32mIn[14], line 4\u001b[0m\n\u001b[0;32m      2\u001b[0m num1\u001b[38;5;241m=\u001b[39m \u001b[38;5;241m10\u001b[39m\n\u001b[0;32m      3\u001b[0m str1 \u001b[38;5;241m=\u001b[39m \u001b[38;5;124m\"\u001b[39m\u001b[38;5;124m7\u001b[39m\u001b[38;5;124m\"\u001b[39m\n\u001b[1;32m----> 4\u001b[0m \u001b[38;5;28mprint\u001b[39m(num1\u001b[38;5;241m+\u001b[39mstr1)\n",
      "\u001b[1;31mTypeError\u001b[0m: unsupported operand type(s) for +: 'int' and 'str'"
     ]
    }
   ],
   "source": [
    "# 만약에 숫자와 문자열을 더하게되면?\n",
    "num1= 10\n",
    "str1 = \"7\"\n",
    "print(num1+str1)\n",
    "# 에러가 나기 때문에 형변환 필요 - 자료형이 맞지 않기 때문"
   ]
  },
  {
   "cell_type": "code",
   "execution_count": 20,
   "id": "c1952d79",
   "metadata": {},
   "outputs": [
    {
     "name": "stdout",
     "output_type": "stream",
     "text": [
      "17\n"
     ]
    }
   ],
   "source": [
    "# 강제 형변환\n",
    "i_str1 = int(str1)\n",
    "type(i_str1)\n",
    "print(num1+i_str1)"
   ]
  },
  {
   "cell_type": "code",
   "execution_count": 25,
   "id": "d34639c0",
   "metadata": {},
   "outputs": [
    {
     "name": "stdout",
     "output_type": "stream",
     "text": [
      "더하기 결과 : 26\n",
      "빼기 결과 : 20\n",
      "곱하기 결과 : 69\n",
      "나누기 결과 : 7.67\n"
     ]
    }
   ],
   "source": [
    "num1 =23\n",
    "num2 = 3\n",
    "\n",
    "print(f\"더하기 결과 : {num1+num2}\")\n",
    "print(f\"빼기 결과 : {num1-num2}\")\n",
    "print(f\"곱하기 결과 : {num1*num2}\")\n",
    "print(f\"나누기 결과 : {num1/num2 :.2f}\")"
   ]
  },
  {
   "cell_type": "code",
   "execution_count": 31,
   "id": "566493e2",
   "metadata": {},
   "outputs": [
    {
     "name": "stdout",
     "output_type": "stream",
     "text": [
      "정수를 입력하세요 >>123\n"
     ]
    }
   ],
   "source": [
    "num = int(input(\"정수를 입력하세요 >>\"))"
   ]
  },
  {
   "cell_type": "code",
   "execution_count": 32,
   "id": "29cd66e6",
   "metadata": {},
   "outputs": [
    {
     "data": {
      "text/plain": [
       "123"
      ]
     },
     "execution_count": 32,
     "metadata": {},
     "output_type": "execute_result"
    }
   ],
   "source": [
    "num"
   ]
  },
  {
   "cell_type": "markdown",
   "id": "6371e592",
   "metadata": {},
   "source": [
    "### 문자를 숫자로 바꾸는 방법\n",
    "\n",
    "- int(문자열)\n",
    "- float(문자열)"
   ]
  },
  {
   "cell_type": "code",
   "execution_count": 41,
   "id": "dc495016",
   "metadata": {},
   "outputs": [
    {
     "name": "stdout",
     "output_type": "stream",
     "text": [
      "정수를 입력하세요 >> 3\n",
      "정수를 입력하세요 >> 7\n",
      "\n",
      "더하기 결과 : 10\n",
      "빼기 결과 : -4\n",
      "곱하기 결과 : 21\n",
      "나누기 결과 : 0.43\n"
     ]
    }
   ],
   "source": [
    "num1 = int(input(\"정수를 입력하세요 >> \"))\n",
    "num2 = int(input(\"정수를 입력하세요 >> \"))\n",
    "\n",
    "print(f\"\"\"\n",
    "더하기 결과 : {num1+num2}\n",
    "빼기 결과 : {num1-num2}\n",
    "곱하기 결과 : {num1*num2}\n",
    "나누기 결과 : {num1/num2 :.2f}\"\"\")\n",
    "\n"
   ]
  },
  {
   "cell_type": "code",
   "execution_count": 42,
   "id": "16dfb3b0",
   "metadata": {},
   "outputs": [
    {
     "name": "stdout",
     "output_type": "stream",
     "text": [
      "xxxxxxxxxx\n"
     ]
    }
   ],
   "source": [
    "s = 'x'\n",
    "print(s*10)"
   ]
  },
  {
   "cell_type": "code",
   "execution_count": 43,
   "id": "d22effa6",
   "metadata": {},
   "outputs": [
    {
     "name": "stdout",
     "output_type": "stream",
     "text": [
      "안녕하세요\n",
      "안녕하세요\n",
      "안녕하세요\n",
      "안녕하세요\n",
      "안녕하세요\n",
      "안녕하세요\n",
      "안녕하세요\n",
      "안녕하세요\n",
      "안녕하세요\n",
      "안녕하세요\n",
      "\n"
     ]
    }
   ],
   "source": [
    "s = '안녕하세요\\n'\n",
    "print(s*10)"
   ]
  },
  {
   "cell_type": "markdown",
   "id": "96f443b5",
   "metadata": {},
   "source": [
    "- 지수 연산자(기호:**)\n",
    "    - 제곱"
   ]
  },
  {
   "cell_type": "code",
   "execution_count": 49,
   "id": "03aff295",
   "metadata": {},
   "outputs": [
    {
     "data": {
      "text/plain": [
       "8"
      ]
     },
     "execution_count": 49,
     "metadata": {},
     "output_type": "execute_result"
    }
   ],
   "source": [
    "# 숫자 2의 3제곱을 해보자\n",
    "2**3"
   ]
  },
  {
   "cell_type": "code",
   "execution_count": 50,
   "id": "e927f126",
   "metadata": {},
   "outputs": [
    {
     "name": "stdout",
     "output_type": "stream",
     "text": [
      "정수 입력 >> 2\n",
      "지수 입력 >> 3\n",
      "2의 3승은 8입니다.\n"
     ]
    }
   ],
   "source": [
    "# 키보드로 입력을 받아 지수연산을 실행해보자\n",
    "# 1. 정수값 입력받기\n",
    "# 2. 지수값 입력받기\n",
    "\n",
    "a = int(input(\"정수 입력 >> \"))\n",
    "b = int(input(\"지수 입력 >> \"))\n",
    "\n",
    "print(f\"{a}의 {b}승은 {a**b}입니다.\")"
   ]
  },
  {
   "cell_type": "code",
   "execution_count": 54,
   "id": "651be182",
   "metadata": {},
   "outputs": [
    {
     "name": "stdout",
     "output_type": "stream",
     "text": [
      "a : 7\n",
      "b : 3\n"
     ]
    }
   ],
   "source": [
    "a= 3\n",
    "b =7\n",
    "a,b = b,a\n",
    "\n",
    "print(f\"a : {a}\")\n",
    "print(f\"b : {b}\")"
   ]
  },
  {
   "cell_type": "code",
   "execution_count": 55,
   "id": "d6fc0b8d",
   "metadata": {},
   "outputs": [
    {
     "name": "stdout",
     "output_type": "stream",
     "text": [
      "False\n"
     ]
    }
   ],
   "source": [
    "print(a == b)"
   ]
  },
  {
   "cell_type": "code",
   "execution_count": 58,
   "id": "d4392449",
   "metadata": {},
   "outputs": [],
   "source": [
    "import random as rd"
   ]
  },
  {
   "cell_type": "code",
   "execution_count": 335,
   "id": "c7c68211",
   "metadata": {},
   "outputs": [
    {
     "name": "stdout",
     "output_type": "stream",
     "text": [
      "a : 10\n",
      "b : 2\n",
      "\n",
      "a < b : False\n",
      "a > b : True\n",
      "a == b : False\n",
      "a != b : True\n"
     ]
    }
   ],
   "source": [
    "a = rd.randint(1,10) # 랜덤함수는 끝값을 포함한다!\n",
    "b = rd.randint(1,10)\n",
    "print(f\"\"\"a : {a}\n",
    "b : {b}\n",
    "\n",
    "a < b : {a < b}\n",
    "a > b : {a > b}\n",
    "a == b : {a == b}\n",
    "a != b : {a != b}\"\"\")"
   ]
  },
  {
   "cell_type": "markdown",
   "id": "4ce76691",
   "metadata": {},
   "source": [
    "### 논리 연산자\n",
    "- True, False의 논리값(boolean값)을 \"반환\"하는 연산자\n",
    "- not 연산자\n"
   ]
  },
  {
   "cell_type": "code",
   "execution_count": 339,
   "id": "15308508",
   "metadata": {},
   "outputs": [
    {
     "name": "stdout",
     "output_type": "stream",
     "text": [
      "a < b : True\n",
      "a < b : False\n"
     ]
    }
   ],
   "source": [
    "a = 3\n",
    "b = 7\n",
    "print(f\"\"\"a < b : {a<b}\n",
    "a < b : {not a<b}\"\"\")"
   ]
  },
  {
   "cell_type": "markdown",
   "id": "ff1bd362",
   "metadata": {},
   "source": [
    "- and 연산자\n",
    "    - 두 조건이 모두 참(True)인 경우 참(True)으로 반환!"
   ]
  },
  {
   "cell_type": "code",
   "execution_count": 343,
   "id": "831675fc",
   "metadata": {},
   "outputs": [
    {
     "name": "stdout",
     "output_type": "stream",
     "text": [
      "True\n",
      "True\n",
      "True\n"
     ]
    }
   ],
   "source": [
    "print(3<5)\n",
    "print(10<20)\n",
    "\n",
    "print(3<5 and 10 <20)"
   ]
  },
  {
   "cell_type": "markdown",
   "id": "577977a3",
   "metadata": {},
   "source": [
    "- or 연산자\n",
    "    - 두 조건이 하나라도 참(True)이면 참 반환"
   ]
  },
  {
   "cell_type": "code",
   "execution_count": 345,
   "id": "04615f23",
   "metadata": {},
   "outputs": [
    {
     "name": "stdout",
     "output_type": "stream",
     "text": [
      "True\n",
      "False\n",
      "True\n"
     ]
    }
   ],
   "source": [
    "print(3<5)\n",
    "print(10>20)\n",
    "\n",
    "print(3<5 or 10 >20)"
   ]
  },
  {
   "cell_type": "code",
   "execution_count": 346,
   "id": "b9730f28",
   "metadata": {},
   "outputs": [
    {
     "data": {
      "text/plain": [
       "True"
      ]
     },
     "execution_count": 346,
     "metadata": {},
     "output_type": "execute_result"
    }
   ],
   "source": [
    "str1 = \"김군순 최고\"\n",
    "\n",
    "\"김군순\" in str1"
   ]
  },
  {
   "cell_type": "code",
   "execution_count": 347,
   "id": "5233c5ea",
   "metadata": {},
   "outputs": [
    {
     "data": {
      "text/plain": [
       "False"
      ]
     },
     "execution_count": 347,
     "metadata": {},
     "output_type": "execute_result"
    }
   ],
   "source": [
    "\"김군순\" not in str1"
   ]
  },
  {
   "cell_type": "code",
   "execution_count": 349,
   "id": "a384df8d",
   "metadata": {},
   "outputs": [],
   "source": [
    "list1 = [ 1, 33, 53]"
   ]
  },
  {
   "cell_type": "code",
   "execution_count": 350,
   "id": "f57f8bb7",
   "metadata": {},
   "outputs": [
    {
     "data": {
      "text/plain": [
       "True"
      ]
     },
     "execution_count": 350,
     "metadata": {},
     "output_type": "execute_result"
    }
   ],
   "source": [
    "33 in list1"
   ]
  },
  {
   "cell_type": "code",
   "execution_count": 352,
   "id": "03aa4c99",
   "metadata": {},
   "outputs": [
    {
     "data": {
      "text/plain": [
       "False"
      ]
     },
     "execution_count": 352,
     "metadata": {},
     "output_type": "execute_result"
    }
   ],
   "source": [
    "33 not in list1"
   ]
  },
  {
   "cell_type": "code",
   "execution_count": 355,
   "id": "10f03b68",
   "metadata": {},
   "outputs": [
    {
     "data": {
      "text/plain": [
       "False"
      ]
     },
     "execution_count": 355,
     "metadata": {},
     "output_type": "execute_result"
    }
   ],
   "source": [
    "a = True\n",
    "b = False\n",
    "a if 3>10 else b"
   ]
  },
  {
   "cell_type": "markdown",
   "id": "353c0ad3",
   "metadata": {},
   "source": [
    "### 삼항연산자\n",
    "- a if 조건식 else b\n",
    "- a는 참일때 실행, b는 거짓일때 실행"
   ]
  },
  {
   "cell_type": "code",
   "execution_count": 356,
   "id": "f5308990",
   "metadata": {},
   "outputs": [
    {
     "data": {
      "text/plain": [
       "'합격'"
      ]
     },
     "execution_count": 356,
     "metadata": {},
     "output_type": "execute_result"
    }
   ],
   "source": [
    "score = 80\n",
    "\"합격\" if score >= 60 else\"불합격\""
   ]
  },
  {
   "cell_type": "code",
   "execution_count": 358,
   "id": "68ba5f59",
   "metadata": {},
   "outputs": [
    {
     "data": {
      "text/plain": [
       "'김군순 최고'"
      ]
     },
     "execution_count": 358,
     "metadata": {},
     "output_type": "execute_result"
    }
   ],
   "source": [
    "\"김군순 최고\" if \"김군순\" in str1 else\"김군순 바보\""
   ]
  },
  {
   "cell_type": "code",
   "execution_count": 364,
   "id": "91fa617b",
   "metadata": {},
   "outputs": [
    {
     "name": "stdout",
     "output_type": "stream",
     "text": [
      "정수 입력 >> 3\n",
      "정수 입력 >> 10\n",
      "b : 10\n"
     ]
    }
   ],
   "source": [
    "a = int(input(\"정수 입력 >> \"))\n",
    "b = int(input(\"정수 입력 >> \"))\n",
    "\n",
    "print(f\"a : {a}\") if a >b else print(f\"b : {b}\")"
   ]
  },
  {
   "cell_type": "code",
   "execution_count": 367,
   "id": "e838dff3",
   "metadata": {},
   "outputs": [
    {
     "name": "stdout",
     "output_type": "stream",
     "text": [
      "첫 번째 정수 입력 >> 3\n",
      "두 번째 정수 입력 >> 4\n",
      "두 수의 차 : 1\n"
     ]
    }
   ],
   "source": [
    "a = int(input(\"첫 번째 정수 입력 >> \"))\n",
    "b = int(input(\"두 번째 정수 입력 >> \"))\n",
    "\n",
    "print(f\"두 수의 차 : {a-b}\") if a >b else print(f\"두 수의 차 : {b-a}\")"
   ]
  },
  {
   "cell_type": "code",
   "execution_count": 372,
   "id": "d68cd385",
   "metadata": {},
   "outputs": [
    {
     "name": "stdout",
     "output_type": "stream",
     "text": [
      "정수 입력 >> 22\n",
      "22는(은) 짝수입니다.\n"
     ]
    }
   ],
   "source": [
    "a = int(input(\"정수 입력 >> \"))\n",
    "print(f\"{a}는(은) 짝수입니다.\") if a%2 == 0 else print(f\"{a}는(은) 홀수입니다.\")"
   ]
  }
 ],
 "metadata": {
  "kernelspec": {
   "display_name": "Python 3 (ipykernel)",
   "language": "python",
   "name": "python3"
  },
  "language_info": {
   "codemirror_mode": {
    "name": "ipython",
    "version": 3
   },
   "file_extension": ".py",
   "mimetype": "text/x-python",
   "name": "python",
   "nbconvert_exporter": "python",
   "pygments_lexer": "ipython3",
   "version": "3.11.3"
  }
 },
 "nbformat": 4,
 "nbformat_minor": 5
}
