{
 "cells": [
  {
   "cell_type": "markdown",
   "id": "f9f94a5b",
   "metadata": {},
   "source": [
    "## 조건문\n",
    "- 분기문 or 조건문\n",
    "- \"상황\"에 따라 \"실행 흐름\"을 다르게 하는 문법\n",
    "- Python 조건문의 키워드 : if, elif, else\n",
    "- <b>콜론(:)과 들여쓰기(space * 4 or Tab 키)</b> 문법이 가장 중요"
   ]
  },
  {
   "cell_type": "markdown",
   "id": "faa06aba",
   "metadata": {},
   "source": [
    "### if 실습 예제\n",
    "- 조건물을 사용해서 변수 money가 10,000원 이상이면 \"택시를 탄다\"를 출력하시오.\n",
    "- 없으면 걸어가기라도 하자\n",
    "- 5,000원이라도 있다면 버스타자"
   ]
  },
  {
   "cell_type": "code",
   "execution_count": 19,
   "id": "cb9db5ba",
   "metadata": {},
   "outputs": [
    {
     "name": "stdout",
     "output_type": "stream",
     "text": [
      "버스를 탄다\n"
     ]
    }
   ],
   "source": [
    "money = 5000\n",
    "\n",
    "if money >= 11000 :\n",
    "    print(\"택시를 탄다\")\n",
    "elif money >= 5000 :\n",
    "    print(\"버스를 탄다\")\n",
    "else :\n",
    "    print(\"걸어간다ㅜㅜ\")"
   ]
  },
  {
   "cell_type": "code",
   "execution_count": 30,
   "id": "d6e1731e",
   "metadata": {},
   "outputs": [
    {
     "name": "stdout",
     "output_type": "stream",
     "text": [
      "정수를 입력하세요 >>5\n",
      "5은 3과 5의 배수가 아닙니다.\n"
     ]
    }
   ],
   "source": [
    "num = int(input(\"정수를 입력하세요 >>\"))\n",
    "# and(논리연산자) : True, False를 \"비교\"하는 연산자\n",
    "# &(비트연산자) : 2진수를 계산하는 연산자\n",
    "if num%3 == 0 and num%5 == 0 :\n",
    "    print(f\"{num}은 3과 5의 배수입니다.\")\n",
    "else :\n",
    "    print(f\"{num}은 3과 5의 배수가 아닙니다.\")"
   ]
  },
  {
   "cell_type": "markdown",
   "id": "a2729627",
   "metadata": {},
   "source": [
    "### if 실습 예제 2\n",
    "- 봉균이는 마스크를 대량 구매했습니다. 주변 친구들에게 소분해서 나눠주기 위해 포장지를 사려고 합니다. 포장지는 8개들이와 5개들이 2종류가 있습니다. 8개들이 포장지는 비싸기 때문에 반드시 전부 채워서 포장할 때만 사용하고 나머지는 5개들이로 포장하려고 합니다. 과연 포장지는 각각 몇 개가 필요할까요? 실행결과 처럼 동작하는 코드를 작성하세요 (단 남는 마스크 없이 전부 포장해야 합니다.)"
   ]
  },
  {
   "cell_type": "code",
   "execution_count": 49,
   "id": "7f55abd6",
   "metadata": {},
   "outputs": [
    {
     "name": "stdout",
     "output_type": "stream",
     "text": [
      "마스크 개수 입력 >> 12\n",
      "필요한 8개들이 개수 : 1개\n",
      "필요한 5개들이 개수 : 1개\n"
     ]
    }
   ],
   "source": [
    "countOfMask = int(input('마스크 개수 입력 >> '))\n",
    "\n",
    "if countOfMask%8 == 0 :\n",
    "    print(f\"필요한 8개들이 개수 : {countOfMask//8}개\")\n",
    "    print(f\"필요한 5개들이 개수 : {0}개\")\n",
    "else :\n",
    "    print(f\"필요한 8개들이 개수 : {countOfMask//8}개\")\n",
    "    if countOfMask%8 != 5 :\n",
    "        print(f\"필요한 5개들이 개수 : {countOfMask%8//5+1}개\")\n",
    "    else :\n",
    "        print(f\"필요한 5개들이 개수 : {countOfMask%8//5}개\")   "
   ]
  },
  {
   "cell_type": "markdown",
   "id": "0b999f05",
   "metadata": {},
   "source": [
    "### 실습 예제 3\n",
    "- 변수 score에 점수를 입력 받아서 다음과 같이 학점을 부여하시오.  \n",
    "(90점 이상인 점수에는 'A'학점, 80점 이상인 점수는 'B'학점 부여,70점 이상인 점수는 'C'학점, 60점 이상인 점수는 'D'학점, 60점 미만인 점수는 'F'학점)"
   ]
  },
  {
   "cell_type": "code",
   "execution_count": 57,
   "id": "f9974571",
   "metadata": {},
   "outputs": [
    {
     "name": "stdout",
     "output_type": "stream",
     "text": [
      "점수 입력 >> 123\n",
      "123점은 A학점 입니다.\n"
     ]
    }
   ],
   "source": [
    "score = int(input('점수 입력 >> '))\n",
    "\n",
    "if score>=90 :\n",
    "    grade = \"A\"\n",
    "elif score>=80 :\n",
    "    grade = \"B\"\n",
    "elif score>=70 :\n",
    "    grade = \"C\"\n",
    "elif score>=60 :\n",
    "    grade = \"D\"\n",
    "else :\n",
    "    grade = \"F\"\n",
    "        \n",
    "print(f\"{score}점은 {grade}학점 입니다.\")        "
   ]
  }
 ],
 "metadata": {
  "kernelspec": {
   "display_name": "Python 3 (ipykernel)",
   "language": "python",
   "name": "python3"
  },
  "language_info": {
   "codemirror_mode": {
    "name": "ipython",
    "version": 3
   },
   "file_extension": ".py",
   "mimetype": "text/x-python",
   "name": "python",
   "nbconvert_exporter": "python",
   "pygments_lexer": "ipython3",
   "version": "3.11.3"
  }
 },
 "nbformat": 4,
 "nbformat_minor": 5
}
