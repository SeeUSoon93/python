{
 "cells": [
  {
   "cell_type": "markdown",
   "id": "fbcfee75",
   "metadata": {},
   "source": [
    "|    데이터 타입    |  가변형 / 불변형  |\n",
    "|:------------------:|:----------------:|\n",
    "|       int         |      불변형       |\n",
    "|       float       |      불변형       |\n",
    "|       bool        |      불변형       |\n",
    "|       str         |      불변형       |\n",
    "|       tuple       |      불변형       |\n",
    "|       frozenset   |      불변형       |\n",
    "|       list        |       가변형      |\n",
    "|       set         |       가변형      |\n",
    "|       dict        |       가변형      |\n",
    "| numpy.ndarray     |       가변형      |\n",
    "| pandas.Series     |       가변형      |\n",
    "| pandas.DataFrame  |       가변형      |"
   ]
  },
  {
   "cell_type": "code",
   "execution_count": 749,
   "id": "5cae6ef5",
   "metadata": {},
   "outputs": [
    {
     "name": "stdout",
     "output_type": "stream",
     "text": [
      "list1: [1, 2, 3], list2: [1, 2, 3, 4]\n",
      "list1 id: 2684321297664, list2 id: 2684321150720\n",
      "num1: 10, num2: 15\n",
      "num1 id: 140729870029896, num2 id: 140729870030056\n"
     ]
    }
   ],
   "source": [
    "# 리스트는 가변형이므로 주소값 공유\n",
    "list1 = [1, 2, 3]\n",
    "list2 = list1.copy()\n",
    "list2.append(4)\n",
    "\n",
    "\n",
    "print(f\"list1: {list1}, list2: {list2}\")\n",
    "print(f\"list1 id: {id(list1)}, list2 id: {id(list2)}\")\n",
    "\n",
    "# 숫자는 불변형이므로 주소값 변경\n",
    "num1 = 10\n",
    "num2 = num1\n",
    "num2 += 5\n",
    "\n",
    "print(f\"num1: {num1}, num2: {num2}\")\n",
    "print(f\"num1 id: {id(num1)}, num2 id: {id(num2)}\")"
   ]
  },
  {
   "cell_type": "markdown",
   "id": "12514f3c",
   "metadata": {},
   "source": [
    "### 딕셔너리\n",
    "- 말 그대로 사전이라는 뜻\n",
    "- key는 불변적, value는 가변적\n",
    "- 딕셔너리명 = {'key':'value',...}"
   ]
  },
  {
   "cell_type": "code",
   "execution_count": 3,
   "id": "7a3c4fc8",
   "metadata": {},
   "outputs": [
    {
     "data": {
      "text/plain": [
       "{'key': 'value', 'name': '김군순', 'age': 31, 'phone': '010-2035-2101'}"
      ]
     },
     "execution_count": 3,
     "metadata": {},
     "output_type": "execute_result"
    }
   ],
   "source": [
    "# 딕셔너리 생성\n",
    "dic1 = {'key':'value','name':'김군순','age':31,'phone':'010-2035-2101'}\n",
    "dic1"
   ]
  },
  {
   "cell_type": "code",
   "execution_count": 4,
   "id": "c1cf1db6",
   "metadata": {},
   "outputs": [
    {
     "data": {
      "text/plain": [
       "'김군순'"
      ]
     },
     "execution_count": 4,
     "metadata": {},
     "output_type": "execute_result"
    }
   ],
   "source": [
    "dic1['name']"
   ]
  },
  {
   "cell_type": "code",
   "execution_count": 757,
   "id": "c7dc07f6",
   "metadata": {},
   "outputs": [
    {
     "name": "stdout",
     "output_type": "stream",
     "text": [
      "value\n"
     ]
    }
   ],
   "source": [
    "# 딕셔너리 값 추가 → 딕셔너리는 순서가 없음\n",
    "# dic['key'] = value\n",
    "print(dic1[\"key\"])\n",
    "dic1['birth'] = '93.02.10'"
   ]
  },
  {
   "cell_type": "code",
   "execution_count": 758,
   "id": "db7a753a",
   "metadata": {},
   "outputs": [
    {
     "data": {
      "text/plain": [
       "{'key': 'value',\n",
       " 'name': '김군순',\n",
       " 'age': 31,\n",
       " 'phone': '010-2035-2101',\n",
       " 'birth': '93.02.10'}"
      ]
     },
     "execution_count": 758,
     "metadata": {},
     "output_type": "execute_result"
    }
   ],
   "source": [
    "dic1"
   ]
  },
  {
   "cell_type": "code",
   "execution_count": 760,
   "id": "0ec0ca31",
   "metadata": {},
   "outputs": [],
   "source": [
    "# 딕셔너리 값 삭제\n",
    "# del 딕셔너리명['key']\n",
    "del dic1['age']"
   ]
  },
  {
   "cell_type": "code",
   "execution_count": 761,
   "id": "1448a7fd",
   "metadata": {},
   "outputs": [
    {
     "data": {
      "text/plain": [
       "{'key': 'value', 'name': '김군순', 'phone': '010-2035-2101', 'birth': '93.02.10'}"
      ]
     },
     "execution_count": 761,
     "metadata": {},
     "output_type": "execute_result"
    }
   ],
   "source": [
    "dic1"
   ]
  },
  {
   "cell_type": "code",
   "execution_count": 762,
   "id": "98148c6d",
   "metadata": {},
   "outputs": [
    {
     "data": {
      "text/plain": [
       "'김군순'"
      ]
     },
     "execution_count": 762,
     "metadata": {},
     "output_type": "execute_result"
    }
   ],
   "source": [
    "# 딕셔너리 값 가져오기 1 → 인덱싱\n",
    "dic1[\"name\"]"
   ]
  },
  {
   "cell_type": "code",
   "execution_count": 763,
   "id": "a7c46bd9",
   "metadata": {},
   "outputs": [
    {
     "data": {
      "text/plain": [
       "'김군순'"
      ]
     },
     "execution_count": 763,
     "metadata": {},
     "output_type": "execute_result"
    }
   ],
   "source": [
    "# 딕셔너리 값 가져오기 2 → get()\n",
    "dic1.get('name')"
   ]
  },
  {
   "cell_type": "markdown",
   "id": "4cc350b9",
   "metadata": {},
   "source": [
    "- key값이 없는 경우 인덱싱은 오류가 나고 get()함수는 None이 뜸"
   ]
  },
  {
   "cell_type": "code",
   "execution_count": 771,
   "id": "85b9f4cc",
   "metadata": {},
   "outputs": [
    {
     "data": {
      "text/plain": [
       "['key', 'name', 'phone', 'birth']"
      ]
     },
     "execution_count": 771,
     "metadata": {},
     "output_type": "execute_result"
    }
   ],
   "source": [
    "# keys() 함수 : 키값들만 가져오기\n",
    "list(dic1.keys())"
   ]
  },
  {
   "cell_type": "code",
   "execution_count": 772,
   "id": "ebefc18d",
   "metadata": {},
   "outputs": [
    {
     "data": {
      "text/plain": [
       "['value', '김군순', '010-2035-2101', '93.02.10']"
      ]
     },
     "execution_count": 772,
     "metadata": {},
     "output_type": "execute_result"
    }
   ],
   "source": [
    "# values() 함수 : 벨류값만 가져오기\n",
    "list(dic1.values())"
   ]
  },
  {
   "cell_type": "code",
   "execution_count": 777,
   "id": "5df2c4c3",
   "metadata": {},
   "outputs": [
    {
     "name": "stdout",
     "output_type": "stream",
     "text": [
      "key\n",
      "name\n",
      "phone\n",
      "birth\n"
     ]
    }
   ],
   "source": [
    "# 딕셔너리는 순서가 없으나, for 문의 활용이 가능하다!\n",
    "for key in dic1.keys() :\n",
    "    print(key)"
   ]
  },
  {
   "cell_type": "code",
   "execution_count": 2,
   "id": "5fbaf668",
   "metadata": {},
   "outputs": [
    {
     "ename": "NameError",
     "evalue": "name 'dic1' is not defined",
     "output_type": "error",
     "traceback": [
      "\u001b[1;31m---------------------------------------------------------------------------\u001b[0m",
      "\u001b[1;31mNameError\u001b[0m                                 Traceback (most recent call last)",
      "Cell \u001b[1;32mIn[2], line 2\u001b[0m\n\u001b[0;32m      1\u001b[0m \u001b[38;5;66;03m# items() → (key, value)\u001b[39;00m\n\u001b[1;32m----> 2\u001b[0m \u001b[38;5;28;01mfor\u001b[39;00m key \u001b[38;5;129;01min\u001b[39;00m dic1\u001b[38;5;241m.\u001b[39mitems() :\n\u001b[0;32m      3\u001b[0m     \u001b[38;5;28mprint\u001b[39m(key)\n",
      "\u001b[1;31mNameError\u001b[0m: name 'dic1' is not defined"
     ]
    }
   ],
   "source": [
    "# items() → (key, value)\n",
    "for key in dic1.items() :\n",
    "    print(key)"
   ]
  },
  {
   "cell_type": "code",
   "execution_count": 5,
   "id": "f5725598",
   "metadata": {},
   "outputs": [
    {
     "name": "stdout",
     "output_type": "stream",
     "text": [
      "key value\n",
      "name 김군순\n",
      "age 31\n",
      "phone 010-2035-2101\n"
     ]
    }
   ],
   "source": [
    "for key, value in dic1.items() :\n",
    "    print(key, value)"
   ]
  },
  {
   "cell_type": "markdown",
   "id": "f7e425b5",
   "metadata": {},
   "source": [
    "###  딕셔너리 예제\n",
    "- 딕셔너리 for문 예제"
   ]
  },
  {
   "cell_type": "code",
   "execution_count": 783,
   "id": "15ec7e36",
   "metadata": {},
   "outputs": [
    {
     "data": {
      "text/plain": [
       "{'이름': ['이주희', '조자연', '양세영', '김민수', '정봉균'],\n",
       " 'Python': [90, 100, 85, 90, 80],\n",
       " 'Java': [85, 80, 100, 95, 85],\n",
       " 'HTML/CSS': [75, 70, 90, 80, 90]}"
      ]
     },
     "execution_count": 783,
     "metadata": {},
     "output_type": "execute_result"
    }
   ],
   "source": [
    "score_dict = {'이름':['이주희', '조자연', '양세영', '김민수', '정봉균'],\n",
    "              'Python':[90,100,85,90,80],\n",
    "              'Java' : [85,80,100,95,85],\n",
    "              'HTML/CSS' : [75,70,90,80,90]}\n",
    "score_dict"
   ]
  },
  {
   "cell_type": "code",
   "execution_count": 789,
   "id": "ce59b490",
   "metadata": {},
   "outputs": [
    {
     "data": {
      "text/plain": [
       "89.0"
      ]
     },
     "execution_count": 789,
     "metadata": {},
     "output_type": "execute_result"
    }
   ],
   "source": [
    "# 1. pyhon 점수 평균 구하기\n",
    "py_avg = sum(score_dict['Python'])/len(list(score_dict['Python']))\n",
    "py_avg"
   ]
  },
  {
   "cell_type": "code",
   "execution_count": 814,
   "id": "698c0f48",
   "metadata": {},
   "outputs": [
    {
     "name": "stdout",
     "output_type": "stream",
     "text": [
      "Python 평균 : 89.0\n",
      "Java 평균 : 89.0\n",
      "HTML/CSS 평균 : 81.0\n"
     ]
    }
   ],
   "source": [
    "for i in list(score_dict.keys())[1:] :\n",
    "    a = sum(score_dict[i])/len(score_dict[i])\n",
    "    print(f'{i} 평균 : {a}')"
   ]
  },
  {
   "cell_type": "markdown",
   "id": "090b5b8e",
   "metadata": {},
   "source": [
    "### 딕셔너리 값 전체 삭제\n",
    "- 딕셔너리 모두 지우기 clear()"
   ]
  },
  {
   "cell_type": "code",
   "execution_count": 816,
   "id": "bdcb35b3",
   "metadata": {},
   "outputs": [],
   "source": [
    "score_dict.clear()"
   ]
  },
  {
   "cell_type": "code",
   "execution_count": 817,
   "id": "ffcfe95c",
   "metadata": {},
   "outputs": [
    {
     "data": {
      "text/plain": [
       "{}"
      ]
     },
     "execution_count": 817,
     "metadata": {},
     "output_type": "execute_result"
    }
   ],
   "source": [
    "score_dict"
   ]
  },
  {
   "cell_type": "markdown",
   "id": "7c7fc5ea",
   "metadata": {},
   "source": [
    "## 집합 자료형\n",
    "- 중복을 허용하지 않음\n",
    "- 순서가 없음\n",
    "- 기본형\n",
    "    - 변수명 = {'값','값'}"
   ]
  }
 ],
 "metadata": {
  "kernelspec": {
   "display_name": "Python 3 (ipykernel)",
   "language": "python",
   "name": "python3"
  },
  "language_info": {
   "codemirror_mode": {
    "name": "ipython",
    "version": 3
   },
   "file_extension": ".py",
   "mimetype": "text/x-python",
   "name": "python",
   "nbconvert_exporter": "python",
   "pygments_lexer": "ipython3",
   "version": "3.11.3"
  }
 },
 "nbformat": 4,
 "nbformat_minor": 5
}
