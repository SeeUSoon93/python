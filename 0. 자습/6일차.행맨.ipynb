{
 "cells": [
  {
   "cell_type": "markdown",
   "id": "7b7f2bd9",
   "metadata": {},
   "source": [
    "### 행맨 만들기\n",
    "- 단어가 들어있는 배열에서 랜덤으로 단어 선정\n",
    "- 알파벳을 입력했을 때, 해당 알파벳이 있으면 그 알파벳의 위치가 나타남\n",
    "- 없으면 줄 그어짐. 대충 5번 기회?\n",
    "- 이기거나 포기하면 게임 종료. 지면 다시 하기"
   ]
  },
  {
   "cell_type": "code",
   "execution_count": 1,
   "id": "2edd59df",
   "metadata": {},
   "outputs": [],
   "source": [
    "import random as rd"
   ]
  },
  {
   "cell_type": "code",
   "execution_count": 42,
   "id": "821661d1",
   "metadata": {},
   "outputs": [
    {
     "name": "stdout",
     "output_type": "stream",
     "text": [
      "게임을 시작합니다.\n",
      "========================\n",
      "단어 : xxxxx\n",
      "알파벳을 입력하세요 >> a\n",
      "단어 : aaaaa\n",
      "알파벳을 입력하세요 >> r\n",
      "단어 : rrrrr\n",
      "알파벳을 입력하세요 >> r\n",
      "단어 : rrrrr\n",
      "알파벳을 입력하세요 >> r\n",
      "단어 : rrrrr\n",
      "알파벳을 입력하세요 >> tr\n",
      "틀렸습니다.\n",
      "단어 : rrrrr\n",
      "알파벳을 입력하세요 >> t\n",
      "틀렸습니다.\n",
      "단어 : rrrrr\n",
      "알파벳을 입력하세요 >> tr\n",
      "틀렸습니다.\n",
      "단어 : rrrrr\n",
      "알파벳을 입력하세요 >> tr\n",
      "틀렸습니다.\n",
      "단어 : rrrrr\n",
      "알파벳을 입력하세요 >> asd\n",
      "틀렸습니다.\n",
      "단어 : rrrrr\n"
     ]
    }
   ],
   "source": [
    "word_list = ['array']\n",
    "\n",
    "cor = rd.choice(word_list)\n",
    "over_cnt =0;\n",
    "cor_len = 'x'*len(cor)\n",
    "\n",
    "print(f\"\"\"게임을 시작합니다.\n",
    "========================\n",
    "단어 : {cor_len}\"\"\")\n",
    "while(over_cnt < 5) :    \n",
    "    user_ans = input('알파벳을 입력하세요 >> ')\n",
    "    if user_ans not in cor :\n",
    "        over_cnt += 1;\n",
    "        print(\"틀렸습니다.\")\n",
    "    else :\n",
    "        for i in range(0,len(cor)) :\n",
    "            if user_ans == cor[i] :\n",
    "                result = cor_len.replace(cor_len[i],user_ans)\n",
    "    cor_len = result\n",
    "    print(f\"단어 : {result}\")"
   ]
  },
  {
   "cell_type": "code",
   "execution_count": null,
   "id": "5b090221",
   "metadata": {},
   "outputs": [],
   "source": []
  },
  {
   "cell_type": "code",
   "execution_count": null,
   "id": "dc2bc3ef",
   "metadata": {},
   "outputs": [],
   "source": []
  },
  {
   "cell_type": "code",
   "execution_count": null,
   "id": "c8ba30ea",
   "metadata": {},
   "outputs": [],
   "source": []
  },
  {
   "cell_type": "code",
   "execution_count": null,
   "id": "1eecab5e",
   "metadata": {},
   "outputs": [],
   "source": []
  },
  {
   "cell_type": "code",
   "execution_count": null,
   "id": "8c9474a7",
   "metadata": {},
   "outputs": [],
   "source": []
  },
  {
   "cell_type": "code",
   "execution_count": null,
   "id": "df106ac4",
   "metadata": {},
   "outputs": [],
   "source": []
  },
  {
   "cell_type": "code",
   "execution_count": null,
   "id": "b733346c",
   "metadata": {},
   "outputs": [],
   "source": []
  },
  {
   "cell_type": "code",
   "execution_count": null,
   "id": "39e82992",
   "metadata": {},
   "outputs": [],
   "source": []
  },
  {
   "cell_type": "code",
   "execution_count": null,
   "id": "b91d31f7",
   "metadata": {},
   "outputs": [],
   "source": []
  },
  {
   "cell_type": "code",
   "execution_count": null,
   "id": "9dd0b204",
   "metadata": {},
   "outputs": [],
   "source": []
  },
  {
   "cell_type": "code",
   "execution_count": null,
   "id": "ed87aafa",
   "metadata": {},
   "outputs": [],
   "source": []
  },
  {
   "cell_type": "code",
   "execution_count": null,
   "id": "cd86ac37",
   "metadata": {},
   "outputs": [],
   "source": []
  },
  {
   "cell_type": "code",
   "execution_count": null,
   "id": "6f8aa5bb",
   "metadata": {},
   "outputs": [],
   "source": []
  },
  {
   "cell_type": "code",
   "execution_count": null,
   "id": "77d6c611",
   "metadata": {},
   "outputs": [],
   "source": []
  },
  {
   "cell_type": "code",
   "execution_count": null,
   "id": "48102e0b",
   "metadata": {},
   "outputs": [],
   "source": []
  },
  {
   "cell_type": "code",
   "execution_count": null,
   "id": "ae3c204f",
   "metadata": {},
   "outputs": [],
   "source": []
  }
 ],
 "metadata": {
  "kernelspec": {
   "display_name": "Python 3 (ipykernel)",
   "language": "python",
   "name": "python3"
  },
  "language_info": {
   "codemirror_mode": {
    "name": "ipython",
    "version": 3
   },
   "file_extension": ".py",
   "mimetype": "text/x-python",
   "name": "python",
   "nbconvert_exporter": "python",
   "pygments_lexer": "ipython3",
   "version": "3.11.3"
  }
 },
 "nbformat": 4,
 "nbformat_minor": 5
}
