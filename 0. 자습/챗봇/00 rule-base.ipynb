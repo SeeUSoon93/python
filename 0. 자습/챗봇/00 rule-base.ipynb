{
 "cells": [
  {
   "cell_type": "code",
   "execution_count": 1,
   "id": "8f53deee",
   "metadata": {},
   "outputs": [],
   "source": [
    "import pandas as pd"
   ]
  },
  {
   "cell_type": "code",
   "execution_count": 2,
   "id": "b3c8224d",
   "metadata": {},
   "outputs": [
    {
     "name": "stdout",
     "output_type": "stream",
     "text": [
      "        request       rule                 response\n",
      "0       너의 이름은?       너|이름             저는 자비스라고 합니다\n",
      "1     네 이름을 말해줘    네|이름|말해             저는 자비스라고 합니다\n",
      "2     네 이름이 뭐니?     네|이름|뭐             저는 자비스라고 합니다\n",
      "3       놀러가고 싶다       놀러|싶           가끔씩 휴식하는 것도 좋죠\n",
      "4   느그 아부지 뭐하시노  느그|아부지|뭐하             우리 아부지 건달입니다\n",
      "5    말귀좀 알아듣는다?   말귀|알아듣는다       다행이네요. 열심히 배우고 있어요\n",
      "6           맛저해        맛저해                   맛저하세요~\n",
      "7           맛점해        맛점해                   맛점하세요~\n",
      "8       메리크리스마스      메리|크리               메리~ 크리스마스~\n",
      "9     면접에서 떨어졌어      면접|떨어         다음엔 꼭 붙을 수 있을거에요\n",
      "10  무슨 말인지 모르겠어    무슨|말|모르          죄송해요 학습이 덜 됐나봐요\n",
      "11          뭐해?         뭐해                   그냥 있어요\n",
      "12  아 월요일이 다가온다     월요일|다가               월요병이 심한가봐요\n",
      "13           안녕         안녕                    안녕하세요\n",
      "14      영화 추천해줘      영화|추천  아이언맨 시리즈와 어벤져스 시리즈를 보세요\n"
     ]
    }
   ],
   "source": [
    "chatbot_data = pd.read_excel(\"chatbot_data.xlsx\")\n",
    "print(chatbot_data)"
   ]
  },
  {
   "cell_type": "code",
   "execution_count": 3,
   "id": "070ee808",
   "metadata": {},
   "outputs": [
    {
     "name": "stdout",
     "output_type": "stream",
     "text": [
      "{0: ['너', '이름'], 1: ['네', '이름', '말해'], 2: ['네', '이름', '뭐'], 3: ['놀러', '싶'], 4: ['느그', '아부지', '뭐하'], 5: ['말귀', '알아듣는다'], 6: ['맛저해'], 7: ['맛점해'], 8: ['메리', '크리'], 9: ['면접', '떨어'], 10: ['무슨', '말', '모르'], 11: ['뭐해'], 12: ['월요일', '다가'], 13: ['안녕'], 14: ['영화', '추천']}\n"
     ]
    }
   ],
   "source": [
    "chat_dic = {}\n",
    "row = 0\n",
    "for rule in chatbot_data['rule'] :\n",
    "    chat_dic[row] = rule.split('|')\n",
    "    row += 1\n",
    "\n",
    "print(chat_dic)"
   ]
  },
  {
   "cell_type": "code",
   "execution_count": 12,
   "id": "f7ac9e07",
   "metadata": {},
   "outputs": [],
   "source": [
    "def chat(request):\n",
    "    for i,k in chat_dic.items():\n",
    "        index = -1        \n",
    "        for word in k:\n",
    "            try:\n",
    "                if index == -1:\n",
    "                    index = request.index(word)\n",
    "                else:\n",
    "                    if index < request.index(word,index):\n",
    "                        index = request.index(word,index)\n",
    "                    else :\n",
    "                        index = -1\n",
    "                        break\n",
    "            except :\n",
    "                index = -1\n",
    "                break\n",
    "        if index > -1:\n",
    "            return chatbot_data['response'][i]\n",
    "    return '무슨 말인지 모르겠어요'"
   ]
  },
  {
   "cell_type": "code",
   "execution_count": 13,
   "id": "2ec330dd",
   "metadata": {},
   "outputs": [
    {
     "name": "stdout",
     "output_type": "stream",
     "text": [
      "대화를 입력하세요 느그 아부지 뭐하시노?\n",
      "jarvis :  우리 아부지 건달입니다\n",
      "대화를 입력하세요 느그\n",
      "jarvis :  무슨 말인지 모르겠어요\n",
      "대화를 입력하세요 애미\n",
      "jarvis :  무슨 말인지 모르겠어요\n",
      "대화를 입력하세요 미친\n",
      "jarvis :  무슨 말인지 모르겠어요\n",
      "대화를 입력하세요 새끼\n",
      "jarvis :  무슨 말인지 모르겠어요\n",
      "대화를 입력하세요 배고파\n",
      "jarvis :  무슨 말인지 모르겠어요\n",
      "대화를 입력하세요 메리크리스마스\n",
      "jarvis :  메리~ 크리스마스~\n",
      "대화를 입력하세요 월요잉ㄹ\n",
      "jarvis :  무슨 말인지 모르겠어요\n",
      "대화를 입력하세요 안녕\n",
      "jarvis :  안녕하세요\n",
      "대화를 입력하세요 exit\n"
     ]
    }
   ],
   "source": [
    "while True :\n",
    "    req = input('대화를 입력하세요 ')\n",
    "    if req == 'exit' :\n",
    "        break\n",
    "    else : print('jarvis : ', chat(req))"
   ]
  },
  {
   "cell_type": "code",
   "execution_count": null,
   "id": "dc17865f",
   "metadata": {},
   "outputs": [],
   "source": []
  },
  {
   "cell_type": "code",
   "execution_count": null,
   "id": "f3c530cf",
   "metadata": {},
   "outputs": [],
   "source": []
  }
 ],
 "metadata": {
  "kernelspec": {
   "display_name": "Python 3 (ipykernel)",
   "language": "python",
   "name": "python3"
  },
  "language_info": {
   "codemirror_mode": {
    "name": "ipython",
    "version": 3
   },
   "file_extension": ".py",
   "mimetype": "text/x-python",
   "name": "python",
   "nbconvert_exporter": "python",
   "pygments_lexer": "ipython3",
   "version": "3.11.3"
  }
 },
 "nbformat": 4,
 "nbformat_minor": 5
}
