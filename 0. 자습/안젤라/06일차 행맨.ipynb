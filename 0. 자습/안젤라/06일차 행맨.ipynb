{
 "cells": [
  {
   "cell_type": "markdown",
   "id": "7b7f2bd9",
   "metadata": {},
   "source": [
    "### 행맨 만들기\n",
    "- 단어가 들어있는 배열에서 랜덤으로 단어 선정\n",
    "- 알파벳을 입력했을 때, 해당 알파벳이 있으면 그 알파벳의 위치가 나타남\n",
    "- 없으면 줄 그어짐. 대충 5번 기회?\n",
    "- 이기거나 포기하면 게임 종료. 지면 다시 하기"
   ]
  },
  {
   "cell_type": "code",
   "execution_count": null,
   "id": "2edd59df",
   "metadata": {},
   "outputs": [],
   "source": [
    "import random as rd"
   ]
  },
  {
   "cell_type": "markdown",
   "id": "031eb9d6",
   "metadata": {},
   "source": [
    "### 1"
   ]
  },
  {
   "cell_type": "code",
   "execution_count": null,
   "id": "8c9474a7",
   "metadata": {},
   "outputs": [],
   "source": [
    "import hangman_word\n",
    "import hangman_live\n",
    "\n",
    "cor = rd.choice(hangman_word.word_list)\n",
    "live = True\n",
    "over_cnt = 0\n",
    "cor_len = len(cor)\n",
    "\n",
    "display = []\n",
    "print(f\"\"\"게임을 시작합니다.\n",
    "========================\"\"\")\n",
    "for i in range(cor_len):\n",
    "    display += '_'\n",
    "\n",
    "while(live) :    \n",
    "    user_ans = input('알파벳을 입력하세요 >> ').lower() # 입력받은 문자를 소문자로 변경\n",
    "    if user_ans not in cor :\n",
    "        over_cnt += 1;\n",
    "    else :\n",
    "        for i in range(cor_len) :\n",
    "            let = cor[i]\n",
    "            if user_ans == let :\n",
    "                display[i] = let\n",
    "        print(f\"{' '.join(display)}\") # 매개변수로 들어온 리스트에 있는 요소 하나하나를 합쳐서 하나의 문자열로 바꾸어 반환하는 함수\n",
    "    if \"_\" not in display:\n",
    "        live = False\n",
    "        print(\"이겼습니다!\")\n",
    "        break;\n",
    "    if over_cnt == 5 :\n",
    "        live = False\n",
    "        print(\"졌습니다.\")\n",
    "    print(hangman_live.hangman_live[over_cnt])"
   ]
  },
  {
   "cell_type": "code",
   "execution_count": null,
   "id": "df106ac4",
   "metadata": {},
   "outputs": [],
   "source": []
  },
  {
   "cell_type": "code",
   "execution_count": null,
   "id": "b733346c",
   "metadata": {},
   "outputs": [],
   "source": []
  },
  {
   "cell_type": "code",
   "execution_count": null,
   "id": "39e82992",
   "metadata": {},
   "outputs": [],
   "source": []
  },
  {
   "cell_type": "code",
   "execution_count": null,
   "id": "b91d31f7",
   "metadata": {},
   "outputs": [],
   "source": []
  },
  {
   "cell_type": "code",
   "execution_count": null,
   "id": "9dd0b204",
   "metadata": {},
   "outputs": [],
   "source": []
  },
  {
   "cell_type": "code",
   "execution_count": null,
   "id": "ed87aafa",
   "metadata": {},
   "outputs": [],
   "source": []
  },
  {
   "cell_type": "code",
   "execution_count": null,
   "id": "cd86ac37",
   "metadata": {},
   "outputs": [],
   "source": []
  },
  {
   "cell_type": "code",
   "execution_count": null,
   "id": "6f8aa5bb",
   "metadata": {},
   "outputs": [],
   "source": []
  },
  {
   "cell_type": "code",
   "execution_count": null,
   "id": "77d6c611",
   "metadata": {},
   "outputs": [],
   "source": []
  },
  {
   "cell_type": "code",
   "execution_count": null,
   "id": "48102e0b",
   "metadata": {},
   "outputs": [],
   "source": []
  },
  {
   "cell_type": "code",
   "execution_count": null,
   "id": "ae3c204f",
   "metadata": {},
   "outputs": [],
   "source": []
  }
 ],
 "metadata": {
  "kernelspec": {
   "display_name": "Python 3 (ipykernel)",
   "language": "python",
   "name": "python3"
  },
  "language_info": {
   "codemirror_mode": {
    "name": "ipython",
    "version": 3
   },
   "file_extension": ".py",
   "mimetype": "text/x-python",
   "name": "python",
   "nbconvert_exporter": "python",
   "pygments_lexer": "ipython3",
   "version": "3.11.3"
  }
 },
 "nbformat": 4,
 "nbformat_minor": 5
}
