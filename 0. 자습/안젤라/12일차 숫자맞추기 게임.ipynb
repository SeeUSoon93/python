{
 "cells": [
  {
   "cell_type": "markdown",
   "id": "f6042268",
   "metadata": {},
   "source": [
    "### 숫자 맞추기 게임\n",
    "- 1부터 100까지 랜덤 수\n",
    "- 하드모드는 5번 이지모드는 10번 기회"
   ]
  },
  {
   "cell_type": "code",
   "execution_count": 9,
   "id": "c7d376c4",
   "metadata": {},
   "outputs": [],
   "source": [
    "import random as rd\n",
    "import time"
   ]
  },
  {
   "cell_type": "code",
   "execution_count": 17,
   "id": "ad46bb25",
   "metadata": {},
   "outputs": [
    {
     "name": "stdout",
     "output_type": "stream",
     "text": [
      "[1]하드모드 [2]이지모드 : 1\n",
      "숫자를 입력하세요 : 15\n",
      "정답보다 작습니다\n",
      "숫자를 입력하세요 : 50\n",
      "정답보다 작습니다\n",
      "숫자를 입력하세요 : 80\n",
      "정답보다 큽니다\n",
      "숫자를 입력하세요 : 70\n",
      "정답보다 큽니다\n",
      "숫자를 입력하세요 : 60\n",
      "정답보다 작습니다\n",
      "패배\n"
     ]
    }
   ],
   "source": [
    "## print(\"숫자맞추기 게임!\")\n",
    "mode = int(input(\"[1]하드모드 [2]이지모드 : \"))\n",
    "if mode == 1:\n",
    "    cnt = 5\n",
    "else :\n",
    "    cnt == 10\n",
    "    \n",
    "correct = rd.randint(1,100)\n",
    "while True :    \n",
    "    time.sleep(1)\n",
    "    answer = int(input(\"숫자를 입력하세요 : \"))\n",
    "    \n",
    "    if answer == correct :\n",
    "        print(\"정답입니다!\")\n",
    "        cnt = 0  \n",
    "        break;\n",
    "    elif answer > correct :\n",
    "        print(\"정답보다 큽니다\")\n",
    "        cnt -= 1\n",
    "    elif answer < correct :\n",
    "        print(\"정답보다 작습니다\")\n",
    "        cnt -= 1\n",
    "    \n",
    "    if cnt == 0 :\n",
    "        print(\"패배\")\n",
    "        break;"
   ]
  },
  {
   "cell_type": "code",
   "execution_count": null,
   "id": "2251163c",
   "metadata": {},
   "outputs": [],
   "source": []
  },
  {
   "cell_type": "code",
   "execution_count": null,
   "id": "85e76ea8",
   "metadata": {},
   "outputs": [],
   "source": []
  },
  {
   "cell_type": "code",
   "execution_count": null,
   "id": "d1b26a49",
   "metadata": {},
   "outputs": [],
   "source": []
  },
  {
   "cell_type": "code",
   "execution_count": null,
   "id": "7c2c67af",
   "metadata": {},
   "outputs": [],
   "source": []
  },
  {
   "cell_type": "code",
   "execution_count": null,
   "id": "a1451906",
   "metadata": {},
   "outputs": [],
   "source": []
  }
 ],
 "metadata": {
  "kernelspec": {
   "display_name": "Python 3 (ipykernel)",
   "language": "python",
   "name": "python3"
  },
  "language_info": {
   "codemirror_mode": {
    "name": "ipython",
    "version": 3
   },
   "file_extension": ".py",
   "mimetype": "text/x-python",
   "name": "python",
   "nbconvert_exporter": "python",
   "pygments_lexer": "ipython3",
   "version": "3.11.3"
  }
 },
 "nbformat": 4,
 "nbformat_minor": 5
}
