{
 "cells": [
  {
   "cell_type": "markdown",
   "id": "bc3010a0",
   "metadata": {},
   "source": [
    "### 가상 동전 던지기 프로그램"
   ]
  },
  {
   "cell_type": "code",
   "execution_count": 1,
   "id": "cace0d63",
   "metadata": {},
   "outputs": [],
   "source": [
    "import random as rd"
   ]
  },
  {
   "cell_type": "code",
   "execution_count": 29,
   "id": "854b393c",
   "metadata": {},
   "outputs": [
    {
     "name": "stdout",
     "output_type": "stream",
     "text": [
      "앞면\n"
     ]
    }
   ],
   "source": [
    "rdNum = rd.randint(0,1)\n",
    "if rdNum == 1 :\n",
    "    print('앞면')\n",
    "else :\n",
    "    print('뒷면')        "
   ]
  },
  {
   "cell_type": "markdown",
   "id": "bad13b1a",
   "metadata": {},
   "source": [
    "### 금융가 룰렛\n",
    "- 이름을 입력받고\n",
    "- 뽑힌 사람이 식사 계산하는 프로그램"
   ]
  },
  {
   "cell_type": "code",
   "execution_count": 31,
   "id": "6b773f3a",
   "metadata": {},
   "outputs": [
    {
     "name": "stdout",
     "output_type": "stream",
     "text": [
      "이름을 입력하세요 >> 최윤석\n",
      "이름을 입력하세요 >> 김군순\n",
      "이름을 입력하세요 >> 진영준\n",
      "이름을 입력하세요 >> 김광민\n",
      "이름을 입력하세요 >> 장채린\n",
      "오늘 저녁은 최윤석(이)가 계산합니다.\n"
     ]
    }
   ],
   "source": [
    "nameList = []\n",
    "for i in range(5) :\n",
    "    nameList.append(input('이름을 입력하세요 >> '))\n",
    "\n",
    "roulette = rd.randint(0,len(nameList))\n",
    "\n",
    "print(f\"오늘 저녁은 {nameList[roulette]}(이)가 계산합니다.\")"
   ]
  },
  {
   "cell_type": "markdown",
   "id": "799ac56c",
   "metadata": {},
   "source": [
    "### 보물찾기"
   ]
  },
  {
   "cell_type": "code",
   "execution_count": 56,
   "id": "c84d54a3",
   "metadata": {},
   "outputs": [
    {
     "name": "stdout",
     "output_type": "stream",
     "text": [
      "행과 열을 입력하세요 >> 54\n",
      "['■', '■', '■', '■', '■', '■', '■', '■', '■', '■']\n",
      "['■', '■', '■', '■', '■', '■', '■', '■', '■', '■']\n",
      "['■', '■', '■', '■', '■', '■', '■', '■', '■', '■']\n",
      "['■', '■', '■', '■', 'X', '■', '■', '■', '■', '■']\n",
      "['■', '■', '■', '■', '■', '■', '■', '■', '■', '■']\n"
     ]
    }
   ],
   "source": [
    "map = [['■','■','■','■','■','■','■','■','■','■'],\n",
    "       ['■','■','■','■','■','■','■','■','■','■'],\n",
    "       ['■','■','■','■','■','■','■','■','■','■'],\n",
    "       ['■','■','■','■','■','■','■','■','■','■'],\n",
    "       ['■','■','■','■','■','■','■','■','■','■']]\n",
    "\n",
    "num = input('행과 열을 입력하세요 >> ')\n",
    "raw = int(num[0])-1\n",
    "column = int(num[1])-1\n",
    "map[column][raw] = 'X'\n",
    "\n",
    "for i in map :\n",
    "    print(i)"
   ]
  },
  {
   "cell_type": "markdown",
   "id": "f9b42347",
   "metadata": {},
   "source": [
    "### 가위바위보 게임\n",
    "- 0,1,2 은 각각 가위 바위 보\n",
    "- 사용자가 숫자를 입력하면 무엇을 냈는지 뜨고\n",
    "- 랜덤으로 가위 바위 보가 뜨며 이겼는지 졌는지 표시"
   ]
  },
  {
   "cell_type": "code",
   "execution_count": 62,
   "id": "d8b8b2d2",
   "metadata": {},
   "outputs": [
    {
     "name": "stdout",
     "output_type": "stream",
     "text": [
      "가위(0), 바위(1), 보(2)를 입력하세요 >> 0\n",
      "당신 : 가위\n",
      "컴퓨터 : 가위\n",
      "무승부\n",
      "가위(0), 바위(1), 보(2)를 입력하세요 >> 1\n",
      "당신 : 바위\n",
      "컴퓨터 : 바위\n",
      "무승부\n",
      "가위(0), 바위(1), 보(2)를 입력하세요 >> 2\n",
      "당신 : 보\n",
      "컴퓨터 : 바위\n",
      "승리!\n",
      "가위(0), 바위(1), 보(2)를 입력하세요 >> 3\n",
      "다시 입력하세요\n",
      "가위(0), 바위(1), 보(2)를 입력하세요 >> 1\n",
      "당신 : 바위\n",
      "컴퓨터 : 가위\n",
      "승리!\n",
      "가위(0), 바위(1), 보(2)를 입력하세요 >> 0\n",
      "당신 : 가위\n",
      "컴퓨터 : 가위\n",
      "무승부\n",
      "가위(0), 바위(1), 보(2)를 입력하세요 >> 1\n",
      "당신 : 바위\n",
      "컴퓨터 : 보\n",
      "패배!\n",
      "가위(0), 바위(1), 보(2)를 입력하세요 >> 2\n",
      "당신 : 보\n",
      "컴퓨터 : 바위\n",
      "승리!\n",
      "가위(0), 바위(1), 보(2)를 입력하세요 >> 01\n",
      "당신 : 바위\n",
      "컴퓨터 : 가위\n",
      "승리!\n",
      "가위(0), 바위(1), 보(2)를 입력하세요 >> 1\n",
      "당신 : 바위\n",
      "컴퓨터 : 가위\n",
      "승리!\n",
      "가위(0), 바위(1), 보(2)를 입력하세요 >> 2\n",
      "당신 : 보\n",
      "컴퓨터 : 가위\n",
      "패배!\n"
     ]
    },
    {
     "ename": "KeyboardInterrupt",
     "evalue": "Interrupted by user",
     "output_type": "error",
     "traceback": [
      "\u001b[1;31m---------------------------------------------------------------------------\u001b[0m",
      "\u001b[1;31mKeyboardInterrupt\u001b[0m                         Traceback (most recent call last)",
      "Cell \u001b[1;32mIn[62], line 4\u001b[0m\n\u001b[0;32m      1\u001b[0m rsp \u001b[38;5;241m=\u001b[39m [\u001b[38;5;124m'\u001b[39m\u001b[38;5;124m가위\u001b[39m\u001b[38;5;124m'\u001b[39m,\u001b[38;5;124m'\u001b[39m\u001b[38;5;124m바위\u001b[39m\u001b[38;5;124m'\u001b[39m,\u001b[38;5;124m'\u001b[39m\u001b[38;5;124m보\u001b[39m\u001b[38;5;124m'\u001b[39m]\n\u001b[0;32m      3\u001b[0m \u001b[38;5;28;01mwhile\u001b[39;00m(\u001b[38;5;28;01mTrue\u001b[39;00m) :\n\u001b[1;32m----> 4\u001b[0m     you \u001b[38;5;241m=\u001b[39m \u001b[38;5;28mint\u001b[39m(\u001b[38;5;28minput\u001b[39m(\u001b[38;5;124m'\u001b[39m\u001b[38;5;124m가위(0), 바위(1), 보(2)를 입력하세요 >> \u001b[39m\u001b[38;5;124m'\u001b[39m))\n\u001b[0;32m      5\u001b[0m     \u001b[38;5;28;01mif\u001b[39;00m you \u001b[38;5;241m==\u001b[39m \u001b[38;5;241m0\u001b[39m \u001b[38;5;129;01mor\u001b[39;00m you \u001b[38;5;241m==\u001b[39m \u001b[38;5;241m1\u001b[39m \u001b[38;5;129;01mor\u001b[39;00m you \u001b[38;5;241m==\u001b[39m \u001b[38;5;241m2\u001b[39m :\n\u001b[0;32m      6\u001b[0m         \u001b[38;5;28mprint\u001b[39m(\u001b[38;5;124m'\u001b[39m\u001b[38;5;124m당신 : \u001b[39m\u001b[38;5;124m'\u001b[39m\u001b[38;5;241m+\u001b[39m rsp[you])\n",
      "File \u001b[1;32m~\\anaconda3\\Lib\\site-packages\\ipykernel\\kernelbase.py:1175\u001b[0m, in \u001b[0;36mKernel.raw_input\u001b[1;34m(self, prompt)\u001b[0m\n\u001b[0;32m   1171\u001b[0m \u001b[38;5;28;01mif\u001b[39;00m \u001b[38;5;129;01mnot\u001b[39;00m \u001b[38;5;28mself\u001b[39m\u001b[38;5;241m.\u001b[39m_allow_stdin:\n\u001b[0;32m   1172\u001b[0m     \u001b[38;5;28;01mraise\u001b[39;00m StdinNotImplementedError(\n\u001b[0;32m   1173\u001b[0m         \u001b[38;5;124m\"\u001b[39m\u001b[38;5;124mraw_input was called, but this frontend does not support input requests.\u001b[39m\u001b[38;5;124m\"\u001b[39m\n\u001b[0;32m   1174\u001b[0m     )\n\u001b[1;32m-> 1175\u001b[0m \u001b[38;5;28;01mreturn\u001b[39;00m \u001b[38;5;28mself\u001b[39m\u001b[38;5;241m.\u001b[39m_input_request(\n\u001b[0;32m   1176\u001b[0m     \u001b[38;5;28mstr\u001b[39m(prompt),\n\u001b[0;32m   1177\u001b[0m     \u001b[38;5;28mself\u001b[39m\u001b[38;5;241m.\u001b[39m_parent_ident[\u001b[38;5;124m\"\u001b[39m\u001b[38;5;124mshell\u001b[39m\u001b[38;5;124m\"\u001b[39m],\n\u001b[0;32m   1178\u001b[0m     \u001b[38;5;28mself\u001b[39m\u001b[38;5;241m.\u001b[39mget_parent(\u001b[38;5;124m\"\u001b[39m\u001b[38;5;124mshell\u001b[39m\u001b[38;5;124m\"\u001b[39m),\n\u001b[0;32m   1179\u001b[0m     password\u001b[38;5;241m=\u001b[39m\u001b[38;5;28;01mFalse\u001b[39;00m,\n\u001b[0;32m   1180\u001b[0m )\n",
      "File \u001b[1;32m~\\anaconda3\\Lib\\site-packages\\ipykernel\\kernelbase.py:1217\u001b[0m, in \u001b[0;36mKernel._input_request\u001b[1;34m(self, prompt, ident, parent, password)\u001b[0m\n\u001b[0;32m   1214\u001b[0m             \u001b[38;5;28;01mbreak\u001b[39;00m\n\u001b[0;32m   1215\u001b[0m \u001b[38;5;28;01mexcept\u001b[39;00m \u001b[38;5;167;01mKeyboardInterrupt\u001b[39;00m:\n\u001b[0;32m   1216\u001b[0m     \u001b[38;5;66;03m# re-raise KeyboardInterrupt, to truncate traceback\u001b[39;00m\n\u001b[1;32m-> 1217\u001b[0m     \u001b[38;5;28;01mraise\u001b[39;00m \u001b[38;5;167;01mKeyboardInterrupt\u001b[39;00m(\u001b[38;5;124m\"\u001b[39m\u001b[38;5;124mInterrupted by user\u001b[39m\u001b[38;5;124m\"\u001b[39m) \u001b[38;5;28;01mfrom\u001b[39;00m \u001b[38;5;28;01mNone\u001b[39;00m\n\u001b[0;32m   1218\u001b[0m \u001b[38;5;28;01mexcept\u001b[39;00m \u001b[38;5;167;01mException\u001b[39;00m:\n\u001b[0;32m   1219\u001b[0m     \u001b[38;5;28mself\u001b[39m\u001b[38;5;241m.\u001b[39mlog\u001b[38;5;241m.\u001b[39mwarning(\u001b[38;5;124m\"\u001b[39m\u001b[38;5;124mInvalid Message:\u001b[39m\u001b[38;5;124m\"\u001b[39m, exc_info\u001b[38;5;241m=\u001b[39m\u001b[38;5;28;01mTrue\u001b[39;00m)\n",
      "\u001b[1;31mKeyboardInterrupt\u001b[0m: Interrupted by user"
     ]
    }
   ],
   "source": [
    "rsp = ['가위','바위','보']\n",
    "\n",
    "while(True) :\n",
    "    you = int(input('가위(0), 바위(1), 보(2)를 입력하세요 >> '))\n",
    "    if you == 0 or you == 1 or you == 2 :\n",
    "        print('당신 : '+ rsp[you])\n",
    "        me = rd.randint(0,2)\n",
    "        print('컴퓨터 : '+ rsp[me])\n",
    "        if you == me :            \n",
    "            print('무승부')\n",
    "        else :\n",
    "            if you == 0 :\n",
    "                if me == 1 :\n",
    "                    print('패배!')\n",
    "                else :\n",
    "                    print('승리!')\n",
    "            elif you == 1 :\n",
    "                if me == 2 :\n",
    "                    print('패배!')\n",
    "                else :\n",
    "                    print('승리!')\n",
    "            elif you == 2 :\n",
    "                if me == 0 :\n",
    "                    print('패배!')\n",
    "                else :\n",
    "                    print('승리!')\n",
    "    else :\n",
    "        print('다시 입력하세요')  \n",
    "    "
   ]
  },
  {
   "cell_type": "code",
   "execution_count": null,
   "id": "34edfefc",
   "metadata": {},
   "outputs": [],
   "source": []
  },
  {
   "cell_type": "code",
   "execution_count": null,
   "id": "facbb2f5",
   "metadata": {},
   "outputs": [],
   "source": []
  },
  {
   "cell_type": "code",
   "execution_count": null,
   "id": "58e974ad",
   "metadata": {},
   "outputs": [],
   "source": []
  }
 ],
 "metadata": {
  "kernelspec": {
   "display_name": "Python 3 (ipykernel)",
   "language": "python",
   "name": "python3"
  },
  "language_info": {
   "codemirror_mode": {
    "name": "ipython",
    "version": 3
   },
   "file_extension": ".py",
   "mimetype": "text/x-python",
   "name": "python",
   "nbconvert_exporter": "python",
   "pygments_lexer": "ipython3",
   "version": "3.11.3"
  }
 },
 "nbformat": 4,
 "nbformat_minor": 5
}
