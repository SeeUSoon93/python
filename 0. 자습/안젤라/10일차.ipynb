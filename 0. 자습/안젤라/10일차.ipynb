{
 "cells": [
  {
   "cell_type": "markdown",
   "id": "7ba5030b",
   "metadata": {},
   "source": [
    "### 년 월을 입력하면 일 수를 알려주는 프로그램"
   ]
  },
  {
   "cell_type": "code",
   "execution_count": 10,
   "id": "d8459fe1",
   "metadata": {},
   "outputs": [
    {
     "name": "stdout",
     "output_type": "stream",
     "text": [
      "년도 입력 2023\n",
      "월 입력 8\n",
      "2023년 8월은 31일까지 있습니다.\n"
     ]
    }
   ],
   "source": [
    "def days(year, month):\n",
    "    if year % 4 == 0:\n",
    "        if year % 100 == 0:\n",
    "            if year % 400 == 0:\n",
    "                leap = True\n",
    "            else:\n",
    "                leap = False\n",
    "        else:\n",
    "            leap = True\n",
    "    else:\n",
    "        leap = False\n",
    "    month_days = [31, 28, 31, 30, 31, 30, 31, 31, 30, 31, 30, 31]\n",
    "    days = month_days[month-1]\n",
    "    if leap == True :\n",
    "        if month == 2 :\n",
    "            days += 1\n",
    "    print(f\"{year}년 {month}월은 {days}일까지 있습니다.\")\n",
    "    \n",
    "year = int(input(\"년도 입력 : \"))\n",
    "month = int(input(\"월 입력 : \"))\n",
    "days(year,month)"
   ]
  },
  {
   "cell_type": "markdown",
   "id": "2835bb4a",
   "metadata": {},
   "source": [
    "### 계산기 프로그램"
   ]
  },
  {
   "cell_type": "code",
   "execution_count": 13,
   "id": "90bcbedd",
   "metadata": {},
   "outputs": [
    {
     "name": "stdout",
     "output_type": "stream",
     "text": [
      "숫자 입력: 3\n",
      "기호 입력: *\n",
      "숫자 입력: 5\n",
      "3.0 * 5.0 = 15.0\n",
      "[1]계속 계산 [2]새로운 계산 [3]종료 : 3\n"
     ]
    }
   ],
   "source": [
    "from IPython.display import clear_output \n",
    "\n",
    "def add(n1, n2):\n",
    "    return n1 + n2\n",
    "\n",
    "def sub(n1, n2):\n",
    "    return n1 - n2\n",
    "\n",
    "def mul(n1, n2):\n",
    "    return n1 * n2\n",
    "\n",
    "def div(n1, n2):\n",
    "    return n1 / n2\n",
    "\n",
    "oper = {\"+\": add,\"-\": sub,\"*\": mul,\"/\": div}\n",
    "\n",
    "def calculator():    \n",
    "    con = True\n",
    "    num1 = float(input(\"숫자 입력: \"))\n",
    "    \n",
    "    while con:\n",
    "        opr = input(\"기호 입력: \")\n",
    "        num2 = float(input(\"숫자 입력: \"))\n",
    "        fun = oper[opr]\n",
    "        ans = fun(num1, num2)\n",
    "        print(f\"{num1} {opr} {num2} = {ans}\")\n",
    "        \n",
    "        a = int(input(\"[1]계속 계산 [2]새로운 계산 [3]종료 : \"))\n",
    "        if a == 1:\n",
    "            num1 = ans\n",
    "        elif a == 2 :\n",
    "            con = False\n",
    "            clear_output()\n",
    "            calculator()\n",
    "        else :\n",
    "            con = False            \n",
    "calculator()"
   ]
  },
  {
   "cell_type": "code",
   "execution_count": null,
   "id": "5186c9d8",
   "metadata": {},
   "outputs": [],
   "source": []
  },
  {
   "cell_type": "code",
   "execution_count": null,
   "id": "742e614b",
   "metadata": {},
   "outputs": [],
   "source": []
  },
  {
   "cell_type": "code",
   "execution_count": null,
   "id": "31e6eeee",
   "metadata": {},
   "outputs": [],
   "source": []
  },
  {
   "cell_type": "code",
   "execution_count": null,
   "id": "4d43c3c8",
   "metadata": {},
   "outputs": [],
   "source": []
  },
  {
   "cell_type": "code",
   "execution_count": null,
   "id": "a4c9180f",
   "metadata": {},
   "outputs": [],
   "source": []
  },
  {
   "cell_type": "code",
   "execution_count": null,
   "id": "6f1329c8",
   "metadata": {},
   "outputs": [],
   "source": []
  },
  {
   "cell_type": "code",
   "execution_count": null,
   "id": "b24ba404",
   "metadata": {},
   "outputs": [],
   "source": []
  },
  {
   "cell_type": "code",
   "execution_count": null,
   "id": "b605af83",
   "metadata": {},
   "outputs": [],
   "source": []
  },
  {
   "cell_type": "code",
   "execution_count": null,
   "id": "b280b9eb",
   "metadata": {},
   "outputs": [],
   "source": []
  },
  {
   "cell_type": "code",
   "execution_count": null,
   "id": "b63fbab2",
   "metadata": {},
   "outputs": [],
   "source": []
  },
  {
   "cell_type": "code",
   "execution_count": null,
   "id": "86ea7899",
   "metadata": {},
   "outputs": [],
   "source": []
  },
  {
   "cell_type": "code",
   "execution_count": null,
   "id": "2cea4520",
   "metadata": {},
   "outputs": [],
   "source": []
  },
  {
   "cell_type": "code",
   "execution_count": null,
   "id": "45248c4e",
   "metadata": {},
   "outputs": [],
   "source": []
  },
  {
   "cell_type": "code",
   "execution_count": null,
   "id": "c084f2f6",
   "metadata": {},
   "outputs": [],
   "source": []
  }
 ],
 "metadata": {
  "kernelspec": {
   "display_name": "Python 3 (ipykernel)",
   "language": "python",
   "name": "python3"
  },
  "language_info": {
   "codemirror_mode": {
    "name": "ipython",
    "version": 3
   },
   "file_extension": ".py",
   "mimetype": "text/x-python",
   "name": "python",
   "nbconvert_exporter": "python",
   "pygments_lexer": "ipython3",
   "version": "3.11.3"
  }
 },
 "nbformat": 4,
 "nbformat_minor": 5
}
