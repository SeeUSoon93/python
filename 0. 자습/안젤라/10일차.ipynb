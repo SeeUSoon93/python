{
 "cells": [
  {
   "cell_type": "code",
   "execution_count": 10,
   "id": "d8459fe1",
   "metadata": {},
   "outputs": [
    {
     "name": "stdout",
     "output_type": "stream",
     "text": [
      "년도 입력 2023\n",
      "월 입력 8\n",
      "2023년 8월은 31일까지 있습니다.\n"
     ]
    }
   ],
   "source": [
    "def days(year, month):\n",
    "    if year % 4 == 0:\n",
    "        if year % 100 == 0:\n",
    "            if year % 400 == 0:\n",
    "                leap = True\n",
    "            else:\n",
    "                leap = False\n",
    "        else:\n",
    "            leap = True\n",
    "    else:\n",
    "        leap = False\n",
    "    month_days = [31, 28, 31, 30, 31, 30, 31, 31, 30, 31, 30, 31]\n",
    "    days = month_days[month-1]\n",
    "    if leap == True :\n",
    "        if month == 2 :\n",
    "            days += 1\n",
    "    print(f\"{year}년 {month}월은 {days}일까지 있습니다.\")\n",
    "    \n",
    "year = int(input(\"년도 입력 : \"))\n",
    "month = int(input(\"월 입력 : \"))\n",
    "days(year,month)"
   ]
  },
  {
   "cell_type": "code",
   "execution_count": null,
   "id": "cecc9fd3",
   "metadata": {},
   "outputs": [],
   "source": []
  },
  {
   "cell_type": "code",
   "execution_count": null,
   "id": "45248c4e",
   "metadata": {},
   "outputs": [],
   "source": []
  },
  {
   "cell_type": "code",
   "execution_count": null,
   "id": "c084f2f6",
   "metadata": {},
   "outputs": [],
   "source": []
  }
 ],
 "metadata": {
  "kernelspec": {
   "display_name": "Python 3 (ipykernel)",
   "language": "python",
   "name": "python3"
  },
  "language_info": {
   "codemirror_mode": {
    "name": "ipython",
    "version": 3
   },
   "file_extension": ".py",
   "mimetype": "text/x-python",
   "name": "python",
   "nbconvert_exporter": "python",
   "pygments_lexer": "ipython3",
   "version": "3.11.3"
  }
 },
 "nbformat": 4,
 "nbformat_minor": 5
}
