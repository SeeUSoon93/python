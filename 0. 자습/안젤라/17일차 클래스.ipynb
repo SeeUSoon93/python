{
 "cells": [
  {
   "cell_type": "code",
   "execution_count": 7,
   "id": "7ed17ec6",
   "metadata": {},
   "outputs": [],
   "source": [
    "# 클래스 정의\n",
    "class Cat:\n",
    "    def meow(self):\n",
    "        print('야옹 야옹')\n",
    "    def cow(self, t, u):\n",
    "        print(t+u)"
   ]
  },
  {
   "cell_type": "code",
   "execution_count": 8,
   "id": "5642d2d7",
   "metadata": {},
   "outputs": [
    {
     "name": "stdout",
     "output_type": "stream",
     "text": [
      "야옹 야옹\n"
     ]
    }
   ],
   "source": [
    "nabi = Cat()\n",
    "nabi.meow()"
   ]
  }
 ],
 "metadata": {
  "kernelspec": {
   "display_name": "Python 3 (ipykernel)",
   "language": "python",
   "name": "python3"
  },
  "language_info": {
   "codemirror_mode": {
    "name": "ipython",
    "version": 3
   },
   "file_extension": ".py",
   "mimetype": "text/x-python",
   "name": "python",
   "nbconvert_exporter": "python",
   "pygments_lexer": "ipython3",
   "version": "3.11.3"
  }
 },
 "nbformat": 4,
 "nbformat_minor": 5
}
