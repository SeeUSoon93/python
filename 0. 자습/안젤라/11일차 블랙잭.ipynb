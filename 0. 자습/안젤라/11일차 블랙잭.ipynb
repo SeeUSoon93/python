{
 "cells": [
  {
   "cell_type": "markdown",
   "id": "03dbc698",
   "metadata": {},
   "source": [
    "### 블랙잭만들기\n",
    "\n",
    "- 최초에 2장을 받고, 사용자는 받을지 말지 선택\n",
    "- 21이 넘으면 버스트\n",
    "- 딜러는 17이하면 더 뽑음\n",
    "- 21에 가까우면 승리\n",
    "- A는 1일 수도 11일 수도 있음\n",
    "- j,q,k는 10\n",
    "- 10번 지면 게임 종료"
   ]
  },
  {
   "cell_type": "code",
   "execution_count": 190,
   "id": "d9f3470e",
   "metadata": {},
   "outputs": [
    {
     "name": "stdout",
     "output_type": "stream",
     "text": [
      "당신의 점수 :  16\n",
      "[1]hit [2]stand >>1\n",
      "당신의 점수 :  26\n",
      "버스트! 유저 패배!\n",
      "블랙잭! 딜러승리!\n"
     ]
    }
   ],
   "source": [
    "import random as rd\n",
    "\n",
    "card = [1,2,3,4,5,6,7,8,9,10,10,10]\n",
    "com_score=0\n",
    "user_score=0\n",
    "over_cnt=0\n",
    "\n",
    "#게임 실행\n",
    "while True :\n",
    "    num1 = rd.choice(card)\n",
    "    user_score+=card[num1]\n",
    "    num1 = rd.choice(card)\n",
    "    user_score+=card[num1]\n",
    "    while True :\n",
    "        print(\"당신의 점수 : \",user_score)\n",
    "        if user_score > 21 :\n",
    "            print(\"버스트! 유저 패배!\")            \n",
    "            break;\n",
    "        elif user_score == 21 :\n",
    "            print(\"블랙잭! 유저 승리!\")\n",
    "            break;\n",
    "        else :\n",
    "            ans = int(input(\"[1]hit [2]stand >>\"))\n",
    "            if ans == 1 :\n",
    "                num1 = rd.choice(card)\n",
    "                user_score+=card[num1]\n",
    "            else :\n",
    "                break;\n",
    "        \n",
    "    num1 = rd.choice(card)\n",
    "    com_score+=card[num1]\n",
    "    num1 = rd.choice(card)\n",
    "    com_score+=card[num1]\n",
    "\n",
    "    while True :\n",
    "        if com_score > 21 :\n",
    "            print(\"버스트! 딜러 패배!\")\n",
    "            break;\n",
    "        elif com_score == 21 :\n",
    "            print(\"블랙잭! 딜러승리!\")\n",
    "            break;\n",
    "        elif com_score < 17 :\n",
    "            num1 = rd.choice(card)\n",
    "            com_score+=card[num1]\n",
    "        else :\n",
    "            break;\n",
    "    if user_score < 21 and com_score < 21 :\n",
    "        print(\"당신의 점수 : \",user_score)\n",
    "        print(\"딜러의 점수 : \",com_score)\n",
    "        if user_score > com_score :\n",
    "            print(\"당신의 승리!\")\n",
    "            break;\n",
    "        else :\n",
    "            print(\"당신의 패배!\")   \n",
    "            break;\n",
    "    break;"
   ]
  },
  {
   "cell_type": "code",
   "execution_count": null,
   "id": "fe695f2c",
   "metadata": {},
   "outputs": [],
   "source": []
  },
  {
   "cell_type": "code",
   "execution_count": null,
   "id": "403c03cb",
   "metadata": {},
   "outputs": [],
   "source": []
  },
  {
   "cell_type": "code",
   "execution_count": null,
   "id": "684b2ecb",
   "metadata": {},
   "outputs": [],
   "source": []
  },
  {
   "cell_type": "code",
   "execution_count": null,
   "id": "c317a29f",
   "metadata": {},
   "outputs": [],
   "source": []
  },
  {
   "cell_type": "code",
   "execution_count": null,
   "id": "7687608b",
   "metadata": {},
   "outputs": [],
   "source": []
  },
  {
   "cell_type": "code",
   "execution_count": null,
   "id": "8cab524b",
   "metadata": {},
   "outputs": [],
   "source": []
  },
  {
   "cell_type": "code",
   "execution_count": null,
   "id": "3f8adfd9",
   "metadata": {},
   "outputs": [],
   "source": []
  },
  {
   "cell_type": "code",
   "execution_count": null,
   "id": "3df31c16",
   "metadata": {},
   "outputs": [],
   "source": []
  },
  {
   "cell_type": "code",
   "execution_count": null,
   "id": "b19aab0f",
   "metadata": {},
   "outputs": [],
   "source": []
  },
  {
   "cell_type": "code",
   "execution_count": null,
   "id": "fb1f5148",
   "metadata": {},
   "outputs": [],
   "source": []
  },
  {
   "cell_type": "code",
   "execution_count": null,
   "id": "92786cab",
   "metadata": {},
   "outputs": [],
   "source": []
  },
  {
   "cell_type": "code",
   "execution_count": null,
   "id": "f5d35da8",
   "metadata": {},
   "outputs": [],
   "source": []
  }
 ],
 "metadata": {
  "kernelspec": {
   "display_name": "Python 3 (ipykernel)",
   "language": "python",
   "name": "python3"
  },
  "language_info": {
   "codemirror_mode": {
    "name": "ipython",
    "version": 3
   },
   "file_extension": ".py",
   "mimetype": "text/x-python",
   "name": "python",
   "nbconvert_exporter": "python",
   "pygments_lexer": "ipython3",
   "version": "3.11.3"
  }
 },
 "nbformat": 4,
 "nbformat_minor": 5
}
