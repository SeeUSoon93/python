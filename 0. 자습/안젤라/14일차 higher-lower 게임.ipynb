{
 "cells": [
  {
   "cell_type": "markdown",
   "id": "bde31afa",
   "metadata": {},
   "source": [
    "### higher-lower 게임\n",
    "- a와 b 중 뭐가 검색양이 많은지 맞추는 게임\n",
    "- 5번 진행하고 마지막에 몇개 맞췄는지 출력"
   ]
  },
  {
   "cell_type": "code",
   "execution_count": 27,
   "id": "9a1e1613",
   "metadata": {},
   "outputs": [
    {
     "name": "stdout",
     "output_type": "stream",
     "text": [
      "['김군순', '신진수', '전옥준', '심광희', '김남진', '김태정', '김병민', '김동현', '윤현승', '김수빈']\n"
     ]
    }
   ],
   "source": [
    "dic = {\"김군순\":1282,\n",
    "       \"신진수\" :294,\n",
    "       \"전옥준\":209,\n",
    "       \"심광희\":409,\n",
    "       \"김남진\":179,\n",
    "       \"김태정\":140,\n",
    "       \"김병민\":85,\n",
    "       \"김동현\":43,\n",
    "       \"윤현승\":689,\n",
    "       \"김수빈\":231,\n",
    "      }\n",
    "name = list(dic.keys())\n",
    "print(name)"
   ]
  },
  {
   "cell_type": "code",
   "execution_count": 25,
   "id": "93bf4b7c",
   "metadata": {},
   "outputs": [
    {
     "name": "stdout",
     "output_type": "stream",
     "text": [
      "누구의 인스타그램 팔로워 수가 더 많을 까요?\n",
      "전옥준 vs 김수빈 >> 김수빈\n",
      "\n",
      "전옥준 : 209,\n",
      "김수빈 : 231\n",
      "\n",
      "정답!\n",
      "\n",
      "누구의 인스타그램 팔로워 수가 더 많을 까요?\n",
      "전옥준 vs 김동현 >> 김동현\n",
      "\n",
      "전옥준 : 209,\n",
      "김동현 : 43\n",
      "\n",
      "오답!\n",
      "\n",
      "누구의 인스타그램 팔로워 수가 더 많을 까요?\n",
      "김태정 vs 김병민 >> 김병민\n",
      "\n",
      "김태정 : 140,\n",
      "김병민 : 85\n",
      "\n",
      "오답!\n",
      "\n",
      "누구의 인스타그램 팔로워 수가 더 많을 까요?\n",
      "윤현승 vs 김병민 >> 윤현승\n",
      "\n",
      "윤현승 : 689,\n",
      "김병민 : 85\n",
      "\n",
      "정답!\n",
      "\n",
      "누구의 인스타그램 팔로워 수가 더 많을 까요?\n",
      "심광희 vs 신진수 >> 심광희\n",
      "\n",
      "심광희 : 409,\n",
      "신진수 : 294\n",
      "\n",
      "정답!\n",
      "\n",
      "정답 수 : 3\n"
     ]
    }
   ],
   "source": [
    "import random as rd\n",
    "\n",
    "cor_cnt = 0;\n",
    "over_cnt = 5\n",
    "\n",
    "while over_cnt != 0 :\n",
    "    print(\"누구의 인스타그램 팔로워 수가 더 많을 까요?\")\n",
    "    vs = rd.sample(name,2)\n",
    "    a = vs[0]\n",
    "    b = vs[1]\n",
    "    \n",
    "    a_val = dic[a]\n",
    "    b_val = dic[b]\n",
    "    \n",
    "    ans = input(f\"{a} vs {b} >> \")\n",
    "    if \n",
    "    \n",
    "    over_cnt -= 1\n",
    "    print(f\"\"\"\n",
    "{a} : {a_val},\n",
    "{b} : {b_val}\n",
    "\"\"\")\n",
    "    if ans == a :        \n",
    "        if a_val > b_val :\n",
    "            cor_cnt+= 1\n",
    "            print(\"정답!\")\n",
    "            print()\n",
    "        else : \n",
    "            print(\"오답!\")\n",
    "            print()\n",
    "    elif ans == b:\n",
    "        if a_val < b_val :\n",
    "            cor_cnt+= 1\n",
    "            print(\"정답!\")\n",
    "            print()\n",
    "        else : \n",
    "            print(\"오답!\")\n",
    "            print()\n",
    "print(f\"정답 수 : {cor_cnt}\")"
   ]
  },
  {
   "cell_type": "code",
   "execution_count": null,
   "id": "d1f6ecbc",
   "metadata": {},
   "outputs": [],
   "source": []
  },
  {
   "cell_type": "code",
   "execution_count": null,
   "id": "1dfa96f0",
   "metadata": {},
   "outputs": [],
   "source": []
  },
  {
   "cell_type": "code",
   "execution_count": null,
   "id": "74376d5b",
   "metadata": {},
   "outputs": [],
   "source": []
  },
  {
   "cell_type": "code",
   "execution_count": null,
   "id": "ec2b0e94",
   "metadata": {},
   "outputs": [],
   "source": []
  },
  {
   "cell_type": "code",
   "execution_count": null,
   "id": "3c3c1bdd",
   "metadata": {},
   "outputs": [],
   "source": []
  },
  {
   "cell_type": "code",
   "execution_count": null,
   "id": "aa67e68a",
   "metadata": {},
   "outputs": [],
   "source": []
  },
  {
   "cell_type": "code",
   "execution_count": null,
   "id": "e065c882",
   "metadata": {},
   "outputs": [],
   "source": []
  },
  {
   "cell_type": "code",
   "execution_count": null,
   "id": "364404e2",
   "metadata": {},
   "outputs": [],
   "source": []
  },
  {
   "cell_type": "code",
   "execution_count": null,
   "id": "5893f690",
   "metadata": {},
   "outputs": [],
   "source": []
  },
  {
   "cell_type": "code",
   "execution_count": null,
   "id": "f325fe5e",
   "metadata": {},
   "outputs": [],
   "source": []
  },
  {
   "cell_type": "code",
   "execution_count": null,
   "id": "068b8cc4",
   "metadata": {},
   "outputs": [],
   "source": []
  },
  {
   "cell_type": "code",
   "execution_count": null,
   "id": "7cc2639e",
   "metadata": {},
   "outputs": [],
   "source": []
  },
  {
   "cell_type": "code",
   "execution_count": null,
   "id": "46268a45",
   "metadata": {},
   "outputs": [],
   "source": []
  },
  {
   "cell_type": "code",
   "execution_count": null,
   "id": "27ab5ecc",
   "metadata": {},
   "outputs": [],
   "source": []
  },
  {
   "cell_type": "code",
   "execution_count": null,
   "id": "4ff0924e",
   "metadata": {},
   "outputs": [],
   "source": []
  }
 ],
 "metadata": {
  "kernelspec": {
   "display_name": "Python 3 (ipykernel)",
   "language": "python",
   "name": "python3"
  },
  "language_info": {
   "codemirror_mode": {
    "name": "ipython",
    "version": 3
   },
   "file_extension": ".py",
   "mimetype": "text/x-python",
   "name": "python",
   "nbconvert_exporter": "python",
   "pygments_lexer": "ipython3",
   "version": "3.11.3"
  }
 },
 "nbformat": 4,
 "nbformat_minor": 5
}
