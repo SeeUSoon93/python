{
 "cells": [
  {
   "cell_type": "code",
   "execution_count": 1,
   "id": "b48c1046",
   "metadata": {},
   "outputs": [],
   "source": [
    "from art import logo"
   ]
  },
  {
   "cell_type": "code",
   "execution_count": 31,
   "id": "a29a807a",
   "metadata": {},
   "outputs": [],
   "source": [
    "def caeser(word,num,ans) :\n",
    "    kpw = ''\n",
    "    num = num%26\n",
    "    if ans == 'decode' :\n",
    "        num *= -1\n",
    "    for i in word :\n",
    "        if i in alphabet :                        \n",
    "            kpw = kpw + alphabet[alphabet.index(i)+num]\n",
    "    print(f\"{ans} : {kpw}\")"
   ]
  },
  {
   "cell_type": "code",
   "execution_count": 32,
   "id": "1cd15dc7",
   "metadata": {},
   "outputs": [],
   "source": [
    "alphabet = ['a', 'b', 'c', 'd', 'e', 'f', 'g', 'h', 'i', 'j', 'k', 'l', 'm', 'n', 'o', 'p', 'q', 'r', 's', 't', 'u', 'v', 'w', 'x', 'y', 'z']"
   ]
  },
  {
   "cell_type": "code",
   "execution_count": 34,
   "id": "30930a25",
   "metadata": {},
   "outputs": [
    {
     "name": "stdout",
     "output_type": "stream",
     "text": [
      "암호를 생성/해독 하실지 선택하세요 encode/decode >>encode\n",
      "단어를 입력하세요 >>hello soon\n",
      "숫자를 입력하세요 >>3\n",
      "encode : khoorvrrq\n",
      "프로그램을 종료하시겠습니까? y/ny\n",
      "프로그램을 종료합니다\n"
     ]
    }
   ],
   "source": [
    "play = True\n",
    "while play :\n",
    "    user_ans = input('암호를 생성/해독 하실지 선택하세요 encode/decode >>')\n",
    "    user_word = input('단어를 입력하세요 >>').lower()\n",
    "    user_num = int(input('숫자를 입력하세요 >>'))\n",
    "\n",
    "    caeser(user_word,user_num,user_ans)\n",
    "    \n",
    "    end = input('프로그램을 종료하시겠습니까? y/n')\n",
    "    if end == 'y' :\n",
    "        print('프로그램을 종료합니다')\n",
    "        play = False                "
   ]
  },
  {
   "cell_type": "code",
   "execution_count": null,
   "id": "d1bf2836",
   "metadata": {},
   "outputs": [],
   "source": []
  },
  {
   "cell_type": "code",
   "execution_count": null,
   "id": "e51e805e",
   "metadata": {},
   "outputs": [],
   "source": []
  },
  {
   "cell_type": "code",
   "execution_count": null,
   "id": "206162c7",
   "metadata": {},
   "outputs": [],
   "source": []
  },
  {
   "cell_type": "code",
   "execution_count": null,
   "id": "337838d3",
   "metadata": {},
   "outputs": [],
   "source": []
  },
  {
   "cell_type": "code",
   "execution_count": null,
   "id": "502e5292",
   "metadata": {},
   "outputs": [],
   "source": []
  },
  {
   "cell_type": "code",
   "execution_count": null,
   "id": "8533eb5c",
   "metadata": {},
   "outputs": [],
   "source": []
  },
  {
   "cell_type": "code",
   "execution_count": null,
   "id": "1d594178",
   "metadata": {},
   "outputs": [],
   "source": []
  },
  {
   "cell_type": "code",
   "execution_count": null,
   "id": "561a2399",
   "metadata": {},
   "outputs": [],
   "source": []
  },
  {
   "cell_type": "code",
   "execution_count": null,
   "id": "2d7fa84a",
   "metadata": {},
   "outputs": [],
   "source": []
  },
  {
   "cell_type": "code",
   "execution_count": null,
   "id": "2dd54a27",
   "metadata": {},
   "outputs": [],
   "source": []
  },
  {
   "cell_type": "code",
   "execution_count": null,
   "id": "c3462bef",
   "metadata": {},
   "outputs": [],
   "source": []
  },
  {
   "cell_type": "code",
   "execution_count": null,
   "id": "88da360d",
   "metadata": {},
   "outputs": [],
   "source": []
  },
  {
   "cell_type": "code",
   "execution_count": null,
   "id": "b2aaf3f7",
   "metadata": {},
   "outputs": [],
   "source": []
  },
  {
   "cell_type": "code",
   "execution_count": null,
   "id": "34944cbc",
   "metadata": {},
   "outputs": [],
   "source": []
  },
  {
   "cell_type": "code",
   "execution_count": null,
   "id": "4883edc4",
   "metadata": {},
   "outputs": [],
   "source": []
  },
  {
   "cell_type": "code",
   "execution_count": null,
   "id": "4df30f92",
   "metadata": {},
   "outputs": [],
   "source": []
  },
  {
   "cell_type": "code",
   "execution_count": null,
   "id": "860522d2",
   "metadata": {},
   "outputs": [],
   "source": []
  },
  {
   "cell_type": "code",
   "execution_count": null,
   "id": "fa4d99c9",
   "metadata": {},
   "outputs": [],
   "source": []
  },
  {
   "cell_type": "code",
   "execution_count": null,
   "id": "a5e05e16",
   "metadata": {},
   "outputs": [],
   "source": []
  },
  {
   "cell_type": "code",
   "execution_count": null,
   "id": "33a8262a",
   "metadata": {},
   "outputs": [],
   "source": []
  },
  {
   "cell_type": "code",
   "execution_count": null,
   "id": "e24ac4f2",
   "metadata": {},
   "outputs": [],
   "source": []
  }
 ],
 "metadata": {
  "kernelspec": {
   "display_name": "Python 3 (ipykernel)",
   "language": "python",
   "name": "python3"
  },
  "language_info": {
   "codemirror_mode": {
    "name": "ipython",
    "version": 3
   },
   "file_extension": ".py",
   "mimetype": "text/x-python",
   "name": "python",
   "nbconvert_exporter": "python",
   "pygments_lexer": "ipython3",
   "version": "3.11.3"
  }
 },
 "nbformat": 4,
 "nbformat_minor": 5
}
