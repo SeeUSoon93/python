{
 "cells": [
  {
   "cell_type": "markdown",
   "id": "394e488a",
   "metadata": {},
   "source": [
    "### 등급 매기는 프로그램"
   ]
  },
  {
   "cell_type": "code",
   "execution_count": 1,
   "id": "cfc7ce44",
   "metadata": {},
   "outputs": [
    {
     "name": "stdout",
     "output_type": "stream",
     "text": [
      "{'Harry': 'Exceeds Expectations', 'Ron': 'Acceptable', 'Hermione': 'Outstanding', 'Draco': 'Acceptable', 'Neville': 'fail'}\n"
     ]
    }
   ],
   "source": [
    "student_scores = {\n",
    "  \"Harry\": 81,\n",
    "  \"Ron\": 78,\n",
    "  \"Hermione\": 99, \n",
    "  \"Draco\": 74,\n",
    "  \"Neville\": 62,\n",
    "}\n",
    "student_grades = {}\n",
    "\n",
    "for i in student_scores.keys() :\n",
    "    if student_scores.get(i) >90 :\n",
    "        student_grades[i] = 'Outstanding'\n",
    "    elif student_scores.get(i) >80 :\n",
    "        student_grades[i] = 'Exceeds Expectations'\n",
    "    elif student_scores.get(i) >70 :\n",
    "        student_grades[i] = 'Acceptable'\n",
    "    elif student_scores.get(i) <71 :\n",
    "        student_grades[i] = 'fail'\n",
    "\n",
    "print(student_grades)"
   ]
  },
  {
   "cell_type": "markdown",
   "id": "6146e29a",
   "metadata": {},
   "source": [
    "### 리스트 속 딕셔너리"
   ]
  },
  {
   "cell_type": "code",
   "execution_count": 11,
   "id": "8d850d48",
   "metadata": {},
   "outputs": [],
   "source": [
    "def add_new_country(country,visits,cities) :\n",
    "    new = {}\n",
    "    new['country'] = country\n",
    "    new['visits'] = visits\n",
    "    new['cities'] = cities\n",
    "    travel_log.append(new)"
   ]
  },
  {
   "cell_type": "code",
   "execution_count": 12,
   "id": "6c51f76e",
   "metadata": {},
   "outputs": [
    {
     "name": "stdout",
     "output_type": "stream",
     "text": [
      "[{'country': 'France', 'visits': 12, 'cities': ['Paris', 'Lille', 'Dijon']}, {'country': 'Germany', 'visits': 5, 'cities': ['Berlin', 'Hamburg', 'Stuttgart']}, {'country': 'Russia', 'visits': 2, 'cities': ['Moscow', 'Saint Petersburg']}]\n"
     ]
    }
   ],
   "source": [
    "travel_log = [\n",
    "{\n",
    "  \"country\": \"France\",\n",
    "  \"visits\": 12,\n",
    "  \"cities\": [\"Paris\", \"Lille\", \"Dijon\"]\n",
    "},\n",
    "{\n",
    "  \"country\": \"Germany\",\n",
    "  \"visits\": 5,\n",
    "  \"cities\": [\"Berlin\", \"Hamburg\", \"Stuttgart\"]\n",
    "},\n",
    "]\n",
    "\n",
    "add_new_country(\"Russia\", 2, [\"Moscow\", \"Saint Petersburg\"])\n",
    "print(travel_log)"
   ]
  },
  {
   "cell_type": "markdown",
   "id": "c66a6b39",
   "metadata": {},
   "source": [
    "### 비밀 경매"
   ]
  },
  {
   "cell_type": "code",
   "execution_count": 23,
   "id": "175ff304",
   "metadata": {},
   "outputs": [
    {
     "name": "stdout",
     "output_type": "stream",
     "text": [
      "낙찰자는 $13000를 입찰한 최윤석입니다.\n"
     ]
    }
   ],
   "source": [
    "from IPython.display import clear_output \n",
    "\n",
    "bidding = {}\n",
    "bid_play = True\n",
    "\n",
    "def bid_win(bidding):\n",
    "    maxbid = 0\n",
    "    winner = \"\"\n",
    "    for i in bidding:\n",
    "        if bidding[i] > maxbid : \n",
    "            maxbid = bidding[i]\n",
    "            winner = i\n",
    "    print(f\"낙찰자는 ${maxbid}를 입찰한 {winner}입니다.\")\n",
    "\n",
    "while bid_play:\n",
    "    name = input(\"이름을 입력하세요 : \")\n",
    "    price = int(input(\"가격을 입력하세요 : \"))\n",
    "    bidding[name] = price\n",
    "    cont = input(\"더 등록하실 분이 계신가요? y/n\").lower()\n",
    "    if cont == \"y\":        \n",
    "        clear_output()\n",
    "    elif cont == \"n\":\n",
    "        bid_play = False\n",
    "        clear_output()\n",
    "        bid_win(bidding)"
   ]
  },
  {
   "cell_type": "code",
   "execution_count": null,
   "id": "3ab24d20",
   "metadata": {},
   "outputs": [],
   "source": []
  },
  {
   "cell_type": "code",
   "execution_count": null,
   "id": "b881d41e",
   "metadata": {},
   "outputs": [],
   "source": []
  },
  {
   "cell_type": "code",
   "execution_count": null,
   "id": "c0b74f42",
   "metadata": {},
   "outputs": [],
   "source": []
  },
  {
   "cell_type": "code",
   "execution_count": null,
   "id": "f36f0437",
   "metadata": {},
   "outputs": [],
   "source": []
  },
  {
   "cell_type": "code",
   "execution_count": null,
   "id": "daf4a902",
   "metadata": {},
   "outputs": [],
   "source": []
  },
  {
   "cell_type": "code",
   "execution_count": null,
   "id": "b37e2952",
   "metadata": {},
   "outputs": [],
   "source": []
  },
  {
   "cell_type": "code",
   "execution_count": null,
   "id": "dfc86ca7",
   "metadata": {},
   "outputs": [],
   "source": []
  },
  {
   "cell_type": "code",
   "execution_count": null,
   "id": "cd9b9d9c",
   "metadata": {},
   "outputs": [],
   "source": []
  },
  {
   "cell_type": "code",
   "execution_count": null,
   "id": "4e2da128",
   "metadata": {},
   "outputs": [],
   "source": []
  },
  {
   "cell_type": "code",
   "execution_count": null,
   "id": "c26804d3",
   "metadata": {},
   "outputs": [],
   "source": []
  }
 ],
 "metadata": {
  "kernelspec": {
   "display_name": "Python 3 (ipykernel)",
   "language": "python",
   "name": "python3"
  },
  "language_info": {
   "codemirror_mode": {
    "name": "ipython",
    "version": 3
   },
   "file_extension": ".py",
   "mimetype": "text/x-python",
   "name": "python",
   "nbconvert_exporter": "python",
   "pygments_lexer": "ipython3",
   "version": "3.11.3"
  }
 },
 "nbformat": 4,
 "nbformat_minor": 5
}
