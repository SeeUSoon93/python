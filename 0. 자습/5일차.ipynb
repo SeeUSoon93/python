{
 "cells": [
  {
   "cell_type": "markdown",
   "id": "3a6ea699",
   "metadata": {},
   "source": [
    "### 반복문 사용해서 평균 키 구하기"
   ]
  },
  {
   "cell_type": "code",
   "execution_count": 7,
   "id": "851377e3",
   "metadata": {},
   "outputs": [
    {
     "data": {
      "text/plain": [
       "164"
      ]
     },
     "execution_count": 7,
     "metadata": {},
     "output_type": "execute_result"
    }
   ],
   "source": [
    "student_heights = [180, 124, 165, 173, 189, 169, 146]\n",
    "sum = 0\n",
    "for i in student_heights :\n",
    "    sum += i \n",
    "avg = sum/len(student_heights)\n",
    "\n",
    "# 소수점 반올림\n",
    "round(avg)"
   ]
  },
  {
   "cell_type": "markdown",
   "id": "733982ec",
   "metadata": {},
   "source": [
    "### 반복문 사용해서 높은 점수 구하기"
   ]
  },
  {
   "cell_type": "code",
   "execution_count": 16,
   "id": "1e55dfc6",
   "metadata": {},
   "outputs": [
    {
     "name": "stdout",
     "output_type": "stream",
     "text": [
      "91\n"
     ]
    }
   ],
   "source": [
    "student_scores = [78, 65, 89, 86, 55, 91, 64, 89]\n",
    "max = student_scores[0]\n",
    "for i in student_scores :\n",
    "    if i > max :\n",
    "        max = i\n",
    "print(max)"
   ]
  },
  {
   "cell_type": "markdown",
   "id": "23568408",
   "metadata": {},
   "source": [
    "### 짝수 더하기"
   ]
  },
  {
   "cell_type": "code",
   "execution_count": 27,
   "id": "dced3577",
   "metadata": {},
   "outputs": [
    {
     "name": "stdout",
     "output_type": "stream",
     "text": [
      "2550\n"
     ]
    }
   ],
   "source": [
    "num_list = range(1,101)\n",
    "sum = 0;\n",
    "for i in num_list :\n",
    "    if i%2 == 0 :\n",
    "        sum += i\n",
    "print(sum)"
   ]
  },
  {
   "cell_type": "markdown",
   "id": "50c95545",
   "metadata": {},
   "source": [
    "### FizzBuzz "
   ]
  },
  {
   "cell_type": "code",
   "execution_count": 29,
   "id": "111cfadf",
   "metadata": {},
   "outputs": [
    {
     "name": "stdout",
     "output_type": "stream",
     "text": [
      "1\n",
      "2\n",
      "Fizz\n",
      "4\n",
      "Buzz\n",
      "Fizz\n",
      "7\n",
      "8\n",
      "Fizz\n",
      "Buzz\n",
      "11\n",
      "Fizz\n",
      "13\n",
      "14\n",
      "FizzBuzz\n",
      "16\n",
      "17\n",
      "Fizz\n",
      "19\n",
      "Buzz\n",
      "Fizz\n",
      "22\n",
      "23\n",
      "Fizz\n",
      "Buzz\n",
      "26\n",
      "Fizz\n",
      "28\n",
      "29\n",
      "FizzBuzz\n",
      "31\n",
      "32\n",
      "Fizz\n",
      "34\n",
      "Buzz\n",
      "Fizz\n",
      "37\n",
      "38\n",
      "Fizz\n",
      "Buzz\n",
      "41\n",
      "Fizz\n",
      "43\n",
      "44\n",
      "FizzBuzz\n",
      "46\n",
      "47\n",
      "Fizz\n",
      "49\n",
      "Buzz\n",
      "Fizz\n",
      "52\n",
      "53\n",
      "Fizz\n",
      "Buzz\n",
      "56\n",
      "Fizz\n",
      "58\n",
      "59\n",
      "FizzBuzz\n",
      "61\n",
      "62\n",
      "Fizz\n",
      "64\n",
      "Buzz\n",
      "Fizz\n",
      "67\n",
      "68\n",
      "Fizz\n",
      "Buzz\n",
      "71\n",
      "Fizz\n",
      "73\n",
      "74\n",
      "FizzBuzz\n",
      "76\n",
      "77\n",
      "Fizz\n",
      "79\n",
      "Buzz\n",
      "Fizz\n",
      "82\n",
      "83\n",
      "Fizz\n",
      "Buzz\n",
      "86\n",
      "Fizz\n",
      "88\n",
      "89\n",
      "FizzBuzz\n",
      "91\n",
      "92\n",
      "Fizz\n",
      "94\n",
      "Buzz\n",
      "Fizz\n",
      "97\n",
      "98\n",
      "Fizz\n",
      "Buzz\n"
     ]
    }
   ],
   "source": [
    "for i in num_list :\n",
    "    if i%3 == 0 and i%5 == 0 :\n",
    "        print('FizzBuzz')\n",
    "    elif i%3 == 0 :\n",
    "        print('Fizz')\n",
    "    elif i%5 == 0 :\n",
    "        print('Buzz')\n",
    "    else :\n",
    "        print(i)"
   ]
  },
  {
   "cell_type": "markdown",
   "id": "29831f57",
   "metadata": {},
   "source": [
    "### 비밀번호 생성기\n",
    "- 비밀번호로 몇 개의 문자를 원하는지 묻고\n",
    "- 기호 갯수 묻기\n",
    "- 숫자 개수 묻기\n",
    "- 나머지는 문자로\n",
    "- 비밀번호 출력"
   ]
  },
  {
   "cell_type": "code",
   "execution_count": 44,
   "id": "f8f062b5",
   "metadata": {},
   "outputs": [
    {
     "name": "stdout",
     "output_type": "stream",
     "text": [
      "비밀번호 생성기\n",
      "몇 글자의 비밀번호를 원합니까?\n",
      "12\n",
      "몇 글자의 특수문자를 원합니까?\n",
      "3\n",
      "몇 글자의 숫자를 원합니까?\n",
      "5\n",
      "Cp(J%oZyYbbL+II\n"
     ]
    }
   ],
   "source": [
    "import random\n",
    "letters = ['a', 'b', 'c', 'd', 'e', 'f', 'g', 'h', 'i', 'j', 'k', 'l', 'm', 'n', 'o', 'p', 'q', 'r', 's', 't', 'u', 'v', 'w', 'x', 'y', 'z', 'A', 'B', 'C', 'D', 'E', 'F', 'G', 'H', 'I', 'J', 'K', 'L', 'M', 'N', 'O', 'P', 'Q', 'R', 'S', 'T', 'U', 'V', 'W', 'X', 'Y', 'Z']\n",
    "numbers = ['0', '1', '2', '3', '4', '5', '6', '7', '8', '9']\n",
    "symbols = ['!', '#', '$', '%', '&', '(', ')', '*', '+']\n",
    "\n",
    "print(\"비밀번호 생성기\")\n",
    "let= int(input(\"몇 글자의 비밀번호를 원합니까?\\n\")) \n",
    "sym = int(input(f\"몇 글자의 특수문자를 원합니까?\\n\"))\n",
    "num = int(input(f\"몇 글자의 숫자를 원합니까?\\n\"))\n",
    "num = num -let-sym\n",
    "\n",
    "pw_list = []\n",
    "\n",
    "# choice함수 -> 리스트에서 랜덤으로 요소를 가져옴 \n",
    "for i in range(1,let+1) :\n",
    "    pw_list.append(random.choice(letters))\n",
    "for i in range(1,num+1) :\n",
    "    pw_list.append(random.choice(numbers))\n",
    "for i in range(1,sym+1) :\n",
    "    pw_list.append(random.choice(symbols))\n",
    "\n",
    "# shuffle함수 -> 리스트 배열 순서를 랜덤으로 섞음\n",
    "random.shuffle(pw_list)\n",
    "\n",
    "pw = ''\n",
    "for i in pw_list :\n",
    "    pw += i\n",
    "    \n",
    "print(pw)"
   ]
  },
  {
   "cell_type": "code",
   "execution_count": null,
   "id": "dc5413cd",
   "metadata": {},
   "outputs": [],
   "source": []
  },
  {
   "cell_type": "code",
   "execution_count": null,
   "id": "03e40fb0",
   "metadata": {},
   "outputs": [],
   "source": []
  },
  {
   "cell_type": "code",
   "execution_count": null,
   "id": "400827ee",
   "metadata": {},
   "outputs": [],
   "source": []
  },
  {
   "cell_type": "code",
   "execution_count": null,
   "id": "2b7fe03b",
   "metadata": {},
   "outputs": [],
   "source": []
  },
  {
   "cell_type": "code",
   "execution_count": null,
   "id": "bd83e64a",
   "metadata": {},
   "outputs": [],
   "source": []
  },
  {
   "cell_type": "code",
   "execution_count": null,
   "id": "42a836a4",
   "metadata": {},
   "outputs": [],
   "source": []
  },
  {
   "cell_type": "code",
   "execution_count": null,
   "id": "a59d5395",
   "metadata": {},
   "outputs": [],
   "source": []
  },
  {
   "cell_type": "code",
   "execution_count": null,
   "id": "17dcb5e4",
   "metadata": {},
   "outputs": [],
   "source": []
  },
  {
   "cell_type": "code",
   "execution_count": null,
   "id": "f8b4ba35",
   "metadata": {},
   "outputs": [],
   "source": []
  },
  {
   "cell_type": "code",
   "execution_count": null,
   "id": "393bf27f",
   "metadata": {},
   "outputs": [],
   "source": []
  },
  {
   "cell_type": "code",
   "execution_count": null,
   "id": "95d63f56",
   "metadata": {},
   "outputs": [],
   "source": []
  },
  {
   "cell_type": "code",
   "execution_count": null,
   "id": "aa86ea12",
   "metadata": {},
   "outputs": [],
   "source": []
  },
  {
   "cell_type": "code",
   "execution_count": null,
   "id": "6d1b02b6",
   "metadata": {},
   "outputs": [],
   "source": []
  },
  {
   "cell_type": "code",
   "execution_count": null,
   "id": "d117f9b8",
   "metadata": {},
   "outputs": [],
   "source": []
  },
  {
   "cell_type": "code",
   "execution_count": null,
   "id": "d1704a6b",
   "metadata": {},
   "outputs": [],
   "source": []
  }
 ],
 "metadata": {
  "kernelspec": {
   "display_name": "Python 3 (ipykernel)",
   "language": "python",
   "name": "python3"
  },
  "language_info": {
   "codemirror_mode": {
    "name": "ipython",
    "version": 3
   },
   "file_extension": ".py",
   "mimetype": "text/x-python",
   "name": "python",
   "nbconvert_exporter": "python",
   "pygments_lexer": "ipython3",
   "version": "3.11.3"
  }
 },
 "nbformat": 4,
 "nbformat_minor": 5
}
