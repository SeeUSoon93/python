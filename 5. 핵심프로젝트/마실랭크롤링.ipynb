{
 "cells": [
  {
   "cell_type": "code",
   "execution_count": 1,
   "id": "ce239459",
   "metadata": {},
   "outputs": [],
   "source": [
    "# 웹브라우저를 제어\n",
    "from selenium import webdriver as wb\n",
    "# 웹에게 값을 입력하기 위한 라이브러리\n",
    "from selenium.webdriver.common.keys import Keys\n",
    "# html문서에서 태그와 선택자의 위치를 찾기 위한 라이브러리\n",
    "from selenium.webdriver.common.by import By\n",
    "# 컴퓨터가 이해하기 쉬운 객체로 변환\n",
    "from bs4 import BeautifulSoup as bs\n",
    "# DataFrame\n",
    "import pandas as pd\n",
    "# 쉬는시간부여\n",
    "import time\n",
    "# 파일이나 폴더를 생성해주는 라이브러리(파일 시스템 라이브러리)\n",
    "import os\n",
    "# 이미지 경로를 파일로 변환해주는 라이브러리\n",
    "from urllib.request import urlretrieve as url"
   ]
  },
  {
   "cell_type": "code",
   "execution_count": null,
   "id": "eef8df95",
   "metadata": {},
   "outputs": [],
   "source": [
    "driver = wb.Chrome()\n",
    "\n",
    "recipeName = []\n",
    "cockBase = []\n",
    "\n",
    "for i in range(0,10) :\n",
    "    driver.get('https://www.gmarket.co.kr/n/best')\n",
    "    link = driver.find_elements(By.CLASS_NAME,'image__lazy.image__load')\n",
    "    link[i].click()\n",
    "    soup = bs(driver.page_source,'lxml')\n",
    "    \n",
    "    name = soup.select_one('h1.itemtit')\n",
    "    price = soup.select_one('strong.price_real')\n",
    "    \n",
    "    category = soup.select_one('div.location-navi li>a')\n",
    "    \n",
    "    product_name.append(name.text)\n",
    "    product_price.append(price.text)\n",
    "    product_category.append(category.text)\n",
    "    rank.append(i+1)\n",
    "    \n",
    "driver.close()\n",
    "\n",
    "dic = {'상품 이름':product_name, '가격':product_price, '카테고리': product_category}\n",
    "re_df = pd.DataFrame(dic,index = rank)"
   ]
  },
  {
   "cell_type": "code",
   "execution_count": null,
   "id": "632d9271",
   "metadata": {},
   "outputs": [],
   "source": []
  },
  {
   "cell_type": "code",
   "execution_count": null,
   "id": "92ddf121",
   "metadata": {},
   "outputs": [],
   "source": []
  },
  {
   "cell_type": "code",
   "execution_count": null,
   "id": "99e2eb7f",
   "metadata": {},
   "outputs": [],
   "source": []
  },
  {
   "cell_type": "code",
   "execution_count": null,
   "id": "2a32cdf7",
   "metadata": {},
   "outputs": [],
   "source": []
  },
  {
   "cell_type": "code",
   "execution_count": null,
   "id": "9bb74e84",
   "metadata": {},
   "outputs": [],
   "source": []
  },
  {
   "cell_type": "code",
   "execution_count": null,
   "id": "aa07c40c",
   "metadata": {},
   "outputs": [],
   "source": []
  },
  {
   "cell_type": "code",
   "execution_count": null,
   "id": "754df279",
   "metadata": {},
   "outputs": [],
   "source": []
  },
  {
   "cell_type": "code",
   "execution_count": null,
   "id": "3af3e779",
   "metadata": {},
   "outputs": [],
   "source": []
  },
  {
   "cell_type": "code",
   "execution_count": null,
   "id": "92279f64",
   "metadata": {},
   "outputs": [],
   "source": []
  }
 ],
 "metadata": {
  "kernelspec": {
   "display_name": "Python 3 (ipykernel)",
   "language": "python",
   "name": "python3"
  },
  "language_info": {
   "codemirror_mode": {
    "name": "ipython",
    "version": 3
   },
   "file_extension": ".py",
   "mimetype": "text/x-python",
   "name": "python",
   "nbconvert_exporter": "python",
   "pygments_lexer": "ipython3",
   "version": "3.11.3"
  }
 },
 "nbformat": 4,
 "nbformat_minor": 5
}
