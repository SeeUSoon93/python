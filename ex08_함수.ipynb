{
 "cells": [
  {
   "cell_type": "markdown",
   "id": "ff4c2fbf",
   "metadata": {},
   "source": [
    "## 함수(function)\n",
    "- 함수란?\n",
    "    - 호출 될 때 특정 기능을 실행하는 재사용 가능한 코드블록\n",
    "- 함수의 목적\n",
    "    - 반복적인 프로그래밍을 피할 수 있다.\n",
    "    - 모듈화(코드모음)로 인해 전체적인 코드의 가독성이 좋아진다.\n",
    "    - 프로그램 문제가 발생하거나 기능의 변경이 필요할 때 유지보수가 용이하다.   "
   ]
  },
  {
   "cell_type": "code",
   "execution_count": 2,
   "id": "ec3757eb",
   "metadata": {},
   "outputs": [],
   "source": [
    "# 함수 정의!\n",
    "def number_sum(num1, num2) :\n",
    "    result = num1 +num2\n",
    "    return result"
   ]
  },
  {
   "cell_type": "code",
   "execution_count": 2,
   "id": "0282dc22",
   "metadata": {},
   "outputs": [
    {
     "name": "stdout",
     "output_type": "stream",
     "text": [
      "13\n"
     ]
    }
   ],
   "source": [
    "n1 = 3\n",
    "n2 = 10\n",
    "print(number_sum(n1,n2))"
   ]
  },
  {
   "cell_type": "code",
   "execution_count": 4,
   "id": "89e2c661",
   "metadata": {},
   "outputs": [],
   "source": [
    "def number_sub(num1, num2) :\n",
    "    if num1 > num2 :\n",
    "        result = num1 - num2\n",
    "    else :\n",
    "        result = num2 - num1\n",
    "    return result"
   ]
  },
  {
   "cell_type": "code",
   "execution_count": 6,
   "id": "2ab556d0",
   "metadata": {},
   "outputs": [
    {
     "name": "stdout",
     "output_type": "stream",
     "text": [
      "첫 번째 정수 입력>> 10\n",
      "두 번째 정수 입력>> 3\n",
      "7\n"
     ]
    }
   ],
   "source": [
    "n1 = int(input('첫 번째 정수 입력>> '))\n",
    "n2 = int(input('두 번째 정수 입력>> '))\n",
    "print(number_sub(n1,n2))"
   ]
  },
  {
   "cell_type": "markdown",
   "id": "69fba80e",
   "metadata": {},
   "source": [
    "### 독스트링(docstring)\n",
    "- 함수의 설명을 작성 → Shift + Tab 으로 확인 가능\n",
    "- 독스트링 정의하는 방법 : \"\"\"설명문 작성\"\"\"\n"
   ]
  },
  {
   "cell_type": "code",
   "execution_count": 3,
   "id": "daa68820",
   "metadata": {},
   "outputs": [],
   "source": [
    "def cal(num1, num2, op) :\n",
    "    if op == '+' :\n",
    "        result = num1 + num2\n",
    "    elif op == '-' :\n",
    "        if num1 > num2 :\n",
    "            result = num1 - num2\n",
    "        else :\n",
    "            result = num2 - num1\n",
    "    else :\n",
    "        result = '잘못입력했습니다.'\n",
    "    return result"
   ]
  },
  {
   "cell_type": "code",
   "execution_count": 14,
   "id": "30b06bfb",
   "metadata": {},
   "outputs": [
    {
     "name": "stdout",
     "output_type": "stream",
     "text": [
      "첫 번째 정수 입력 >> 1\n",
      "두 번째 정수 입력 >> 4\n",
      "연산자 입력(+,-) >> *\n",
      "결과 : 잘못입력했습니다.\n"
     ]
    }
   ],
   "source": [
    "n1 = int(input('첫 번째 정수 입력 >> '))\n",
    "n2 = int(input('두 번째 정수 입력 >> '))\n",
    "op = input('연산자 입력(+,-) >> ')\n",
    "result = cal(n1,n2,op)\n",
    "print(f\"결과 : {result}\")"
   ]
  },
  {
   "cell_type": "markdown",
   "id": "4fa8002a",
   "metadata": {},
   "source": [
    "### 함수 매개변수 - 가변 매개변수(*)\n",
    "- 함수 호출 시 몇 개의 인수가 전달될 지 알 수 없다면, 사용자가 직접 매개변수의 개수를 정할 수 있도록 선언"
   ]
  },
  {
   "cell_type": "code",
   "execution_count": 4,
   "id": "caf0ff61",
   "metadata": {},
   "outputs": [],
   "source": [
    "# 가변 매개변수로 함수를 정의\n",
    "def add(*args) :\n",
    "    result = sum(args)\n",
    "    return result"
   ]
  },
  {
   "cell_type": "code",
   "execution_count": 5,
   "id": "0db52ef7",
   "metadata": {},
   "outputs": [
    {
     "data": {
      "text/plain": [
       "135"
      ]
     },
     "execution_count": 5,
     "metadata": {},
     "output_type": "execute_result"
    }
   ],
   "source": [
    "add(8,3,1,56,67)"
   ]
  },
  {
   "cell_type": "code",
   "execution_count": 11,
   "id": "ce25d9c2",
   "metadata": {},
   "outputs": [
    {
     "name": "stdout",
     "output_type": "stream",
     "text": [
      "9\n"
     ]
    }
   ],
   "source": []
  },
  {
   "cell_type": "code",
   "execution_count": null,
   "id": "fff8088b",
   "metadata": {},
   "outputs": [],
   "source": []
  },
  {
   "cell_type": "code",
   "execution_count": null,
   "id": "57b436a7",
   "metadata": {},
   "outputs": [],
   "source": []
  },
  {
   "cell_type": "code",
   "execution_count": null,
   "id": "64bb24ee",
   "metadata": {},
   "outputs": [],
   "source": []
  },
  {
   "cell_type": "code",
   "execution_count": null,
   "id": "e8043c7c",
   "metadata": {},
   "outputs": [],
   "source": []
  },
  {
   "cell_type": "code",
   "execution_count": null,
   "id": "828668dd",
   "metadata": {},
   "outputs": [],
   "source": []
  },
  {
   "cell_type": "code",
   "execution_count": null,
   "id": "bb57972d",
   "metadata": {},
   "outputs": [],
   "source": []
  },
  {
   "cell_type": "code",
   "execution_count": null,
   "id": "dc2ec3ab",
   "metadata": {},
   "outputs": [],
   "source": []
  },
  {
   "cell_type": "code",
   "execution_count": null,
   "id": "93bf83f6",
   "metadata": {},
   "outputs": [],
   "source": []
  },
  {
   "cell_type": "code",
   "execution_count": null,
   "id": "0240480f",
   "metadata": {},
   "outputs": [],
   "source": []
  },
  {
   "cell_type": "code",
   "execution_count": null,
   "id": "0d017b88",
   "metadata": {},
   "outputs": [],
   "source": []
  },
  {
   "cell_type": "code",
   "execution_count": null,
   "id": "c21582be",
   "metadata": {},
   "outputs": [],
   "source": []
  },
  {
   "cell_type": "code",
   "execution_count": null,
   "id": "6ba56967",
   "metadata": {},
   "outputs": [],
   "source": []
  },
  {
   "cell_type": "code",
   "execution_count": null,
   "id": "f8f512b7",
   "metadata": {},
   "outputs": [],
   "source": []
  }
 ],
 "metadata": {
  "kernelspec": {
   "display_name": "Python 3 (ipykernel)",
   "language": "python",
   "name": "python3"
  },
  "language_info": {
   "codemirror_mode": {
    "name": "ipython",
    "version": 3
   },
   "file_extension": ".py",
   "mimetype": "text/x-python",
   "name": "python",
   "nbconvert_exporter": "python",
   "pygments_lexer": "ipython3",
   "version": "3.11.3"
  }
 },
 "nbformat": 4,
 "nbformat_minor": 5
}
