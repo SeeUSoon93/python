{
 "cells": [
  {
   "cell_type": "markdown",
   "id": "848a788d",
   "metadata": {},
   "source": [
    "## 1. pandas\n",
    "- pannel data의 약자\n",
    "- 1. 다양한 파일 형식 지원 가능 → csv, excel, SQL, JSON 등등\n",
    "- 2. 데이터 정재와 조작 특화된 라이브러리\n",
    "- 3. DataFrame과 Series는 기본적으로 np.array(ndarray) 구조\n",
    "    - numpy 라이브러리 호환 잘됨    "
   ]
  },
  {
   "cell_type": "markdown",
   "id": "7c998d2d",
   "metadata": {},
   "source": [
    "### 1.1 pandas에서 제공하는 데이터 구조\n",
    "- Series : 1차원 배열 형태의 데이터 구조\n",
    "    - index + value\n",
    "- DataFrame : 2차원 배열 형태의 데이터 구조\n",
    "    - Series들의 모음\n",
    "    - column(열) + row(행) 구조\n",
    "    - 서로 다른 자료형을 저장하여 활용할 수 있다\n",
    "\n",
    "- 우리 궁극적인 목적은 \"데이터 분석\"이다!!"
   ]
  },
  {
   "cell_type": "code",
   "execution_count": 472,
   "id": "0e7b49c2",
   "metadata": {},
   "outputs": [],
   "source": [
    "import numpy as np\n",
    "import pandas as pd"
   ]
  },
  {
   "cell_type": "markdown",
   "id": "9cbe8255",
   "metadata": {},
   "source": [
    "### 1 Series 다루기"
   ]
  },
  {
   "cell_type": "markdown",
   "id": "dd8eb1f7",
   "metadata": {},
   "source": [
    "### 1.1 Series 생성"
   ]
  },
  {
   "cell_type": "code",
   "execution_count": 473,
   "id": "b420fa5f",
   "metadata": {
    "scrolled": true
   },
   "outputs": [
    {
     "name": "stdout",
     "output_type": "stream",
     "text": [
      "0    9668465\n",
      "1    3391946\n",
      "2    2942828\n",
      "3    1450062\n",
      "dtype: int64\n",
      "\n",
      "서울    9668465\n",
      "부산    3391946\n",
      "인천    2942828\n",
      "광주    1450062\n",
      "dtype: int64\n"
     ]
    }
   ],
   "source": [
    "# Series 생성\n",
    "pop = pd.Series([9668465,3391946,2942828,1450062])\n",
    "print(pop, end='\\n\\n')\n",
    "\n",
    "# index 명 지어주기\n",
    "# pd.Series([시퀀스 자료구조, index=['인덱스명1','인덱스명2'...]])\n",
    "pop = pd.Series([9668465,3391946,2942828,1450062],\n",
    "                index=['서울','부산','인천','광주'])\n",
    "print(pop)"
   ]
  },
  {
   "cell_type": "code",
   "execution_count": 474,
   "id": "ad21e801",
   "metadata": {},
   "outputs": [
    {
     "data": {
      "text/plain": [
       "True"
      ]
     },
     "execution_count": 474,
     "metadata": {},
     "output_type": "execute_result"
    }
   ],
   "source": [
    "# index 명을 부여해도 index 값이 사라지지는 않는다\n",
    "pop[0] == pop['서울']"
   ]
  },
  {
   "cell_type": "code",
   "execution_count": 475,
   "id": "304b4861",
   "metadata": {},
   "outputs": [
    {
     "name": "stdout",
     "output_type": "stream",
     "text": [
      "[9668465 3391946 2942828 1450062]\n",
      "\n",
      "<PandasArray>\n",
      "[9668465, 3391946, 2942828, 1450062]\n",
      "Length: 4, dtype: int64\n"
     ]
    }
   ],
   "source": [
    "# Series 값 확인\n",
    "print(pop.values, end='\\n\\n')\n",
    "print(pop.array)"
   ]
  },
  {
   "cell_type": "code",
   "execution_count": 476,
   "id": "581a6d03",
   "metadata": {},
   "outputs": [
    {
     "data": {
      "text/plain": [
       "Index(['서울', '부산', '인천', '광주'], dtype='object')"
      ]
     },
     "execution_count": 476,
     "metadata": {},
     "output_type": "execute_result"
    }
   ],
   "source": [
    "# Series index 확인\n",
    "pop.index"
   ]
  },
  {
   "cell_type": "code",
   "execution_count": 477,
   "id": "9b548160",
   "metadata": {},
   "outputs": [
    {
     "name": "stdout",
     "output_type": "stream",
     "text": [
      "int64\n",
      "<class 'pandas.core.series.Series'>\n"
     ]
    }
   ],
   "source": [
    "# Series 데이터 타입 확인\n",
    "print(pop.dtype) # 요소들의 타입 확인\n",
    "print(type(pop)) # Series 타입 확인"
   ]
  },
  {
   "cell_type": "code",
   "execution_count": 478,
   "id": "42c7696a",
   "metadata": {},
   "outputs": [],
   "source": [
    "# Series에 이름 지정\n",
    "# Series에 큰 타이틀 이름 지정\n",
    "\n",
    "pop.name = '인구'\n",
    "\n",
    "#Series에 index 이름 지정\n",
    "pop.index.name = '지역'"
   ]
  },
  {
   "cell_type": "code",
   "execution_count": 479,
   "id": "35646289",
   "metadata": {},
   "outputs": [
    {
     "data": {
      "text/plain": [
       "지역\n",
       "서울    9668465\n",
       "부산    3391946\n",
       "인천    2942828\n",
       "광주    1450062\n",
       "Name: 인구, dtype: int64"
      ]
     },
     "execution_count": 479,
     "metadata": {},
     "output_type": "execute_result"
    }
   ],
   "source": [
    "pop"
   ]
  },
  {
   "cell_type": "markdown",
   "id": "10c7e104",
   "metadata": {},
   "source": [
    "### 1.2 Series 인덱싱, 슬라이싱\n",
    "- 인덱싱 : 1개의 요소를 가리키는 것\n",
    "= 슬라이싱 : 여러개의 요소를 잘라내는 것"
   ]
  },
  {
   "cell_type": "code",
   "execution_count": 480,
   "id": "80b46f7e",
   "metadata": {},
   "outputs": [
    {
     "name": "stdout",
     "output_type": "stream",
     "text": [
      "3391946\n",
      "3391946\n",
      "지역\n",
      "서울    9668465\n",
      "광주    1450062\n",
      "부산    3391946\n",
      "Name: 인구, dtype: int64\n",
      "지역\n",
      "서울    9668465\n",
      "광주    1450062\n",
      "부산    3391946\n",
      "Name: 인구, dtype: int64\n"
     ]
    }
   ],
   "source": [
    "print(pop[1]) # 정수 인덱싱\n",
    "print(pop['부산']) # index 병멸 인데싱\n",
    "print(pop[[0,3,1]]) # 다중 인덱싱(정수)\n",
    "print(pop[['서울','광주','부산']]) #다중 인덱싱(정수)"
   ]
  },
  {
   "cell_type": "markdown",
   "id": "863744a7",
   "metadata": {},
   "source": [
    "### 1.3 \"iloc\"와 \"loc\"속성\n",
    "    - iloc : integer location(정수 위치) → \"행번호\"를 가지고 값을 인덱싱 하는 방법\n",
    "    - loc : location(위치) →\"index 별명\"을 가지고 값을 인덱싱, 슬라이싱 하는 방법"
   ]
  },
  {
   "cell_type": "code",
   "execution_count": 481,
   "id": "bf10fae0",
   "metadata": {},
   "outputs": [
    {
     "name": "stdout",
     "output_type": "stream",
     "text": [
      "9668465\n",
      "지역\n",
      "서울    9668465\n",
      "부산    3391946\n",
      "Name: 인구, dtype: int64\n"
     ]
    }
   ],
   "source": [
    "print(pop.iloc[0])\n",
    "print(pop.iloc[0:2])"
   ]
  },
  {
   "cell_type": "markdown",
   "id": "6d724e5a",
   "metadata": {},
   "source": [
    "### 1.4 Series Boolean 인덱싱\n",
    "- 특정 조건을 만족하는 값들의 인덱싱\n",
    "- Series[Boolean mask]"
   ]
  },
  {
   "cell_type": "code",
   "execution_count": 484,
   "id": "a991fa81",
   "metadata": {},
   "outputs": [
    {
     "data": {
      "text/plain": [
       "지역\n",
       "서울    9668465\n",
       "부산    3391946\n",
       "Name: 인구, dtype: int64"
      ]
     },
     "execution_count": 484,
     "metadata": {},
     "output_type": "execute_result"
    }
   ],
   "source": [
    "pop[pop >= 3000000]"
   ]
  },
  {
   "cell_type": "code",
   "execution_count": 500,
   "id": "28a05cad",
   "metadata": {},
   "outputs": [],
   "source": [
    "# 추가\n",
    "pop['대구'] = 2465000\n",
    "\n",
    "# 수정\n",
    "pop['광주'] = 1501000\n",
    "\n",
    "# 삭제\n",
    "del pop['인천']"
   ]
  },
  {
   "cell_type": "code",
   "execution_count": 501,
   "id": "5353a0f4",
   "metadata": {},
   "outputs": [
    {
     "name": "stdout",
     "output_type": "stream",
     "text": [
      "지역\n",
      "서울    9668465\n",
      "부산    3391946\n",
      "광주    1501000\n",
      "대구    2465000\n",
      "Name: 인구, dtype: int64\n"
     ]
    }
   ],
   "source": [
    "print(pop)"
   ]
  },
  {
   "cell_type": "markdown",
   "id": "b448f615",
   "metadata": {},
   "source": [
    "## Series Boolean 인덱싱, 연산 실습!\n",
    "- average monthly wage : 월 평균임금\n",
    "- average daily wage : 일 평균임금"
   ]
  },
  {
   "cell_type": "code",
   "execution_count": 489,
   "id": "cd5d1d9b",
   "metadata": {},
   "outputs": [
    {
     "data": {
      "text/plain": [
       "IT기획자      8644000\n",
       "데이터분석가     7158000\n",
       "응용SW개발자    6426000\n",
       "IT품질관리자    8294000\n",
       "dtype: int64"
      ]
     },
     "execution_count": 489,
     "metadata": {},
     "output_type": "execute_result"
    }
   ],
   "source": [
    "data = {'IT기획자':8644000, '데이터분석가':7158000,\n",
    "       '응용SW개발자':6426000, 'IT품질관리자':8294000}\n",
    "\n",
    "# 딕셔너리 자료형을 Series로 변환\n",
    "sw_M_wage = pd.Series(data)\n",
    "sw_M_wage"
   ]
  },
  {
   "cell_type": "code",
   "execution_count": 490,
   "id": "9802f910",
   "metadata": {},
   "outputs": [
    {
     "data": {
      "text/plain": [
       "IT기획자        9543000\n",
       "데이터분석가      11226000\n",
       "시스템SW개발자     5100000\n",
       "IT마케터        7801000\n",
       "dtype: int64"
      ]
     },
     "execution_count": 490,
     "metadata": {},
     "output_type": "execute_result"
    }
   ],
   "source": [
    "data2 = {'IT기획자':9543000, '데이터분석가':11226000,\n",
    "       '시스템SW개발자':5100000, 'IT마케터':7801000}\n",
    "\n",
    "sw_M_wage2 = pd.Series(data2)\n",
    "sw_M_wage2"
   ]
  },
  {
   "cell_type": "code",
   "execution_count": 491,
   "id": "08e604cb",
   "metadata": {},
   "outputs": [
    {
     "data": {
      "text/plain": [
       "IT기획자      375826\n",
       "데이터분석가     311217\n",
       "응용SW개발자    279391\n",
       "IT품질관리자    360608\n",
       "dtype: int32"
      ]
     },
     "execution_count": 491,
     "metadata": {},
     "output_type": "execute_result"
    }
   ],
   "source": [
    "# 일 평균임금 계산\n",
    "# 실제로는 3개월 간의 총 임금을 그 기간의 총 일수로 나눠서 산정\n",
    "# 대충 일한 일 수로만 계산해보자(23일)\n",
    "\n",
    "sw_D_wage = (sw_M_wage/23).astype(int)\n",
    "sw_D_wage"
   ]
  },
  {
   "cell_type": "code",
   "execution_count": 492,
   "id": "40a58cdf",
   "metadata": {},
   "outputs": [
    {
     "data": {
      "text/plain": [
       "IT기획자        899000.0\n",
       "IT마케터             NaN\n",
       "IT품질관리자           NaN\n",
       "데이터분석가      4068000.0\n",
       "시스템SW개발자          NaN\n",
       "응용SW개발자           NaN\n",
       "dtype: float64"
      ]
     },
     "execution_count": 492,
     "metadata": {},
     "output_type": "execute_result"
    }
   ],
   "source": [
    "# 두 회사의 차이를 비교하기 위해 연산 실행\n",
    "# Series끼리의 연산(가능하나 inner join으로만 나오게 된다)\n",
    "# NaN : 결측치(비어있는 값)\n",
    "\n",
    "wage_minus = sw_M_wage2 - sw_M_wage\n",
    "wage_minus"
   ]
  },
  {
   "cell_type": "code",
   "execution_count": 493,
   "id": "ffd88226",
   "metadata": {},
   "outputs": [
    {
     "data": {
      "text/plain": [
       "IT기획자      899000\n",
       "데이터분석가    4068000\n",
       "dtype: int32"
      ]
     },
     "execution_count": 493,
     "metadata": {},
     "output_type": "execute_result"
    }
   ],
   "source": [
    "# 비어있지 않는 데이터만 보는 경우\n",
    "# notnull()\n",
    "wage_minus[wage_minus.notnull()].astype(int)"
   ]
  },
  {
   "cell_type": "code",
   "execution_count": 494,
   "id": "804d5b56",
   "metadata": {},
   "outputs": [
    {
     "data": {
      "text/plain": [
       "IT마케터      NaN\n",
       "IT품질관리자    NaN\n",
       "시스템SW개발자   NaN\n",
       "응용SW개발자    NaN\n",
       "dtype: float64"
      ]
     },
     "execution_count": 494,
     "metadata": {},
     "output_type": "execute_result"
    }
   ],
   "source": [
    "# 비어있는 데이터만 보는 경우\n",
    "# isnull()\n",
    "wage_minus[wage_minus.isnull()]"
   ]
  },
  {
   "cell_type": "markdown",
   "id": "3a0c8f28",
   "metadata": {},
   "source": [
    "### 1.5 Series 데이터 추가, 수정, 삭제"
   ]
  },
  {
   "cell_type": "code",
   "execution_count": 495,
   "id": "ccf3575b",
   "metadata": {},
   "outputs": [
    {
     "data": {
      "text/plain": [
       "IT기획자        9543000\n",
       "데이터분석가      11226000\n",
       "시스템SW개발자     5100000\n",
       "IT마케터        7801000\n",
       "dtype: int64"
      ]
     },
     "execution_count": 495,
     "metadata": {},
     "output_type": "execute_result"
    }
   ],
   "source": [
    "# 수정\n",
    "sw_M_wage2"
   ]
  },
  {
   "cell_type": "code",
   "execution_count": 496,
   "id": "925e05e5",
   "metadata": {},
   "outputs": [
    {
     "data": {
      "text/plain": [
       "IT기획자        9742000\n",
       "데이터분석가      11226000\n",
       "시스템SW개발자     5100000\n",
       "IT마케터        7801000\n",
       "dtype: int64"
      ]
     },
     "execution_count": 496,
     "metadata": {},
     "output_type": "execute_result"
    }
   ],
   "source": [
    "sw_M_wage2['IT기획자'] = 9742000\n",
    "sw_M_wage2"
   ]
  },
  {
   "cell_type": "code",
   "execution_count": 497,
   "id": "615f5294",
   "metadata": {},
   "outputs": [
    {
     "data": {
      "text/plain": [
       "IT기획자        9742000\n",
       "데이터분석가      11226000\n",
       "시스템SW개발자     5100000\n",
       "IT마케터        7801000\n",
       "IT컨설턴트       9805000\n",
       "dtype: int64"
      ]
     },
     "execution_count": 497,
     "metadata": {},
     "output_type": "execute_result"
    }
   ],
   "source": [
    "# 추가\n",
    "sw_M_wage2['IT컨설턴트'] = 9805000\n",
    "sw_M_wage2"
   ]
  },
  {
   "cell_type": "code",
   "execution_count": 498,
   "id": "935cf32c",
   "metadata": {},
   "outputs": [],
   "source": [
    "# 삭제\n",
    "del sw_M_wage2['시스템SW개발자']"
   ]
  },
  {
   "cell_type": "code",
   "execution_count": 499,
   "id": "939c4945",
   "metadata": {},
   "outputs": [
    {
     "data": {
      "text/plain": [
       "IT기획자      9742000\n",
       "데이터분석가    11226000\n",
       "IT마케터      7801000\n",
       "IT컨설턴트     9805000\n",
       "dtype: int64"
      ]
     },
     "execution_count": 499,
     "metadata": {},
     "output_type": "execute_result"
    }
   ],
   "source": [
    "sw_M_wage2"
   ]
  },
  {
   "cell_type": "code",
   "execution_count": null,
   "id": "bd4a3d75",
   "metadata": {},
   "outputs": [],
   "source": []
  },
  {
   "cell_type": "markdown",
   "id": "229dbd21",
   "metadata": {},
   "source": [
    "## 2. DataFrame\n",
    "- 2차원 데이터에서 사용되는 자료구조\n",
    "- 엑셀, Csv, DB, API 등등 불러오되, 다시 재구성해야 함"
   ]
  },
  {
   "cell_type": "code",
   "execution_count": 538,
   "id": "e60a71ca",
   "metadata": {},
   "outputs": [
    {
     "data": {
      "text/plain": [
       "{'ITPM': [463, 9543, 57],\n",
       " '업무분석가': [544, 11226, 68],\n",
       " 'IT아키텍트': [518, 10672, 64],\n",
       " 'UIUX개발자': [291, 6003, 36]}"
      ]
     },
     "execution_count": 538,
     "metadata": {},
     "output_type": "execute_result"
    }
   ],
   "source": [
    "# 첫번째 방법 : 딕셔너리를 통한 컬럼 단위로 생성\n",
    "\n",
    "data = {'ITPM':[463,9543,57],\n",
    "        '업무분석가':[544,11226,68],\n",
    "       'IT아키텍트':[518,10672,64],\n",
    "       'UIUX개발자':[291,6003,36]}\n",
    "data"
   ]
  },
  {
   "cell_type": "code",
   "execution_count": 539,
   "id": "b62b123f",
   "metadata": {},
   "outputs": [
    {
     "data": {
      "text/html": [
       "<div>\n",
       "<style scoped>\n",
       "    .dataframe tbody tr th:only-of-type {\n",
       "        vertical-align: middle;\n",
       "    }\n",
       "\n",
       "    .dataframe tbody tr th {\n",
       "        vertical-align: top;\n",
       "    }\n",
       "\n",
       "    .dataframe thead th {\n",
       "        text-align: right;\n",
       "    }\n",
       "</style>\n",
       "<table border=\"1\" class=\"dataframe\">\n",
       "  <thead>\n",
       "    <tr style=\"text-align: right;\">\n",
       "      <th></th>\n",
       "      <th>ITPM</th>\n",
       "      <th>업무분석가</th>\n",
       "      <th>IT아키텍트</th>\n",
       "      <th>UIUX개발자</th>\n",
       "    </tr>\n",
       "  </thead>\n",
       "  <tbody>\n",
       "    <tr>\n",
       "      <th>0</th>\n",
       "      <td>463</td>\n",
       "      <td>544</td>\n",
       "      <td>518</td>\n",
       "      <td>291</td>\n",
       "    </tr>\n",
       "    <tr>\n",
       "      <th>1</th>\n",
       "      <td>9543</td>\n",
       "      <td>11226</td>\n",
       "      <td>10672</td>\n",
       "      <td>6003</td>\n",
       "    </tr>\n",
       "    <tr>\n",
       "      <th>2</th>\n",
       "      <td>57</td>\n",
       "      <td>68</td>\n",
       "      <td>64</td>\n",
       "      <td>36</td>\n",
       "    </tr>\n",
       "  </tbody>\n",
       "</table>\n",
       "</div>"
      ],
      "text/plain": [
       "   ITPM  업무분석가  IT아키텍트  UIUX개발자\n",
       "0   463    544     518      291\n",
       "1  9543  11226   10672     6003\n",
       "2    57     68      64       36"
      ]
     },
     "execution_count": 539,
     "metadata": {},
     "output_type": "execute_result"
    }
   ],
   "source": [
    "# DataFrame 화\n",
    "df = pd.DataFrame(data)\n",
    "df"
   ]
  },
  {
   "cell_type": "code",
   "execution_count": 540,
   "id": "e911208f",
   "metadata": {},
   "outputs": [
    {
     "data": {
      "text/html": [
       "<div>\n",
       "<style scoped>\n",
       "    .dataframe tbody tr th:only-of-type {\n",
       "        vertical-align: middle;\n",
       "    }\n",
       "\n",
       "    .dataframe tbody tr th {\n",
       "        vertical-align: top;\n",
       "    }\n",
       "\n",
       "    .dataframe thead th {\n",
       "        text-align: right;\n",
       "    }\n",
       "</style>\n",
       "<table border=\"1\" class=\"dataframe\">\n",
       "  <thead>\n",
       "    <tr style=\"text-align: right;\">\n",
       "      <th></th>\n",
       "      <th>ITPM</th>\n",
       "      <th>업무분석가</th>\n",
       "      <th>IT아키텍트</th>\n",
       "      <th>UIUX개발자</th>\n",
       "    </tr>\n",
       "  </thead>\n",
       "  <tbody>\n",
       "    <tr>\n",
       "      <th>일평균임금</th>\n",
       "      <td>463</td>\n",
       "      <td>544</td>\n",
       "      <td>518</td>\n",
       "      <td>291</td>\n",
       "    </tr>\n",
       "    <tr>\n",
       "      <th>월평균임금</th>\n",
       "      <td>9543</td>\n",
       "      <td>11226</td>\n",
       "      <td>10672</td>\n",
       "      <td>6003</td>\n",
       "    </tr>\n",
       "    <tr>\n",
       "      <th>시간평균임금</th>\n",
       "      <td>57</td>\n",
       "      <td>68</td>\n",
       "      <td>64</td>\n",
       "      <td>36</td>\n",
       "    </tr>\n",
       "  </tbody>\n",
       "</table>\n",
       "</div>"
      ],
      "text/plain": [
       "        ITPM  업무분석가  IT아키텍트  UIUX개발자\n",
       "일평균임금    463    544     518      291\n",
       "월평균임금   9543  11226   10672     6003\n",
       "시간평균임금    57     68      64       36"
      ]
     },
     "execution_count": 540,
     "metadata": {},
     "output_type": "execute_result"
    }
   ],
   "source": [
    "# DataFrame index 별명 수정\n",
    "df.index = ['일평균임금','월평균임금', '시간평균임금']\n",
    "df"
   ]
  },
  {
   "cell_type": "code",
   "execution_count": 541,
   "id": "ff1385e2",
   "metadata": {},
   "outputs": [
    {
     "data": {
      "text/html": [
       "<div>\n",
       "<style scoped>\n",
       "    .dataframe tbody tr th:only-of-type {\n",
       "        vertical-align: middle;\n",
       "    }\n",
       "\n",
       "    .dataframe tbody tr th {\n",
       "        vertical-align: top;\n",
       "    }\n",
       "\n",
       "    .dataframe thead th {\n",
       "        text-align: right;\n",
       "    }\n",
       "</style>\n",
       "<table border=\"1\" class=\"dataframe\">\n",
       "  <thead>\n",
       "    <tr style=\"text-align: right;\">\n",
       "      <th></th>\n",
       "      <th>일평균임금</th>\n",
       "      <th>월평균임금</th>\n",
       "      <th>시간평균임금</th>\n",
       "    </tr>\n",
       "  </thead>\n",
       "  <tbody>\n",
       "    <tr>\n",
       "      <th>ITPM</th>\n",
       "      <td>463</td>\n",
       "      <td>9543</td>\n",
       "      <td>57</td>\n",
       "    </tr>\n",
       "    <tr>\n",
       "      <th>업무분석가</th>\n",
       "      <td>544</td>\n",
       "      <td>11226</td>\n",
       "      <td>68</td>\n",
       "    </tr>\n",
       "    <tr>\n",
       "      <th>IT아키텍트</th>\n",
       "      <td>518</td>\n",
       "      <td>10672</td>\n",
       "      <td>64</td>\n",
       "    </tr>\n",
       "    <tr>\n",
       "      <th>UIUX개발자</th>\n",
       "      <td>291</td>\n",
       "      <td>6003</td>\n",
       "      <td>36</td>\n",
       "    </tr>\n",
       "  </tbody>\n",
       "</table>\n",
       "</div>"
      ],
      "text/plain": [
       "         일평균임금  월평균임금  시간평균임금\n",
       "ITPM       463   9543      57\n",
       "업무분석가      544  11226      68\n",
       "IT아키텍트     518  10672      64\n",
       "UIUX개발자    291   6003      36"
      ]
     },
     "execution_count": 541,
     "metadata": {},
     "output_type": "execute_result"
    }
   ],
   "source": [
    "# 두번쨰 방법 : row 단위로 list 활용\n",
    "data2 = [[463,9543,57],\n",
    "         [544,11226,68],\n",
    "         [518,10672,64],\n",
    "         [291,6003,36]]\n",
    "\n",
    "columns = ['일평균임금','월평균임금','시간평균임금']\n",
    "row = ['ITPM','업무분석가','IT아키텍트','UIUX개발자']\n",
    "df = pd.DataFrame(data2, index=row, columns=columns)\n",
    "df"
   ]
  },
  {
   "cell_type": "code",
   "execution_count": 547,
   "id": "56314ace",
   "metadata": {},
   "outputs": [],
   "source": [
    "# index와 columns의 전치(위치를 뒤바꿈)\n",
    "# Transpose의 약자 → T\n",
    "df = df.T"
   ]
  },
  {
   "cell_type": "code",
   "execution_count": 548,
   "id": "08423298",
   "metadata": {},
   "outputs": [
    {
     "data": {
      "text/plain": [
       "array([[  463,   544,   518,   291],\n",
       "       [ 9543, 11226, 10672,  6003],\n",
       "       [   57,    68,    64,    36]], dtype=int64)"
      ]
     },
     "execution_count": 548,
     "metadata": {},
     "output_type": "execute_result"
    }
   ],
   "source": [
    "df.values"
   ]
  },
  {
   "cell_type": "code",
   "execution_count": 549,
   "id": "cc17864e",
   "metadata": {},
   "outputs": [
    {
     "data": {
      "text/plain": [
       "Index(['일평균임금', '월평균임금', '시간평균임금'], dtype='object')"
      ]
     },
     "execution_count": 549,
     "metadata": {},
     "output_type": "execute_result"
    }
   ],
   "source": [
    "df.index"
   ]
  },
  {
   "cell_type": "code",
   "execution_count": 550,
   "id": "4c9d76e2",
   "metadata": {},
   "outputs": [
    {
     "data": {
      "text/plain": [
       "Index(['ITPM', '업무분석가', 'IT아키텍트', 'UIUX개발자'], dtype='object')"
      ]
     },
     "execution_count": 550,
     "metadata": {},
     "output_type": "execute_result"
    }
   ],
   "source": [
    "df.columns"
   ]
  },
  {
   "cell_type": "code",
   "execution_count": 551,
   "id": "5c0fbe14",
   "metadata": {},
   "outputs": [
    {
     "data": {
      "text/html": [
       "<div>\n",
       "<style scoped>\n",
       "    .dataframe tbody tr th:only-of-type {\n",
       "        vertical-align: middle;\n",
       "    }\n",
       "\n",
       "    .dataframe tbody tr th {\n",
       "        vertical-align: top;\n",
       "    }\n",
       "\n",
       "    .dataframe thead th {\n",
       "        text-align: right;\n",
       "    }\n",
       "</style>\n",
       "<table border=\"1\" class=\"dataframe\">\n",
       "  <thead>\n",
       "    <tr style=\"text-align: right;\">\n",
       "      <th></th>\n",
       "      <th>ITPM</th>\n",
       "      <th>업무분석가</th>\n",
       "      <th>IT아키텍트</th>\n",
       "      <th>UIUX개발자</th>\n",
       "    </tr>\n",
       "  </thead>\n",
       "  <tbody>\n",
       "    <tr>\n",
       "      <th>일평균임금</th>\n",
       "      <td>463</td>\n",
       "      <td>544</td>\n",
       "      <td>518</td>\n",
       "      <td>291</td>\n",
       "    </tr>\n",
       "    <tr>\n",
       "      <th>월평균임금</th>\n",
       "      <td>9543</td>\n",
       "      <td>11226</td>\n",
       "      <td>10672</td>\n",
       "      <td>6003</td>\n",
       "    </tr>\n",
       "    <tr>\n",
       "      <th>시간평균임금</th>\n",
       "      <td>57</td>\n",
       "      <td>68</td>\n",
       "      <td>64</td>\n",
       "      <td>36</td>\n",
       "    </tr>\n",
       "  </tbody>\n",
       "</table>\n",
       "</div>"
      ],
      "text/plain": [
       "        ITPM  업무분석가  IT아키텍트  UIUX개발자\n",
       "일평균임금    463    544     518      291\n",
       "월평균임금   9543  11226   10672     6003\n",
       "시간평균임금    57     68      64       36"
      ]
     },
     "execution_count": 551,
     "metadata": {},
     "output_type": "execute_result"
    }
   ],
   "source": [
    "df"
   ]
  },
  {
   "cell_type": "markdown",
   "id": "d2a1ba3c",
   "metadata": {},
   "source": [
    "## 2.1 DataFrame 인덱싱, 슬라이싱\n",
    "- DataFrame은 \"Series의 모임\"이라고 생각하면 편함\n",
    "- DataFrame 인덱싱 : 하나의 시리즈를 가져옴\n",
    "- DataFrame 슬라이싱 : 여러 개의 원하는 부분을 가져옴"
   ]
  },
  {
   "cell_type": "markdown",
   "id": "f774e7c6",
   "metadata": {},
   "source": [
    "#### 2.1.1 열접근(컬럼 선택)\n",
    "- DataFrame명['컬럼명']"
   ]
  },
  {
   "cell_type": "code",
   "execution_count": 559,
   "id": "01a1d04c",
   "metadata": {},
   "outputs": [
    {
     "data": {
      "text/plain": [
       "일평균임금      463\n",
       "월평균임금     9543\n",
       "시간평균임금      57\n",
       "Name: ITPM, dtype: int64"
      ]
     },
     "execution_count": 559,
     "metadata": {},
     "output_type": "execute_result"
    }
   ],
   "source": [
    "# Series → 1차원 → []\n",
    "df['ITPM']"
   ]
  },
  {
   "cell_type": "code",
   "execution_count": 564,
   "id": "465b3ba0",
   "metadata": {},
   "outputs": [
    {
     "data": {
      "text/html": [
       "<div>\n",
       "<style scoped>\n",
       "    .dataframe tbody tr th:only-of-type {\n",
       "        vertical-align: middle;\n",
       "    }\n",
       "\n",
       "    .dataframe tbody tr th {\n",
       "        vertical-align: top;\n",
       "    }\n",
       "\n",
       "    .dataframe thead th {\n",
       "        text-align: right;\n",
       "    }\n",
       "</style>\n",
       "<table border=\"1\" class=\"dataframe\">\n",
       "  <thead>\n",
       "    <tr style=\"text-align: right;\">\n",
       "      <th></th>\n",
       "      <th>ITPM</th>\n",
       "    </tr>\n",
       "  </thead>\n",
       "  <tbody>\n",
       "    <tr>\n",
       "      <th>일평균임금</th>\n",
       "      <td>463</td>\n",
       "    </tr>\n",
       "    <tr>\n",
       "      <th>월평균임금</th>\n",
       "      <td>9543</td>\n",
       "    </tr>\n",
       "    <tr>\n",
       "      <th>시간평균임금</th>\n",
       "      <td>57</td>\n",
       "    </tr>\n",
       "  </tbody>\n",
       "</table>\n",
       "</div>"
      ],
      "text/plain": [
       "        ITPM\n",
       "일평균임금    463\n",
       "월평균임금   9543\n",
       "시간평균임금    57"
      ]
     },
     "execution_count": 564,
     "metadata": {},
     "output_type": "execute_result"
    }
   ],
   "source": [
    "# DataFrame → 2차원 → [[]]\n",
    "df[['ITPM']]"
   ]
  },
  {
   "cell_type": "code",
   "execution_count": 565,
   "id": "029e6cfd",
   "metadata": {},
   "outputs": [
    {
     "data": {
      "text/html": [
       "<div>\n",
       "<style scoped>\n",
       "    .dataframe tbody tr th:only-of-type {\n",
       "        vertical-align: middle;\n",
       "    }\n",
       "\n",
       "    .dataframe tbody tr th {\n",
       "        vertical-align: top;\n",
       "    }\n",
       "\n",
       "    .dataframe thead th {\n",
       "        text-align: right;\n",
       "    }\n",
       "</style>\n",
       "<table border=\"1\" class=\"dataframe\">\n",
       "  <thead>\n",
       "    <tr style=\"text-align: right;\">\n",
       "      <th></th>\n",
       "      <th>ITPM</th>\n",
       "      <th>업무분석가</th>\n",
       "      <th>IT아키텍트</th>\n",
       "      <th>UIUX개발자</th>\n",
       "      <th>정보보안전문가</th>\n",
       "    </tr>\n",
       "  </thead>\n",
       "  <tbody>\n",
       "    <tr>\n",
       "      <th>일평균임금</th>\n",
       "      <td>463</td>\n",
       "      <td>544</td>\n",
       "      <td>518</td>\n",
       "      <td>291</td>\n",
       "      <td>362</td>\n",
       "    </tr>\n",
       "    <tr>\n",
       "      <th>월평균임금</th>\n",
       "      <td>9543</td>\n",
       "      <td>11226</td>\n",
       "      <td>10672</td>\n",
       "      <td>6003</td>\n",
       "      <td>7426</td>\n",
       "    </tr>\n",
       "    <tr>\n",
       "      <th>시간평균임금</th>\n",
       "      <td>57</td>\n",
       "      <td>68</td>\n",
       "      <td>64</td>\n",
       "      <td>36</td>\n",
       "      <td>45</td>\n",
       "    </tr>\n",
       "  </tbody>\n",
       "</table>\n",
       "</div>"
      ],
      "text/plain": [
       "        ITPM  업무분석가  IT아키텍트  UIUX개발자  정보보안전문가\n",
       "일평균임금    463    544     518      291      362\n",
       "월평균임금   9543  11226   10672     6003     7426\n",
       "시간평균임금    57     68      64       36       45"
      ]
     },
     "execution_count": 565,
     "metadata": {},
     "output_type": "execute_result"
    }
   ],
   "source": [
    "# DataFrame 추가\n",
    "df['정보보안전문가']=[362,7426,45]\n",
    "df"
   ]
  },
  {
   "cell_type": "code",
   "execution_count": 574,
   "id": "f3e9189d",
   "metadata": {},
   "outputs": [
    {
     "data": {
      "text/html": [
       "<div>\n",
       "<style scoped>\n",
       "    .dataframe tbody tr th:only-of-type {\n",
       "        vertical-align: middle;\n",
       "    }\n",
       "\n",
       "    .dataframe tbody tr th {\n",
       "        vertical-align: top;\n",
       "    }\n",
       "\n",
       "    .dataframe thead th {\n",
       "        text-align: right;\n",
       "    }\n",
       "</style>\n",
       "<table border=\"1\" class=\"dataframe\">\n",
       "  <thead>\n",
       "    <tr style=\"text-align: right;\">\n",
       "      <th></th>\n",
       "      <th>ITPM</th>\n",
       "      <th>업무분석가</th>\n",
       "      <th>IT아키텍트</th>\n",
       "      <th>UIUX개발자</th>\n",
       "      <th>정보보안전문가</th>\n",
       "    </tr>\n",
       "  </thead>\n",
       "  <tbody>\n",
       "    <tr>\n",
       "      <th>일평균임금</th>\n",
       "      <td>463</td>\n",
       "      <td>544</td>\n",
       "      <td>518</td>\n",
       "      <td>291</td>\n",
       "      <td>362</td>\n",
       "    </tr>\n",
       "    <tr>\n",
       "      <th>월평균임금</th>\n",
       "      <td>9543</td>\n",
       "      <td>11226</td>\n",
       "      <td>10672</td>\n",
       "      <td>6003</td>\n",
       "      <td>7426</td>\n",
       "    </tr>\n",
       "  </tbody>\n",
       "</table>\n",
       "</div>"
      ],
      "text/plain": [
       "       ITPM  업무분석가  IT아키텍트  UIUX개발자  정보보안전문가\n",
       "일평균임금   463    544     518      291      362\n",
       "월평균임금  9543  11226   10672     6003     7426"
      ]
     },
     "execution_count": 574,
     "metadata": {},
     "output_type": "execute_result"
    }
   ],
   "source": [
    "# 행 슬라이싱\n",
    "df[0:2]"
   ]
  },
  {
   "cell_type": "code",
   "execution_count": null,
   "id": "022f7a2b",
   "metadata": {},
   "outputs": [],
   "source": [
    "# 매우 헷갈림...\n",
    "# DataFrame은 컬럼은 인덱싱으로 접근하고,\n",
    "# row는 슬라이싱으로만 접근이 가능하냐...?\n",
    "# 이건 아니다!"
   ]
  },
  {
   "cell_type": "markdown",
   "id": "757cf4d4",
   "metadata": {},
   "source": [
    "## 2.2 DataFrame 슬라이싱 → 인덱서(indexer) 활용\n",
    "- 인덱서란?\n",
    "    - DataFrame 객체에 대해서 \"함수\"가 아닌 \"속성\"으로써 행과 열을 한번에 인덱싱/슬라이싱 할 수 있는 기능\n",
    "    - \"속성\"이라서 [] 대괄호 사용\n",
    "<br><br>\n",
    "- loc[] 인덱서\n",
    "    - \"인덱스 명\"과 \"컬럼 명\"을 가지고 값을 인덱싱/슬라이싱하는 방법\n",
    "<br><br>\n",
    "\n",
    "- iloc[] 인덱서\n",
    "    - \"행 번호\"와 \"열 번호\"를 가지고 값을 인덱싱/슬라이싱하는 방법 \n",
    "    "
   ]
  },
  {
   "cell_type": "code",
   "execution_count": 78,
   "id": "21c76fda",
   "metadata": {},
   "outputs": [
    {
     "data": {
      "text/html": [
       "<div>\n",
       "<style scoped>\n",
       "    .dataframe tbody tr th:only-of-type {\n",
       "        vertical-align: middle;\n",
       "    }\n",
       "\n",
       "    .dataframe tbody tr th {\n",
       "        vertical-align: top;\n",
       "    }\n",
       "\n",
       "    .dataframe thead th {\n",
       "        text-align: right;\n",
       "    }\n",
       "</style>\n",
       "<table border=\"1\" class=\"dataframe\">\n",
       "  <thead>\n",
       "    <tr style=\"text-align: right;\">\n",
       "      <th></th>\n",
       "      <th>ITPM</th>\n",
       "      <th>업무분석가</th>\n",
       "      <th>IT아키텍트</th>\n",
       "      <th>UIUX개발자</th>\n",
       "      <th>정보보안전문가</th>\n",
       "    </tr>\n",
       "  </thead>\n",
       "  <tbody>\n",
       "    <tr>\n",
       "      <th>일평균임금</th>\n",
       "      <td>463</td>\n",
       "      <td>544</td>\n",
       "      <td>518</td>\n",
       "      <td>291</td>\n",
       "      <td>362</td>\n",
       "    </tr>\n",
       "    <tr>\n",
       "      <th>월평균임금</th>\n",
       "      <td>9543</td>\n",
       "      <td>11226</td>\n",
       "      <td>10672</td>\n",
       "      <td>6003</td>\n",
       "      <td>7426</td>\n",
       "    </tr>\n",
       "    <tr>\n",
       "      <th>시간평균임금</th>\n",
       "      <td>57</td>\n",
       "      <td>68</td>\n",
       "      <td>64</td>\n",
       "      <td>36</td>\n",
       "      <td>45</td>\n",
       "    </tr>\n",
       "  </tbody>\n",
       "</table>\n",
       "</div>"
      ],
      "text/plain": [
       "        ITPM  업무분석가  IT아키텍트  UIUX개발자  정보보안전문가\n",
       "일평균임금    463    544     518      291      362\n",
       "월평균임금   9543  11226   10672     6003     7426\n",
       "시간평균임금    57     68      64       36       45"
      ]
     },
     "execution_count": 78,
     "metadata": {},
     "output_type": "execute_result"
    }
   ],
   "source": [
    "df"
   ]
  },
  {
   "cell_type": "code",
   "execution_count": 577,
   "id": "f2cce1b6",
   "metadata": {
    "scrolled": true
   },
   "outputs": [
    {
     "data": {
      "text/html": [
       "<div>\n",
       "<style scoped>\n",
       "    .dataframe tbody tr th:only-of-type {\n",
       "        vertical-align: middle;\n",
       "    }\n",
       "\n",
       "    .dataframe tbody tr th {\n",
       "        vertical-align: top;\n",
       "    }\n",
       "\n",
       "    .dataframe thead th {\n",
       "        text-align: right;\n",
       "    }\n",
       "</style>\n",
       "<table border=\"1\" class=\"dataframe\">\n",
       "  <thead>\n",
       "    <tr style=\"text-align: right;\">\n",
       "      <th></th>\n",
       "      <th>ITPM</th>\n",
       "      <th>업무분석가</th>\n",
       "      <th>IT아키텍트</th>\n",
       "      <th>UIUX개발자</th>\n",
       "      <th>정보보안전문가</th>\n",
       "    </tr>\n",
       "  </thead>\n",
       "  <tbody>\n",
       "    <tr>\n",
       "      <th>시간평균임금</th>\n",
       "      <td>57</td>\n",
       "      <td>68</td>\n",
       "      <td>64</td>\n",
       "      <td>36</td>\n",
       "      <td>45</td>\n",
       "    </tr>\n",
       "  </tbody>\n",
       "</table>\n",
       "</div>"
      ],
      "text/plain": [
       "        ITPM  업무분석가  IT아키텍트  UIUX개발자  정보보안전문가\n",
       "시간평균임금    57     68      64       36       45"
      ]
     },
     "execution_count": 577,
     "metadata": {},
     "output_type": "execute_result"
    }
   ],
   "source": [
    "df.loc[['시간평균임금']]"
   ]
  },
  {
   "cell_type": "code",
   "execution_count": 95,
   "id": "f784f45a",
   "metadata": {},
   "outputs": [
    {
     "data": {
      "text/plain": [
       "ITPM       57\n",
       "업무분석가      68\n",
       "IT아키텍트     64\n",
       "UIUX개발자    36\n",
       "정보보안전문가    45\n",
       "Name: 시간평균임금, dtype: int64"
      ]
     },
     "metadata": {},
     "output_type": "display_data"
    },
    {
     "data": {
      "text/plain": [
       "ITPM       57\n",
       "업무분석가      68\n",
       "IT아키텍트     64\n",
       "UIUX개발자    36\n",
       "정보보안전문가    45\n",
       "Name: 시간평균임금, dtype: int64"
      ]
     },
     "metadata": {},
     "output_type": "display_data"
    }
   ],
   "source": [
    "display(df.loc['시간평균임금'])\n",
    "display(df.iloc[2])"
   ]
  },
  {
   "cell_type": "markdown",
   "id": "10fbb2b5",
   "metadata": {},
   "source": [
    "- loc 인덱서\n",
    "    - DataFrame명.loc['인덱스 명'{,'컬럼 명'}] {생략가능}\n",
    "    - 컬럼 명 생략시 전체 해당 행의 모든 열을 출력\n",
    "- iloc 인덱서\n",
    "    - DataFrame명.iloc['행 번호'{,'열 번호'}]\n",
    "    - 열 번호 생략시 전체 해당 행의 모든 열을 출력"
   ]
  },
  {
   "cell_type": "code",
   "execution_count": 84,
   "id": "0e327008",
   "metadata": {},
   "outputs": [
    {
     "data": {
      "text/html": [
       "<div>\n",
       "<style scoped>\n",
       "    .dataframe tbody tr th:only-of-type {\n",
       "        vertical-align: middle;\n",
       "    }\n",
       "\n",
       "    .dataframe tbody tr th {\n",
       "        vertical-align: top;\n",
       "    }\n",
       "\n",
       "    .dataframe thead th {\n",
       "        text-align: right;\n",
       "    }\n",
       "</style>\n",
       "<table border=\"1\" class=\"dataframe\">\n",
       "  <thead>\n",
       "    <tr style=\"text-align: right;\">\n",
       "      <th></th>\n",
       "      <th>ITPM</th>\n",
       "      <th>업무분석가</th>\n",
       "      <th>IT아키텍트</th>\n",
       "      <th>UIUX개발자</th>\n",
       "      <th>정보보안전문가</th>\n",
       "    </tr>\n",
       "  </thead>\n",
       "  <tbody>\n",
       "    <tr>\n",
       "      <th>일평균임금</th>\n",
       "      <td>463</td>\n",
       "      <td>544</td>\n",
       "      <td>518</td>\n",
       "      <td>291</td>\n",
       "      <td>362</td>\n",
       "    </tr>\n",
       "    <tr>\n",
       "      <th>월평균임금</th>\n",
       "      <td>9543</td>\n",
       "      <td>11226</td>\n",
       "      <td>10672</td>\n",
       "      <td>6003</td>\n",
       "      <td>7426</td>\n",
       "    </tr>\n",
       "    <tr>\n",
       "      <th>시간평균임금</th>\n",
       "      <td>57</td>\n",
       "      <td>68</td>\n",
       "      <td>64</td>\n",
       "      <td>36</td>\n",
       "      <td>45</td>\n",
       "    </tr>\n",
       "  </tbody>\n",
       "</table>\n",
       "</div>"
      ],
      "text/plain": [
       "        ITPM  업무분석가  IT아키텍트  UIUX개발자  정보보안전문가\n",
       "일평균임금    463    544     518      291      362\n",
       "월평균임금   9543  11226   10672     6003     7426\n",
       "시간평균임금    57     68      64       36       45"
      ]
     },
     "execution_count": 84,
     "metadata": {},
     "output_type": "execute_result"
    }
   ],
   "source": [
    "df"
   ]
  },
  {
   "cell_type": "code",
   "execution_count": 87,
   "id": "47fb3978",
   "metadata": {},
   "outputs": [
    {
     "data": {
      "text/plain": [
       "57"
      ]
     },
     "metadata": {},
     "output_type": "display_data"
    },
    {
     "data": {
      "text/plain": [
       "57"
      ]
     },
     "metadata": {},
     "output_type": "display_data"
    }
   ],
   "source": [
    "display(df.loc['시간평균임금','ITPM'])\n",
    "display(df.iloc[2,0])"
   ]
  },
  {
   "cell_type": "code",
   "execution_count": 90,
   "id": "cc767c7c",
   "metadata": {},
   "outputs": [
    {
     "data": {
      "text/plain": [
       "일평균임금      463\n",
       "월평균임금     9543\n",
       "시간평균임금      57\n",
       "Name: ITPM, dtype: int64"
      ]
     },
     "execution_count": 90,
     "metadata": {},
     "output_type": "execute_result"
    }
   ],
   "source": [
    "# 권장하지 않음. 컬럼명이 숫자로 시작하면 정수로 인식함\n",
    "df.ITPM"
   ]
  },
  {
   "cell_type": "code",
   "execution_count": 101,
   "id": "2493fdf9",
   "metadata": {},
   "outputs": [
    {
     "data": {
      "text/html": [
       "<div>\n",
       "<style scoped>\n",
       "    .dataframe tbody tr th:only-of-type {\n",
       "        vertical-align: middle;\n",
       "    }\n",
       "\n",
       "    .dataframe tbody tr th {\n",
       "        vertical-align: top;\n",
       "    }\n",
       "\n",
       "    .dataframe thead th {\n",
       "        text-align: right;\n",
       "    }\n",
       "</style>\n",
       "<table border=\"1\" class=\"dataframe\">\n",
       "  <thead>\n",
       "    <tr style=\"text-align: right;\">\n",
       "      <th></th>\n",
       "      <th>업무분석가</th>\n",
       "      <th>IT아키텍트</th>\n",
       "      <th>UIUX개발자</th>\n",
       "    </tr>\n",
       "  </thead>\n",
       "  <tbody>\n",
       "    <tr>\n",
       "      <th>월평균임금</th>\n",
       "      <td>11226</td>\n",
       "      <td>10672</td>\n",
       "      <td>6003</td>\n",
       "    </tr>\n",
       "    <tr>\n",
       "      <th>시간평균임금</th>\n",
       "      <td>68</td>\n",
       "      <td>64</td>\n",
       "      <td>36</td>\n",
       "    </tr>\n",
       "  </tbody>\n",
       "</table>\n",
       "</div>"
      ],
      "text/plain": [
       "        업무분석가  IT아키텍트  UIUX개발자\n",
       "월평균임금   11226   10672     6003\n",
       "시간평균임금     68      64       36"
      ]
     },
     "metadata": {},
     "output_type": "display_data"
    },
    {
     "data": {
      "text/html": [
       "<div>\n",
       "<style scoped>\n",
       "    .dataframe tbody tr th:only-of-type {\n",
       "        vertical-align: middle;\n",
       "    }\n",
       "\n",
       "    .dataframe tbody tr th {\n",
       "        vertical-align: top;\n",
       "    }\n",
       "\n",
       "    .dataframe thead th {\n",
       "        text-align: right;\n",
       "    }\n",
       "</style>\n",
       "<table border=\"1\" class=\"dataframe\">\n",
       "  <thead>\n",
       "    <tr style=\"text-align: right;\">\n",
       "      <th></th>\n",
       "      <th>업무분석가</th>\n",
       "      <th>IT아키텍트</th>\n",
       "      <th>UIUX개발자</th>\n",
       "    </tr>\n",
       "  </thead>\n",
       "  <tbody>\n",
       "    <tr>\n",
       "      <th>월평균임금</th>\n",
       "      <td>11226</td>\n",
       "      <td>10672</td>\n",
       "      <td>6003</td>\n",
       "    </tr>\n",
       "    <tr>\n",
       "      <th>시간평균임금</th>\n",
       "      <td>68</td>\n",
       "      <td>64</td>\n",
       "      <td>36</td>\n",
       "    </tr>\n",
       "  </tbody>\n",
       "</table>\n",
       "</div>"
      ],
      "text/plain": [
       "        업무분석가  IT아키텍트  UIUX개발자\n",
       "월평균임금   11226   10672     6003\n",
       "시간평균임금     68      64       36"
      ]
     },
     "metadata": {},
     "output_type": "display_data"
    }
   ],
   "source": [
    "# 인덱서를 활용하여 슬라이싱\n",
    "# DF.인덱서[행의 시작값:행의 끝값{,열의 시작값:열의 끝값}]\n",
    "# 인덱서 활용하기 어렵다 → [:{,:}]\n",
    "\n",
    "# loc → 끝값 포함\n",
    "display(df.loc['월평균임금':'시간평균임금','업무분석가':'UIUX개발자'])\\\n",
    "# iloc → 끝값 미포함\n",
    "display(df.iloc[1:3,1:4])"
   ]
  },
  {
   "cell_type": "code",
   "execution_count": 102,
   "id": "889bb5c5",
   "metadata": {},
   "outputs": [
    {
     "data": {
      "text/html": [
       "<div>\n",
       "<style scoped>\n",
       "    .dataframe tbody tr th:only-of-type {\n",
       "        vertical-align: middle;\n",
       "    }\n",
       "\n",
       "    .dataframe tbody tr th {\n",
       "        vertical-align: top;\n",
       "    }\n",
       "\n",
       "    .dataframe thead th {\n",
       "        text-align: right;\n",
       "    }\n",
       "</style>\n",
       "<table border=\"1\" class=\"dataframe\">\n",
       "  <thead>\n",
       "    <tr style=\"text-align: right;\">\n",
       "      <th></th>\n",
       "      <th>ITPM</th>\n",
       "      <th>업무분석가</th>\n",
       "      <th>IT아키텍트</th>\n",
       "      <th>UIUX개발자</th>\n",
       "      <th>정보보안전문가</th>\n",
       "    </tr>\n",
       "  </thead>\n",
       "  <tbody>\n",
       "    <tr>\n",
       "      <th>일평균임금</th>\n",
       "      <td>463</td>\n",
       "      <td>544</td>\n",
       "      <td>518</td>\n",
       "      <td>291</td>\n",
       "      <td>362</td>\n",
       "    </tr>\n",
       "    <tr>\n",
       "      <th>월평균임금</th>\n",
       "      <td>9543</td>\n",
       "      <td>11226</td>\n",
       "      <td>10672</td>\n",
       "      <td>6003</td>\n",
       "      <td>7426</td>\n",
       "    </tr>\n",
       "    <tr>\n",
       "      <th>시간평균임금</th>\n",
       "      <td>57</td>\n",
       "      <td>68</td>\n",
       "      <td>64</td>\n",
       "      <td>36</td>\n",
       "      <td>45</td>\n",
       "    </tr>\n",
       "  </tbody>\n",
       "</table>\n",
       "</div>"
      ],
      "text/plain": [
       "        ITPM  업무분석가  IT아키텍트  UIUX개발자  정보보안전문가\n",
       "일평균임금    463    544     518      291      362\n",
       "월평균임금   9543  11226   10672     6003     7426\n",
       "시간평균임금    57     68      64       36       45"
      ]
     },
     "execution_count": 102,
     "metadata": {},
     "output_type": "execute_result"
    }
   ],
   "source": [
    "df"
   ]
  },
  {
   "cell_type": "code",
   "execution_count": 581,
   "id": "d72d4168",
   "metadata": {},
   "outputs": [
    {
     "data": {
      "text/html": [
       "<div>\n",
       "<style scoped>\n",
       "    .dataframe tbody tr th:only-of-type {\n",
       "        vertical-align: middle;\n",
       "    }\n",
       "\n",
       "    .dataframe tbody tr th {\n",
       "        vertical-align: top;\n",
       "    }\n",
       "\n",
       "    .dataframe thead th {\n",
       "        text-align: right;\n",
       "    }\n",
       "</style>\n",
       "<table border=\"1\" class=\"dataframe\">\n",
       "  <thead>\n",
       "    <tr style=\"text-align: right;\">\n",
       "      <th></th>\n",
       "      <th>ITPM</th>\n",
       "      <th>업무분석가</th>\n",
       "      <th>IT아키텍트</th>\n",
       "      <th>UIUX개발자</th>\n",
       "      <th>정보보안전문가</th>\n",
       "    </tr>\n",
       "  </thead>\n",
       "  <tbody>\n",
       "    <tr>\n",
       "      <th>일평균임금</th>\n",
       "      <td>463</td>\n",
       "      <td>544</td>\n",
       "      <td>518</td>\n",
       "      <td>291</td>\n",
       "      <td>362</td>\n",
       "    </tr>\n",
       "    <tr>\n",
       "      <th>시간평균임금</th>\n",
       "      <td>57</td>\n",
       "      <td>68</td>\n",
       "      <td>64</td>\n",
       "      <td>36</td>\n",
       "      <td>45</td>\n",
       "    </tr>\n",
       "  </tbody>\n",
       "</table>\n",
       "</div>"
      ],
      "text/plain": [
       "        ITPM  업무분석가  IT아키텍트  UIUX개발자  정보보안전문가\n",
       "일평균임금    463    544     518      291      362\n",
       "시간평균임금    57     68      64       36       45"
      ]
     },
     "metadata": {},
     "output_type": "display_data"
    },
    {
     "data": {
      "text/html": [
       "<div>\n",
       "<style scoped>\n",
       "    .dataframe tbody tr th:only-of-type {\n",
       "        vertical-align: middle;\n",
       "    }\n",
       "\n",
       "    .dataframe tbody tr th {\n",
       "        vertical-align: top;\n",
       "    }\n",
       "\n",
       "    .dataframe thead th {\n",
       "        text-align: right;\n",
       "    }\n",
       "</style>\n",
       "<table border=\"1\" class=\"dataframe\">\n",
       "  <thead>\n",
       "    <tr style=\"text-align: right;\">\n",
       "      <th></th>\n",
       "      <th>ITPM</th>\n",
       "      <th>정보보안전문가</th>\n",
       "    </tr>\n",
       "  </thead>\n",
       "  <tbody>\n",
       "    <tr>\n",
       "      <th>일평균임금</th>\n",
       "      <td>463</td>\n",
       "      <td>362</td>\n",
       "    </tr>\n",
       "    <tr>\n",
       "      <th>시간평균임금</th>\n",
       "      <td>57</td>\n",
       "      <td>45</td>\n",
       "    </tr>\n",
       "  </tbody>\n",
       "</table>\n",
       "</div>"
      ],
      "text/plain": [
       "        ITPM  정보보안전문가\n",
       "일평균임금    463      362\n",
       "시간평균임금    57       45"
      ]
     },
     "metadata": {},
     "output_type": "display_data"
    },
    {
     "data": {
      "text/html": [
       "<div>\n",
       "<style scoped>\n",
       "    .dataframe tbody tr th:only-of-type {\n",
       "        vertical-align: middle;\n",
       "    }\n",
       "\n",
       "    .dataframe tbody tr th {\n",
       "        vertical-align: top;\n",
       "    }\n",
       "\n",
       "    .dataframe thead th {\n",
       "        text-align: right;\n",
       "    }\n",
       "</style>\n",
       "<table border=\"1\" class=\"dataframe\">\n",
       "  <thead>\n",
       "    <tr style=\"text-align: right;\">\n",
       "      <th></th>\n",
       "      <th>ITPM</th>\n",
       "      <th>정보보안전문가</th>\n",
       "    </tr>\n",
       "  </thead>\n",
       "  <tbody>\n",
       "    <tr>\n",
       "      <th>일평균임금</th>\n",
       "      <td>463</td>\n",
       "      <td>362</td>\n",
       "    </tr>\n",
       "    <tr>\n",
       "      <th>시간평균임금</th>\n",
       "      <td>57</td>\n",
       "      <td>45</td>\n",
       "    </tr>\n",
       "  </tbody>\n",
       "</table>\n",
       "</div>"
      ],
      "text/plain": [
       "        ITPM  정보보안전문가\n",
       "일평균임금    463      362\n",
       "시간평균임금    57       45"
      ]
     },
     "metadata": {},
     "output_type": "display_data"
    }
   ],
   "source": [
    "# 멀티 row, 멀티 column 접근\n",
    "# 인덱싱값을 list로 보내준다! → list[]를 한번 더 써야함\n",
    "\n",
    "display(df.loc[['일평균임금','시간평균임금']])\n",
    "display(df.loc[['일평균임금','시간평균임금'],['ITPM','정보보안전문가']])\n",
    "display(df.iloc[[0,2],[0,4]])"
   ]
  },
  {
   "cell_type": "markdown",
   "id": "91f9a2a4",
   "metadata": {},
   "source": [
    "## 2.3 DataFrame Boolean 인덱싱\n",
    "- mask mask 활용 → \"필터\""
   ]
  },
  {
   "cell_type": "code",
   "execution_count": 629,
   "id": "cf9ab6d9",
   "metadata": {},
   "outputs": [
    {
     "data": {
      "text/html": [
       "<div>\n",
       "<style scoped>\n",
       "    .dataframe tbody tr th:only-of-type {\n",
       "        vertical-align: middle;\n",
       "    }\n",
       "\n",
       "    .dataframe tbody tr th {\n",
       "        vertical-align: top;\n",
       "    }\n",
       "\n",
       "    .dataframe thead th {\n",
       "        text-align: right;\n",
       "    }\n",
       "</style>\n",
       "<table border=\"1\" class=\"dataframe\">\n",
       "  <thead>\n",
       "    <tr style=\"text-align: right;\">\n",
       "      <th></th>\n",
       "      <th>일평균임금</th>\n",
       "      <th>월평균임금</th>\n",
       "      <th>시간평균임금</th>\n",
       "    </tr>\n",
       "  </thead>\n",
       "  <tbody>\n",
       "    <tr>\n",
       "      <th>ITPM</th>\n",
       "      <td>463</td>\n",
       "      <td>9543</td>\n",
       "      <td>57</td>\n",
       "    </tr>\n",
       "    <tr>\n",
       "      <th>업무분석가</th>\n",
       "      <td>544</td>\n",
       "      <td>11226</td>\n",
       "      <td>68</td>\n",
       "    </tr>\n",
       "    <tr>\n",
       "      <th>IT아키텍트</th>\n",
       "      <td>518</td>\n",
       "      <td>10672</td>\n",
       "      <td>64</td>\n",
       "    </tr>\n",
       "    <tr>\n",
       "      <th>UIUX개발자</th>\n",
       "      <td>291</td>\n",
       "      <td>6003</td>\n",
       "      <td>36</td>\n",
       "    </tr>\n",
       "    <tr>\n",
       "      <th>정보보안전문가</th>\n",
       "      <td>362</td>\n",
       "      <td>7426</td>\n",
       "      <td>45</td>\n",
       "    </tr>\n",
       "  </tbody>\n",
       "</table>\n",
       "</div>"
      ],
      "text/plain": [
       "         일평균임금  월평균임금  시간평균임금\n",
       "ITPM       463   9543      57\n",
       "업무분석가      544  11226      68\n",
       "IT아키텍트     518  10672      64\n",
       "UIUX개발자    291   6003      36\n",
       "정보보안전문가    362   7426      45"
      ]
     },
     "execution_count": 629,
     "metadata": {},
     "output_type": "execute_result"
    }
   ],
   "source": [
    "# 일평균임금이 400이상인 전체 데이터 추출\n",
    "df = df.T\n",
    "df"
   ]
  },
  {
   "cell_type": "code",
   "execution_count": 633,
   "id": "fa8dcc48",
   "metadata": {},
   "outputs": [
    {
     "data": {
      "text/plain": [
       "ITPM        True\n",
       "업무분석가       True\n",
       "IT아키텍트      True\n",
       "UIUX개발자    False\n",
       "정보보안전문가    False\n",
       "Name: 일평균임금, dtype: bool"
      ]
     },
     "execution_count": 633,
     "metadata": {},
     "output_type": "execute_result"
    }
   ],
   "source": [
    "df.loc[:,'일평균임금'] >= 400"
   ]
  },
  {
   "cell_type": "code",
   "execution_count": 639,
   "id": "3d1386e4",
   "metadata": {},
   "outputs": [
    {
     "ename": "NameError",
     "evalue": "name 'maks' is not defined",
     "output_type": "error",
     "traceback": [
      "\u001b[1;31m---------------------------------------------------------------------------\u001b[0m",
      "\u001b[1;31mNameError\u001b[0m                                 Traceback (most recent call last)",
      "Cell \u001b[1;32mIn[639], line 1\u001b[0m\n\u001b[1;32m----> 1\u001b[0m display(df[maks])\n",
      "\u001b[1;31mNameError\u001b[0m: name 'maks' is not defined"
     ]
    }
   ],
   "source": [
    "display(df[maks])"
   ]
  },
  {
   "cell_type": "code",
   "execution_count": 634,
   "id": "dc7cc51f",
   "metadata": {},
   "outputs": [
    {
     "data": {
      "text/html": [
       "<div>\n",
       "<style scoped>\n",
       "    .dataframe tbody tr th:only-of-type {\n",
       "        vertical-align: middle;\n",
       "    }\n",
       "\n",
       "    .dataframe tbody tr th {\n",
       "        vertical-align: top;\n",
       "    }\n",
       "\n",
       "    .dataframe thead th {\n",
       "        text-align: right;\n",
       "    }\n",
       "</style>\n",
       "<table border=\"1\" class=\"dataframe\">\n",
       "  <thead>\n",
       "    <tr style=\"text-align: right;\">\n",
       "      <th></th>\n",
       "      <th>일평균임금</th>\n",
       "      <th>월평균임금</th>\n",
       "      <th>시간평균임금</th>\n",
       "    </tr>\n",
       "  </thead>\n",
       "  <tbody>\n",
       "    <tr>\n",
       "      <th>ITPM</th>\n",
       "      <td>463</td>\n",
       "      <td>9543</td>\n",
       "      <td>57</td>\n",
       "    </tr>\n",
       "    <tr>\n",
       "      <th>업무분석가</th>\n",
       "      <td>544</td>\n",
       "      <td>11226</td>\n",
       "      <td>68</td>\n",
       "    </tr>\n",
       "    <tr>\n",
       "      <th>IT아키텍트</th>\n",
       "      <td>518</td>\n",
       "      <td>10672</td>\n",
       "      <td>64</td>\n",
       "    </tr>\n",
       "  </tbody>\n",
       "</table>\n",
       "</div>"
      ],
      "text/plain": [
       "        일평균임금  월평균임금  시간평균임금\n",
       "ITPM      463   9543      57\n",
       "업무분석가     544  11226      68\n",
       "IT아키텍트    518  10672      64"
      ]
     },
     "execution_count": 634,
     "metadata": {},
     "output_type": "execute_result"
    }
   ],
   "source": [
    "df[df.loc[:,'일평균임금'] >= 400]"
   ]
  },
  {
   "cell_type": "code",
   "execution_count": 635,
   "id": "bcbb8b64",
   "metadata": {},
   "outputs": [
    {
     "data": {
      "text/html": [
       "<div>\n",
       "<style scoped>\n",
       "    .dataframe tbody tr th:only-of-type {\n",
       "        vertical-align: middle;\n",
       "    }\n",
       "\n",
       "    .dataframe tbody tr th {\n",
       "        vertical-align: top;\n",
       "    }\n",
       "\n",
       "    .dataframe thead th {\n",
       "        text-align: right;\n",
       "    }\n",
       "</style>\n",
       "<table border=\"1\" class=\"dataframe\">\n",
       "  <thead>\n",
       "    <tr style=\"text-align: right;\">\n",
       "      <th></th>\n",
       "      <th>일평균임금</th>\n",
       "      <th>월평균임금</th>\n",
       "      <th>시간평균임금</th>\n",
       "    </tr>\n",
       "  </thead>\n",
       "  <tbody>\n",
       "    <tr>\n",
       "      <th>ITPM</th>\n",
       "      <td>463</td>\n",
       "      <td>9543</td>\n",
       "      <td>57</td>\n",
       "    </tr>\n",
       "    <tr>\n",
       "      <th>업무분석가</th>\n",
       "      <td>544</td>\n",
       "      <td>11226</td>\n",
       "      <td>68</td>\n",
       "    </tr>\n",
       "    <tr>\n",
       "      <th>IT아키텍트</th>\n",
       "      <td>518</td>\n",
       "      <td>10672</td>\n",
       "      <td>64</td>\n",
       "    </tr>\n",
       "    <tr>\n",
       "      <th>UIUX개발자</th>\n",
       "      <td>291</td>\n",
       "      <td>6003</td>\n",
       "      <td>36</td>\n",
       "    </tr>\n",
       "    <tr>\n",
       "      <th>정보보안전문가</th>\n",
       "      <td>362</td>\n",
       "      <td>7426</td>\n",
       "      <td>45</td>\n",
       "    </tr>\n",
       "  </tbody>\n",
       "</table>\n",
       "</div>"
      ],
      "text/plain": [
       "         일평균임금  월평균임금  시간평균임금\n",
       "ITPM       463   9543      57\n",
       "업무분석가      544  11226      68\n",
       "IT아키텍트     518  10672      64\n",
       "UIUX개발자    291   6003      36\n",
       "정보보안전문가    362   7426      45"
      ]
     },
     "execution_count": 635,
     "metadata": {},
     "output_type": "execute_result"
    }
   ],
   "source": [
    "# 직업이 업무분석가와 정보보안전문가만 슬라이싱 한 이후,\n",
    "# 시간평균임금이 50이상인 직업을 불리안 인덱싱\n",
    "df"
   ]
  },
  {
   "cell_type": "code",
   "execution_count": 636,
   "id": "f1b246e0",
   "metadata": {},
   "outputs": [],
   "source": [
    "df1 = df.loc[['업무분석가','정보보안전문가']]"
   ]
  },
  {
   "cell_type": "code",
   "execution_count": 637,
   "id": "bbd7a0ae",
   "metadata": {},
   "outputs": [
    {
     "data": {
      "text/html": [
       "<div>\n",
       "<style scoped>\n",
       "    .dataframe tbody tr th:only-of-type {\n",
       "        vertical-align: middle;\n",
       "    }\n",
       "\n",
       "    .dataframe tbody tr th {\n",
       "        vertical-align: top;\n",
       "    }\n",
       "\n",
       "    .dataframe thead th {\n",
       "        text-align: right;\n",
       "    }\n",
       "</style>\n",
       "<table border=\"1\" class=\"dataframe\">\n",
       "  <thead>\n",
       "    <tr style=\"text-align: right;\">\n",
       "      <th></th>\n",
       "      <th>일평균임금</th>\n",
       "      <th>월평균임금</th>\n",
       "      <th>시간평균임금</th>\n",
       "    </tr>\n",
       "  </thead>\n",
       "  <tbody>\n",
       "    <tr>\n",
       "      <th>업무분석가</th>\n",
       "      <td>544</td>\n",
       "      <td>11226</td>\n",
       "      <td>68</td>\n",
       "    </tr>\n",
       "  </tbody>\n",
       "</table>\n",
       "</div>"
      ],
      "text/plain": [
       "       일평균임금  월평균임금  시간평균임금\n",
       "업무분석가    544  11226      68"
      ]
     },
     "execution_count": 637,
     "metadata": {},
     "output_type": "execute_result"
    }
   ],
   "source": [
    "df1[df1.loc[:,'시간평균임금'] >= 50]"
   ]
  },
  {
   "cell_type": "markdown",
   "id": "c54ec597",
   "metadata": {},
   "source": [
    "### population 실습 - 값의 카운팅, 정렬\n",
    "- pandas.read_csv('경로&파일명.확장자'{,encoding='방식', index_col='컬럼명'})\n",
    "<br><br>\n",
    "- encoding 방식(한글로 불러오는 방법 3가지, 웬만하면 이 3가지로 다 불러올 수 있다.)\n",
    "    - euc-kr, utf-8, cp949\n",
    "- index_col : 해당 컬럼을 index로 사용하는 속성"
   ]
  },
  {
   "cell_type": "code",
   "execution_count": 151,
   "id": "b1398fb2",
   "metadata": {},
   "outputs": [
    {
     "data": {
      "text/html": [
       "<div>\n",
       "<style scoped>\n",
       "    .dataframe tbody tr th:only-of-type {\n",
       "        vertical-align: middle;\n",
       "    }\n",
       "\n",
       "    .dataframe tbody tr th {\n",
       "        vertical-align: top;\n",
       "    }\n",
       "\n",
       "    .dataframe thead th {\n",
       "        text-align: right;\n",
       "    }\n",
       "</style>\n",
       "<table border=\"1\" class=\"dataframe\">\n",
       "  <thead>\n",
       "    <tr style=\"text-align: right;\">\n",
       "      <th></th>\n",
       "      <th>도시</th>\n",
       "      <th>지역</th>\n",
       "      <th>2020</th>\n",
       "      <th>2015</th>\n",
       "      <th>2010</th>\n",
       "      <th>2005</th>\n",
       "    </tr>\n",
       "  </thead>\n",
       "  <tbody>\n",
       "    <tr>\n",
       "      <th>0</th>\n",
       "      <td>서울</td>\n",
       "      <td>수도권</td>\n",
       "      <td>9668465</td>\n",
       "      <td>10022181.0</td>\n",
       "      <td>10312545.0</td>\n",
       "      <td>10167344</td>\n",
       "    </tr>\n",
       "    <tr>\n",
       "      <th>1</th>\n",
       "      <td>부산</td>\n",
       "      <td>경상권</td>\n",
       "      <td>3391946</td>\n",
       "      <td>NaN</td>\n",
       "      <td>NaN</td>\n",
       "      <td>3628293</td>\n",
       "    </tr>\n",
       "    <tr>\n",
       "      <th>2</th>\n",
       "      <td>인천</td>\n",
       "      <td>수도권</td>\n",
       "      <td>2942828</td>\n",
       "      <td>2925815.0</td>\n",
       "      <td>NaN</td>\n",
       "      <td>2600495</td>\n",
       "    </tr>\n",
       "    <tr>\n",
       "      <th>3</th>\n",
       "      <td>광주</td>\n",
       "      <td>전라권</td>\n",
       "      <td>1450062</td>\n",
       "      <td>1474636.0</td>\n",
       "      <td>1454636.0</td>\n",
       "      <td>1401745</td>\n",
       "    </tr>\n",
       "    <tr>\n",
       "      <th>4</th>\n",
       "      <td>대구</td>\n",
       "      <td>경상권</td>\n",
       "      <td>2418436</td>\n",
       "      <td>2466052.0</td>\n",
       "      <td>2431774.0</td>\n",
       "      <td>2456016</td>\n",
       "    </tr>\n",
       "  </tbody>\n",
       "</table>\n",
       "</div>"
      ],
      "text/plain": [
       "   도시   지역     2020        2015        2010      2005\n",
       "0  서울  수도권  9668465  10022181.0  10312545.0  10167344\n",
       "1  부산  경상권  3391946         NaN         NaN   3628293\n",
       "2  인천  수도권  2942828   2925815.0         NaN   2600495\n",
       "3  광주  전라권  1450062   1474636.0   1454636.0   1401745\n",
       "4  대구  경상권  2418436   2466052.0   2431774.0   2456016"
      ]
     },
     "execution_count": 151,
     "metadata": {},
     "output_type": "execute_result"
    }
   ],
   "source": [
    "pd.read_csv('./data/population.csv')"
   ]
  },
  {
   "cell_type": "code",
   "execution_count": 154,
   "id": "69cf514f",
   "metadata": {},
   "outputs": [
    {
     "data": {
      "text/html": [
       "<div>\n",
       "<style scoped>\n",
       "    .dataframe tbody tr th:only-of-type {\n",
       "        vertical-align: middle;\n",
       "    }\n",
       "\n",
       "    .dataframe tbody tr th {\n",
       "        vertical-align: top;\n",
       "    }\n",
       "\n",
       "    .dataframe thead th {\n",
       "        text-align: right;\n",
       "    }\n",
       "</style>\n",
       "<table border=\"1\" class=\"dataframe\">\n",
       "  <thead>\n",
       "    <tr style=\"text-align: right;\">\n",
       "      <th></th>\n",
       "      <th>지역</th>\n",
       "      <th>2020</th>\n",
       "      <th>2015</th>\n",
       "      <th>2010</th>\n",
       "      <th>2005</th>\n",
       "    </tr>\n",
       "    <tr>\n",
       "      <th>도시</th>\n",
       "      <th></th>\n",
       "      <th></th>\n",
       "      <th></th>\n",
       "      <th></th>\n",
       "      <th></th>\n",
       "    </tr>\n",
       "  </thead>\n",
       "  <tbody>\n",
       "    <tr>\n",
       "      <th>서울</th>\n",
       "      <td>수도권</td>\n",
       "      <td>9668465</td>\n",
       "      <td>10022181.0</td>\n",
       "      <td>10312545.0</td>\n",
       "      <td>10167344</td>\n",
       "    </tr>\n",
       "    <tr>\n",
       "      <th>부산</th>\n",
       "      <td>경상권</td>\n",
       "      <td>3391946</td>\n",
       "      <td>NaN</td>\n",
       "      <td>NaN</td>\n",
       "      <td>3628293</td>\n",
       "    </tr>\n",
       "    <tr>\n",
       "      <th>인천</th>\n",
       "      <td>수도권</td>\n",
       "      <td>2942828</td>\n",
       "      <td>2925815.0</td>\n",
       "      <td>NaN</td>\n",
       "      <td>2600495</td>\n",
       "    </tr>\n",
       "    <tr>\n",
       "      <th>광주</th>\n",
       "      <td>전라권</td>\n",
       "      <td>1450062</td>\n",
       "      <td>1474636.0</td>\n",
       "      <td>1454636.0</td>\n",
       "      <td>1401745</td>\n",
       "    </tr>\n",
       "    <tr>\n",
       "      <th>대구</th>\n",
       "      <td>경상권</td>\n",
       "      <td>2418436</td>\n",
       "      <td>2466052.0</td>\n",
       "      <td>2431774.0</td>\n",
       "      <td>2456016</td>\n",
       "    </tr>\n",
       "  </tbody>\n",
       "</table>\n",
       "</div>"
      ],
      "text/plain": [
       "     지역     2020        2015        2010      2005\n",
       "도시                                                \n",
       "서울  수도권  9668465  10022181.0  10312545.0  10167344\n",
       "부산  경상권  3391946         NaN         NaN   3628293\n",
       "인천  수도권  2942828   2925815.0         NaN   2600495\n",
       "광주  전라권  1450062   1474636.0   1454636.0   1401745\n",
       "대구  경상권  2418436   2466052.0   2431774.0   2456016"
      ]
     },
     "execution_count": 154,
     "metadata": {},
     "output_type": "execute_result"
    }
   ],
   "source": [
    "pop=pd.read_csv('./data/population.csv', index_col='도시')\n",
    "pop"
   ]
  },
  {
   "cell_type": "code",
   "execution_count": 159,
   "id": "c8f8c8ad",
   "metadata": {},
   "outputs": [
    {
     "data": {
      "text/plain": [
       "수도권    2\n",
       "경상권    2\n",
       "전라권    1\n",
       "Name: 지역, dtype: int64"
      ]
     },
     "execution_count": 159,
     "metadata": {},
     "output_type": "execute_result"
    }
   ],
   "source": [
    "# value_counts() : 각각의 값이 나온 횟수를 세어주는 기능\n",
    "pop['지역'].value_counts()"
   ]
  },
  {
   "cell_type": "code",
   "execution_count": 158,
   "id": "7ae927fc",
   "metadata": {},
   "outputs": [
    {
     "data": {
      "text/plain": [
       "10312545.0    1\n",
       "1454636.0     1\n",
       "2431774.0     1\n",
       "Name: 2010, dtype: int64"
      ]
     },
     "execution_count": 158,
     "metadata": {},
     "output_type": "execute_result"
    }
   ],
   "source": [
    "# 결측치(NaN)은 count 되지 않는다!\n",
    "pop['2010'].value_counts()"
   ]
  },
  {
   "cell_type": "code",
   "execution_count": 167,
   "id": "6369463b",
   "metadata": {},
   "outputs": [
    {
     "data": {
      "text/html": [
       "<div>\n",
       "<style scoped>\n",
       "    .dataframe tbody tr th:only-of-type {\n",
       "        vertical-align: middle;\n",
       "    }\n",
       "\n",
       "    .dataframe tbody tr th {\n",
       "        vertical-align: top;\n",
       "    }\n",
       "\n",
       "    .dataframe thead th {\n",
       "        text-align: right;\n",
       "    }\n",
       "</style>\n",
       "<table border=\"1\" class=\"dataframe\">\n",
       "  <thead>\n",
       "    <tr style=\"text-align: right;\">\n",
       "      <th></th>\n",
       "      <th>지역</th>\n",
       "      <th>2020</th>\n",
       "      <th>2015</th>\n",
       "      <th>2010</th>\n",
       "      <th>2005</th>\n",
       "    </tr>\n",
       "    <tr>\n",
       "      <th>도시</th>\n",
       "      <th></th>\n",
       "      <th></th>\n",
       "      <th></th>\n",
       "      <th></th>\n",
       "      <th></th>\n",
       "    </tr>\n",
       "  </thead>\n",
       "  <tbody>\n",
       "    <tr>\n",
       "      <th>광주</th>\n",
       "      <td>전라권</td>\n",
       "      <td>1450062</td>\n",
       "      <td>1474636.0</td>\n",
       "      <td>1454636.0</td>\n",
       "      <td>1401745</td>\n",
       "    </tr>\n",
       "    <tr>\n",
       "      <th>대구</th>\n",
       "      <td>경상권</td>\n",
       "      <td>2418436</td>\n",
       "      <td>2466052.0</td>\n",
       "      <td>2431774.0</td>\n",
       "      <td>2456016</td>\n",
       "    </tr>\n",
       "    <tr>\n",
       "      <th>부산</th>\n",
       "      <td>경상권</td>\n",
       "      <td>3391946</td>\n",
       "      <td>NaN</td>\n",
       "      <td>NaN</td>\n",
       "      <td>3628293</td>\n",
       "    </tr>\n",
       "    <tr>\n",
       "      <th>서울</th>\n",
       "      <td>수도권</td>\n",
       "      <td>9668465</td>\n",
       "      <td>10022181.0</td>\n",
       "      <td>10312545.0</td>\n",
       "      <td>10167344</td>\n",
       "    </tr>\n",
       "    <tr>\n",
       "      <th>인천</th>\n",
       "      <td>수도권</td>\n",
       "      <td>2942828</td>\n",
       "      <td>2925815.0</td>\n",
       "      <td>NaN</td>\n",
       "      <td>2600495</td>\n",
       "    </tr>\n",
       "  </tbody>\n",
       "</table>\n",
       "</div>"
      ],
      "text/plain": [
       "     지역     2020        2015        2010      2005\n",
       "도시                                                \n",
       "광주  전라권  1450062   1474636.0   1454636.0   1401745\n",
       "대구  경상권  2418436   2466052.0   2431774.0   2456016\n",
       "부산  경상권  3391946         NaN         NaN   3628293\n",
       "서울  수도권  9668465  10022181.0  10312545.0  10167344\n",
       "인천  수도권  2942828   2925815.0         NaN   2600495"
      ]
     },
     "execution_count": 167,
     "metadata": {},
     "output_type": "execute_result"
    }
   ],
   "source": [
    "# sort_index : 인덱스를 기준으로 정렬\n",
    "pop.sort_index(ascending=True)"
   ]
  },
  {
   "cell_type": "code",
   "execution_count": null,
   "id": "4b196813",
   "metadata": {},
   "outputs": [],
   "source": []
  },
  {
   "cell_type": "code",
   "execution_count": 175,
   "id": "8a81d6b6",
   "metadata": {},
   "outputs": [
    {
     "data": {
      "text/plain": [
       "도시\n",
       "광주     1474636.0\n",
       "대구     2466052.0\n",
       "인천     2925815.0\n",
       "서울    10022181.0\n",
       "부산           NaN\n",
       "Name: 2015, dtype: float64"
      ]
     },
     "execution_count": 175,
     "metadata": {},
     "output_type": "execute_result"
    }
   ],
   "source": [
    "# 1. 열접근을 통해서 정렬하는 방법\n",
    "# sort_values() : 데이터값을 기준으로 정렬\n",
    "# NaN은 항상 ascending에 상관없이 마지막에 위치\n",
    "pop['2015'].sort_values()"
   ]
  },
  {
   "cell_type": "code",
   "execution_count": 180,
   "id": "a3eee33e",
   "metadata": {},
   "outputs": [
    {
     "data": {
      "text/html": [
       "<div>\n",
       "<style scoped>\n",
       "    .dataframe tbody tr th:only-of-type {\n",
       "        vertical-align: middle;\n",
       "    }\n",
       "\n",
       "    .dataframe tbody tr th {\n",
       "        vertical-align: top;\n",
       "    }\n",
       "\n",
       "    .dataframe thead th {\n",
       "        text-align: right;\n",
       "    }\n",
       "</style>\n",
       "<table border=\"1\" class=\"dataframe\">\n",
       "  <thead>\n",
       "    <tr style=\"text-align: right;\">\n",
       "      <th></th>\n",
       "      <th>지역</th>\n",
       "      <th>2020</th>\n",
       "      <th>2015</th>\n",
       "      <th>2010</th>\n",
       "      <th>2005</th>\n",
       "    </tr>\n",
       "    <tr>\n",
       "      <th>도시</th>\n",
       "      <th></th>\n",
       "      <th></th>\n",
       "      <th></th>\n",
       "      <th></th>\n",
       "      <th></th>\n",
       "    </tr>\n",
       "  </thead>\n",
       "  <tbody>\n",
       "    <tr>\n",
       "      <th>광주</th>\n",
       "      <td>전라권</td>\n",
       "      <td>1450062</td>\n",
       "      <td>1474636.0</td>\n",
       "      <td>1454636.0</td>\n",
       "      <td>1401745</td>\n",
       "    </tr>\n",
       "    <tr>\n",
       "      <th>대구</th>\n",
       "      <td>경상권</td>\n",
       "      <td>2418436</td>\n",
       "      <td>2466052.0</td>\n",
       "      <td>2431774.0</td>\n",
       "      <td>2456016</td>\n",
       "    </tr>\n",
       "    <tr>\n",
       "      <th>인천</th>\n",
       "      <td>수도권</td>\n",
       "      <td>2942828</td>\n",
       "      <td>2925815.0</td>\n",
       "      <td>NaN</td>\n",
       "      <td>2600495</td>\n",
       "    </tr>\n",
       "    <tr>\n",
       "      <th>서울</th>\n",
       "      <td>수도권</td>\n",
       "      <td>9668465</td>\n",
       "      <td>10022181.0</td>\n",
       "      <td>10312545.0</td>\n",
       "      <td>10167344</td>\n",
       "    </tr>\n",
       "    <tr>\n",
       "      <th>부산</th>\n",
       "      <td>경상권</td>\n",
       "      <td>3391946</td>\n",
       "      <td>NaN</td>\n",
       "      <td>NaN</td>\n",
       "      <td>3628293</td>\n",
       "    </tr>\n",
       "  </tbody>\n",
       "</table>\n",
       "</div>"
      ],
      "text/plain": [
       "     지역     2020        2015        2010      2005\n",
       "도시                                                \n",
       "광주  전라권  1450062   1474636.0   1454636.0   1401745\n",
       "대구  경상권  2418436   2466052.0   2431774.0   2456016\n",
       "인천  수도권  2942828   2925815.0         NaN   2600495\n",
       "서울  수도권  9668465  10022181.0  10312545.0  10167344\n",
       "부산  경상권  3391946         NaN         NaN   3628293"
      ]
     },
     "execution_count": 180,
     "metadata": {},
     "output_type": "execute_result"
    }
   ],
   "source": [
    "# 2. DataFrame에서 기준을 정해서 정렬하는 방법\n",
    "pop.sort_values('2015')"
   ]
  },
  {
   "cell_type": "code",
   "execution_count": 181,
   "id": "b5b26cf8",
   "metadata": {},
   "outputs": [
    {
     "data": {
      "text/html": [
       "<div>\n",
       "<style scoped>\n",
       "    .dataframe tbody tr th:only-of-type {\n",
       "        vertical-align: middle;\n",
       "    }\n",
       "\n",
       "    .dataframe tbody tr th {\n",
       "        vertical-align: top;\n",
       "    }\n",
       "\n",
       "    .dataframe thead th {\n",
       "        text-align: right;\n",
       "    }\n",
       "</style>\n",
       "<table border=\"1\" class=\"dataframe\">\n",
       "  <thead>\n",
       "    <tr style=\"text-align: right;\">\n",
       "      <th></th>\n",
       "      <th>지역</th>\n",
       "      <th>2020</th>\n",
       "      <th>2015</th>\n",
       "      <th>2010</th>\n",
       "      <th>2005</th>\n",
       "    </tr>\n",
       "    <tr>\n",
       "      <th>도시</th>\n",
       "      <th></th>\n",
       "      <th></th>\n",
       "      <th></th>\n",
       "      <th></th>\n",
       "      <th></th>\n",
       "    </tr>\n",
       "  </thead>\n",
       "  <tbody>\n",
       "    <tr>\n",
       "      <th>대구</th>\n",
       "      <td>경상권</td>\n",
       "      <td>2418436</td>\n",
       "      <td>2466052.0</td>\n",
       "      <td>2431774.0</td>\n",
       "      <td>2456016</td>\n",
       "    </tr>\n",
       "    <tr>\n",
       "      <th>부산</th>\n",
       "      <td>경상권</td>\n",
       "      <td>3391946</td>\n",
       "      <td>NaN</td>\n",
       "      <td>NaN</td>\n",
       "      <td>3628293</td>\n",
       "    </tr>\n",
       "    <tr>\n",
       "      <th>서울</th>\n",
       "      <td>수도권</td>\n",
       "      <td>9668465</td>\n",
       "      <td>10022181.0</td>\n",
       "      <td>10312545.0</td>\n",
       "      <td>10167344</td>\n",
       "    </tr>\n",
       "    <tr>\n",
       "      <th>인천</th>\n",
       "      <td>수도권</td>\n",
       "      <td>2942828</td>\n",
       "      <td>2925815.0</td>\n",
       "      <td>NaN</td>\n",
       "      <td>2600495</td>\n",
       "    </tr>\n",
       "    <tr>\n",
       "      <th>광주</th>\n",
       "      <td>전라권</td>\n",
       "      <td>1450062</td>\n",
       "      <td>1474636.0</td>\n",
       "      <td>1454636.0</td>\n",
       "      <td>1401745</td>\n",
       "    </tr>\n",
       "  </tbody>\n",
       "</table>\n",
       "</div>"
      ],
      "text/plain": [
       "     지역     2020        2015        2010      2005\n",
       "도시                                                \n",
       "대구  경상권  2418436   2466052.0   2431774.0   2456016\n",
       "부산  경상권  3391946         NaN         NaN   3628293\n",
       "서울  수도권  9668465  10022181.0  10312545.0  10167344\n",
       "인천  수도권  2942828   2925815.0         NaN   2600495\n",
       "광주  전라권  1450062   1474636.0   1454636.0   1401745"
      ]
     },
     "execution_count": 181,
     "metadata": {},
     "output_type": "execute_result"
    }
   ],
   "source": [
    "# 이중 정렬!\n",
    "# by = ['컬럼명1','컬럼명2',...] → 컬럼명 1 정렬 이후 컬럼명 2정렬\n",
    "pop.sort_values(['지역','2010'])"
   ]
  },
  {
   "cell_type": "code",
   "execution_count": null,
   "id": "4b4f3af2",
   "metadata": {},
   "outputs": [],
   "source": []
  },
  {
   "cell_type": "markdown",
   "id": "a5071329",
   "metadata": {},
   "source": [
    "## 3. score 실습 - DataFrame 정렬 복습 및 연산 실습"
   ]
  },
  {
   "cell_type": "code",
   "execution_count": 185,
   "id": "5bb1509e",
   "metadata": {},
   "outputs": [
    {
     "data": {
      "text/html": [
       "<div>\n",
       "<style scoped>\n",
       "    .dataframe tbody tr th:only-of-type {\n",
       "        vertical-align: middle;\n",
       "    }\n",
       "\n",
       "    .dataframe tbody tr th {\n",
       "        vertical-align: top;\n",
       "    }\n",
       "\n",
       "    .dataframe thead th {\n",
       "        text-align: right;\n",
       "    }\n",
       "</style>\n",
       "<table border=\"1\" class=\"dataframe\">\n",
       "  <thead>\n",
       "    <tr style=\"text-align: right;\">\n",
       "      <th></th>\n",
       "      <th>1반</th>\n",
       "      <th>2반</th>\n",
       "      <th>3반</th>\n",
       "      <th>4반</th>\n",
       "    </tr>\n",
       "    <tr>\n",
       "      <th>과목</th>\n",
       "      <th></th>\n",
       "      <th></th>\n",
       "      <th></th>\n",
       "      <th></th>\n",
       "    </tr>\n",
       "  </thead>\n",
       "  <tbody>\n",
       "    <tr>\n",
       "      <th>파이썬</th>\n",
       "      <td>45</td>\n",
       "      <td>44</td>\n",
       "      <td>73</td>\n",
       "      <td>39</td>\n",
       "    </tr>\n",
       "    <tr>\n",
       "      <th>DB</th>\n",
       "      <td>76</td>\n",
       "      <td>92</td>\n",
       "      <td>45</td>\n",
       "      <td>69</td>\n",
       "    </tr>\n",
       "    <tr>\n",
       "      <th>자바</th>\n",
       "      <td>47</td>\n",
       "      <td>92</td>\n",
       "      <td>45</td>\n",
       "      <td>69</td>\n",
       "    </tr>\n",
       "    <tr>\n",
       "      <th>크롤링</th>\n",
       "      <td>92</td>\n",
       "      <td>81</td>\n",
       "      <td>85</td>\n",
       "      <td>40</td>\n",
       "    </tr>\n",
       "    <tr>\n",
       "      <th>Web</th>\n",
       "      <td>11</td>\n",
       "      <td>79</td>\n",
       "      <td>47</td>\n",
       "      <td>26</td>\n",
       "    </tr>\n",
       "  </tbody>\n",
       "</table>\n",
       "</div>"
      ],
      "text/plain": [
       "     1반  2반  3반  4반\n",
       "과목                 \n",
       "파이썬  45  44  73  39\n",
       "DB   76  92  45  69\n",
       "자바   47  92  45  69\n",
       "크롤링  92  81  85  40\n",
       "Web  11  79  47  26"
      ]
     },
     "execution_count": 185,
     "metadata": {},
     "output_type": "execute_result"
    }
   ],
   "source": [
    "score=pd.read_csv('./data/score.csv',encoding='euc-kr', index_col='과목')\n",
    "score"
   ]
  },
  {
   "attachments": {
    "image.png": {
     "image/png": "[encoded data removed]"
    }
   },
   "cell_type": "markdown",
   "id": "9e601cf5",
   "metadata": {},
   "source": [
    "### axis=0, axis=1\n",
    "![image.png](attachment:image.png)\n",
    "- axis : 축의 방향을 뜻함('axis=0 == 행방향'과 'axis=1 == 열방향')\n",
    "- axis=0 → 위아래로!, axis=1 → 양옆으로!\n",
    "- axis=0 → 기본값"
   ]
  },
  {
   "cell_type": "code",
   "execution_count": 186,
   "id": "516e83e3",
   "metadata": {},
   "outputs": [
    {
     "data": {
      "text/html": [
       "<div>\n",
       "<style scoped>\n",
       "    .dataframe tbody tr th:only-of-type {\n",
       "        vertical-align: middle;\n",
       "    }\n",
       "\n",
       "    .dataframe tbody tr th {\n",
       "        vertical-align: top;\n",
       "    }\n",
       "\n",
       "    .dataframe thead th {\n",
       "        text-align: right;\n",
       "    }\n",
       "</style>\n",
       "<table border=\"1\" class=\"dataframe\">\n",
       "  <thead>\n",
       "    <tr style=\"text-align: right;\">\n",
       "      <th></th>\n",
       "      <th>1반</th>\n",
       "      <th>2반</th>\n",
       "      <th>3반</th>\n",
       "      <th>4반</th>\n",
       "    </tr>\n",
       "    <tr>\n",
       "      <th>과목</th>\n",
       "      <th></th>\n",
       "      <th></th>\n",
       "      <th></th>\n",
       "      <th></th>\n",
       "    </tr>\n",
       "  </thead>\n",
       "  <tbody>\n",
       "    <tr>\n",
       "      <th>파이썬</th>\n",
       "      <td>45</td>\n",
       "      <td>44</td>\n",
       "      <td>73</td>\n",
       "      <td>39</td>\n",
       "    </tr>\n",
       "    <tr>\n",
       "      <th>DB</th>\n",
       "      <td>76</td>\n",
       "      <td>92</td>\n",
       "      <td>45</td>\n",
       "      <td>69</td>\n",
       "    </tr>\n",
       "    <tr>\n",
       "      <th>자바</th>\n",
       "      <td>47</td>\n",
       "      <td>92</td>\n",
       "      <td>45</td>\n",
       "      <td>69</td>\n",
       "    </tr>\n",
       "    <tr>\n",
       "      <th>크롤링</th>\n",
       "      <td>92</td>\n",
       "      <td>81</td>\n",
       "      <td>85</td>\n",
       "      <td>40</td>\n",
       "    </tr>\n",
       "    <tr>\n",
       "      <th>Web</th>\n",
       "      <td>11</td>\n",
       "      <td>79</td>\n",
       "      <td>47</td>\n",
       "      <td>26</td>\n",
       "    </tr>\n",
       "  </tbody>\n",
       "</table>\n",
       "</div>"
      ],
      "text/plain": [
       "     1반  2반  3반  4반\n",
       "과목                 \n",
       "파이썬  45  44  73  39\n",
       "DB   76  92  45  69\n",
       "자바   47  92  45  69\n",
       "크롤링  92  81  85  40\n",
       "Web  11  79  47  26"
      ]
     },
     "execution_count": 186,
     "metadata": {},
     "output_type": "execute_result"
    }
   ],
   "source": [
    "# sum() : 합계\n",
    "# axis : 축의 방향을 설정하는 속성\n",
    "\n",
    "# axis = 0 : 기본값, 위아래 연산(행방향)\n",
    "score"
   ]
  },
  {
   "cell_type": "code",
   "execution_count": 188,
   "id": "85b5eb46",
   "metadata": {},
   "outputs": [
    {
     "data": {
      "text/plain": [
       "1반    271\n",
       "2반    388\n",
       "3반    295\n",
       "4반    243\n",
       "dtype: int64"
      ]
     },
     "execution_count": 188,
     "metadata": {},
     "output_type": "execute_result"
    }
   ],
   "source": [
    "score.sum(axis=0)"
   ]
  },
  {
   "cell_type": "code",
   "execution_count": 189,
   "id": "2903f26b",
   "metadata": {},
   "outputs": [
    {
     "data": {
      "text/plain": [
       "과목\n",
       "파이썬    201\n",
       "DB     282\n",
       "자바     253\n",
       "크롤링    298\n",
       "Web    163\n",
       "dtype: int64"
      ]
     },
     "execution_count": 189,
     "metadata": {},
     "output_type": "execute_result"
    }
   ],
   "source": [
    "score.sum(axis=1)"
   ]
  },
  {
   "cell_type": "code",
   "execution_count": 191,
   "id": "3bccffea",
   "metadata": {},
   "outputs": [
    {
     "data": {
      "text/html": [
       "<div>\n",
       "<style scoped>\n",
       "    .dataframe tbody tr th:only-of-type {\n",
       "        vertical-align: middle;\n",
       "    }\n",
       "\n",
       "    .dataframe tbody tr th {\n",
       "        vertical-align: top;\n",
       "    }\n",
       "\n",
       "    .dataframe thead th {\n",
       "        text-align: right;\n",
       "    }\n",
       "</style>\n",
       "<table border=\"1\" class=\"dataframe\">\n",
       "  <thead>\n",
       "    <tr style=\"text-align: right;\">\n",
       "      <th></th>\n",
       "      <th>1반</th>\n",
       "      <th>2반</th>\n",
       "      <th>3반</th>\n",
       "      <th>4반</th>\n",
       "      <th>5반</th>\n",
       "    </tr>\n",
       "    <tr>\n",
       "      <th>과목</th>\n",
       "      <th></th>\n",
       "      <th></th>\n",
       "      <th></th>\n",
       "      <th></th>\n",
       "      <th></th>\n",
       "    </tr>\n",
       "  </thead>\n",
       "  <tbody>\n",
       "    <tr>\n",
       "      <th>파이썬</th>\n",
       "      <td>45</td>\n",
       "      <td>44</td>\n",
       "      <td>73</td>\n",
       "      <td>39</td>\n",
       "      <td>90</td>\n",
       "    </tr>\n",
       "    <tr>\n",
       "      <th>DB</th>\n",
       "      <td>76</td>\n",
       "      <td>92</td>\n",
       "      <td>45</td>\n",
       "      <td>69</td>\n",
       "      <td>85</td>\n",
       "    </tr>\n",
       "    <tr>\n",
       "      <th>자바</th>\n",
       "      <td>47</td>\n",
       "      <td>92</td>\n",
       "      <td>45</td>\n",
       "      <td>69</td>\n",
       "      <td>88</td>\n",
       "    </tr>\n",
       "    <tr>\n",
       "      <th>크롤링</th>\n",
       "      <td>92</td>\n",
       "      <td>81</td>\n",
       "      <td>85</td>\n",
       "      <td>40</td>\n",
       "      <td>93</td>\n",
       "    </tr>\n",
       "    <tr>\n",
       "      <th>Web</th>\n",
       "      <td>11</td>\n",
       "      <td>79</td>\n",
       "      <td>47</td>\n",
       "      <td>26</td>\n",
       "      <td>99</td>\n",
       "    </tr>\n",
       "  </tbody>\n",
       "</table>\n",
       "</div>"
      ],
      "text/plain": [
       "     1반  2반  3반  4반  5반\n",
       "과목                     \n",
       "파이썬  45  44  73  39  90\n",
       "DB   76  92  45  69  85\n",
       "자바   47  92  45  69  88\n",
       "크롤링  92  81  85  40  93\n",
       "Web  11  79  47  26  99"
      ]
     },
     "execution_count": 191,
     "metadata": {},
     "output_type": "execute_result"
    }
   ],
   "source": [
    "# 새로운 컬럼 추가\n",
    "score['5반']=[90,85,88,93,99]\n",
    "score"
   ]
  },
  {
   "cell_type": "code",
   "execution_count": 196,
   "id": "774b279b",
   "metadata": {},
   "outputs": [
    {
     "data": {
      "text/html": [
       "<div>\n",
       "<style scoped>\n",
       "    .dataframe tbody tr th:only-of-type {\n",
       "        vertical-align: middle;\n",
       "    }\n",
       "\n",
       "    .dataframe tbody tr th {\n",
       "        vertical-align: top;\n",
       "    }\n",
       "\n",
       "    .dataframe thead th {\n",
       "        text-align: right;\n",
       "    }\n",
       "</style>\n",
       "<table border=\"1\" class=\"dataframe\">\n",
       "  <thead>\n",
       "    <tr style=\"text-align: right;\">\n",
       "      <th></th>\n",
       "      <th>1반</th>\n",
       "      <th>2반</th>\n",
       "      <th>3반</th>\n",
       "      <th>4반</th>\n",
       "      <th>5반</th>\n",
       "    </tr>\n",
       "    <tr>\n",
       "      <th>과목</th>\n",
       "      <th></th>\n",
       "      <th></th>\n",
       "      <th></th>\n",
       "      <th></th>\n",
       "      <th></th>\n",
       "    </tr>\n",
       "  </thead>\n",
       "  <tbody>\n",
       "    <tr>\n",
       "      <th>DB</th>\n",
       "      <td>76</td>\n",
       "      <td>92</td>\n",
       "      <td>45</td>\n",
       "      <td>69</td>\n",
       "      <td>85</td>\n",
       "    </tr>\n",
       "    <tr>\n",
       "      <th>자바</th>\n",
       "      <td>47</td>\n",
       "      <td>92</td>\n",
       "      <td>45</td>\n",
       "      <td>69</td>\n",
       "      <td>88</td>\n",
       "    </tr>\n",
       "    <tr>\n",
       "      <th>크롤링</th>\n",
       "      <td>92</td>\n",
       "      <td>81</td>\n",
       "      <td>85</td>\n",
       "      <td>40</td>\n",
       "      <td>93</td>\n",
       "    </tr>\n",
       "    <tr>\n",
       "      <th>Web</th>\n",
       "      <td>11</td>\n",
       "      <td>79</td>\n",
       "      <td>47</td>\n",
       "      <td>26</td>\n",
       "      <td>99</td>\n",
       "    </tr>\n",
       "    <tr>\n",
       "      <th>파이썬</th>\n",
       "      <td>45</td>\n",
       "      <td>44</td>\n",
       "      <td>73</td>\n",
       "      <td>39</td>\n",
       "      <td>90</td>\n",
       "    </tr>\n",
       "  </tbody>\n",
       "</table>\n",
       "</div>"
      ],
      "text/plain": [
       "     1반  2반  3반  4반  5반\n",
       "과목                     \n",
       "DB   76  92  45  69  85\n",
       "자바   47  92  45  69  88\n",
       "크롤링  92  81  85  40  93\n",
       "Web  11  79  47  26  99\n",
       "파이썬  45  44  73  39  90"
      ]
     },
     "execution_count": 196,
     "metadata": {},
     "output_type": "execute_result"
    }
   ],
   "source": [
    "# 2반을 기준으로 내림차순\n",
    "score.sort_values('2반',ascending=False)"
   ]
  },
  {
   "cell_type": "code",
   "execution_count": 201,
   "id": "016558f0",
   "metadata": {},
   "outputs": [],
   "source": [
    "# drop() → '행'을 삭제하는 기능\n",
    "# inplace = false → 기본값, True일 경우 즉시 적용\n",
    "\n",
    "score.drop('DB', inplace=True)"
   ]
  },
  {
   "cell_type": "code",
   "execution_count": 203,
   "id": "1cad153e",
   "metadata": {},
   "outputs": [
    {
     "data": {
      "text/html": [
       "<div>\n",
       "<style scoped>\n",
       "    .dataframe tbody tr th:only-of-type {\n",
       "        vertical-align: middle;\n",
       "    }\n",
       "\n",
       "    .dataframe tbody tr th {\n",
       "        vertical-align: top;\n",
       "    }\n",
       "\n",
       "    .dataframe thead th {\n",
       "        text-align: right;\n",
       "    }\n",
       "</style>\n",
       "<table border=\"1\" class=\"dataframe\">\n",
       "  <thead>\n",
       "    <tr style=\"text-align: right;\">\n",
       "      <th></th>\n",
       "      <th>1반</th>\n",
       "      <th>2반</th>\n",
       "      <th>3반</th>\n",
       "      <th>4반</th>\n",
       "      <th>5반</th>\n",
       "    </tr>\n",
       "    <tr>\n",
       "      <th>과목</th>\n",
       "      <th></th>\n",
       "      <th></th>\n",
       "      <th></th>\n",
       "      <th></th>\n",
       "      <th></th>\n",
       "    </tr>\n",
       "  </thead>\n",
       "  <tbody>\n",
       "    <tr>\n",
       "      <th>파이썬</th>\n",
       "      <td>45</td>\n",
       "      <td>44</td>\n",
       "      <td>73</td>\n",
       "      <td>39</td>\n",
       "      <td>90</td>\n",
       "    </tr>\n",
       "    <tr>\n",
       "      <th>자바</th>\n",
       "      <td>47</td>\n",
       "      <td>92</td>\n",
       "      <td>45</td>\n",
       "      <td>69</td>\n",
       "      <td>88</td>\n",
       "    </tr>\n",
       "    <tr>\n",
       "      <th>크롤링</th>\n",
       "      <td>92</td>\n",
       "      <td>81</td>\n",
       "      <td>85</td>\n",
       "      <td>40</td>\n",
       "      <td>93</td>\n",
       "    </tr>\n",
       "    <tr>\n",
       "      <th>Web</th>\n",
       "      <td>11</td>\n",
       "      <td>79</td>\n",
       "      <td>47</td>\n",
       "      <td>26</td>\n",
       "      <td>99</td>\n",
       "    </tr>\n",
       "  </tbody>\n",
       "</table>\n",
       "</div>"
      ],
      "text/plain": [
       "     1반  2반  3반  4반  5반\n",
       "과목                     \n",
       "파이썬  45  44  73  39  90\n",
       "자바   47  92  45  69  88\n",
       "크롤링  92  81  85  40  93\n",
       "Web  11  79  47  26  99"
      ]
     },
     "execution_count": 203,
     "metadata": {},
     "output_type": "execute_result"
    }
   ],
   "source": [
    "score"
   ]
  },
  {
   "cell_type": "code",
   "execution_count": 204,
   "id": "58f02a2e",
   "metadata": {},
   "outputs": [],
   "source": [
    "# del 객체 → \"열\"을 삭제\n",
    "# inplace 없이 바로 반영!\n",
    "del score['5반']"
   ]
  },
  {
   "cell_type": "code",
   "execution_count": 205,
   "id": "b3abb128",
   "metadata": {},
   "outputs": [
    {
     "data": {
      "text/html": [
       "<div>\n",
       "<style scoped>\n",
       "    .dataframe tbody tr th:only-of-type {\n",
       "        vertical-align: middle;\n",
       "    }\n",
       "\n",
       "    .dataframe tbody tr th {\n",
       "        vertical-align: top;\n",
       "    }\n",
       "\n",
       "    .dataframe thead th {\n",
       "        text-align: right;\n",
       "    }\n",
       "</style>\n",
       "<table border=\"1\" class=\"dataframe\">\n",
       "  <thead>\n",
       "    <tr style=\"text-align: right;\">\n",
       "      <th></th>\n",
       "      <th>1반</th>\n",
       "      <th>2반</th>\n",
       "      <th>3반</th>\n",
       "      <th>4반</th>\n",
       "    </tr>\n",
       "    <tr>\n",
       "      <th>과목</th>\n",
       "      <th></th>\n",
       "      <th></th>\n",
       "      <th></th>\n",
       "      <th></th>\n",
       "    </tr>\n",
       "  </thead>\n",
       "  <tbody>\n",
       "    <tr>\n",
       "      <th>파이썬</th>\n",
       "      <td>45</td>\n",
       "      <td>44</td>\n",
       "      <td>73</td>\n",
       "      <td>39</td>\n",
       "    </tr>\n",
       "    <tr>\n",
       "      <th>자바</th>\n",
       "      <td>47</td>\n",
       "      <td>92</td>\n",
       "      <td>45</td>\n",
       "      <td>69</td>\n",
       "    </tr>\n",
       "    <tr>\n",
       "      <th>크롤링</th>\n",
       "      <td>92</td>\n",
       "      <td>81</td>\n",
       "      <td>85</td>\n",
       "      <td>40</td>\n",
       "    </tr>\n",
       "    <tr>\n",
       "      <th>Web</th>\n",
       "      <td>11</td>\n",
       "      <td>79</td>\n",
       "      <td>47</td>\n",
       "      <td>26</td>\n",
       "    </tr>\n",
       "  </tbody>\n",
       "</table>\n",
       "</div>"
      ],
      "text/plain": [
       "     1반  2반  3반  4반\n",
       "과목                 \n",
       "파이썬  45  44  73  39\n",
       "자바   47  92  45  69\n",
       "크롤링  92  81  85  40\n",
       "Web  11  79  47  26"
      ]
     },
     "execution_count": 205,
     "metadata": {},
     "output_type": "execute_result"
    }
   ],
   "source": [
    "score"
   ]
  },
  {
   "cell_type": "code",
   "execution_count": 411,
   "id": "df80075e",
   "metadata": {},
   "outputs": [
    {
     "data": {
      "text/html": [
       "<div>\n",
       "<style scoped>\n",
       "    .dataframe tbody tr th:only-of-type {\n",
       "        vertical-align: middle;\n",
       "    }\n",
       "\n",
       "    .dataframe tbody tr th {\n",
       "        vertical-align: top;\n",
       "    }\n",
       "\n",
       "    .dataframe thead th {\n",
       "        text-align: right;\n",
       "    }\n",
       "</style>\n",
       "<table border=\"1\" class=\"dataframe\">\n",
       "  <thead>\n",
       "    <tr style=\"text-align: right;\">\n",
       "      <th></th>\n",
       "      <th>1반</th>\n",
       "      <th>2반</th>\n",
       "      <th>3반</th>\n",
       "      <th>4반</th>\n",
       "    </tr>\n",
       "    <tr>\n",
       "      <th>과목</th>\n",
       "      <th></th>\n",
       "      <th></th>\n",
       "      <th></th>\n",
       "      <th></th>\n",
       "    </tr>\n",
       "  </thead>\n",
       "  <tbody>\n",
       "    <tr>\n",
       "      <th>파이썬</th>\n",
       "      <td>45</td>\n",
       "      <td>44</td>\n",
       "      <td>73</td>\n",
       "      <td>39</td>\n",
       "    </tr>\n",
       "    <tr>\n",
       "      <th>DB</th>\n",
       "      <td>76</td>\n",
       "      <td>92</td>\n",
       "      <td>45</td>\n",
       "      <td>69</td>\n",
       "    </tr>\n",
       "    <tr>\n",
       "      <th>자바</th>\n",
       "      <td>47</td>\n",
       "      <td>92</td>\n",
       "      <td>45</td>\n",
       "      <td>69</td>\n",
       "    </tr>\n",
       "    <tr>\n",
       "      <th>크롤링</th>\n",
       "      <td>92</td>\n",
       "      <td>81</td>\n",
       "      <td>85</td>\n",
       "      <td>40</td>\n",
       "    </tr>\n",
       "    <tr>\n",
       "      <th>Web</th>\n",
       "      <td>11</td>\n",
       "      <td>79</td>\n",
       "      <td>47</td>\n",
       "      <td>26</td>\n",
       "    </tr>\n",
       "  </tbody>\n",
       "</table>\n",
       "</div>"
      ],
      "text/plain": [
       "     1반  2반  3반  4반\n",
       "과목                 \n",
       "파이썬  45  44  73  39\n",
       "DB   76  92  45  69\n",
       "자바   47  92  45  69\n",
       "크롤링  92  81  85  40\n",
       "Web  11  79  47  26"
      ]
     },
     "execution_count": 411,
     "metadata": {},
     "output_type": "execute_result"
    }
   ],
   "source": [
    "# 다시 불러오기\n",
    "score = pd.read_csv('./data/score.csv', encoding='cp949', index_col='과목')\n",
    "score"
   ]
  },
  {
   "cell_type": "code",
   "execution_count": null,
   "id": "3476119a",
   "metadata": {},
   "outputs": [],
   "source": [
    "#과목별 합계를 구하여 '합계' 컬럼을 생성"
   ]
  },
  {
   "cell_type": "code",
   "execution_count": 215,
   "id": "3b7fc77d",
   "metadata": {},
   "outputs": [
    {
     "data": {
      "text/html": [
       "<div>\n",
       "<style scoped>\n",
       "    .dataframe tbody tr th:only-of-type {\n",
       "        vertical-align: middle;\n",
       "    }\n",
       "\n",
       "    .dataframe tbody tr th {\n",
       "        vertical-align: top;\n",
       "    }\n",
       "\n",
       "    .dataframe thead th {\n",
       "        text-align: right;\n",
       "    }\n",
       "</style>\n",
       "<table border=\"1\" class=\"dataframe\">\n",
       "  <thead>\n",
       "    <tr style=\"text-align: right;\">\n",
       "      <th></th>\n",
       "      <th>1반</th>\n",
       "      <th>2반</th>\n",
       "      <th>3반</th>\n",
       "      <th>4반</th>\n",
       "      <th>합계</th>\n",
       "    </tr>\n",
       "    <tr>\n",
       "      <th>과목</th>\n",
       "      <th></th>\n",
       "      <th></th>\n",
       "      <th></th>\n",
       "      <th></th>\n",
       "      <th></th>\n",
       "    </tr>\n",
       "  </thead>\n",
       "  <tbody>\n",
       "    <tr>\n",
       "      <th>파이썬</th>\n",
       "      <td>45</td>\n",
       "      <td>44</td>\n",
       "      <td>73</td>\n",
       "      <td>39</td>\n",
       "      <td>201</td>\n",
       "    </tr>\n",
       "    <tr>\n",
       "      <th>DB</th>\n",
       "      <td>76</td>\n",
       "      <td>92</td>\n",
       "      <td>45</td>\n",
       "      <td>69</td>\n",
       "      <td>282</td>\n",
       "    </tr>\n",
       "    <tr>\n",
       "      <th>자바</th>\n",
       "      <td>47</td>\n",
       "      <td>92</td>\n",
       "      <td>45</td>\n",
       "      <td>69</td>\n",
       "      <td>253</td>\n",
       "    </tr>\n",
       "    <tr>\n",
       "      <th>크롤링</th>\n",
       "      <td>92</td>\n",
       "      <td>81</td>\n",
       "      <td>85</td>\n",
       "      <td>40</td>\n",
       "      <td>298</td>\n",
       "    </tr>\n",
       "    <tr>\n",
       "      <th>Web</th>\n",
       "      <td>11</td>\n",
       "      <td>79</td>\n",
       "      <td>47</td>\n",
       "      <td>26</td>\n",
       "      <td>163</td>\n",
       "    </tr>\n",
       "  </tbody>\n",
       "</table>\n",
       "</div>"
      ],
      "text/plain": [
       "     1반  2반  3반  4반   합계\n",
       "과목                      \n",
       "파이썬  45  44  73  39  201\n",
       "DB   76  92  45  69  282\n",
       "자바   47  92  45  69  253\n",
       "크롤링  92  81  85  40  298\n",
       "Web  11  79  47  26  163"
      ]
     },
     "execution_count": 215,
     "metadata": {},
     "output_type": "execute_result"
    }
   ],
   "source": [
    "score['합계']=score.sum(axis=1)\n",
    "score"
   ]
  },
  {
   "cell_type": "code",
   "execution_count": 412,
   "id": "1d36f321",
   "metadata": {},
   "outputs": [
    {
     "data": {
      "text/html": [
       "<div>\n",
       "<style scoped>\n",
       "    .dataframe tbody tr th:only-of-type {\n",
       "        vertical-align: middle;\n",
       "    }\n",
       "\n",
       "    .dataframe tbody tr th {\n",
       "        vertical-align: top;\n",
       "    }\n",
       "\n",
       "    .dataframe thead th {\n",
       "        text-align: right;\n",
       "    }\n",
       "</style>\n",
       "<table border=\"1\" class=\"dataframe\">\n",
       "  <thead>\n",
       "    <tr style=\"text-align: right;\">\n",
       "      <th></th>\n",
       "      <th>1반</th>\n",
       "      <th>2반</th>\n",
       "      <th>3반</th>\n",
       "      <th>4반</th>\n",
       "      <th>합계</th>\n",
       "    </tr>\n",
       "    <tr>\n",
       "      <th>과목</th>\n",
       "      <th></th>\n",
       "      <th></th>\n",
       "      <th></th>\n",
       "      <th></th>\n",
       "      <th></th>\n",
       "    </tr>\n",
       "  </thead>\n",
       "  <tbody>\n",
       "    <tr>\n",
       "      <th>파이썬</th>\n",
       "      <td>45</td>\n",
       "      <td>44</td>\n",
       "      <td>73</td>\n",
       "      <td>39</td>\n",
       "      <td>201</td>\n",
       "    </tr>\n",
       "    <tr>\n",
       "      <th>DB</th>\n",
       "      <td>76</td>\n",
       "      <td>92</td>\n",
       "      <td>45</td>\n",
       "      <td>69</td>\n",
       "      <td>282</td>\n",
       "    </tr>\n",
       "    <tr>\n",
       "      <th>자바</th>\n",
       "      <td>47</td>\n",
       "      <td>92</td>\n",
       "      <td>45</td>\n",
       "      <td>69</td>\n",
       "      <td>253</td>\n",
       "    </tr>\n",
       "    <tr>\n",
       "      <th>크롤링</th>\n",
       "      <td>92</td>\n",
       "      <td>81</td>\n",
       "      <td>85</td>\n",
       "      <td>40</td>\n",
       "      <td>298</td>\n",
       "    </tr>\n",
       "    <tr>\n",
       "      <th>Web</th>\n",
       "      <td>11</td>\n",
       "      <td>79</td>\n",
       "      <td>47</td>\n",
       "      <td>26</td>\n",
       "      <td>163</td>\n",
       "    </tr>\n",
       "  </tbody>\n",
       "</table>\n",
       "</div>"
      ],
      "text/plain": [
       "     1반  2반  3반  4반   합계\n",
       "과목                      \n",
       "파이썬  45  44  73  39  201\n",
       "DB   76  92  45  69  282\n",
       "자바   47  92  45  69  253\n",
       "크롤링  92  81  85  40  298\n",
       "Web  11  79  47  26  163"
      ]
     },
     "execution_count": 412,
     "metadata": {},
     "output_type": "execute_result"
    }
   ],
   "source": [
    "# 누적을 피하기 위해서는 슬라이싱을 해줘야 한다...!!\n",
    "# 정확한 슬라이싱 범위를 지정해서 누적을 피할 수 있음...!!\n",
    "\n",
    "score['합계']=score.loc[:,:'4반'].sum(axis=1)\n",
    "score"
   ]
  },
  {
   "cell_type": "code",
   "execution_count": 424,
   "id": "134ab9d8",
   "metadata": {},
   "outputs": [],
   "source": [
    "# 반 평균을 구해보기\n",
    "score.loc['반평균']=score.loc[:'Web'].mean(axis=0)"
   ]
  },
  {
   "cell_type": "code",
   "execution_count": 426,
   "id": "ca4480b1",
   "metadata": {},
   "outputs": [
    {
     "data": {
      "text/html": [
       "<div>\n",
       "<style scoped>\n",
       "    .dataframe tbody tr th:only-of-type {\n",
       "        vertical-align: middle;\n",
       "    }\n",
       "\n",
       "    .dataframe tbody tr th {\n",
       "        vertical-align: top;\n",
       "    }\n",
       "\n",
       "    .dataframe thead th {\n",
       "        text-align: right;\n",
       "    }\n",
       "</style>\n",
       "<table border=\"1\" class=\"dataframe\">\n",
       "  <thead>\n",
       "    <tr style=\"text-align: right;\">\n",
       "      <th></th>\n",
       "      <th>1반</th>\n",
       "      <th>2반</th>\n",
       "      <th>3반</th>\n",
       "      <th>4반</th>\n",
       "      <th>합계</th>\n",
       "    </tr>\n",
       "    <tr>\n",
       "      <th>과목</th>\n",
       "      <th></th>\n",
       "      <th></th>\n",
       "      <th></th>\n",
       "      <th></th>\n",
       "      <th></th>\n",
       "    </tr>\n",
       "  </thead>\n",
       "  <tbody>\n",
       "    <tr>\n",
       "      <th>파이썬</th>\n",
       "      <td>45</td>\n",
       "      <td>44</td>\n",
       "      <td>73</td>\n",
       "      <td>39</td>\n",
       "      <td>201</td>\n",
       "    </tr>\n",
       "    <tr>\n",
       "      <th>DB</th>\n",
       "      <td>76</td>\n",
       "      <td>92</td>\n",
       "      <td>45</td>\n",
       "      <td>69</td>\n",
       "      <td>282</td>\n",
       "    </tr>\n",
       "    <tr>\n",
       "      <th>자바</th>\n",
       "      <td>47</td>\n",
       "      <td>92</td>\n",
       "      <td>45</td>\n",
       "      <td>69</td>\n",
       "      <td>253</td>\n",
       "    </tr>\n",
       "    <tr>\n",
       "      <th>크롤링</th>\n",
       "      <td>92</td>\n",
       "      <td>81</td>\n",
       "      <td>85</td>\n",
       "      <td>40</td>\n",
       "      <td>298</td>\n",
       "    </tr>\n",
       "    <tr>\n",
       "      <th>Web</th>\n",
       "      <td>11</td>\n",
       "      <td>79</td>\n",
       "      <td>47</td>\n",
       "      <td>26</td>\n",
       "      <td>163</td>\n",
       "    </tr>\n",
       "    <tr>\n",
       "      <th>반평균</th>\n",
       "      <td>54</td>\n",
       "      <td>77</td>\n",
       "      <td>59</td>\n",
       "      <td>48</td>\n",
       "      <td>239</td>\n",
       "    </tr>\n",
       "  </tbody>\n",
       "</table>\n",
       "</div>"
      ],
      "text/plain": [
       "     1반  2반  3반  4반   합계\n",
       "과목                      \n",
       "파이썬  45  44  73  39  201\n",
       "DB   76  92  45  69  282\n",
       "자바   47  92  45  69  253\n",
       "크롤링  92  81  85  40  298\n",
       "Web  11  79  47  26  163\n",
       "반평균  54  77  59  48  239"
      ]
     },
     "execution_count": 426,
     "metadata": {},
     "output_type": "execute_result"
    }
   ],
   "source": [
    "score=score.astype(int)\n",
    "score"
   ]
  },
  {
   "cell_type": "markdown",
   "id": "34d7ee31",
   "metadata": {},
   "source": [
    "### .apply() 함수\n",
    "- pandas 객체(Series, DataFrame)에 \"열\" 혹은 \"행\"에 대해 함수를 적용하게 해주는 메소드\n",
    "- pandas 라이브러리에 다른 라이브러리의 함수를 적용하는 방법\n",
    "    - numpy의 라이브러리 엮을 때 사용"
   ]
  },
  {
   "cell_type": "code",
   "execution_count": 428,
   "id": "b3a13c27",
   "metadata": {},
   "outputs": [
    {
     "data": {
      "text/html": [
       "<div>\n",
       "<style scoped>\n",
       "    .dataframe tbody tr th:only-of-type {\n",
       "        vertical-align: middle;\n",
       "    }\n",
       "\n",
       "    .dataframe tbody tr th {\n",
       "        vertical-align: top;\n",
       "    }\n",
       "\n",
       "    .dataframe thead th {\n",
       "        text-align: right;\n",
       "    }\n",
       "</style>\n",
       "<table border=\"1\" class=\"dataframe\">\n",
       "  <thead>\n",
       "    <tr style=\"text-align: right;\">\n",
       "      <th></th>\n",
       "      <th>Name</th>\n",
       "      <th>Email</th>\n",
       "    </tr>\n",
       "  </thead>\n",
       "  <tbody>\n",
       "    <tr>\n",
       "      <th>0</th>\n",
       "      <td>John</td>\n",
       "      <td>john@gmail.com</td>\n",
       "    </tr>\n",
       "    <tr>\n",
       "      <th>1</th>\n",
       "      <td>Anna</td>\n",
       "      <td>anna@yahoo.com</td>\n",
       "    </tr>\n",
       "    <tr>\n",
       "      <th>2</th>\n",
       "      <td>Peter</td>\n",
       "      <td>peter@gmail.com</td>\n",
       "    </tr>\n",
       "    <tr>\n",
       "      <th>3</th>\n",
       "      <td>Linda</td>\n",
       "      <td>linda@outlook.com</td>\n",
       "    </tr>\n",
       "  </tbody>\n",
       "</table>\n",
       "</div>"
      ],
      "text/plain": [
       "    Name              Email\n",
       "0   John     john@gmail.com\n",
       "1   Anna     anna@yahoo.com\n",
       "2  Peter    peter@gmail.com\n",
       "3  Linda  linda@outlook.com"
      ]
     },
     "execution_count": 428,
     "metadata": {},
     "output_type": "execute_result"
    }
   ],
   "source": [
    "data = {\n",
    "    'Name': ['John', 'Anna', 'Peter', 'Linda'],\n",
    "    'Email': ['john@gmail.com', 'anna@yahoo.com', 'peter@gmail.com', 'linda@outlook.com']\n",
    "}\n",
    "df = pd.DataFrame(data)\n",
    "df"
   ]
  },
  {
   "cell_type": "code",
   "execution_count": 429,
   "id": "91df81cc",
   "metadata": {},
   "outputs": [],
   "source": [
    "# 각 Email부분에서 도메인을 추출\n",
    "# '@'기호 기준ㄴ으로 도메인 주소를 분할\n",
    "\n",
    "def extract_domain(email) :\n",
    "    return email.split('@')[1]"
   ]
  },
  {
   "cell_type": "code",
   "execution_count": 450,
   "id": "9744e381",
   "metadata": {},
   "outputs": [
    {
     "data": {
      "text/html": [
       "<div>\n",
       "<style scoped>\n",
       "    .dataframe tbody tr th:only-of-type {\n",
       "        vertical-align: middle;\n",
       "    }\n",
       "\n",
       "    .dataframe tbody tr th {\n",
       "        vertical-align: top;\n",
       "    }\n",
       "\n",
       "    .dataframe thead th {\n",
       "        text-align: right;\n",
       "    }\n",
       "</style>\n",
       "<table border=\"1\" class=\"dataframe\">\n",
       "  <thead>\n",
       "    <tr style=\"text-align: right;\">\n",
       "      <th></th>\n",
       "      <th>Name</th>\n",
       "      <th>Email</th>\n",
       "      <th>Domain</th>\n",
       "    </tr>\n",
       "  </thead>\n",
       "  <tbody>\n",
       "    <tr>\n",
       "      <th>0</th>\n",
       "      <td>John</td>\n",
       "      <td>john@gmail.com</td>\n",
       "      <td>gmail.com</td>\n",
       "    </tr>\n",
       "    <tr>\n",
       "      <th>1</th>\n",
       "      <td>Anna</td>\n",
       "      <td>anna@yahoo.com</td>\n",
       "      <td>yahoo.com</td>\n",
       "    </tr>\n",
       "    <tr>\n",
       "      <th>2</th>\n",
       "      <td>Peter</td>\n",
       "      <td>peter@gmail.com</td>\n",
       "      <td>gmail.com</td>\n",
       "    </tr>\n",
       "    <tr>\n",
       "      <th>3</th>\n",
       "      <td>Linda</td>\n",
       "      <td>linda@outlook.com</td>\n",
       "      <td>outlook.com</td>\n",
       "    </tr>\n",
       "  </tbody>\n",
       "</table>\n",
       "</div>"
      ],
      "text/plain": [
       "    Name              Email       Domain\n",
       "0   John     john@gmail.com    gmail.com\n",
       "1   Anna     anna@yahoo.com    yahoo.com\n",
       "2  Peter    peter@gmail.com    gmail.com\n",
       "3  Linda  linda@outlook.com  outlook.com"
      ]
     },
     "execution_count": 450,
     "metadata": {},
     "output_type": "execute_result"
    }
   ],
   "source": [
    "df['Domain']= df['Email'].apply(extract_domain)\n",
    "df"
   ]
  },
  {
   "cell_type": "code",
   "execution_count": 454,
   "id": "e9d0b240",
   "metadata": {},
   "outputs": [],
   "source": [
    "def plus(num):\n",
    "    return num+10"
   ]
  },
  {
   "cell_type": "code",
   "execution_count": 470,
   "id": "e05505ec",
   "metadata": {},
   "outputs": [
    {
     "data": {
      "text/html": [
       "<div>\n",
       "<style scoped>\n",
       "    .dataframe tbody tr th:only-of-type {\n",
       "        vertical-align: middle;\n",
       "    }\n",
       "\n",
       "    .dataframe tbody tr th {\n",
       "        vertical-align: top;\n",
       "    }\n",
       "\n",
       "    .dataframe thead th {\n",
       "        text-align: right;\n",
       "    }\n",
       "</style>\n",
       "<table border=\"1\" class=\"dataframe\">\n",
       "  <thead>\n",
       "    <tr style=\"text-align: right;\">\n",
       "      <th></th>\n",
       "      <th>1반</th>\n",
       "      <th>2반</th>\n",
       "      <th>3반</th>\n",
       "      <th>4반</th>\n",
       "      <th>합계</th>\n",
       "    </tr>\n",
       "    <tr>\n",
       "      <th>과목</th>\n",
       "      <th></th>\n",
       "      <th></th>\n",
       "      <th></th>\n",
       "      <th></th>\n",
       "      <th></th>\n",
       "    </tr>\n",
       "  </thead>\n",
       "  <tbody>\n",
       "    <tr>\n",
       "      <th>파이썬</th>\n",
       "      <td>55</td>\n",
       "      <td>54</td>\n",
       "      <td>83</td>\n",
       "      <td>49</td>\n",
       "      <td>211</td>\n",
       "    </tr>\n",
       "    <tr>\n",
       "      <th>DB</th>\n",
       "      <td>86</td>\n",
       "      <td>102</td>\n",
       "      <td>55</td>\n",
       "      <td>79</td>\n",
       "      <td>292</td>\n",
       "    </tr>\n",
       "    <tr>\n",
       "      <th>자바</th>\n",
       "      <td>57</td>\n",
       "      <td>102</td>\n",
       "      <td>55</td>\n",
       "      <td>79</td>\n",
       "      <td>263</td>\n",
       "    </tr>\n",
       "    <tr>\n",
       "      <th>크롤링</th>\n",
       "      <td>102</td>\n",
       "      <td>91</td>\n",
       "      <td>95</td>\n",
       "      <td>50</td>\n",
       "      <td>308</td>\n",
       "    </tr>\n",
       "    <tr>\n",
       "      <th>Web</th>\n",
       "      <td>21</td>\n",
       "      <td>89</td>\n",
       "      <td>57</td>\n",
       "      <td>36</td>\n",
       "      <td>173</td>\n",
       "    </tr>\n",
       "    <tr>\n",
       "      <th>반평균</th>\n",
       "      <td>64</td>\n",
       "      <td>87</td>\n",
       "      <td>69</td>\n",
       "      <td>58</td>\n",
       "      <td>249</td>\n",
       "    </tr>\n",
       "  </tbody>\n",
       "</table>\n",
       "</div>"
      ],
      "text/plain": [
       "      1반   2반  3반  4반   합계\n",
       "과목                        \n",
       "파이썬   55   54  83  49  211\n",
       "DB    86  102  55  79  292\n",
       "자바    57  102  55  79  263\n",
       "크롤링  102   91  95  50  308\n",
       "Web   21   89  57  36  173\n",
       "반평균   64   87  69  58  249"
      ]
     },
     "execution_count": 470,
     "metadata": {},
     "output_type": "execute_result"
    }
   ],
   "source": [
    "# applymap() → \"요소\"전체에 접근해서 함수를 적용시키는 메소드\n",
    "score.applymap(plus)"
   ]
  },
  {
   "cell_type": "code",
   "execution_count": null,
   "id": "1c41def8",
   "metadata": {},
   "outputs": [],
   "source": []
  },
  {
   "cell_type": "code",
   "execution_count": null,
   "id": "8b593b44",
   "metadata": {},
   "outputs": [],
   "source": []
  },
  {
   "cell_type": "code",
   "execution_count": null,
   "id": "d37126fa",
   "metadata": {},
   "outputs": [],
   "source": []
  },
  {
   "cell_type": "code",
   "execution_count": null,
   "id": "f7255497",
   "metadata": {},
   "outputs": [],
   "source": []
  },
  {
   "cell_type": "code",
   "execution_count": null,
   "id": "08e55d86",
   "metadata": {},
   "outputs": [],
   "source": []
  },
  {
   "cell_type": "code",
   "execution_count": null,
   "id": "450a2e18",
   "metadata": {},
   "outputs": [],
   "source": []
  },
  {
   "cell_type": "code",
   "execution_count": null,
   "id": "16a950ad",
   "metadata": {},
   "outputs": [],
   "source": []
  },
  {
   "cell_type": "code",
   "execution_count": null,
   "id": "b2d045ae",
   "metadata": {},
   "outputs": [],
   "source": []
  },
  {
   "cell_type": "code",
   "execution_count": null,
   "id": "68de89e6",
   "metadata": {},
   "outputs": [],
   "source": []
  },
  {
   "cell_type": "code",
   "execution_count": null,
   "id": "ab51fb21",
   "metadata": {},
   "outputs": [],
   "source": []
  },
  {
   "cell_type": "code",
   "execution_count": null,
   "id": "06283725",
   "metadata": {},
   "outputs": [],
   "source": []
  }
 ],
 "metadata": {
  "kernelspec": {
   "display_name": "Python 3 (ipykernel)",
   "language": "python",
   "name": "python3"
  },
  "language_info": {
   "codemirror_mode": {
    "name": "ipython",
    "version": 3
   },
   "file_extension": ".py",
   "mimetype": "text/x-python",
   "name": "python",
   "nbconvert_exporter": "python",
   "pygments_lexer": "ipython3",
   "version": "3.11.3"
  }
 },
 "nbformat": 4,
 "nbformat_minor": 5
}
