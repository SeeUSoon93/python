{
 "cells": [
  {
   "cell_type": "markdown",
   "id": "848a788d",
   "metadata": {},
   "source": [
    "## 1. pandas\n",
    "- pannel data의 약자\n",
    "- 1. 다양한 파일 형식 지원 가능 → csv, excel, SQL, JSON 등등\n",
    "- 2. 데이터 정재와 조작 특화된 라이브러리\n",
    "- 3. DataFrame과 Series는 기본적으로 np.array(ndarray) 구조\n",
    "    - numpy 라이브러리 호환 잘됨    "
   ]
  },
  {
   "cell_type": "markdown",
   "id": "7c998d2d",
   "metadata": {},
   "source": [
    "### 1.1 pandas에서 제공하는 데이터 구조\n",
    "- Series : 1차원 배열 형태의 데이터 구조\n",
    "    - index + value\n",
    "- DataFrame : 2차원 배열 형태의 데이터 구조\n",
    "    - Series들의 모음\n",
    "    - column(열) + row(행) 구조\n",
    "    - 서로 다른 자료형을 저장하여 활용할 수 있다\n",
    "\n",
    "- 우리 궁극적인 목적은 \"데이터 분석\"이다!!"
   ]
  },
  {
   "cell_type": "code",
   "execution_count": 1,
   "id": "0e7b49c2",
   "metadata": {},
   "outputs": [],
   "source": [
    "import numpy as np\n",
    "import pandas as pd"
   ]
  },
  {
   "cell_type": "markdown",
   "id": "9cbe8255",
   "metadata": {},
   "source": [
    "### 1 Series 다루기"
   ]
  },
  {
   "cell_type": "markdown",
   "id": "dd8eb1f7",
   "metadata": {},
   "source": [
    "### 1.1 Series 생성"
   ]
  },
  {
   "cell_type": "code",
   "execution_count": 2,
   "id": "b420fa5f",
   "metadata": {
    "scrolled": true
   },
   "outputs": [
    {
     "name": "stdout",
     "output_type": "stream",
     "text": [
      "0    9668465\n",
      "1    3391946\n",
      "2    2942828\n",
      "3    1450062\n",
      "dtype: int64\n",
      "\n",
      "서울    9668465\n",
      "부산    3391946\n",
      "인천    2942828\n",
      "광주    1450062\n",
      "dtype: int64\n"
     ]
    }
   ],
   "source": [
    "# Series 생성\n",
    "pop = pd.Series([9668465,3391946,2942828,1450062])\n",
    "print(pop, end='\\n\\n')\n",
    "\n",
    "# index 명 지어주기\n",
    "# pd.Series([시퀀스 자료구조, index=['인덱스명1','인덱스명2'...]])\n",
    "pop = pd.Series([9668465,3391946,2942828,1450062],\n",
    "                index=['서울','부산','인천','광주'])\n",
    "print(pop)"
   ]
  },
  {
   "cell_type": "code",
   "execution_count": 3,
   "id": "ad21e801",
   "metadata": {},
   "outputs": [
    {
     "data": {
      "text/plain": [
       "True"
      ]
     },
     "execution_count": 3,
     "metadata": {},
     "output_type": "execute_result"
    }
   ],
   "source": [
    "# index 명을 부여해도 index 값이 사라지지는 않는다\n",
    "pop[0] == pop['서울']"
   ]
  },
  {
   "cell_type": "code",
   "execution_count": 4,
   "id": "304b4861",
   "metadata": {},
   "outputs": [
    {
     "name": "stdout",
     "output_type": "stream",
     "text": [
      "[9668465 3391946 2942828 1450062]\n",
      "\n",
      "<PandasArray>\n",
      "[9668465, 3391946, 2942828, 1450062]\n",
      "Length: 4, dtype: int64\n"
     ]
    }
   ],
   "source": [
    "# Series 값 확인\n",
    "print(pop.values, end='\\n\\n')\n",
    "print(pop.array)"
   ]
  },
  {
   "cell_type": "code",
   "execution_count": 5,
   "id": "581a6d03",
   "metadata": {},
   "outputs": [
    {
     "data": {
      "text/plain": [
       "Index(['서울', '부산', '인천', '광주'], dtype='object')"
      ]
     },
     "execution_count": 5,
     "metadata": {},
     "output_type": "execute_result"
    }
   ],
   "source": [
    "# Series index 확인\n",
    "pop.index"
   ]
  },
  {
   "cell_type": "code",
   "execution_count": 6,
   "id": "9b548160",
   "metadata": {},
   "outputs": [
    {
     "name": "stdout",
     "output_type": "stream",
     "text": [
      "int64\n",
      "<class 'pandas.core.series.Series'>\n"
     ]
    }
   ],
   "source": [
    "# Series 데이터 타입 확인\n",
    "print(pop.dtype) # 요소들의 타입 확인\n",
    "print(type(pop)) # Series 타입 확인"
   ]
  },
  {
   "cell_type": "code",
   "execution_count": 7,
   "id": "42c7696a",
   "metadata": {},
   "outputs": [],
   "source": [
    "# Series에 이름 지정\n",
    "# Series에 큰 타이틀 이름 지정\n",
    "\n",
    "pop.name = '인구'\n",
    "\n",
    "#Series에 index 이름 지정\n",
    "pop.index.name = '지역'"
   ]
  },
  {
   "cell_type": "code",
   "execution_count": 8,
   "id": "35646289",
   "metadata": {},
   "outputs": [
    {
     "data": {
      "text/plain": [
       "지역\n",
       "서울    9668465\n",
       "부산    3391946\n",
       "인천    2942828\n",
       "광주    1450062\n",
       "Name: 인구, dtype: int64"
      ]
     },
     "execution_count": 8,
     "metadata": {},
     "output_type": "execute_result"
    }
   ],
   "source": [
    "pop"
   ]
  },
  {
   "cell_type": "markdown",
   "id": "10c7e104",
   "metadata": {},
   "source": [
    "### 1.2 Series 인덱싱, 슬라이싱\n",
    "- 인덱싱 : 1개의 요소를 가리키는 것\n",
    "= 슬라이싱 : 여러개의 요소를 잘라내는 것"
   ]
  },
  {
   "cell_type": "code",
   "execution_count": 9,
   "id": "80b46f7e",
   "metadata": {},
   "outputs": [
    {
     "name": "stdout",
     "output_type": "stream",
     "text": [
      "3391946\n",
      "3391946\n",
      "지역\n",
      "서울    9668465\n",
      "광주    1450062\n",
      "부산    3391946\n",
      "Name: 인구, dtype: int64\n",
      "지역\n",
      "서울    9668465\n",
      "광주    1450062\n",
      "부산    3391946\n",
      "Name: 인구, dtype: int64\n"
     ]
    }
   ],
   "source": [
    "print(pop[1]) # 정수 인덱싱\n",
    "print(pop['부산']) # index 병멸 인데싱\n",
    "print(pop[[0,3,1]]) # 다중 인덱싱(정수)\n",
    "print(pop[['서울','광주','부산']]) #다중 인덱싱(정수)"
   ]
  },
  {
   "cell_type": "markdown",
   "id": "863744a7",
   "metadata": {},
   "source": [
    "### 1.3 \"iloc\"와 \"loc\"속성\n",
    "    - iloc : integer location(정수 위치) → \"행번호\"를 가지고 값을 인덱싱 하는 방법\n",
    "    - loc : location(위치) →\"index 별명\"을 가지고 값을 인덱싱, 슬라이싱 하는 방법"
   ]
  },
  {
   "cell_type": "code",
   "execution_count": 10,
   "id": "bf10fae0",
   "metadata": {},
   "outputs": [
    {
     "name": "stdout",
     "output_type": "stream",
     "text": [
      "9668465\n",
      "지역\n",
      "서울    9668465\n",
      "부산    3391946\n",
      "Name: 인구, dtype: int64\n"
     ]
    }
   ],
   "source": [
    "print(pop.iloc[0])\n",
    "print(pop.iloc[0:2])"
   ]
  },
  {
   "cell_type": "markdown",
   "id": "6d724e5a",
   "metadata": {},
   "source": [
    "### 1.4 Series Boolean 인덱싱\n",
    "- 특정 조건을 만족하는 값들의 인덱싱\n",
    "- Series[Boolean mask]"
   ]
  },
  {
   "cell_type": "code",
   "execution_count": 11,
   "id": "a991fa81",
   "metadata": {},
   "outputs": [
    {
     "data": {
      "text/plain": [
       "지역\n",
       "서울    9668465\n",
       "부산    3391946\n",
       "인천    2942828\n",
       "Name: 인구, dtype: int64"
      ]
     },
     "execution_count": 11,
     "metadata": {},
     "output_type": "execute_result"
    }
   ],
   "source": [
    "pop[pop >= 2500000]"
   ]
  },
  {
   "cell_type": "markdown",
   "id": "b448f615",
   "metadata": {},
   "source": [
    "## Series Boolean 인덱싱, 연산 실습!\n",
    "- average monthly wage : 월 평균임금\n",
    "- average daily wage : 일 평균임금"
   ]
  },
  {
   "cell_type": "code",
   "execution_count": 12,
   "id": "cd5d1d9b",
   "metadata": {},
   "outputs": [
    {
     "data": {
      "text/plain": [
       "IT기획자      8644000\n",
       "데이터분석가     7158000\n",
       "응용SW개발자    6426000\n",
       "IT품질관리자    8294000\n",
       "dtype: int64"
      ]
     },
     "execution_count": 12,
     "metadata": {},
     "output_type": "execute_result"
    }
   ],
   "source": [
    "data = {'IT기획자':8644000, '데이터분석가':7158000,\n",
    "       '응용SW개발자':6426000, 'IT품질관리자':8294000}\n",
    "\n",
    "# 딕셔너리 자료형을 Series로 변환\n",
    "sw_M_wage = pd.Series(data)\n",
    "sw_M_wage"
   ]
  },
  {
   "cell_type": "code",
   "execution_count": 13,
   "id": "9802f910",
   "metadata": {},
   "outputs": [
    {
     "data": {
      "text/plain": [
       "IT기획자        9543000\n",
       "데이터분석가      11226000\n",
       "시스템SW개발자     5100000\n",
       "IT마케터        7801000\n",
       "dtype: int64"
      ]
     },
     "execution_count": 13,
     "metadata": {},
     "output_type": "execute_result"
    }
   ],
   "source": [
    "data2 = {'IT기획자':9543000, '데이터분석가':11226000,\n",
    "       '시스템SW개발자':5100000, 'IT마케터':7801000}\n",
    "\n",
    "sw_M_wage2 = pd.Series(data2)\n",
    "sw_M_wage2"
   ]
  },
  {
   "cell_type": "code",
   "execution_count": 14,
   "id": "08e604cb",
   "metadata": {},
   "outputs": [
    {
     "data": {
      "text/plain": [
       "IT기획자      375826\n",
       "데이터분석가     311217\n",
       "응용SW개발자    279391\n",
       "IT품질관리자    360608\n",
       "dtype: int32"
      ]
     },
     "execution_count": 14,
     "metadata": {},
     "output_type": "execute_result"
    }
   ],
   "source": [
    "# 일 평균임금 계산\n",
    "# 실제로는 3개월 간의 총 임금을 그 기간의 총 일수로 나눠서 산정\n",
    "# 대충 일한 일 수로만 계산해보자(23일)\n",
    "\n",
    "sw_D_wage = (sw_M_wage/23).astype(int)\n",
    "sw_D_wage"
   ]
  },
  {
   "cell_type": "code",
   "execution_count": 15,
   "id": "40a58cdf",
   "metadata": {},
   "outputs": [
    {
     "data": {
      "text/plain": [
       "IT기획자        899000.0\n",
       "IT마케터             NaN\n",
       "IT품질관리자           NaN\n",
       "데이터분석가      4068000.0\n",
       "시스템SW개발자          NaN\n",
       "응용SW개발자           NaN\n",
       "dtype: float64"
      ]
     },
     "execution_count": 15,
     "metadata": {},
     "output_type": "execute_result"
    }
   ],
   "source": [
    "# 두 회사의 차이를 비교하기 위해 연산 실행\n",
    "# Series끼리의 연산(가능하나 inner join으로만 나오게 된다)\n",
    "# NaN : 결측치(비어있는 값)\n",
    "\n",
    "wage_minus = sw_M_wage2 - sw_M_wage\n",
    "wage_minus"
   ]
  },
  {
   "cell_type": "code",
   "execution_count": 16,
   "id": "ffd88226",
   "metadata": {},
   "outputs": [
    {
     "data": {
      "text/plain": [
       "IT기획자      899000\n",
       "데이터분석가    4068000\n",
       "dtype: int32"
      ]
     },
     "execution_count": 16,
     "metadata": {},
     "output_type": "execute_result"
    }
   ],
   "source": [
    "# 비어있지 않는 데이터만 보는 경우\n",
    "# notnull()\n",
    "wage_minus[wage_minus.notnull()].astype(int)"
   ]
  },
  {
   "cell_type": "code",
   "execution_count": 17,
   "id": "804d5b56",
   "metadata": {},
   "outputs": [
    {
     "data": {
      "text/plain": [
       "IT마케터      NaN\n",
       "IT품질관리자    NaN\n",
       "시스템SW개발자   NaN\n",
       "응용SW개발자    NaN\n",
       "dtype: float64"
      ]
     },
     "execution_count": 17,
     "metadata": {},
     "output_type": "execute_result"
    }
   ],
   "source": [
    "# 비어있는 데이터만 보는 경우\n",
    "# isnull()\n",
    "wage_minus[wage_minus.isnull()]"
   ]
  },
  {
   "cell_type": "markdown",
   "id": "3a0c8f28",
   "metadata": {},
   "source": [
    "### 1.5 Series 데이터 추가, 수정, 삭제"
   ]
  },
  {
   "cell_type": "code",
   "execution_count": 19,
   "id": "ccf3575b",
   "metadata": {},
   "outputs": [
    {
     "data": {
      "text/plain": [
       "IT기획자        9543000\n",
       "데이터분석가      11226000\n",
       "시스템SW개발자     5100000\n",
       "IT마케터        7801000\n",
       "dtype: int64"
      ]
     },
     "execution_count": 19,
     "metadata": {},
     "output_type": "execute_result"
    }
   ],
   "source": [
    "# 수정\n",
    "sw_M_wage2"
   ]
  },
  {
   "cell_type": "code",
   "execution_count": 21,
   "id": "925e05e5",
   "metadata": {},
   "outputs": [
    {
     "data": {
      "text/plain": [
       "IT기획자        9742000\n",
       "데이터분석가      11226000\n",
       "시스템SW개발자     5100000\n",
       "IT마케터        7801000\n",
       "dtype: int64"
      ]
     },
     "execution_count": 21,
     "metadata": {},
     "output_type": "execute_result"
    }
   ],
   "source": [
    "sw_M_wage2['IT기획자'] = 9742000\n",
    "sw_M_wage2"
   ]
  },
  {
   "cell_type": "code",
   "execution_count": 22,
   "id": "615f5294",
   "metadata": {},
   "outputs": [
    {
     "data": {
      "text/plain": [
       "IT기획자        9742000\n",
       "데이터분석가      11226000\n",
       "시스템SW개발자     5100000\n",
       "IT마케터        7801000\n",
       "IT컨설턴트       9805000\n",
       "dtype: int64"
      ]
     },
     "execution_count": 22,
     "metadata": {},
     "output_type": "execute_result"
    }
   ],
   "source": [
    "# 추가\n",
    "sw_M_wage2['IT컨설턴트'] = 9805000\n",
    "sw_M_wage2"
   ]
  },
  {
   "cell_type": "code",
   "execution_count": 24,
   "id": "935cf32c",
   "metadata": {},
   "outputs": [],
   "source": [
    "# 삭제\n",
    "del sw_M_wage2['시스템SW개발자']"
   ]
  },
  {
   "cell_type": "code",
   "execution_count": 25,
   "id": "939c4945",
   "metadata": {},
   "outputs": [
    {
     "data": {
      "text/plain": [
       "IT기획자      9742000\n",
       "데이터분석가    11226000\n",
       "IT마케터      7801000\n",
       "IT컨설턴트     9805000\n",
       "dtype: int64"
      ]
     },
     "execution_count": 25,
     "metadata": {},
     "output_type": "execute_result"
    }
   ],
   "source": [
    "sw_M_wage2"
   ]
  },
  {
   "cell_type": "code",
   "execution_count": null,
   "id": "bd4a3d75",
   "metadata": {},
   "outputs": [],
   "source": []
  },
  {
   "cell_type": "markdown",
   "id": "6ab9d7db",
   "metadata": {},
   "source": [
    "## 2. DataFrame\n",
    "- 2차원 데이터에서 사용되는 자료구조\n",
    "- 엑셀, Csv, DB, API 등등 불러오되, 다시 재구성해야 함"
   ]
  },
  {
   "cell_type": "code",
   "execution_count": 26,
   "id": "e60a71ca",
   "metadata": {},
   "outputs": [
    {
     "data": {
      "text/plain": [
       "{'ITPM': [463, 9543, 57],\n",
       " '업무분석가': [544, 11226, 68],\n",
       " 'IT아키텍트': [518, 10672, 64],\n",
       " 'UIUX개발자': [291, 6003, 36]}"
      ]
     },
     "execution_count": 26,
     "metadata": {},
     "output_type": "execute_result"
    }
   ],
   "source": [
    "# 첫번쨰 방법 : 딕셔너리를 통한 컬럼 단위로 생성\n",
    "\n",
    "data = {'ITPM':[463,9543,57],\n",
    "        '업무분석가':[544,11226,68],\n",
    "       'IT아키텍트':[518,10672,64],\n",
    "       'UIUX개발자':[291,6003,36]}\n",
    "data"
   ]
  },
  {
   "cell_type": "code",
   "execution_count": 29,
   "id": "b62b123f",
   "metadata": {},
   "outputs": [
    {
     "data": {
      "text/html": [
       "<div>\n",
       "<style scoped>\n",
       "    .dataframe tbody tr th:only-of-type {\n",
       "        vertical-align: middle;\n",
       "    }\n",
       "\n",
       "    .dataframe tbody tr th {\n",
       "        vertical-align: top;\n",
       "    }\n",
       "\n",
       "    .dataframe thead th {\n",
       "        text-align: right;\n",
       "    }\n",
       "</style>\n",
       "<table border=\"1\" class=\"dataframe\">\n",
       "  <thead>\n",
       "    <tr style=\"text-align: right;\">\n",
       "      <th></th>\n",
       "      <th>ITPM</th>\n",
       "      <th>업무분석가</th>\n",
       "      <th>IT아키텍트</th>\n",
       "      <th>UIUX개발자</th>\n",
       "    </tr>\n",
       "  </thead>\n",
       "  <tbody>\n",
       "    <tr>\n",
       "      <th>0</th>\n",
       "      <td>463</td>\n",
       "      <td>544</td>\n",
       "      <td>518</td>\n",
       "      <td>291</td>\n",
       "    </tr>\n",
       "    <tr>\n",
       "      <th>1</th>\n",
       "      <td>9543</td>\n",
       "      <td>11226</td>\n",
       "      <td>10672</td>\n",
       "      <td>6003</td>\n",
       "    </tr>\n",
       "    <tr>\n",
       "      <th>2</th>\n",
       "      <td>57</td>\n",
       "      <td>68</td>\n",
       "      <td>64</td>\n",
       "      <td>36</td>\n",
       "    </tr>\n",
       "  </tbody>\n",
       "</table>\n",
       "</div>"
      ],
      "text/plain": [
       "   ITPM  업무분석가  IT아키텍트  UIUX개발자\n",
       "0   463    544     518      291\n",
       "1  9543  11226   10672     6003\n",
       "2    57     68      64       36"
      ]
     },
     "execution_count": 29,
     "metadata": {},
     "output_type": "execute_result"
    }
   ],
   "source": [
    "# DataFrame 화\n",
    "df = pd.DataFrame(data)\n",
    "df"
   ]
  },
  {
   "cell_type": "code",
   "execution_count": 31,
   "id": "e911208f",
   "metadata": {},
   "outputs": [
    {
     "data": {
      "text/html": [
       "<div>\n",
       "<style scoped>\n",
       "    .dataframe tbody tr th:only-of-type {\n",
       "        vertical-align: middle;\n",
       "    }\n",
       "\n",
       "    .dataframe tbody tr th {\n",
       "        vertical-align: top;\n",
       "    }\n",
       "\n",
       "    .dataframe thead th {\n",
       "        text-align: right;\n",
       "    }\n",
       "</style>\n",
       "<table border=\"1\" class=\"dataframe\">\n",
       "  <thead>\n",
       "    <tr style=\"text-align: right;\">\n",
       "      <th></th>\n",
       "      <th>ITPM</th>\n",
       "      <th>업무분석가</th>\n",
       "      <th>IT아키텍트</th>\n",
       "      <th>UIUX개발자</th>\n",
       "    </tr>\n",
       "  </thead>\n",
       "  <tbody>\n",
       "    <tr>\n",
       "      <th>일 평균임금</th>\n",
       "      <td>463</td>\n",
       "      <td>544</td>\n",
       "      <td>518</td>\n",
       "      <td>291</td>\n",
       "    </tr>\n",
       "    <tr>\n",
       "      <th>월 평균 임금</th>\n",
       "      <td>9543</td>\n",
       "      <td>11226</td>\n",
       "      <td>10672</td>\n",
       "      <td>6003</td>\n",
       "    </tr>\n",
       "    <tr>\n",
       "      <th>시간 평균임금</th>\n",
       "      <td>57</td>\n",
       "      <td>68</td>\n",
       "      <td>64</td>\n",
       "      <td>36</td>\n",
       "    </tr>\n",
       "  </tbody>\n",
       "</table>\n",
       "</div>"
      ],
      "text/plain": [
       "         ITPM  업무분석가  IT아키텍트  UIUX개발자\n",
       "일 평균임금    463    544     518      291\n",
       "월 평균 임금  9543  11226   10672     6003\n",
       "시간 평균임금    57     68      64       36"
      ]
     },
     "execution_count": 31,
     "metadata": {},
     "output_type": "execute_result"
    }
   ],
   "source": [
    "# DataFrame index 별명 수정\n",
    "df.index = ['일 평균임금','월 평균 임금', '시간 평균임금']\n",
    "df"
   ]
  },
  {
   "cell_type": "code",
   "execution_count": 63,
   "id": "ff1385e2",
   "metadata": {},
   "outputs": [
    {
     "data": {
      "text/html": [
       "<div>\n",
       "<style scoped>\n",
       "    .dataframe tbody tr th:only-of-type {\n",
       "        vertical-align: middle;\n",
       "    }\n",
       "\n",
       "    .dataframe tbody tr th {\n",
       "        vertical-align: top;\n",
       "    }\n",
       "\n",
       "    .dataframe thead th {\n",
       "        text-align: right;\n",
       "    }\n",
       "</style>\n",
       "<table border=\"1\" class=\"dataframe\">\n",
       "  <thead>\n",
       "    <tr style=\"text-align: right;\">\n",
       "      <th></th>\n",
       "      <th>일평균임금</th>\n",
       "      <th>월평균임금</th>\n",
       "      <th>시간평균임금</th>\n",
       "    </tr>\n",
       "  </thead>\n",
       "  <tbody>\n",
       "    <tr>\n",
       "      <th>ITPM</th>\n",
       "      <td>463</td>\n",
       "      <td>9543</td>\n",
       "      <td>57</td>\n",
       "    </tr>\n",
       "    <tr>\n",
       "      <th>업무분석가</th>\n",
       "      <td>544</td>\n",
       "      <td>11226</td>\n",
       "      <td>68</td>\n",
       "    </tr>\n",
       "    <tr>\n",
       "      <th>IT아키텍트</th>\n",
       "      <td>518</td>\n",
       "      <td>10672</td>\n",
       "      <td>64</td>\n",
       "    </tr>\n",
       "    <tr>\n",
       "      <th>UIUX개발자</th>\n",
       "      <td>291</td>\n",
       "      <td>6003</td>\n",
       "      <td>36</td>\n",
       "    </tr>\n",
       "  </tbody>\n",
       "</table>\n",
       "</div>"
      ],
      "text/plain": [
       "         일평균임금  월평균임금  시간평균임금\n",
       "ITPM       463   9543      57\n",
       "업무분석가      544  11226      68\n",
       "IT아키텍트     518  10672      64\n",
       "UIUX개발자    291   6003      36"
      ]
     },
     "execution_count": 63,
     "metadata": {},
     "output_type": "execute_result"
    }
   ],
   "source": [
    "# 두번쨰 방법 : row 단위로 list 활동\n",
    "data2 = [[463,9543,57],\n",
    "         [544,11226,68],\n",
    "         [518,10672,64],\n",
    "         [291,6003,36]]\n",
    "\n",
    "columns = ['일평균임금','월평균임금','시간평균임금']\n",
    "row = ['ITPM','업무분석가','IT아키텍트','UIUX개발자']\n",
    "df = pd.DataFrame(data2, index=row, columns=columns)\n",
    "df"
   ]
  },
  {
   "cell_type": "code",
   "execution_count": 68,
   "id": "56314ace",
   "metadata": {},
   "outputs": [],
   "source": [
    "# index와 columns의 전치(위치를 뒤바꿈)\n",
    "# Transpose의 약자 → T\n",
    "df =df.T"
   ]
  },
  {
   "cell_type": "code",
   "execution_count": 65,
   "id": "db61974e",
   "metadata": {},
   "outputs": [
    {
     "data": {
      "text/plain": [
       "array([[  463,  9543,    57],\n",
       "       [  544, 11226,    68],\n",
       "       [  518, 10672,    64],\n",
       "       [  291,  6003,    36]], dtype=int64)"
      ]
     },
     "execution_count": 65,
     "metadata": {},
     "output_type": "execute_result"
    }
   ],
   "source": [
    "df.values"
   ]
  },
  {
   "cell_type": "code",
   "execution_count": 66,
   "id": "0bdec947",
   "metadata": {},
   "outputs": [
    {
     "data": {
      "text/plain": [
       "Index(['ITPM', '업무분석가', 'IT아키텍트', 'UIUX개발자'], dtype='object')"
      ]
     },
     "execution_count": 66,
     "metadata": {},
     "output_type": "execute_result"
    }
   ],
   "source": [
    "df.index"
   ]
  },
  {
   "cell_type": "code",
   "execution_count": 67,
   "id": "4c9d76e2",
   "metadata": {},
   "outputs": [
    {
     "data": {
      "text/plain": [
       "Index(['일평균임금', '월평균임금', '시간평균임금'], dtype='object')"
      ]
     },
     "execution_count": 67,
     "metadata": {},
     "output_type": "execute_result"
    }
   ],
   "source": [
    "df.columns"
   ]
  },
  {
   "cell_type": "code",
   "execution_count": null,
   "id": "3be7ae85",
   "metadata": {},
   "outputs": [],
   "source": []
  },
  {
   "cell_type": "markdown",
   "id": "c5e03008",
   "metadata": {},
   "source": [
    "## 2.1 DataFrame 인덱싱, 슬라이싱\n",
    "- DataFrame은 \"Series의 모임\"이라고 생각하면 편함\n",
    "- DataFrame 인덱싱 : 하나의 시리즈를 가져옴\n",
    "- DataFrame 슬라이싱 : 여러 개의 원하는 부분을 가져옴"
   ]
  },
  {
   "cell_type": "markdown",
   "id": "e88d9334",
   "metadata": {},
   "source": [
    "#### 2.1.1 열접근(컬럼 선택)\n",
    "- DataFrame명['컬럼명']"
   ]
  },
  {
   "cell_type": "code",
   "execution_count": 71,
   "id": "d68da60d",
   "metadata": {},
   "outputs": [
    {
     "data": {
      "text/plain": [
       "일평균임금      463\n",
       "월평균임금     9543\n",
       "시간평균임금      57\n",
       "Name: ITPM, dtype: int64"
      ]
     },
     "execution_count": 71,
     "metadata": {},
     "output_type": "execute_result"
    }
   ],
   "source": [
    "# Series → 1차원 → []\n",
    "df['ITPM']"
   ]
  },
  {
   "cell_type": "code",
   "execution_count": 74,
   "id": "465b3ba0",
   "metadata": {},
   "outputs": [
    {
     "data": {
      "text/html": [
       "<div>\n",
       "<style scoped>\n",
       "    .dataframe tbody tr th:only-of-type {\n",
       "        vertical-align: middle;\n",
       "    }\n",
       "\n",
       "    .dataframe tbody tr th {\n",
       "        vertical-align: top;\n",
       "    }\n",
       "\n",
       "    .dataframe thead th {\n",
       "        text-align: right;\n",
       "    }\n",
       "</style>\n",
       "<table border=\"1\" class=\"dataframe\">\n",
       "  <thead>\n",
       "    <tr style=\"text-align: right;\">\n",
       "      <th></th>\n",
       "      <th>ITPM</th>\n",
       "      <th>업무분석가</th>\n",
       "    </tr>\n",
       "  </thead>\n",
       "  <tbody>\n",
       "    <tr>\n",
       "      <th>일평균임금</th>\n",
       "      <td>463</td>\n",
       "      <td>544</td>\n",
       "    </tr>\n",
       "    <tr>\n",
       "      <th>월평균임금</th>\n",
       "      <td>9543</td>\n",
       "      <td>11226</td>\n",
       "    </tr>\n",
       "    <tr>\n",
       "      <th>시간평균임금</th>\n",
       "      <td>57</td>\n",
       "      <td>68</td>\n",
       "    </tr>\n",
       "  </tbody>\n",
       "</table>\n",
       "</div>"
      ],
      "text/plain": [
       "        ITPM  업무분석가\n",
       "일평균임금    463    544\n",
       "월평균임금   9543  11226\n",
       "시간평균임금    57     68"
      ]
     },
     "execution_count": 74,
     "metadata": {},
     "output_type": "execute_result"
    }
   ],
   "source": [
    "# DataFrame → 2차원 → [[]]\n",
    "df[['ITPM','업무분석가']]"
   ]
  },
  {
   "cell_type": "code",
   "execution_count": 75,
   "id": "4ce62f3b",
   "metadata": {},
   "outputs": [
    {
     "data": {
      "text/html": [
       "<div>\n",
       "<style scoped>\n",
       "    .dataframe tbody tr th:only-of-type {\n",
       "        vertical-align: middle;\n",
       "    }\n",
       "\n",
       "    .dataframe tbody tr th {\n",
       "        vertical-align: top;\n",
       "    }\n",
       "\n",
       "    .dataframe thead th {\n",
       "        text-align: right;\n",
       "    }\n",
       "</style>\n",
       "<table border=\"1\" class=\"dataframe\">\n",
       "  <thead>\n",
       "    <tr style=\"text-align: right;\">\n",
       "      <th></th>\n",
       "      <th>ITPM</th>\n",
       "      <th>업무분석가</th>\n",
       "      <th>IT아키텍트</th>\n",
       "      <th>UIUX개발자</th>\n",
       "      <th>정보보안전문가</th>\n",
       "    </tr>\n",
       "  </thead>\n",
       "  <tbody>\n",
       "    <tr>\n",
       "      <th>일평균임금</th>\n",
       "      <td>463</td>\n",
       "      <td>544</td>\n",
       "      <td>518</td>\n",
       "      <td>291</td>\n",
       "      <td>362</td>\n",
       "    </tr>\n",
       "    <tr>\n",
       "      <th>월평균임금</th>\n",
       "      <td>9543</td>\n",
       "      <td>11226</td>\n",
       "      <td>10672</td>\n",
       "      <td>6003</td>\n",
       "      <td>7426</td>\n",
       "    </tr>\n",
       "    <tr>\n",
       "      <th>시간평균임금</th>\n",
       "      <td>57</td>\n",
       "      <td>68</td>\n",
       "      <td>64</td>\n",
       "      <td>36</td>\n",
       "      <td>45</td>\n",
       "    </tr>\n",
       "  </tbody>\n",
       "</table>\n",
       "</div>"
      ],
      "text/plain": [
       "        ITPM  업무분석가  IT아키텍트  UIUX개발자  정보보안전문가\n",
       "일평균임금    463    544     518      291      362\n",
       "월평균임금   9543  11226   10672     6003     7426\n",
       "시간평균임금    57     68      64       36       45"
      ]
     },
     "execution_count": 75,
     "metadata": {},
     "output_type": "execute_result"
    }
   ],
   "source": [
    "# DataFrame 추가\n",
    "df['정보보안전문가']=[362,7426,45]\n",
    "df"
   ]
  },
  {
   "cell_type": "code",
   "execution_count": 77,
   "id": "6a9fe001",
   "metadata": {},
   "outputs": [
    {
     "data": {
      "text/html": [
       "<div>\n",
       "<style scoped>\n",
       "    .dataframe tbody tr th:only-of-type {\n",
       "        vertical-align: middle;\n",
       "    }\n",
       "\n",
       "    .dataframe tbody tr th {\n",
       "        vertical-align: top;\n",
       "    }\n",
       "\n",
       "    .dataframe thead th {\n",
       "        text-align: right;\n",
       "    }\n",
       "</style>\n",
       "<table border=\"1\" class=\"dataframe\">\n",
       "  <thead>\n",
       "    <tr style=\"text-align: right;\">\n",
       "      <th></th>\n",
       "      <th>ITPM</th>\n",
       "      <th>업무분석가</th>\n",
       "      <th>IT아키텍트</th>\n",
       "      <th>UIUX개발자</th>\n",
       "      <th>정보보안전문가</th>\n",
       "    </tr>\n",
       "  </thead>\n",
       "  <tbody>\n",
       "    <tr>\n",
       "      <th>일평균임금</th>\n",
       "      <td>463</td>\n",
       "      <td>544</td>\n",
       "      <td>518</td>\n",
       "      <td>291</td>\n",
       "      <td>362</td>\n",
       "    </tr>\n",
       "    <tr>\n",
       "      <th>월평균임금</th>\n",
       "      <td>9543</td>\n",
       "      <td>11226</td>\n",
       "      <td>10672</td>\n",
       "      <td>6003</td>\n",
       "      <td>7426</td>\n",
       "    </tr>\n",
       "  </tbody>\n",
       "</table>\n",
       "</div>"
      ],
      "text/plain": [
       "       ITPM  업무분석가  IT아키텍트  UIUX개발자  정보보안전문가\n",
       "일평균임금   463    544     518      291      362\n",
       "월평균임금  9543  11226   10672     6003     7426"
      ]
     },
     "execution_count": 77,
     "metadata": {},
     "output_type": "execute_result"
    }
   ],
   "source": [
    "# 행 슬라이싱\n",
    "df[0:2]"
   ]
  },
  {
   "cell_type": "code",
   "execution_count": null,
   "id": "d4a71f1f",
   "metadata": {},
   "outputs": [],
   "source": [
    "# 매우 헷갈림...\n",
    "# DataFrame은 컬럼은 인덱싱으로 접근하고,\n",
    "# row는 슬라이싱으로만 접근이 가능하냐...?\n",
    "# 이건 아니다!"
   ]
  },
  {
   "cell_type": "markdown",
   "id": "3dcb7342",
   "metadata": {},
   "source": [
    "## 2.2 DataFrame 슬라이싱 → 인덱서(indexer) 활용\n",
    "- 인덱서란?\n",
    "    - DataFrame 객체에 대해서 \"함수\"가 아닌 \"속성\"으로써 행과 열을 한번에 인덱싱/슬라이싱 할 수 있는 기능\n",
    "    - \"속성\"이라서 [] 대괄호 사용\n",
    "<br><br>\n",
    "- loc[] 인덱서\n",
    "    - \"인덱스 명\"과 \"컬럼 명\"을 가지고 값을 인덱싱/슬라이싱하는 방법\n",
    "<br><br>\n",
    "\n",
    "- iloc[] 인덱서\n",
    "    - \"행 번호\"와 \"열 번호\"를 가지고 값을 인덱싱/슬라이싱하는 방법 \n",
    "    "
   ]
  },
  {
   "cell_type": "code",
   "execution_count": 78,
   "id": "7623c703",
   "metadata": {},
   "outputs": [
    {
     "data": {
      "text/html": [
       "<div>\n",
       "<style scoped>\n",
       "    .dataframe tbody tr th:only-of-type {\n",
       "        vertical-align: middle;\n",
       "    }\n",
       "\n",
       "    .dataframe tbody tr th {\n",
       "        vertical-align: top;\n",
       "    }\n",
       "\n",
       "    .dataframe thead th {\n",
       "        text-align: right;\n",
       "    }\n",
       "</style>\n",
       "<table border=\"1\" class=\"dataframe\">\n",
       "  <thead>\n",
       "    <tr style=\"text-align: right;\">\n",
       "      <th></th>\n",
       "      <th>ITPM</th>\n",
       "      <th>업무분석가</th>\n",
       "      <th>IT아키텍트</th>\n",
       "      <th>UIUX개발자</th>\n",
       "      <th>정보보안전문가</th>\n",
       "    </tr>\n",
       "  </thead>\n",
       "  <tbody>\n",
       "    <tr>\n",
       "      <th>일평균임금</th>\n",
       "      <td>463</td>\n",
       "      <td>544</td>\n",
       "      <td>518</td>\n",
       "      <td>291</td>\n",
       "      <td>362</td>\n",
       "    </tr>\n",
       "    <tr>\n",
       "      <th>월평균임금</th>\n",
       "      <td>9543</td>\n",
       "      <td>11226</td>\n",
       "      <td>10672</td>\n",
       "      <td>6003</td>\n",
       "      <td>7426</td>\n",
       "    </tr>\n",
       "    <tr>\n",
       "      <th>시간평균임금</th>\n",
       "      <td>57</td>\n",
       "      <td>68</td>\n",
       "      <td>64</td>\n",
       "      <td>36</td>\n",
       "      <td>45</td>\n",
       "    </tr>\n",
       "  </tbody>\n",
       "</table>\n",
       "</div>"
      ],
      "text/plain": [
       "        ITPM  업무분석가  IT아키텍트  UIUX개발자  정보보안전문가\n",
       "일평균임금    463    544     518      291      362\n",
       "월평균임금   9543  11226   10672     6003     7426\n",
       "시간평균임금    57     68      64       36       45"
      ]
     },
     "execution_count": 78,
     "metadata": {},
     "output_type": "execute_result"
    }
   ],
   "source": [
    "df"
   ]
  },
  {
   "cell_type": "code",
   "execution_count": 83,
   "id": "2340c65f",
   "metadata": {},
   "outputs": [
    {
     "data": {
      "text/plain": [
       "ITPM       57\n",
       "업무분석가      68\n",
       "IT아키텍트     64\n",
       "UIUX개발자    36\n",
       "정보보안전문가    45\n",
       "Name: 시간평균임금, dtype: int64"
      ]
     },
     "metadata": {},
     "output_type": "display_data"
    },
    {
     "name": "stdout",
     "output_type": "stream",
     "text": [
      "ITPM       57\n",
      "업무분석가      68\n",
      "IT아키텍트     64\n",
      "UIUX개발자    36\n",
      "정보보안전문가    45\n",
      "Name: 시간평균임금, dtype: int64\n"
     ]
    }
   ],
   "source": [
    "display(df.loc['시간평균임금'])\n",
    "display(df.iloc[2])"
   ]
  },
  {
   "cell_type": "markdown",
   "id": "ee666626",
   "metadata": {},
   "source": [
    "- loc 인덱서\n",
    "    - DataFrame명.loc['인덱스 명'{,'컬럼 명'}] {생략가능}\n",
    "    - 컬럼 명 생략시 전체 해당 행의 모든 열을 출력\n",
    "- iloc 인덱서\n",
    "    - DataFrame명.iloc['행 번호'{,'열 번호'}]\n",
    "    - 열 번호 생략시 전체 해당 행의 모든 열을 출력"
   ]
  },
  {
   "cell_type": "code",
   "execution_count": 84,
   "id": "6b576a00",
   "metadata": {},
   "outputs": [
    {
     "data": {
      "text/html": [
       "<div>\n",
       "<style scoped>\n",
       "    .dataframe tbody tr th:only-of-type {\n",
       "        vertical-align: middle;\n",
       "    }\n",
       "\n",
       "    .dataframe tbody tr th {\n",
       "        vertical-align: top;\n",
       "    }\n",
       "\n",
       "    .dataframe thead th {\n",
       "        text-align: right;\n",
       "    }\n",
       "</style>\n",
       "<table border=\"1\" class=\"dataframe\">\n",
       "  <thead>\n",
       "    <tr style=\"text-align: right;\">\n",
       "      <th></th>\n",
       "      <th>ITPM</th>\n",
       "      <th>업무분석가</th>\n",
       "      <th>IT아키텍트</th>\n",
       "      <th>UIUX개발자</th>\n",
       "      <th>정보보안전문가</th>\n",
       "    </tr>\n",
       "  </thead>\n",
       "  <tbody>\n",
       "    <tr>\n",
       "      <th>일평균임금</th>\n",
       "      <td>463</td>\n",
       "      <td>544</td>\n",
       "      <td>518</td>\n",
       "      <td>291</td>\n",
       "      <td>362</td>\n",
       "    </tr>\n",
       "    <tr>\n",
       "      <th>월평균임금</th>\n",
       "      <td>9543</td>\n",
       "      <td>11226</td>\n",
       "      <td>10672</td>\n",
       "      <td>6003</td>\n",
       "      <td>7426</td>\n",
       "    </tr>\n",
       "    <tr>\n",
       "      <th>시간평균임금</th>\n",
       "      <td>57</td>\n",
       "      <td>68</td>\n",
       "      <td>64</td>\n",
       "      <td>36</td>\n",
       "      <td>45</td>\n",
       "    </tr>\n",
       "  </tbody>\n",
       "</table>\n",
       "</div>"
      ],
      "text/plain": [
       "        ITPM  업무분석가  IT아키텍트  UIUX개발자  정보보안전문가\n",
       "일평균임금    463    544     518      291      362\n",
       "월평균임금   9543  11226   10672     6003     7426\n",
       "시간평균임금    57     68      64       36       45"
      ]
     },
     "execution_count": 84,
     "metadata": {},
     "output_type": "execute_result"
    }
   ],
   "source": [
    "df"
   ]
  },
  {
   "cell_type": "code",
   "execution_count": 87,
   "id": "ff70b523",
   "metadata": {},
   "outputs": [
    {
     "data": {
      "text/plain": [
       "57"
      ]
     },
     "metadata": {},
     "output_type": "display_data"
    },
    {
     "data": {
      "text/plain": [
       "57"
      ]
     },
     "metadata": {},
     "output_type": "display_data"
    }
   ],
   "source": [
    "display(df.loc['시간평균임금','ITPM'])\n",
    "display(df.iloc[2,0])"
   ]
  },
  {
   "cell_type": "code",
   "execution_count": 90,
   "id": "f5107c3b",
   "metadata": {},
   "outputs": [
    {
     "data": {
      "text/plain": [
       "일평균임금      463\n",
       "월평균임금     9543\n",
       "시간평균임금      57\n",
       "Name: ITPM, dtype: int64"
      ]
     },
     "execution_count": 90,
     "metadata": {},
     "output_type": "execute_result"
    }
   ],
   "source": [
    "# 권장하지 않음. 컬럼명이 숫자로 시작하면 정수로 인식함\n",
    "df.ITPM"
   ]
  },
  {
   "cell_type": "code",
   "execution_count": null,
   "id": "8f3a66e6",
   "metadata": {},
   "outputs": [],
   "source": []
  },
  {
   "cell_type": "code",
   "execution_count": null,
   "id": "6369463b",
   "metadata": {},
   "outputs": [],
   "source": []
  },
  {
   "cell_type": "code",
   "execution_count": null,
   "id": "ab51fb21",
   "metadata": {},
   "outputs": [],
   "source": []
  },
  {
   "cell_type": "code",
   "execution_count": null,
   "id": "06283725",
   "metadata": {},
   "outputs": [],
   "source": []
  }
 ],
 "metadata": {
  "kernelspec": {
   "display_name": "Python 3 (ipykernel)",
   "language": "python",
   "name": "python3"
  },
  "language_info": {
   "codemirror_mode": {
    "name": "ipython",
    "version": 3
   },
   "file_extension": ".py",
   "mimetype": "text/x-python",
   "name": "python",
   "nbconvert_exporter": "python",
   "pygments_lexer": "ipython3",
   "version": "3.11.3"
  }
 },
 "nbformat": 4,
 "nbformat_minor": 5
}
