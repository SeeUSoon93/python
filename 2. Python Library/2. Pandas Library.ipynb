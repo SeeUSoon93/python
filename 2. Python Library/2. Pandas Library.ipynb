{
 "cells": [
  {
   "cell_type": "markdown",
   "id": "848a788d",
   "metadata": {},
   "source": [
    "## 1. pandas\n",
    "- pannel data의 약자\n",
    "- 1. 다양한 파일 형식 지원 가능 → csv, excel, SQL, JSON 등등\n",
    "- 2. 데이터 정재와 조작 특화된 라이브러리\n",
    "- 3. DataFrame과 Series는 기본적으로 np.array(ndarray) 구조\n",
    "    - numpy 라이브러리 호환 잘됨    "
   ]
  },
  {
   "cell_type": "markdown",
   "id": "7c998d2d",
   "metadata": {},
   "source": [
    "### 1.1 pandas에서 제공하는 데이터 구조\n",
    "- Series : 1차원 배열 형태의 데이터 구조\n",
    "    - index + value\n",
    "- DataFrame : 2차원 배열 형태의 데이터 구조\n",
    "    - Series들의 모음\n",
    "    - column(열) + row(행) 구조\n",
    "    - 서로 다른 자료형을 저장하여 활용할 수 있다\n",
    "\n",
    "- 우리 궁극적인 목적은 \"데이터 분석\"이다!!"
   ]
  },
  {
   "cell_type": "code",
   "execution_count": 1,
   "id": "0e7b49c2",
   "metadata": {},
   "outputs": [],
   "source": [
    "import numpy as np\n",
    "import pandas as pd"
   ]
  },
  {
   "cell_type": "markdown",
   "id": "9cbe8255",
   "metadata": {},
   "source": [
    "### 1 Series 다루기"
   ]
  },
  {
   "cell_type": "markdown",
   "id": "dd8eb1f7",
   "metadata": {},
   "source": [
    "### 1.1 Series 생성"
   ]
  },
  {
   "cell_type": "code",
   "execution_count": 11,
   "id": "b420fa5f",
   "metadata": {},
   "outputs": [
    {
     "name": "stdout",
     "output_type": "stream",
     "text": [
      "0    9668465\n",
      "1    3391946\n",
      "2    2942828\n",
      "3    1450062\n",
      "dtype: int64\n",
      "\n",
      "서울    9668465\n",
      "부산    3391946\n",
      "인천    2942828\n",
      "광주    1450062\n",
      "dtype: int64\n"
     ]
    }
   ],
   "source": [
    "# Series 생성\n",
    "pop = pd.Series([9668465,3391946,2942828,1450062])\n",
    "print(pop, end='\\n\\n')\n",
    "\n",
    "# index 명 지어주기\n",
    "# pd.Series([시퀀스 자료구조, index=['인덱스명1','인덱스명2'...]])\n",
    "pop = pd.Series([9668465,3391946,2942828,1450062],\n",
    "                index=['서울','부산','인천','광주'])\n",
    "print(pop"
   ]
  },
  {
   "cell_type": "code",
   "execution_count": 14,
   "id": "ad21e801",
   "metadata": {},
   "outputs": [
    {
     "data": {
      "text/plain": [
       "True"
      ]
     },
     "execution_count": 14,
     "metadata": {},
     "output_type": "execute_result"
    }
   ],
   "source": [
    "# index 명을 부여해도 index 값이 사라지지는 않는다\n",
    "pop[0] == pop['서울']"
   ]
  },
  {
   "cell_type": "code",
   "execution_count": null,
   "id": "304b4861",
   "metadata": {},
   "outputs": [],
   "source": []
  },
  {
   "cell_type": "code",
   "execution_count": null,
   "id": "581a6d03",
   "metadata": {},
   "outputs": [],
   "source": []
  },
  {
   "cell_type": "code",
   "execution_count": null,
   "id": "9b548160",
   "metadata": {},
   "outputs": [],
   "source": []
  },
  {
   "cell_type": "code",
   "execution_count": null,
   "id": "42c7696a",
   "metadata": {},
   "outputs": [],
   "source": []
  },
  {
   "cell_type": "code",
   "execution_count": null,
   "id": "35646289",
   "metadata": {},
   "outputs": [],
   "source": []
  },
  {
   "cell_type": "code",
   "execution_count": null,
   "id": "97f43b86",
   "metadata": {},
   "outputs": [],
   "source": []
  },
  {
   "cell_type": "code",
   "execution_count": null,
   "id": "80b46f7e",
   "metadata": {},
   "outputs": [],
   "source": []
  },
  {
   "cell_type": "code",
   "execution_count": null,
   "id": "38408229",
   "metadata": {},
   "outputs": [],
   "source": []
  },
  {
   "cell_type": "code",
   "execution_count": null,
   "id": "bf10fae0",
   "metadata": {},
   "outputs": [],
   "source": []
  },
  {
   "cell_type": "code",
   "execution_count": null,
   "id": "9591498b",
   "metadata": {},
   "outputs": [],
   "source": []
  },
  {
   "cell_type": "code",
   "execution_count": null,
   "id": "a991fa81",
   "metadata": {},
   "outputs": [],
   "source": []
  },
  {
   "cell_type": "code",
   "execution_count": null,
   "id": "ee53a3f7",
   "metadata": {},
   "outputs": [],
   "source": []
  },
  {
   "cell_type": "code",
   "execution_count": null,
   "id": "cd5d1d9b",
   "metadata": {},
   "outputs": [],
   "source": []
  },
  {
   "cell_type": "code",
   "execution_count": null,
   "id": "9802f910",
   "metadata": {},
   "outputs": [],
   "source": []
  },
  {
   "cell_type": "code",
   "execution_count": null,
   "id": "9954912f",
   "metadata": {},
   "outputs": [],
   "source": []
  },
  {
   "cell_type": "code",
   "execution_count": null,
   "id": "615f5294",
   "metadata": {},
   "outputs": [],
   "source": []
  },
  {
   "cell_type": "code",
   "execution_count": null,
   "id": "935cf32c",
   "metadata": {},
   "outputs": [],
   "source": []
  },
  {
   "cell_type": "code",
   "execution_count": null,
   "id": "939c4945",
   "metadata": {},
   "outputs": [],
   "source": []
  },
  {
   "cell_type": "code",
   "execution_count": null,
   "id": "bd4a3d75",
   "metadata": {},
   "outputs": [],
   "source": []
  },
  {
   "cell_type": "code",
   "execution_count": null,
   "id": "9e456705",
   "metadata": {},
   "outputs": [],
   "source": []
  },
  {
   "cell_type": "code",
   "execution_count": null,
   "id": "e60a71ca",
   "metadata": {},
   "outputs": [],
   "source": []
  },
  {
   "cell_type": "code",
   "execution_count": null,
   "id": "b62b123f",
   "metadata": {},
   "outputs": [],
   "source": []
  },
  {
   "cell_type": "code",
   "execution_count": null,
   "id": "e911208f",
   "metadata": {},
   "outputs": [],
   "source": []
  },
  {
   "cell_type": "code",
   "execution_count": null,
   "id": "ff1385e2",
   "metadata": {},
   "outputs": [],
   "source": []
  },
  {
   "cell_type": "code",
   "execution_count": null,
   "id": "56314ace",
   "metadata": {},
   "outputs": [],
   "source": []
  },
  {
   "cell_type": "code",
   "execution_count": null,
   "id": "4c9d76e2",
   "metadata": {},
   "outputs": [],
   "source": []
  },
  {
   "cell_type": "code",
   "execution_count": null,
   "id": "465b3ba0",
   "metadata": {},
   "outputs": [],
   "source": []
  },
  {
   "cell_type": "code",
   "execution_count": null,
   "id": "6369463b",
   "metadata": {},
   "outputs": [],
   "source": []
  },
  {
   "cell_type": "code",
   "execution_count": null,
   "id": "ab51fb21",
   "metadata": {},
   "outputs": [],
   "source": []
  },
  {
   "cell_type": "code",
   "execution_count": null,
   "id": "06283725",
   "metadata": {},
   "outputs": [],
   "source": []
  }
 ],
 "metadata": {
  "kernelspec": {
   "display_name": "Python 3 (ipykernel)",
   "language": "python",
   "name": "python3"
  },
  "language_info": {
   "codemirror_mode": {
    "name": "ipython",
    "version": 3
   },
   "file_extension": ".py",
   "mimetype": "text/x-python",
   "name": "python",
   "nbconvert_exporter": "python",
   "pygments_lexer": "ipython3",
   "version": "3.11.3"
  }
 },
 "nbformat": 4,
 "nbformat_minor": 5
}
