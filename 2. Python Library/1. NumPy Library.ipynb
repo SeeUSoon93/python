{
 "cells": [
  {
   "cell_type": "markdown",
   "id": "e94a987d",
   "metadata": {},
   "source": [
    "# NumPy Library\n",
    "- Numerical Python 약자\n",
    "- Python에서 수치계산을 위한 핵심 라이브러리\n",
    "- 'ndarry'(N-dimensional array)자료구조 지원"
   ]
  },
  {
   "cell_type": "code",
   "execution_count": 1,
   "id": "f587ad7b",
   "metadata": {},
   "outputs": [],
   "source": [
    "import numpy as np\n",
    "# alias (as) : 별칭 부여\n",
    "# import numpy 를 np로 별칭 지어주면\n",
    "# numpy를 불러올때 편하다"
   ]
  },
  {
   "cell_type": "code",
   "execution_count": null,
   "id": "b3258908",
   "metadata": {},
   "outputs": [],
   "source": []
  },
  {
   "cell_type": "markdown",
   "id": "b0b010e0",
   "metadata": {},
   "source": [
    "## ndarray(N-dimensional array)\n",
    "- 1. 다양한 수학함수 지원\n",
    "- 2. 빠른 연산속도\n",
    "- 3. 브로드 캐스팅(차원을 동일시 하는 기능)\n",
    "- 4. 다차원의 배열지원\n",
    "\n",
    "- \"동일한 자료형\"을 가지는 값들이 \"배열\"형태로 존재함\n",
    "- 각 값들은 순서가 있다. → index가 부여되어 있다!"
   ]
  },
  {
   "cell_type": "code",
   "execution_count": null,
   "id": "2a900ca7",
   "metadata": {},
   "outputs": [],
   "source": []
  },
  {
   "cell_type": "markdown",
   "id": "2b8fae87",
   "metadata": {},
   "source": [
    "### 1. ndarray 생성하기\n",
    "- np.array(리스트 or 튜플)"
   ]
  },
  {
   "cell_type": "code",
   "execution_count": 2,
   "id": "4f9aed16",
   "metadata": {},
   "outputs": [
    {
     "data": {
      "text/plain": [
       "numpy.ndarray"
      ]
     },
     "execution_count": 2,
     "metadata": {},
     "output_type": "execute_result"
    }
   ],
   "source": [
    "# ndarray 생성하기 : 1차원 (첫번째)\n",
    "# 리스트 데이터를 array화로 형변환 하는 방법\n",
    "\n",
    "# list 생성\n",
    "list1 = [1,2,3,4,5]\n",
    "\n",
    "# array 생성\n",
    "arr1 = np.array(list1)\n",
    "type(arr1)"
   ]
  },
  {
   "cell_type": "code",
   "execution_count": 3,
   "id": "b0263af1",
   "metadata": {},
   "outputs": [
    {
     "data": {
      "text/plain": [
       "array([ 6,  7,  8,  9, 10])"
      ]
     },
     "execution_count": 3,
     "metadata": {},
     "output_type": "execute_result"
    }
   ],
   "source": [
    "# ndarray 생성하기 : 1차원 (두번째)\n",
    "# 직접 array화로 생성\n",
    "arr2 = np.array([6,7,8,9,10])\n",
    "arr2"
   ]
  },
  {
   "cell_type": "code",
   "execution_count": 4,
   "id": "ab4fe191",
   "metadata": {},
   "outputs": [
    {
     "data": {
      "text/plain": [
       "array([[1, 2, 3],\n",
       "       [4, 5, 6]])"
      ]
     },
     "execution_count": 4,
     "metadata": {},
     "output_type": "execute_result"
    }
   ],
   "source": [
    "# ndarray 생성하기 : 2차원\n",
    "arr3 = np.array([[1,2,3],[4,5,6]])\n",
    "arr3"
   ]
  },
  {
   "cell_type": "code",
   "execution_count": 5,
   "id": "006137c8",
   "metadata": {},
   "outputs": [
    {
     "data": {
      "text/plain": [
       "[[1, 2, 3], [4, 5, 6]]"
      ]
     },
     "execution_count": 5,
     "metadata": {},
     "output_type": "execute_result"
    }
   ],
   "source": [
    "# 2차원 형태의 리스트 → ndarray와 차이가 있음\n",
    "# list는 차원 수를 인식하지 못 함\n",
    "# ndarray는 차원 수를 인식한다.\n",
    "list2 =[[1,2,3],[4,5,6]]\n",
    "list2"
   ]
  },
  {
   "cell_type": "code",
   "execution_count": 6,
   "id": "3012a172",
   "metadata": {},
   "outputs": [
    {
     "data": {
      "text/plain": [
       "array([[1, 2, 3],\n",
       "       [4, 5, 6]])"
      ]
     },
     "execution_count": 6,
     "metadata": {},
     "output_type": "execute_result"
    }
   ],
   "source": [
    "np.array(list2)"
   ]
  },
  {
   "cell_type": "code",
   "execution_count": null,
   "id": "35945c56",
   "metadata": {},
   "outputs": [],
   "source": []
  },
  {
   "cell_type": "markdown",
   "id": "6bf71b3a",
   "metadata": {},
   "source": [
    "### 2. ndarray 확인하기 → \"속성\"이나 \"키워드\""
   ]
  },
  {
   "cell_type": "code",
   "execution_count": 7,
   "id": "99d46d2a",
   "metadata": {},
   "outputs": [
    {
     "name": "stdout",
     "output_type": "stream",
     "text": [
      "1\n",
      "2\n"
     ]
    }
   ],
   "source": [
    "# array 차원 수 확인하기\n",
    "# array명.ndim\n",
    "\n",
    "print(arr1.ndim)\n",
    "print(arr3.ndim)"
   ]
  },
  {
   "cell_type": "code",
   "execution_count": 8,
   "id": "b4beda9f",
   "metadata": {
    "scrolled": true
   },
   "outputs": [
    {
     "name": "stdout",
     "output_type": "stream",
     "text": [
      "(5,)\n",
      "(2, 3)\n"
     ]
    }
   ],
   "source": [
    "# array 모양(크기) 확인하기\n",
    "# array명.shape\n",
    "# (행, 열)\n",
    "\n",
    "print(arr1.shape)\n",
    "print(arr3.shape)"
   ]
  },
  {
   "cell_type": "code",
   "execution_count": 9,
   "id": "a2074eac",
   "metadata": {},
   "outputs": [
    {
     "name": "stdout",
     "output_type": "stream",
     "text": [
      "5\n",
      "5\n",
      "\n",
      "6\n",
      "2\n"
     ]
    }
   ],
   "source": [
    "# array의 전체 요소 개수 확인하기\n",
    "# array명.size\n",
    "\n",
    "print(arr1.size)\n",
    "print(len(arr1), end='\\n\\n')\n",
    "\n",
    "print(arr3.size)\n",
    "print(len(arr3))"
   ]
  },
  {
   "cell_type": "code",
   "execution_count": 10,
   "id": "49e27415",
   "metadata": {},
   "outputs": [
    {
     "ename": "ValueError",
     "evalue": "setting an array element with a sequence. The requested array has an inhomogeneous shape after 1 dimensions. The detected shape was (3,) + inhomogeneous part.",
     "output_type": "error",
     "traceback": [
      "\u001b[1;31m---------------------------------------------------------------------------\u001b[0m",
      "\u001b[1;31mValueError\u001b[0m                                Traceback (most recent call last)",
      "Cell \u001b[1;32mIn[10], line 3\u001b[0m\n\u001b[0;32m      1\u001b[0m \u001b[38;5;66;03m# 모양이 균일해야한다. 행별로 열의 개수가 같아야 한다.\u001b[39;00m\n\u001b[0;32m      2\u001b[0m arr4 \u001b[38;5;241m=\u001b[39m [[\u001b[38;5;241m1\u001b[39m,\u001b[38;5;241m2\u001b[39m,\u001b[38;5;241m3\u001b[39m],[\u001b[38;5;241m4\u001b[39m,\u001b[38;5;241m5\u001b[39m],[\u001b[38;5;241m6\u001b[39m,\u001b[38;5;241m7\u001b[39m,\u001b[38;5;241m8\u001b[39m,\u001b[38;5;241m9\u001b[39m]]\n\u001b[1;32m----> 3\u001b[0m np\u001b[38;5;241m.\u001b[39marray(arr4)\n\u001b[0;32m      4\u001b[0m arr4\n",
      "\u001b[1;31mValueError\u001b[0m: setting an array element with a sequence. The requested array has an inhomogeneous shape after 1 dimensions. The detected shape was (3,) + inhomogeneous part."
     ]
    }
   ],
   "source": [
    "# 모양이 균일해야한다. 행별로 열의 개수가 같아야 한다.\n",
    "arr4 = [[1,2,3],[4,5],[6,7,8,9]]\n",
    "np.array(arr4)\n",
    "arr4"
   ]
  },
  {
   "cell_type": "code",
   "execution_count": 469,
   "id": "fedb6701",
   "metadata": {},
   "outputs": [],
   "source": [
    "def array_info(array) :\n",
    "    print(array)\n",
    "    print(\"ndim(차원수) : \", array.ndim)\n",
    "    print(\"ndim(모양) : \", array.shape)\n",
    "    print(\"ndim(데이터타입) : \", array.dtype)\n",
    "    print(\"ndim(요소 전체 개수) : \", array.size)"
   ]
  },
  {
   "cell_type": "code",
   "execution_count": 471,
   "id": "888b9e3f",
   "metadata": {},
   "outputs": [
    {
     "name": "stdout",
     "output_type": "stream",
     "text": [
      "[[1 2 3]\n",
      " [4 5 6]]\n",
      "ndim(차원수) :  2\n",
      "ndim(모양) :  (2, 3)\n",
      "ndim(데이터타입) :  int32\n",
      "ndim(요소 전체 개수) :  6\n"
     ]
    }
   ],
   "source": [
    "array_info(arr3)"
   ]
  },
  {
   "cell_type": "markdown",
   "id": "dab35726",
   "metadata": {},
   "source": [
    "#### 2.1 array dtype 및 shape 변경\n"
   ]
  },
  {
   "cell_type": "code",
   "execution_count": 472,
   "id": "daadc4c2",
   "metadata": {},
   "outputs": [
    {
     "name": "stdout",
     "output_type": "stream",
     "text": [
      "[[1.7 4.2 4.6]\n",
      " [3.1 2.9 5.8]]\n",
      "ndim(차원수) :  2\n",
      "ndim(모양) :  (2, 3)\n",
      "ndim(데이터타입) :  float64\n",
      "ndim(요소 전체 개수) :  6\n",
      "\n",
      "[[1 4 4]\n",
      " [3 2 5]]\n",
      "ndim(차원수) :  2\n",
      "ndim(모양) :  (2, 3)\n",
      "ndim(데이터타입) :  int64\n",
      "ndim(요소 전체 개수) :  6\n"
     ]
    }
   ],
   "source": [
    "list3 = [[1.7,4.2,4.6],[3.1,2.9,5.8]]\n",
    "temp1 = np.array(list3)\n",
    "temp2 = np.array(list3, dtype = np.int64)\n",
    "\n",
    "array_info(temp1)\n",
    "print()\n",
    "array_info(temp2)"
   ]
  },
  {
   "cell_type": "code",
   "execution_count": 473,
   "id": "3bed989e",
   "metadata": {},
   "outputs": [
    {
     "name": "stdout",
     "output_type": "stream",
     "text": [
      "[[1. 4. 4.]\n",
      " [3. 2. 5.]]\n",
      "ndim(차원수) :  2\n",
      "ndim(모양) :  (2, 3)\n",
      "ndim(데이터타입) :  float64\n",
      "ndim(요소 전체 개수) :  6\n"
     ]
    }
   ],
   "source": [
    "# 데이터 타입 변경하기 2\n",
    "# .astype(np.데이터타입)\n",
    "\n",
    "temp2 = temp2.astype(np.float64)\n",
    "array_info(temp2)"
   ]
  },
  {
   "cell_type": "code",
   "execution_count": 475,
   "id": "1e6b5827",
   "metadata": {},
   "outputs": [
    {
     "name": "stdout",
     "output_type": "stream",
     "text": [
      "[[1. 4.]\n",
      " [4. 3.]\n",
      " [2. 5.]]\n",
      "ndim(차원수) :  2\n",
      "ndim(모양) :  (3, 2)\n",
      "ndim(데이터타입) :  float64\n",
      "ndim(요소 전체 개수) :  6\n"
     ]
    }
   ],
   "source": [
    "# ndarray 특정 크기 변환\n",
    "# 2차원의 경우 행과 열의 값이 맞게 떨어져야 함\n",
    "# array명.reshape(행, 열)\n",
    "\n",
    "temp2 = temp2.reshape(3,2)\n",
    "array_info(temp2)"
   ]
  },
  {
   "cell_type": "code",
   "execution_count": null,
   "id": "ffa06563",
   "metadata": {},
   "outputs": [],
   "source": []
  },
  {
   "cell_type": "markdown",
   "id": "6c803055",
   "metadata": {},
   "source": [
    "### 3. 특정한 값으로 ndarray 생성하기\n",
    "- np.zeros((행,열))\n",
    "- np.ones((행,열))\n",
    "- np.full((행,열),값)\n",
    "- np.arange(시작값, 끝값, 증감량)\n",
    "- np.random.rand(행, 열)\n",
    "- np.random.randint(시작값, 끝값,size=(행,열))"
   ]
  },
  {
   "cell_type": "code",
   "execution_count": null,
   "id": "9ddc67f0",
   "metadata": {},
   "outputs": [],
   "source": []
  },
  {
   "cell_type": "code",
   "execution_count": 476,
   "id": "c6671623",
   "metadata": {},
   "outputs": [
    {
     "data": {
      "text/plain": [
       "array([[0., 0., 0., 0.],\n",
       "       [0., 0., 0., 0.],\n",
       "       [0., 0., 0., 0.]])"
      ]
     },
     "execution_count": 476,
     "metadata": {},
     "output_type": "execute_result"
    }
   ],
   "source": [
    "# np.zeros((행,열)) : 모든 값을 0으로 초기화\n",
    "# 기본 데이터형 : float\n",
    "\n",
    "arr_zeros = np.zeros((3,4))\n",
    "arr_zeros"
   ]
  },
  {
   "cell_type": "code",
   "execution_count": null,
   "id": "c95b38ad",
   "metadata": {},
   "outputs": [],
   "source": []
  },
  {
   "cell_type": "code",
   "execution_count": 477,
   "id": "0147cbd3",
   "metadata": {},
   "outputs": [
    {
     "data": {
      "text/plain": [
       "array([[1., 1., 1., 1.],\n",
       "       [1., 1., 1., 1.],\n",
       "       [1., 1., 1., 1.]])"
      ]
     },
     "execution_count": 477,
     "metadata": {},
     "output_type": "execute_result"
    }
   ],
   "source": [
    "# np.ones((행,열)) : 모든 값을 1로 초기화\n",
    "# 기본 데이터형 : float\n",
    "\n",
    "arr_ones = np.ones((3,4))\n",
    "arr_ones"
   ]
  },
  {
   "cell_type": "code",
   "execution_count": 478,
   "id": "49746238",
   "metadata": {},
   "outputs": [
    {
     "data": {
      "text/plain": [
       "array([[2, 2, 2, 2],\n",
       "       [2, 2, 2, 2],\n",
       "       [2, 2, 2, 2]])"
      ]
     },
     "execution_count": 478,
     "metadata": {},
     "output_type": "execute_result"
    }
   ],
   "source": [
    "# np.full((행,열),값) : 모든 값을 원하는 값으로 초기화\n",
    "\n",
    "arr_full = np.full((3,4),2)\n",
    "arr_full"
   ]
  },
  {
   "cell_type": "code",
   "execution_count": 479,
   "id": "298a389e",
   "metadata": {},
   "outputs": [
    {
     "data": {
      "text/plain": [
       "array([[ 5,  2],\n",
       "       [ 1, 10],\n",
       "       [ 4,  2]])"
      ]
     },
     "execution_count": 479,
     "metadata": {},
     "output_type": "execute_result"
    }
   ],
   "source": [
    "# np.random.randint(시작값, 끝값,size=(행,열))\n",
    "# 랜덤값으로 배열 생성(int형)\n",
    "# 끝값 포함 X\n",
    "\n",
    "arr_random = np.random.randint(1,11,size=(3,2))\n",
    "arr_random"
   ]
  },
  {
   "cell_type": "code",
   "execution_count": 480,
   "id": "04a49ddd",
   "metadata": {},
   "outputs": [
    {
     "data": {
      "text/plain": [
       "array([ 1,  2,  3,  4,  5,  6,  7,  8,  9, 10, 11, 12, 13, 14, 15, 16, 17,\n",
       "       18, 19, 20, 21, 22, 23, 24, 25, 26, 27, 28, 29, 30, 31, 32, 33, 34,\n",
       "       35, 36, 37, 38, 39, 40, 41, 42, 43, 44, 45, 46, 47, 48, 49, 50])"
      ]
     },
     "execution_count": 480,
     "metadata": {},
     "output_type": "execute_result"
    }
   ],
   "source": [
    "# 실습\n",
    "# 1부터 50이 담긴 1차원 array생성(array 형변환으로 생성)\n",
    "# list 사용해서 생성\n",
    "\n",
    "list3 = [i for i in range(1,51)]\n",
    "arr = np.array(list3)\n",
    "arr"
   ]
  },
  {
   "cell_type": "code",
   "execution_count": 481,
   "id": "e3e6e3a1",
   "metadata": {},
   "outputs": [
    {
     "name": "stdout",
     "output_type": "stream",
     "text": [
      "[ 1  2  3  4  5  6  7  8  9 10 11 12 13 14 15 16 17 18 19 20 21 22 23 24\n",
      " 25 26 27 28 29 30 31 32 33 34 35 36 37 38 39 40 41 42 43 44 45 46 47 48\n",
      " 49 50]\n",
      "ndim(차원수) :  1\n",
      "ndim(모양) :  (50,)\n",
      "ndim(데이터타입) :  int32\n",
      "ndim(요소 전체 개수) :  50\n"
     ]
    }
   ],
   "source": [
    "# np.arange(시작값, 끝값)\n",
    "# range() 함수처럼 범위를 지정\n",
    "# numpy에서 제공하는 함수\n",
    "\n",
    "\n",
    "arr_arange = np.arange(1,51)\n",
    "array_info(arr_arange)"
   ]
  },
  {
   "cell_type": "markdown",
   "id": "d51809d1",
   "metadata": {},
   "source": [
    "### 4. array 연산(요소별 연산)\n",
    "- \"요소별 연산\"에 특화되어 있다!\n",
    "- 브로드캐스팅 : 차원수를 자동으로 맞춰준다!"
   ]
  },
  {
   "cell_type": "code",
   "execution_count": 485,
   "id": "fef15e45",
   "metadata": {},
   "outputs": [
    {
     "name": "stdout",
     "output_type": "stream",
     "text": [
      "[1, 2, 3, 4, 5, 6]\n",
      "5\n"
     ]
    }
   ],
   "source": [
    "# list의 연산 방식 → array 연산과 차이점을 확인하기 위해\n",
    "list1 = [1,2,3]\n",
    "list2 = [4,5,6]\n",
    "\n",
    "# 리스트끼리 더함\n",
    "print(list1+list2)\n",
    "\n",
    "# 리스트의 요소별 연산 → 각각 값을 도출(인덱싱)하여야 연산이 가능\n",
    "print(list1[0]+list2[0])"
   ]
  },
  {
   "cell_type": "code",
   "execution_count": 486,
   "id": "154719c2",
   "metadata": {},
   "outputs": [
    {
     "name": "stdout",
     "output_type": "stream",
     "text": [
      "[5 7 9]\n"
     ]
    }
   ],
   "source": [
    "# np.array()의 연산\n",
    "arr_a = np.array(list1)\n",
    "arr_b = np.array(list2)\n",
    "\n",
    "print(arr_a+arr_b)"
   ]
  },
  {
   "cell_type": "code",
   "execution_count": 487,
   "id": "38e8cea6",
   "metadata": {},
   "outputs": [
    {
     "name": "stdout",
     "output_type": "stream",
     "text": [
      "[[ 8 10 12]\n",
      " [14 16 18]]\n"
     ]
    }
   ],
   "source": [
    "arr2_a = np.array([[1,2,3],[4,5,6]])\n",
    "arr2_b = np.array([[7,8,9],[10,11,12]])\n",
    "\n",
    "print(arr2_a+arr2_b)"
   ]
  },
  {
   "cell_type": "code",
   "execution_count": 494,
   "id": "f8c98489",
   "metadata": {},
   "outputs": [
    {
     "data": {
      "text/plain": [
       "array([[ 3,  6,  9],\n",
       "       [12, 15, 18]])"
      ]
     },
     "execution_count": 494,
     "metadata": {},
     "output_type": "execute_result"
    }
   ],
   "source": [
    "# 자동으로 인덱싱\n",
    "arr2_a * 3"
   ]
  },
  {
   "cell_type": "code",
   "execution_count": null,
   "id": "52989b79",
   "metadata": {},
   "outputs": [],
   "source": []
  },
  {
   "cell_type": "markdown",
   "id": "94a4d0b2",
   "metadata": {},
   "source": [
    "### 5. array 인덱싱 & 슬라이싱\n",
    "- 인덱싱(indexing) : 요소 하나를 가리키는 것\n",
    "- 슬라이싱(slicing) : 요소들을 잘라오는 것\n",
    "- 리스트 or 튜플 형과 같이 인덱싱, 슬라이싱 방법은 같음"
   ]
  },
  {
   "cell_type": "code",
   "execution_count": 537,
   "id": "0ab1313b",
   "metadata": {},
   "outputs": [
    {
     "data": {
      "text/plain": [
       "2"
      ]
     },
     "execution_count": 537,
     "metadata": {},
     "output_type": "execute_result"
    }
   ],
   "source": [
    "arr2_a[0,1]"
   ]
  },
  {
   "cell_type": "code",
   "execution_count": null,
   "id": "12297aff",
   "metadata": {},
   "outputs": [],
   "source": []
  },
  {
   "cell_type": "markdown",
   "id": "59ae7f1d",
   "metadata": {},
   "source": [
    "#### 5.1 2차원 array 인덱싱 & 슬라이싱\n",
    "- 인덱싱 : [행값,열값]\n",
    "- 슬라이싱 : [행의 시작값:행의 끝값, 열의 시작값:열의 끝값]"
   ]
  },
  {
   "cell_type": "code",
   "execution_count": 496,
   "id": "f509dc54",
   "metadata": {},
   "outputs": [
    {
     "data": {
      "text/plain": [
       "array([[ 1,  2,  3,  4,  5,  6,  7,  8,  9, 10],\n",
       "       [11, 12, 13, 14, 15, 16, 17, 18, 19, 20],\n",
       "       [21, 22, 23, 24, 25, 26, 27, 28, 29, 30],\n",
       "       [31, 32, 33, 34, 35, 36, 37, 38, 39, 40],\n",
       "       [41, 42, 43, 44, 45, 46, 47, 48, 49, 50]])"
      ]
     },
     "execution_count": 496,
     "metadata": {},
     "output_type": "execute_result"
    }
   ],
   "source": [
    "arr2 =np.arange(1,51).reshape(5,10)\n",
    "arr2"
   ]
  },
  {
   "cell_type": "code",
   "execution_count": 501,
   "id": "bac55908",
   "metadata": {},
   "outputs": [
    {
     "data": {
      "text/plain": [
       "26"
      ]
     },
     "execution_count": 501,
     "metadata": {},
     "output_type": "execute_result"
    }
   ],
   "source": [
    "# 인덱싱 : [행값, 열값]\n",
    "# 튜플인덱싱\n",
    "arr2[2,5]\n",
    "\n",
    "# 인덱싱 : [행값, 열값]\n",
    "# 두 번 연산 진행(일반인덱싱)\n",
    "arr2[2][5]"
   ]
  },
  {
   "cell_type": "code",
   "execution_count": 502,
   "id": "fc6c90ed",
   "metadata": {},
   "outputs": [
    {
     "data": {
      "text/plain": [
       "array([[ 1,  2,  3,  4,  5,  6,  7,  8,  9, 10],\n",
       "       [11, 12, 13, 14, 15, 16, 17, 18, 19, 20],\n",
       "       [21, 22, 23, 24, 25, 26, 27, 28, 29, 30],\n",
       "       [31, 32, 33, 34, 35, 36, 37, 38, 39, 40],\n",
       "       [41, 42, 43, 44, 45, 46, 47, 48, 49, 50]])"
      ]
     },
     "execution_count": 502,
     "metadata": {},
     "output_type": "execute_result"
    }
   ],
   "source": [
    "arr2"
   ]
  },
  {
   "cell_type": "code",
   "execution_count": 522,
   "id": "616c828e",
   "metadata": {},
   "outputs": [
    {
     "data": {
      "text/plain": [
       "array([[21, 22, 23, 24, 25, 26, 27, 28, 29],\n",
       "       [31, 32, 33, 34, 35, 36, 37, 38, 39],\n",
       "       [41, 42, 43, 44, 45, 46, 47, 48, 49]])"
      ]
     },
     "execution_count": 522,
     "metadata": {},
     "output_type": "execute_result"
    }
   ],
   "source": [
    "# 2차원 array 슬라이싱\n",
    "# array[:,:]\n",
    "# array[행 시작값:행 끝값{,열 시작값:열의 끝값}] #{} 생략가능\n",
    "# 열은 생략가능!\n",
    "arr2[2:5,0:9]\n",
    "arr2[2:,:9]"
   ]
  },
  {
   "cell_type": "code",
   "execution_count": 536,
   "id": "9bdf654c",
   "metadata": {},
   "outputs": [
    {
     "name": "stdout",
     "output_type": "stream",
     "text": [
      "[ 1 11 21 31 41]\n"
     ]
    }
   ],
   "source": [
    "# 1 행은 슬라이싱, 열은 인덱싱(복합사용 가능)\n",
    "print(arr2[:, 0])"
   ]
  },
  {
   "cell_type": "code",
   "execution_count": 529,
   "id": "273be20e",
   "metadata": {},
   "outputs": [
    {
     "name": "stdout",
     "output_type": "stream",
     "text": [
      "[[ 1  2  3  4  5]\n",
      " [11 12 13 14 15]\n",
      " [21 22 23 24 25]\n",
      " [31 32 33 34 35]]\n"
     ]
    }
   ],
   "source": [
    "# 2\n",
    "print(arr2[:4,:5])"
   ]
  },
  {
   "cell_type": "code",
   "execution_count": null,
   "id": "911946d8",
   "metadata": {},
   "outputs": [],
   "source": []
  },
  {
   "cell_type": "code",
   "execution_count": null,
   "id": "ff8434b3",
   "metadata": {},
   "outputs": [],
   "source": []
  },
  {
   "cell_type": "code",
   "execution_count": null,
   "id": "86ec3186",
   "metadata": {},
   "outputs": [],
   "source": []
  },
  {
   "cell_type": "code",
   "execution_count": null,
   "id": "6b768b19",
   "metadata": {},
   "outputs": [],
   "source": []
  },
  {
   "cell_type": "code",
   "execution_count": null,
   "id": "9b3dcc70",
   "metadata": {},
   "outputs": [],
   "source": []
  },
  {
   "cell_type": "code",
   "execution_count": null,
   "id": "4f5d8c1f",
   "metadata": {},
   "outputs": [],
   "source": []
  },
  {
   "cell_type": "code",
   "execution_count": null,
   "id": "58852d2c",
   "metadata": {},
   "outputs": [],
   "source": []
  },
  {
   "cell_type": "code",
   "execution_count": null,
   "id": "063c4b6d",
   "metadata": {},
   "outputs": [],
   "source": []
  },
  {
   "cell_type": "code",
   "execution_count": null,
   "id": "bc6193a3",
   "metadata": {},
   "outputs": [],
   "source": []
  },
  {
   "cell_type": "code",
   "execution_count": null,
   "id": "91a5cd3f",
   "metadata": {},
   "outputs": [],
   "source": []
  }
 ],
 "metadata": {
  "kernelspec": {
   "display_name": "Python 3 (ipykernel)",
   "language": "python",
   "name": "python3"
  },
  "language_info": {
   "codemirror_mode": {
    "name": "ipython",
    "version": 3
   },
   "file_extension": ".py",
   "mimetype": "text/x-python",
   "name": "python",
   "nbconvert_exporter": "python",
   "pygments_lexer": "ipython3",
   "version": "3.11.3"
  }
 },
 "nbformat": 4,
 "nbformat_minor": 5
}
