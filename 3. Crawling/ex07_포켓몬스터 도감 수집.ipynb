{
 "cells": [
  {
   "cell_type": "markdown",
   "id": "01507e8e",
   "metadata": {},
   "source": [
    "### 포켓몬스터 공식 홈페이지에서 이미지 데이터 수집\n",
    "- 바탕화면에 포켓몬도감이라는 폴더를 만들고\n",
    "- 이미지 데이터를 다운로드 받아서 폴더 안에 하나씩 저장하기"
   ]
  },
  {
   "cell_type": "code",
   "execution_count": 3,
   "id": "3f8461c1",
   "metadata": {},
   "outputs": [],
   "source": [
    "# 웹브라우저를 제어\n",
    "from selenium import webdriver as wb\n",
    "# 웹에게 값을 입력하기 위한 라이브러리\n",
    "from selenium.webdriver.common.keys import Keys\n",
    "# html문서에서 태그와 선택자의 위치를 찾기 위한 라이브러리\n",
    "from selenium.webdriver.common.by import By\n",
    "# 컴퓨터가 이해하기 쉬운 객체로 변환\n",
    "from bs4 import BeautifulSoup as bs\n",
    "# 쉬는시간부여\n",
    "import time\n",
    "# 파일이나 폴더를 생성해주는 라이브러리(파일 시스템 라이브러리)\n",
    "import os\n",
    "# 이미지 경로를 파일로 변환해주는 라이브러리\n",
    "from urllib.request import urlretrieve as url"
   ]
  },
  {
   "cell_type": "code",
   "execution_count": 4,
   "id": "ead368c4",
   "metadata": {},
   "outputs": [
    {
     "name": "stdout",
     "output_type": "stream",
     "text": [
      "폴더가 생성되었습니다.\n"
     ]
    }
   ],
   "source": [
    "# 바탕화면에 '포켓몬도감' 폴더 생성 → os 라이브러리 사용\n",
    "# if not else\n",
    "# 경로 불러올 때 \\를 / 또는 \\\\로 변경\n",
    "if not os.path.isdir('C:/Users/SMHRD/Desktop/포켓몬도감'):\n",
    "    os.mkdir('C:/Users/SMHRD/Desktop/포켓몬도감')\n",
    "    print('폴더가 생성되었습니다.')\n",
    "else :\n",
    "    print('이미지 폴더가 이미 존재합니다.')"
   ]
  },
  {
   "cell_type": "code",
   "execution_count": 5,
   "id": "1d04c800",
   "metadata": {},
   "outputs": [],
   "source": [
    "# 포켓몬스터 공식 홈페이지 정보를 가져오rl\n",
    "driver = wb.Chrome()\n",
    "driver.get('https://pokemonkorea.co.kr/pokedex')"
   ]
  },
  {
   "cell_type": "code",
   "execution_count": 6,
   "id": "7ac0e574",
   "metadata": {},
   "outputs": [],
   "source": [
    "# bs객체화\n",
    "soup = bs(driver.page_source, 'lxml')"
   ]
  },
  {
   "cell_type": "code",
   "execution_count": 9,
   "id": "90ef6e29",
   "metadata": {},
   "outputs": [],
   "source": [
    "poke_img = soup.select('img.img-fluid')"
   ]
  },
  {
   "cell_type": "code",
   "execution_count": 10,
   "id": "38d859ee",
   "metadata": {},
   "outputs": [
    {
     "data": {
      "text/plain": [
       "<img alt=\"\" class=\"img-fluid\" src=\"https://data1.pokemonkorea.co.kr/newdata/pokedex/mid/000101.png\"/>"
      ]
     },
     "execution_count": 10,
     "metadata": {},
     "output_type": "execute_result"
    }
   ],
   "source": [
    "poke_img[0].text\n",
    "# 비어있는 데이터가 출력\n",
    "# .text는 여는태그와 닫는태그 사이에 있는 contents를 가져오는데\n",
    "# img태그는 홑태그이므로 contents가 존재하지 않는다."
   ]
  },
  {
   "cell_type": "code",
   "execution_count": 12,
   "id": "1640c14c",
   "metadata": {},
   "outputs": [
    {
     "data": {
      "text/plain": [
       "'https://data1.pokemonkorea.co.kr/newdata/pokedex/mid/000101.png'"
      ]
     },
     "execution_count": 12,
     "metadata": {},
     "output_type": "execute_result"
    }
   ],
   "source": [
    "# img태그의 정보를 가져오려면? 이미지가 저장된 경로값을 가져오면 된다\n",
    "poke_img[0]['src']"
   ]
  },
  {
   "cell_type": "code",
   "execution_count": 15,
   "id": "cceba538",
   "metadata": {},
   "outputs": [],
   "source": [
    "img_list  = []\n",
    "\n",
    "for i in poke_img :\n",
    "    img_list.append(i['src'])"
   ]
  },
  {
   "cell_type": "markdown",
   "id": "bca64009",
   "metadata": {},
   "source": [
    "- 이미지의 경로(src)값을 활용해서 이미지 파일로 변환해주는 라이브러리 사용\n",
    "- urlretrieve"
   ]
  },
  {
   "cell_type": "code",
   "execution_count": 22,
   "id": "ed3fc99a",
   "metadata": {},
   "outputs": [],
   "source": [
    "for i in range(len(img_list)) :\n",
    "    url(img_list[i],f'C:/Users/SMHRD/Desktop/포켓몬도감/{i+1}번 포켓몬.png')\n",
    "    \n",
    "# 스크롤을 해주자 "
   ]
  },
  {
   "cell_type": "markdown",
   "id": "0b4233aa",
   "metadata": {},
   "source": [
    "### 화면에서 스크롤 내리는 방법\n",
    "- page down\n",
    "- ↓\n",
    "- space\n",
    "- end"
   ]
  },
  {
   "cell_type": "code",
   "execution_count": 67,
   "id": "f1b5a8fd",
   "metadata": {
    "collapsed": true
   },
   "outputs": [
    {
     "ename": "StaleElementReferenceException",
     "evalue": "Message: stale element reference: stale element not found\n  (Session info: chrome=115.0.5790.171); For documentation on this error, please visit: https://www.selenium.dev/documentation/webdriver/troubleshooting/errors#stale-element-reference-exception\nStacktrace:\nBacktrace:\n\tGetHandleVerifier [0x00007FF69D734A62+57106]\n\t(No symbol) [0x00007FF69D6ACF52]\n\t(No symbol) [0x00007FF69D57E2CB]\n\t(No symbol) [0x00007FF69D58AAF3]\n\t(No symbol) [0x00007FF69D582649]\n\t(No symbol) [0x00007FF69D5815AA]\n\t(No symbol) [0x00007FF69D583C5F]\n\t(No symbol) [0x00007FF69D583D50]\n\t(No symbol) [0x00007FF69D5B8381]\n\t(No symbol) [0x00007FF69D5B8444]\n\t(No symbol) [0x00007FF69D5B1170]\n\t(No symbol) [0x00007FF69D5D69BA]\n\t(No symbol) [0x00007FF69D5AE746]\n\t(No symbol) [0x00007FF69D5D6BD0]\n\t(No symbol) [0x00007FF69D5EE522]\n\t(No symbol) [0x00007FF69D5D6793]\n\t(No symbol) [0x00007FF69D5ACE81]\n\t(No symbol) [0x00007FF69D5AE064]\n\tGetHandleVerifier [0x00007FF69D9E4222+2873042]\n\tGetHandleVerifier [0x00007FF69DA36590+3209792]\n\tGetHandleVerifier [0x00007FF69DA2F3AF+3180639]\n\tGetHandleVerifier [0x00007FF69D7C5F25+652245]\n\t(No symbol) [0x00007FF69D6B8618]\n\t(No symbol) [0x00007FF69D6B47C4]\n\t(No symbol) [0x00007FF69D6B48BC]\n\t(No symbol) [0x00007FF69D6A4C33]\n\tBaseThreadInitThunk [0x00007FFCF7CD7614+20]\n\tRtlUserThreadStart [0x00007FFCF91626B1+33]\n",
     "output_type": "error",
     "traceback": [
      "\u001b[1;31m---------------------------------------------------------------------------\u001b[0m",
      "\u001b[1;31mStaleElementReferenceException\u001b[0m            Traceback (most recent call last)",
      "Cell \u001b[1;32mIn[67], line 6\u001b[0m\n\u001b[0;32m      3\u001b[0m body \u001b[38;5;241m=\u001b[39m driver\u001b[38;5;241m.\u001b[39mfind_element(By\u001b[38;5;241m.\u001b[39mCSS_SELECTOR, \u001b[38;5;124m'\u001b[39m\u001b[38;5;124mbody\u001b[39m\u001b[38;5;124m'\u001b[39m)\n\u001b[0;32m      5\u001b[0m \u001b[38;5;28;01mfor\u001b[39;00m i \u001b[38;5;129;01min\u001b[39;00m \u001b[38;5;28mrange\u001b[39m(\u001b[38;5;241m200\u001b[39m) :\n\u001b[1;32m----> 6\u001b[0m     body\u001b[38;5;241m.\u001b[39msend_keys(Keys\u001b[38;5;241m.\u001b[39mEND)\n\u001b[0;32m      7\u001b[0m     time\u001b[38;5;241m.\u001b[39msleep(\u001b[38;5;241m2\u001b[39m)\n",
      "File \u001b[1;32m~\\anaconda3\\Lib\\site-packages\\selenium\\webdriver\\remote\\webelement.py:231\u001b[0m, in \u001b[0;36mWebElement.send_keys\u001b[1;34m(self, *value)\u001b[0m\n\u001b[0;32m    228\u001b[0m             remote_files\u001b[38;5;241m.\u001b[39mappend(\u001b[38;5;28mself\u001b[39m\u001b[38;5;241m.\u001b[39m_upload(file))\n\u001b[0;32m    229\u001b[0m         value \u001b[38;5;241m=\u001b[39m \u001b[38;5;124m\"\u001b[39m\u001b[38;5;130;01m\\n\u001b[39;00m\u001b[38;5;124m\"\u001b[39m\u001b[38;5;241m.\u001b[39mjoin(remote_files)\n\u001b[1;32m--> 231\u001b[0m \u001b[38;5;28mself\u001b[39m\u001b[38;5;241m.\u001b[39m_execute(\n\u001b[0;32m    232\u001b[0m     Command\u001b[38;5;241m.\u001b[39mSEND_KEYS_TO_ELEMENT, {\u001b[38;5;124m\"\u001b[39m\u001b[38;5;124mtext\u001b[39m\u001b[38;5;124m\"\u001b[39m: \u001b[38;5;124m\"\u001b[39m\u001b[38;5;124m\"\u001b[39m\u001b[38;5;241m.\u001b[39mjoin(keys_to_typing(value)), \u001b[38;5;124m\"\u001b[39m\u001b[38;5;124mvalue\u001b[39m\u001b[38;5;124m\"\u001b[39m: keys_to_typing(value)}\n\u001b[0;32m    233\u001b[0m )\n",
      "File \u001b[1;32m~\\anaconda3\\Lib\\site-packages\\selenium\\webdriver\\remote\\webelement.py:395\u001b[0m, in \u001b[0;36mWebElement._execute\u001b[1;34m(self, command, params)\u001b[0m\n\u001b[0;32m    393\u001b[0m     params \u001b[38;5;241m=\u001b[39m {}\n\u001b[0;32m    394\u001b[0m params[\u001b[38;5;124m\"\u001b[39m\u001b[38;5;124mid\u001b[39m\u001b[38;5;124m\"\u001b[39m] \u001b[38;5;241m=\u001b[39m \u001b[38;5;28mself\u001b[39m\u001b[38;5;241m.\u001b[39m_id\n\u001b[1;32m--> 395\u001b[0m \u001b[38;5;28;01mreturn\u001b[39;00m \u001b[38;5;28mself\u001b[39m\u001b[38;5;241m.\u001b[39m_parent\u001b[38;5;241m.\u001b[39mexecute(command, params)\n",
      "File \u001b[1;32m~\\anaconda3\\Lib\\site-packages\\selenium\\webdriver\\remote\\webdriver.py:345\u001b[0m, in \u001b[0;36mWebDriver.execute\u001b[1;34m(self, driver_command, params)\u001b[0m\n\u001b[0;32m    343\u001b[0m response \u001b[38;5;241m=\u001b[39m \u001b[38;5;28mself\u001b[39m\u001b[38;5;241m.\u001b[39mcommand_executor\u001b[38;5;241m.\u001b[39mexecute(driver_command, params)\n\u001b[0;32m    344\u001b[0m \u001b[38;5;28;01mif\u001b[39;00m response:\n\u001b[1;32m--> 345\u001b[0m     \u001b[38;5;28mself\u001b[39m\u001b[38;5;241m.\u001b[39merror_handler\u001b[38;5;241m.\u001b[39mcheck_response(response)\n\u001b[0;32m    346\u001b[0m     response[\u001b[38;5;124m\"\u001b[39m\u001b[38;5;124mvalue\u001b[39m\u001b[38;5;124m\"\u001b[39m] \u001b[38;5;241m=\u001b[39m \u001b[38;5;28mself\u001b[39m\u001b[38;5;241m.\u001b[39m_unwrap_value(response\u001b[38;5;241m.\u001b[39mget(\u001b[38;5;124m\"\u001b[39m\u001b[38;5;124mvalue\u001b[39m\u001b[38;5;124m\"\u001b[39m, \u001b[38;5;28;01mNone\u001b[39;00m))\n\u001b[0;32m    347\u001b[0m     \u001b[38;5;28;01mreturn\u001b[39;00m response\n",
      "File \u001b[1;32m~\\anaconda3\\Lib\\site-packages\\selenium\\webdriver\\remote\\errorhandler.py:229\u001b[0m, in \u001b[0;36mErrorHandler.check_response\u001b[1;34m(self, response)\u001b[0m\n\u001b[0;32m    227\u001b[0m         alert_text \u001b[38;5;241m=\u001b[39m value[\u001b[38;5;124m\"\u001b[39m\u001b[38;5;124malert\u001b[39m\u001b[38;5;124m\"\u001b[39m]\u001b[38;5;241m.\u001b[39mget(\u001b[38;5;124m\"\u001b[39m\u001b[38;5;124mtext\u001b[39m\u001b[38;5;124m\"\u001b[39m)\n\u001b[0;32m    228\u001b[0m     \u001b[38;5;28;01mraise\u001b[39;00m exception_class(message, screen, stacktrace, alert_text)  \u001b[38;5;66;03m# type: ignore[call-arg]  # mypy is not smart enough here\u001b[39;00m\n\u001b[1;32m--> 229\u001b[0m \u001b[38;5;28;01mraise\u001b[39;00m exception_class(message, screen, stacktrace)\n",
      "\u001b[1;31mStaleElementReferenceException\u001b[0m: Message: stale element reference: stale element not found\n  (Session info: chrome=115.0.5790.171); For documentation on this error, please visit: https://www.selenium.dev/documentation/webdriver/troubleshooting/errors#stale-element-reference-exception\nStacktrace:\nBacktrace:\n\tGetHandleVerifier [0x00007FF69D734A62+57106]\n\t(No symbol) [0x00007FF69D6ACF52]\n\t(No symbol) [0x00007FF69D57E2CB]\n\t(No symbol) [0x00007FF69D58AAF3]\n\t(No symbol) [0x00007FF69D582649]\n\t(No symbol) [0x00007FF69D5815AA]\n\t(No symbol) [0x00007FF69D583C5F]\n\t(No symbol) [0x00007FF69D583D50]\n\t(No symbol) [0x00007FF69D5B8381]\n\t(No symbol) [0x00007FF69D5B8444]\n\t(No symbol) [0x00007FF69D5B1170]\n\t(No symbol) [0x00007FF69D5D69BA]\n\t(No symbol) [0x00007FF69D5AE746]\n\t(No symbol) [0x00007FF69D5D6BD0]\n\t(No symbol) [0x00007FF69D5EE522]\n\t(No symbol) [0x00007FF69D5D6793]\n\t(No symbol) [0x00007FF69D5ACE81]\n\t(No symbol) [0x00007FF69D5AE064]\n\tGetHandleVerifier [0x00007FF69D9E4222+2873042]\n\tGetHandleVerifier [0x00007FF69DA36590+3209792]\n\tGetHandleVerifier [0x00007FF69DA2F3AF+3180639]\n\tGetHandleVerifier [0x00007FF69D7C5F25+652245]\n\t(No symbol) [0x00007FF69D6B8618]\n\t(No symbol) [0x00007FF69D6B47C4]\n\t(No symbol) [0x00007FF69D6B48BC]\n\t(No symbol) [0x00007FF69D6A4C33]\n\tBaseThreadInitThunk [0x00007FFCF7CD7614+20]\n\tRtlUserThreadStart [0x00007FFCF91626B1+33]\n"
     ]
    }
   ],
   "source": [
    "# 키보드에 있는 end키를 사용해서 스크롤 내리기 (자동스크롤진행)\n",
    "# body태그한테 부탁\n",
    "body = driver.find_element(By.CSS_SELECTOR, 'body')\n",
    "\n",
    "for i in range(200) :\n",
    "    body.send_keys(Keys.END)\n",
    "    time.sleep(2)"
   ]
  },
  {
   "cell_type": "code",
   "execution_count": 132,
   "id": "470dcdad",
   "metadata": {},
   "outputs": [],
   "source": [
    "# 한셀로 실행\n",
    "driver = wb.Chrome()\n",
    "driver.get('https://pokemonkorea.co.kr/pokedex')\n",
    "body = driver.find_element(By.CSS_SELECTOR, 'body')\n",
    "\n",
    "for i in range(1500) :    \n",
    "    body.send_keys(Keys.END)    \n",
    "    \n",
    "soup = bs(driver.page_source, 'lxml')\n",
    "\n",
    "poke_img = soup.select('img.img-fluid')\n",
    "img_list  = []\n",
    "pokemon_name = []\n",
    "name = driver.find_elements(By.CLASS_NAME, 'bx-txt>h3')\n",
    "\n",
    "for i in name :\n",
    "    pokemon_name.append(i.text.replace('\\n','').replace('\\t',''))\n",
    "\n",
    "for i in poke_img :\n",
    "    img_list.append(i['src'])\n",
    "    \n",
    "for i in range(len(img_list)) :\n",
    "    url(img_list[i],f'C:/Users/SMHRD/Desktop/포켓몬도감/{pokemon_name[i]}.png')  "
   ]
  },
  {
   "cell_type": "code",
   "execution_count": null,
   "id": "8184dca9",
   "metadata": {},
   "outputs": [],
   "source": []
  },
  {
   "cell_type": "code",
   "execution_count": null,
   "id": "86d20463",
   "metadata": {},
   "outputs": [],
   "source": []
  },
  {
   "cell_type": "code",
   "execution_count": null,
   "id": "19d29ec9",
   "metadata": {},
   "outputs": [],
   "source": []
  },
  {
   "cell_type": "code",
   "execution_count": null,
   "id": "67a5f301",
   "metadata": {},
   "outputs": [],
   "source": []
  },
  {
   "cell_type": "code",
   "execution_count": null,
   "id": "dafbf5e6",
   "metadata": {},
   "outputs": [],
   "source": []
  },
  {
   "cell_type": "code",
   "execution_count": null,
   "id": "df26d498",
   "metadata": {},
   "outputs": [],
   "source": []
  },
  {
   "cell_type": "code",
   "execution_count": null,
   "id": "b54784ac",
   "metadata": {},
   "outputs": [],
   "source": []
  },
  {
   "cell_type": "code",
   "execution_count": null,
   "id": "a74476ea",
   "metadata": {},
   "outputs": [],
   "source": []
  },
  {
   "cell_type": "code",
   "execution_count": null,
   "id": "3e34fb93",
   "metadata": {},
   "outputs": [],
   "source": []
  },
  {
   "cell_type": "code",
   "execution_count": null,
   "id": "448d7f60",
   "metadata": {},
   "outputs": [],
   "source": []
  },
  {
   "cell_type": "code",
   "execution_count": null,
   "id": "3705db64",
   "metadata": {},
   "outputs": [],
   "source": []
  },
  {
   "cell_type": "code",
   "execution_count": null,
   "id": "83e0fe79",
   "metadata": {},
   "outputs": [],
   "source": []
  },
  {
   "cell_type": "code",
   "execution_count": null,
   "id": "098f32e7",
   "metadata": {},
   "outputs": [],
   "source": []
  },
  {
   "cell_type": "code",
   "execution_count": null,
   "id": "1643c505",
   "metadata": {},
   "outputs": [],
   "source": []
  },
  {
   "cell_type": "code",
   "execution_count": null,
   "id": "405b9c5a",
   "metadata": {},
   "outputs": [],
   "source": []
  },
  {
   "cell_type": "code",
   "execution_count": null,
   "id": "abda11b3",
   "metadata": {},
   "outputs": [],
   "source": []
  },
  {
   "cell_type": "code",
   "execution_count": null,
   "id": "a54c8b7d",
   "metadata": {},
   "outputs": [],
   "source": []
  },
  {
   "cell_type": "code",
   "execution_count": null,
   "id": "2dbc1232",
   "metadata": {},
   "outputs": [],
   "source": []
  },
  {
   "cell_type": "code",
   "execution_count": null,
   "id": "7e89738b",
   "metadata": {},
   "outputs": [],
   "source": []
  },
  {
   "cell_type": "code",
   "execution_count": null,
   "id": "f90433ed",
   "metadata": {},
   "outputs": [],
   "source": []
  },
  {
   "cell_type": "code",
   "execution_count": null,
   "id": "7a1e8a83",
   "metadata": {},
   "outputs": [],
   "source": []
  },
  {
   "cell_type": "code",
   "execution_count": null,
   "id": "7b9ed460",
   "metadata": {},
   "outputs": [],
   "source": []
  },
  {
   "cell_type": "code",
   "execution_count": null,
   "id": "53ce44c0",
   "metadata": {},
   "outputs": [],
   "source": []
  },
  {
   "cell_type": "code",
   "execution_count": null,
   "id": "ead01d2c",
   "metadata": {},
   "outputs": [],
   "source": []
  },
  {
   "cell_type": "code",
   "execution_count": null,
   "id": "5a59e6fb",
   "metadata": {},
   "outputs": [],
   "source": []
  },
  {
   "cell_type": "code",
   "execution_count": null,
   "id": "f3f35e03",
   "metadata": {},
   "outputs": [],
   "source": []
  },
  {
   "cell_type": "code",
   "execution_count": null,
   "id": "8e964ed3",
   "metadata": {},
   "outputs": [],
   "source": []
  },
  {
   "cell_type": "code",
   "execution_count": null,
   "id": "3ebf0e72",
   "metadata": {},
   "outputs": [],
   "source": []
  },
  {
   "cell_type": "code",
   "execution_count": null,
   "id": "6f792bfd",
   "metadata": {},
   "outputs": [],
   "source": []
  },
  {
   "cell_type": "code",
   "execution_count": null,
   "id": "9470474d",
   "metadata": {},
   "outputs": [],
   "source": []
  },
  {
   "cell_type": "code",
   "execution_count": null,
   "id": "47e5431b",
   "metadata": {},
   "outputs": [],
   "source": []
  },
  {
   "cell_type": "code",
   "execution_count": null,
   "id": "e0b6555e",
   "metadata": {},
   "outputs": [],
   "source": []
  },
  {
   "cell_type": "code",
   "execution_count": null,
   "id": "8f05441b",
   "metadata": {},
   "outputs": [],
   "source": []
  },
  {
   "cell_type": "code",
   "execution_count": null,
   "id": "aef700d3",
   "metadata": {},
   "outputs": [],
   "source": []
  },
  {
   "cell_type": "code",
   "execution_count": null,
   "id": "734c481a",
   "metadata": {},
   "outputs": [],
   "source": []
  },
  {
   "cell_type": "code",
   "execution_count": null,
   "id": "fe8aa380",
   "metadata": {},
   "outputs": [],
   "source": []
  },
  {
   "cell_type": "code",
   "execution_count": null,
   "id": "4e4575b3",
   "metadata": {},
   "outputs": [],
   "source": []
  },
  {
   "cell_type": "code",
   "execution_count": null,
   "id": "c0a8242a",
   "metadata": {},
   "outputs": [],
   "source": []
  },
  {
   "cell_type": "code",
   "execution_count": null,
   "id": "67ea15b2",
   "metadata": {},
   "outputs": [],
   "source": []
  },
  {
   "cell_type": "code",
   "execution_count": null,
   "id": "77bc2f69",
   "metadata": {},
   "outputs": [],
   "source": []
  },
  {
   "cell_type": "code",
   "execution_count": null,
   "id": "89ed0b92",
   "metadata": {},
   "outputs": [],
   "source": []
  },
  {
   "cell_type": "code",
   "execution_count": null,
   "id": "144bffd4",
   "metadata": {},
   "outputs": [],
   "source": []
  },
  {
   "cell_type": "code",
   "execution_count": null,
   "id": "25c30874",
   "metadata": {},
   "outputs": [],
   "source": []
  },
  {
   "cell_type": "code",
   "execution_count": null,
   "id": "e5a3b08c",
   "metadata": {},
   "outputs": [],
   "source": []
  },
  {
   "cell_type": "code",
   "execution_count": null,
   "id": "dd6162dc",
   "metadata": {},
   "outputs": [],
   "source": []
  },
  {
   "cell_type": "code",
   "execution_count": null,
   "id": "62fb6e90",
   "metadata": {},
   "outputs": [],
   "source": []
  },
  {
   "cell_type": "code",
   "execution_count": null,
   "id": "bd3a4183",
   "metadata": {},
   "outputs": [],
   "source": []
  },
  {
   "cell_type": "code",
   "execution_count": null,
   "id": "b56e61de",
   "metadata": {},
   "outputs": [],
   "source": []
  },
  {
   "cell_type": "code",
   "execution_count": null,
   "id": "2d620a69",
   "metadata": {},
   "outputs": [],
   "source": []
  }
 ],
 "metadata": {
  "kernelspec": {
   "display_name": "Python 3 (ipykernel)",
   "language": "python",
   "name": "python3"
  },
  "language_info": {
   "codemirror_mode": {
    "name": "ipython",
    "version": 3
   },
   "file_extension": ".py",
   "mimetype": "text/x-python",
   "name": "python",
   "nbconvert_exporter": "python",
   "pygments_lexer": "ipython3",
   "version": "3.11.3"
  }
 },
 "nbformat": 4,
 "nbformat_minor": 5
}
