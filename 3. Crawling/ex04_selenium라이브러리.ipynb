{
 "cells": [
  {
   "cell_type": "markdown",
   "id": "639c858d",
   "metadata": {},
   "source": [
    "### selenium 라이브러리 불러오기\n",
    "- 웹페이지를 제어하기 위한 라이브러리"
   ]
  },
  {
   "cell_type": "code",
   "execution_count": 1,
   "id": "913d2b31",
   "metadata": {
    "collapsed": true
   },
   "outputs": [
    {
     "name": "stdout",
     "output_type": "stream",
     "text": [
      "Collecting selenium\n",
      "  Downloading selenium-4.11.2-py3-none-any.whl (7.2 MB)\n",
      "                                              0.0/7.2 MB ? eta -:--:--\n",
      "     -                                        0.3/7.2 MB 9.6 MB/s eta 0:00:01\n",
      "     ----                                     0.8/7.2 MB 10.2 MB/s eta 0:00:01\n",
      "     --------                                 1.5/7.2 MB 12.3 MB/s eta 0:00:01\n",
      "     --------------                           2.6/7.2 MB 14.9 MB/s eta 0:00:01\n",
      "     ----------------------                   4.0/7.2 MB 18.2 MB/s eta 0:00:01\n",
      "     --------------------------------         5.8/7.2 MB 21.9 MB/s eta 0:00:01\n",
      "     ---------------------------------------  7.2/7.2 MB 24.2 MB/s eta 0:00:01\n",
      "     ---------------------------------------- 7.2/7.2 MB 21.9 MB/s eta 0:00:00\n",
      "Requirement already satisfied: urllib3[socks]<3,>=1.26 in c:\\users\\smhrd\\anaconda3\\lib\\site-packages (from selenium) (1.26.16)\n",
      "Collecting trio~=0.17 (from selenium)\n",
      "  Downloading trio-0.22.2-py3-none-any.whl (400 kB)\n",
      "                                              0.0/400.2 kB ? eta -:--:--\n",
      "     ---------------------------------------- 400.2/400.2 kB ? eta 0:00:00\n",
      "Collecting trio-websocket~=0.9 (from selenium)\n",
      "  Downloading trio_websocket-0.10.3-py3-none-any.whl (17 kB)\n",
      "Requirement already satisfied: certifi>=2021.10.8 in c:\\users\\smhrd\\anaconda3\\lib\\site-packages (from selenium) (2023.5.7)\n",
      "Requirement already satisfied: attrs>=20.1.0 in c:\\users\\smhrd\\anaconda3\\lib\\site-packages (from trio~=0.17->selenium) (22.1.0)\n",
      "Requirement already satisfied: sortedcontainers in c:\\users\\smhrd\\anaconda3\\lib\\site-packages (from trio~=0.17->selenium) (2.4.0)\n",
      "Requirement already satisfied: idna in c:\\users\\smhrd\\anaconda3\\lib\\site-packages (from trio~=0.17->selenium) (3.4)\n",
      "Collecting outcome (from trio~=0.17->selenium)\n",
      "  Downloading outcome-1.2.0-py2.py3-none-any.whl (9.7 kB)\n",
      "Requirement already satisfied: sniffio in c:\\users\\smhrd\\anaconda3\\lib\\site-packages (from trio~=0.17->selenium) (1.2.0)\n",
      "Requirement already satisfied: cffi>=1.14 in c:\\users\\smhrd\\anaconda3\\lib\\site-packages (from trio~=0.17->selenium) (1.15.1)\n",
      "Collecting exceptiongroup (from trio-websocket~=0.9->selenium)\n",
      "  Downloading exceptiongroup-1.1.2-py3-none-any.whl (14 kB)\n",
      "Collecting wsproto>=0.14 (from trio-websocket~=0.9->selenium)\n",
      "  Downloading wsproto-1.2.0-py3-none-any.whl (24 kB)\n",
      "Requirement already satisfied: PySocks!=1.5.7,<2.0,>=1.5.6 in c:\\users\\smhrd\\anaconda3\\lib\\site-packages (from urllib3[socks]<3,>=1.26->selenium) (1.7.1)\n",
      "Requirement already satisfied: pycparser in c:\\users\\smhrd\\anaconda3\\lib\\site-packages (from cffi>=1.14->trio~=0.17->selenium) (2.21)\n",
      "Collecting h11<1,>=0.9.0 (from wsproto>=0.14->trio-websocket~=0.9->selenium)\n",
      "  Downloading h11-0.14.0-py3-none-any.whl (58 kB)\n",
      "                                              0.0/58.3 kB ? eta -:--:--\n",
      "     ---------------------------------------- 58.3/58.3 kB 3.0 MB/s eta 0:00:00\n",
      "Installing collected packages: outcome, h11, exceptiongroup, wsproto, trio, trio-websocket, selenium\n",
      "Successfully installed exceptiongroup-1.1.2 h11-0.14.0 outcome-1.2.0 selenium-4.11.2 trio-0.22.2 trio-websocket-0.10.3 wsproto-1.2.0\n"
     ]
    }
   ],
   "source": [
    "# 기본적으로 파이썬에 내장된 라이브러리가 아니므로 설치를 해줘야한다.\n",
    "!pip install selenium"
   ]
  },
  {
   "cell_type": "code",
   "execution_count": 2,
   "id": "a3d90cfb",
   "metadata": {},
   "outputs": [],
   "source": [
    "from selenium import webdriver as wb\n",
    "# webdriver → 웹 브라우저를 제어하기 위한 라이브러리\n",
    "\n",
    "from selenium.webdriver.common.keys import Keys\n",
    "# 웹을 통해서 값을 '입력'하기 위한 라이브러리 → 컴퓨터용 키보드\n",
    "\n",
    "from selenium.webdriver.common.by import By\n",
    "# 태그의 위치를 찾기 위한 라이브러리"
   ]
  },
  {
   "cell_type": "markdown",
   "id": "d41f0262",
   "metadata": {},
   "source": [
    "#### selenium 환경설정\n",
    "- 크롬드라이버를 항상 최신버전으로 유지해주어야 실행이 된다"
   ]
  },
  {
   "cell_type": "code",
   "execution_count": null,
   "id": "4a431200",
   "metadata": {},
   "outputs": [],
   "source": [
    "# 크롬 드라이버는 늘 최신버전이어야 한다\n",
    "# 구글에 '크롬드라이버' 검색\n",
    "# 사용 중인 크롬 버전과 일치하는 드라이버를 크롤링 폴더에 다운로드"
   ]
  },
  {
   "cell_type": "code",
   "execution_count": 12,
   "id": "6a73188f",
   "metadata": {},
   "outputs": [],
   "source": [
    "# 크롬 드라이버 실행\n",
    "driver = wb.Chrome()\n",
    "\n",
    "# 주소를 알려주지 않으면 빈 창이 뜨므로\n",
    "# requests 처럼 메소드를 사용하여 페이지의 url 입력\n",
    "driver.get('https://www.naver.com/')\n",
    "\n",
    "# 이제부터 driver라는 변수가 페이지의 모든 정보를 갖고 있게 된다"
   ]
  },
  {
   "cell_type": "code",
   "execution_count": 13,
   "id": "d7aa2a5a",
   "metadata": {},
   "outputs": [
    {
     "data": {
      "text/plain": [
       "<selenium.webdriver.remote.webelement.WebElement (session=\"4472f941a04d33ae815c9fbde925242b\", element=\"CB28610CFBCB286F5CA94DFADCEF1204_element_17\")>"
      ]
     },
     "execution_count": 13,
     "metadata": {},
     "output_type": "execute_result"
    }
   ],
   "source": [
    "# 검색창 위치 찾기(By 라이브러리)\n",
    "driver.find_element(By.ID, 'query')"
   ]
  },
  {
   "cell_type": "code",
   "execution_count": 14,
   "id": "7f78d999",
   "metadata": {},
   "outputs": [],
   "source": [
    "search = driver.find_element(By.ID, 'query')"
   ]
  },
  {
   "cell_type": "code",
   "execution_count": 15,
   "id": "d598857e",
   "metadata": {},
   "outputs": [],
   "source": [
    "# 검색어 입력하기\n",
    "# search 검색창의 위치\n",
    "# send_keys('단어') → '단어'라는 키워드를 검색창에 전송\n",
    "search.send_keys('김군순')"
   ]
  },
  {
   "cell_type": "code",
   "execution_count": 16,
   "id": "7bef4dcc",
   "metadata": {},
   "outputs": [],
   "source": [
    "# 검색버튼 클릭!\n",
    "btn = driver.find_element(By.ID, 'search-btn')"
   ]
  },
  {
   "cell_type": "code",
   "execution_count": 17,
   "id": "10d10b3a",
   "metadata": {},
   "outputs": [],
   "source": [
    "btn.click()"
   ]
  },
  {
   "cell_type": "code",
   "execution_count": 22,
   "id": "24ccf896",
   "metadata": {},
   "outputs": [],
   "source": [
    "# driver.back() → 뒤로가기\n",
    "# 엔터\n",
    "search = driver.find_element(By.ID, 'query')\n",
    "search.send_keys('김군순')\n",
    "# → 키보드에 있는 ENTER 기능을 사용\n",
    "search.send_keys(Keys.ENTER)"
   ]
  },
  {
   "cell_type": "code",
   "execution_count": 23,
   "id": "257f9537",
   "metadata": {},
   "outputs": [],
   "source": [
    "# 크롬창 종료\n",
    "driver.close()"
   ]
  },
  {
   "cell_type": "code",
   "execution_count": null,
   "id": "e058f854",
   "metadata": {},
   "outputs": [],
   "source": []
  },
  {
   "cell_type": "code",
   "execution_count": null,
   "id": "c7225526",
   "metadata": {},
   "outputs": [],
   "source": []
  },
  {
   "cell_type": "code",
   "execution_count": null,
   "id": "44607fba",
   "metadata": {},
   "outputs": [],
   "source": []
  },
  {
   "cell_type": "code",
   "execution_count": null,
   "id": "eba21501",
   "metadata": {},
   "outputs": [],
   "source": []
  },
  {
   "cell_type": "code",
   "execution_count": null,
   "id": "d2f1ecdf",
   "metadata": {},
   "outputs": [],
   "source": []
  },
  {
   "cell_type": "code",
   "execution_count": null,
   "id": "147b49b3",
   "metadata": {},
   "outputs": [],
   "source": []
  },
  {
   "cell_type": "code",
   "execution_count": null,
   "id": "76477156",
   "metadata": {},
   "outputs": [],
   "source": []
  },
  {
   "cell_type": "code",
   "execution_count": null,
   "id": "7353ed1a",
   "metadata": {},
   "outputs": [],
   "source": []
  },
  {
   "cell_type": "code",
   "execution_count": null,
   "id": "34f93fa1",
   "metadata": {},
   "outputs": [],
   "source": []
  }
 ],
 "metadata": {
  "kernelspec": {
   "display_name": "Python 3 (ipykernel)",
   "language": "python",
   "name": "python3"
  },
  "language_info": {
   "codemirror_mode": {
    "name": "ipython",
    "version": 3
   },
   "file_extension": ".py",
   "mimetype": "text/x-python",
   "name": "python",
   "nbconvert_exporter": "python",
   "pygments_lexer": "ipython3",
   "version": "3.11.3"
  }
 },
 "nbformat": 4,
 "nbformat_minor": 5
}
